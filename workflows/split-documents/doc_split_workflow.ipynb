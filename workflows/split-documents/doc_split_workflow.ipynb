{
  "nbformat": 4,
  "nbformat_minor": 0,
  "metadata": {
    "colab": {
      "name": "doc_split_workflow.ipynb",
      "provenance": []
    },
    "kernelspec": {
      "name": "python3",
      "display_name": "Python 3"
    },
    "language_info": {
      "name": "python"
    },
    "widgets": {
      "application/vnd.jupyter.widget-state+json": {
        "ec5a1e2e940b4ee9b0199e6dbeb37837": {
          "model_module": "@jupyter-widgets/controls",
          "model_name": "HBoxModel",
          "model_module_version": "1.5.0",
          "state": {
            "_dom_classes": [],
            "_model_module": "@jupyter-widgets/controls",
            "_model_module_version": "1.5.0",
            "_model_name": "HBoxModel",
            "_view_count": null,
            "_view_module": "@jupyter-widgets/controls",
            "_view_module_version": "1.5.0",
            "_view_name": "HBoxView",
            "box_style": "",
            "children": [
              "IPY_MODEL_b37da26ee4c3463189a622db3c6acf3f",
              "IPY_MODEL_0b1eaba475bd461c9c731da1b841ac5d",
              "IPY_MODEL_3c7f124592524771a89b9b0146426189"
            ],
            "layout": "IPY_MODEL_ac4db9ce8e174ea183f99744575a446e"
          }
        },
        "b37da26ee4c3463189a622db3c6acf3f": {
          "model_module": "@jupyter-widgets/controls",
          "model_name": "HTMLModel",
          "model_module_version": "1.5.0",
          "state": {
            "_dom_classes": [],
            "_model_module": "@jupyter-widgets/controls",
            "_model_module_version": "1.5.0",
            "_model_name": "HTMLModel",
            "_view_count": null,
            "_view_module": "@jupyter-widgets/controls",
            "_view_module_version": "1.5.0",
            "_view_name": "HTMLView",
            "description": "",
            "description_tooltip": null,
            "layout": "IPY_MODEL_65a69b702b0d4fe2a9a119225c44fd02",
            "placeholder": "​",
            "style": "IPY_MODEL_ad812f1cd13d4dbe93ad77868b0de4ea",
            "value": " 28%"
          }
        },
        "0b1eaba475bd461c9c731da1b841ac5d": {
          "model_module": "@jupyter-widgets/controls",
          "model_name": "FloatProgressModel",
          "model_module_version": "1.5.0",
          "state": {
            "_dom_classes": [],
            "_model_module": "@jupyter-widgets/controls",
            "_model_module_version": "1.5.0",
            "_model_name": "FloatProgressModel",
            "_view_count": null,
            "_view_module": "@jupyter-widgets/controls",
            "_view_module_version": "1.5.0",
            "_view_name": "ProgressView",
            "bar_style": "",
            "description": "",
            "description_tooltip": null,
            "layout": "IPY_MODEL_837d5a10181342ba8bedc69a0cc9fb71",
            "max": 74,
            "min": 0,
            "orientation": "horizontal",
            "style": "IPY_MODEL_82e1b32f66e24f47a9c892e321147354",
            "value": 21
          }
        },
        "3c7f124592524771a89b9b0146426189": {
          "model_module": "@jupyter-widgets/controls",
          "model_name": "HTMLModel",
          "model_module_version": "1.5.0",
          "state": {
            "_dom_classes": [],
            "_model_module": "@jupyter-widgets/controls",
            "_model_module_version": "1.5.0",
            "_model_name": "HTMLModel",
            "_view_count": null,
            "_view_module": "@jupyter-widgets/controls",
            "_view_module_version": "1.5.0",
            "_view_name": "HTMLView",
            "description": "",
            "description_tooltip": null,
            "layout": "IPY_MODEL_4e92dbbcafa64f62b1947b0e5acbb3b1",
            "placeholder": "​",
            "style": "IPY_MODEL_f3c0ecfb54c44768b2125f079038d0d7",
            "value": " 21/74 [01:06&lt;02:42,  3.06s/it]"
          }
        },
        "ac4db9ce8e174ea183f99744575a446e": {
          "model_module": "@jupyter-widgets/base",
          "model_name": "LayoutModel",
          "model_module_version": "1.2.0",
          "state": {
            "_model_module": "@jupyter-widgets/base",
            "_model_module_version": "1.2.0",
            "_model_name": "LayoutModel",
            "_view_count": null,
            "_view_module": "@jupyter-widgets/base",
            "_view_module_version": "1.2.0",
            "_view_name": "LayoutView",
            "align_content": null,
            "align_items": null,
            "align_self": null,
            "border": null,
            "bottom": null,
            "display": null,
            "flex": null,
            "flex_flow": null,
            "grid_area": null,
            "grid_auto_columns": null,
            "grid_auto_flow": null,
            "grid_auto_rows": null,
            "grid_column": null,
            "grid_gap": null,
            "grid_row": null,
            "grid_template_areas": null,
            "grid_template_columns": null,
            "grid_template_rows": null,
            "height": null,
            "justify_content": null,
            "justify_items": null,
            "left": null,
            "margin": null,
            "max_height": null,
            "max_width": null,
            "min_height": null,
            "min_width": null,
            "object_fit": null,
            "object_position": null,
            "order": null,
            "overflow": null,
            "overflow_x": null,
            "overflow_y": null,
            "padding": null,
            "right": null,
            "top": null,
            "visibility": null,
            "width": null
          }
        },
        "65a69b702b0d4fe2a9a119225c44fd02": {
          "model_module": "@jupyter-widgets/base",
          "model_name": "LayoutModel",
          "model_module_version": "1.2.0",
          "state": {
            "_model_module": "@jupyter-widgets/base",
            "_model_module_version": "1.2.0",
            "_model_name": "LayoutModel",
            "_view_count": null,
            "_view_module": "@jupyter-widgets/base",
            "_view_module_version": "1.2.0",
            "_view_name": "LayoutView",
            "align_content": null,
            "align_items": null,
            "align_self": null,
            "border": null,
            "bottom": null,
            "display": null,
            "flex": null,
            "flex_flow": null,
            "grid_area": null,
            "grid_auto_columns": null,
            "grid_auto_flow": null,
            "grid_auto_rows": null,
            "grid_column": null,
            "grid_gap": null,
            "grid_row": null,
            "grid_template_areas": null,
            "grid_template_columns": null,
            "grid_template_rows": null,
            "height": null,
            "justify_content": null,
            "justify_items": null,
            "left": null,
            "margin": null,
            "max_height": null,
            "max_width": null,
            "min_height": null,
            "min_width": null,
            "object_fit": null,
            "object_position": null,
            "order": null,
            "overflow": null,
            "overflow_x": null,
            "overflow_y": null,
            "padding": null,
            "right": null,
            "top": null,
            "visibility": null,
            "width": null
          }
        },
        "ad812f1cd13d4dbe93ad77868b0de4ea": {
          "model_module": "@jupyter-widgets/controls",
          "model_name": "DescriptionStyleModel",
          "model_module_version": "1.5.0",
          "state": {
            "_model_module": "@jupyter-widgets/controls",
            "_model_module_version": "1.5.0",
            "_model_name": "DescriptionStyleModel",
            "_view_count": null,
            "_view_module": "@jupyter-widgets/base",
            "_view_module_version": "1.2.0",
            "_view_name": "StyleView",
            "description_width": ""
          }
        },
        "837d5a10181342ba8bedc69a0cc9fb71": {
          "model_module": "@jupyter-widgets/base",
          "model_name": "LayoutModel",
          "model_module_version": "1.2.0",
          "state": {
            "_model_module": "@jupyter-widgets/base",
            "_model_module_version": "1.2.0",
            "_model_name": "LayoutModel",
            "_view_count": null,
            "_view_module": "@jupyter-widgets/base",
            "_view_module_version": "1.2.0",
            "_view_name": "LayoutView",
            "align_content": null,
            "align_items": null,
            "align_self": null,
            "border": null,
            "bottom": null,
            "display": null,
            "flex": null,
            "flex_flow": null,
            "grid_area": null,
            "grid_auto_columns": null,
            "grid_auto_flow": null,
            "grid_auto_rows": null,
            "grid_column": null,
            "grid_gap": null,
            "grid_row": null,
            "grid_template_areas": null,
            "grid_template_columns": null,
            "grid_template_rows": null,
            "height": null,
            "justify_content": null,
            "justify_items": null,
            "left": null,
            "margin": null,
            "max_height": null,
            "max_width": null,
            "min_height": null,
            "min_width": null,
            "object_fit": null,
            "object_position": null,
            "order": null,
            "overflow": null,
            "overflow_x": null,
            "overflow_y": null,
            "padding": null,
            "right": null,
            "top": null,
            "visibility": null,
            "width": null
          }
        },
        "82e1b32f66e24f47a9c892e321147354": {
          "model_module": "@jupyter-widgets/controls",
          "model_name": "ProgressStyleModel",
          "model_module_version": "1.5.0",
          "state": {
            "_model_module": "@jupyter-widgets/controls",
            "_model_module_version": "1.5.0",
            "_model_name": "ProgressStyleModel",
            "_view_count": null,
            "_view_module": "@jupyter-widgets/base",
            "_view_module_version": "1.2.0",
            "_view_name": "StyleView",
            "bar_color": null,
            "description_width": ""
          }
        },
        "4e92dbbcafa64f62b1947b0e5acbb3b1": {
          "model_module": "@jupyter-widgets/base",
          "model_name": "LayoutModel",
          "model_module_version": "1.2.0",
          "state": {
            "_model_module": "@jupyter-widgets/base",
            "_model_module_version": "1.2.0",
            "_model_name": "LayoutModel",
            "_view_count": null,
            "_view_module": "@jupyter-widgets/base",
            "_view_module_version": "1.2.0",
            "_view_name": "LayoutView",
            "align_content": null,
            "align_items": null,
            "align_self": null,
            "border": null,
            "bottom": null,
            "display": null,
            "flex": null,
            "flex_flow": null,
            "grid_area": null,
            "grid_auto_columns": null,
            "grid_auto_flow": null,
            "grid_auto_rows": null,
            "grid_column": null,
            "grid_gap": null,
            "grid_row": null,
            "grid_template_areas": null,
            "grid_template_columns": null,
            "grid_template_rows": null,
            "height": null,
            "justify_content": null,
            "justify_items": null,
            "left": null,
            "margin": null,
            "max_height": null,
            "max_width": null,
            "min_height": null,
            "min_width": null,
            "object_fit": null,
            "object_position": null,
            "order": null,
            "overflow": null,
            "overflow_x": null,
            "overflow_y": null,
            "padding": null,
            "right": null,
            "top": null,
            "visibility": null,
            "width": null
          }
        },
        "f3c0ecfb54c44768b2125f079038d0d7": {
          "model_module": "@jupyter-widgets/controls",
          "model_name": "DescriptionStyleModel",
          "model_module_version": "1.5.0",
          "state": {
            "_model_module": "@jupyter-widgets/controls",
            "_model_module_version": "1.5.0",
            "_model_name": "DescriptionStyleModel",
            "_view_count": null,
            "_view_module": "@jupyter-widgets/base",
            "_view_module_version": "1.2.0",
            "_view_name": "StyleView",
            "description_width": ""
          }
        }
      }
    }
  },
  "cells": [
    {
      "cell_type": "code",
      "execution_count": 1,
      "metadata": {
        "colab": {
          "base_uri": "https://localhost:8080/"
        },
        "id": "FIevLrfYJI_E",
        "outputId": "5e71d5bd-906a-4025-c63b-ee18a918937b"
      },
      "outputs": [
        {
          "output_type": "stream",
          "name": "stdout",
          "text": [
            "\u001b[K     |████████████████████████████████| 424 kB 9.8 MB/s \n",
            "\u001b[K     |████████████████████████████████| 58 kB 6.5 MB/s \n",
            "\u001b[K     |████████████████████████████████| 275 kB 59.0 MB/s \n",
            "\u001b[?25hLooking in indexes: https://pypi.org/simple, https://us-python.pkg.dev/colab-wheels/public/simple/\n",
            "Collecting sentence-splitter\n",
            "  Downloading sentence_splitter-1.4-py2.py3-none-any.whl (44 kB)\n",
            "\u001b[K     |████████████████████████████████| 44 kB 2.3 MB/s \n",
            "\u001b[?25hRequirement already satisfied: regex>=2017.12.12 in /usr/local/lib/python3.7/dist-packages (from sentence-splitter) (2022.6.2)\n",
            "Installing collected packages: sentence-splitter\n",
            "Successfully installed sentence-splitter-1.4\n"
          ]
        }
      ],
      "source": [
        "!pip install -q RelevanceAI\n",
        "!pip install sentence-splitter"
      ]
    },
    {
      "cell_type": "code",
      "source": [
        "from sentence_splitter import SentenceSplitter, split_text_into_sentences"
      ],
      "metadata": {
        "id": "9Azk04KIJQZX"
      },
      "execution_count": 2,
      "outputs": []
    },
    {
      "cell_type": "code",
      "source": [
        "from relevanceai import Client"
      ],
      "metadata": {
        "id": "SI2I6PbaJT9M"
      },
      "execution_count": 3,
      "outputs": []
    },
    {
      "cell_type": "code",
      "source": [
        "config={\n",
        "    'dataset_id': \"walmart-store-comment-sample-csv-csv\",\n",
        "    \"vector_fields\": [\"Comments_mpnet_vector_\"],\n",
        "    \"text_fields\" : ['Comments'],\n",
        "    \"output_fields\": [\"one-to-many-cluster\"],\n",
        "    \"min_n_clusters\": 50,\n",
        "    \"max_n_clusters\": 50,\n",
        "    \"method\": 'kmeans', # select from 'dbscan' or 'kmeans' or 'hybrid'\n",
        "    'authorizationToken':'c250d40e614b975903cc:MDk5NGYzZTEtMWJlNS00ZWFlLTliZTYtNTVmNTkwMDRhNjVl:ap-southeast-2:UYqAeDnuUqUEOf1rYrFC5zyjLLL2',\n",
        "}\n",
        "\n",
        "authorizationToken = config['authorizationToken']\n",
        "dataset_id = config['dataset_id']\n",
        "vector_field = config['vector_fields'][0]\n",
        "text_field = config['text_fields'][0]\n",
        "output_field = config['output_fields'][0]\n",
        "min_n_clusters = config['min_n_clusters']\n",
        "max_n_clusters = config['max_n_clusters']\n",
        "method = config['method']\n",
        "new_dataset_id = dataset_id + \"_sentences\"\n",
        "new_text_field = text_field + \"_sentences\"\n",
        "# output_sentence_field = text_field +  '_sentences_'\n",
        "output_label_field = text_field + '_' + method + '_one_to_many_cluster_new'"
      ],
      "metadata": {
        "id": "d_bIG-VxJVSE"
      },
      "execution_count": 4,
      "outputs": []
    },
    {
      "cell_type": "code",
      "source": [
        "client = Client(token=authorizationToken)\n",
        "\n",
        "ds = client.Dataset(dataset_id)\n",
        "\n",
        "# docs = ds.get_all_documents(select_fields=[text_field, vector_field])\n",
        "docs = ds.get_all_documents()"
      ],
      "metadata": {
        "colab": {
          "base_uri": "https://localhost:8080/",
          "height": 85,
          "referenced_widgets": [
            "ec5a1e2e940b4ee9b0199e6dbeb37837",
            "b37da26ee4c3463189a622db3c6acf3f",
            "0b1eaba475bd461c9c731da1b841ac5d",
            "3c7f124592524771a89b9b0146426189",
            "ac4db9ce8e174ea183f99744575a446e",
            "65a69b702b0d4fe2a9a119225c44fd02",
            "ad812f1cd13d4dbe93ad77868b0de4ea",
            "837d5a10181342ba8bedc69a0cc9fb71",
            "82e1b32f66e24f47a9c892e321147354",
            "4e92dbbcafa64f62b1947b0e5acbb3b1",
            "f3c0ecfb54c44768b2125f079038d0d7"
          ]
        },
        "id": "ZYCe2WD4JYNl",
        "outputId": "58089237-1af1-4a4f-c980-c49b9ba132f2"
      },
      "execution_count": null,
      "outputs": [
        {
          "output_type": "stream",
          "name": "stdout",
          "text": [
            "Connecting to ap-southeast-2...\n",
            "Welcome to RelevanceAI. Logged in as c250d40e614b975903cc.\n"
          ]
        },
        {
          "output_type": "display_data",
          "data": {
            "text/plain": [
              "  0%|          | 0/74 [00:00<?, ?it/s]"
            ],
            "application/vnd.jupyter.widget-view+json": {
              "version_major": 2,
              "version_minor": 0,
              "model_id": "ec5a1e2e940b4ee9b0199e6dbeb37837"
            }
          },
          "metadata": {}
        }
      ]
    },
    {
      "cell_type": "code",
      "source": [
        "splitter = SentenceSplitter(language='en')"
      ],
      "metadata": {
        "id": "P9Dih2y2JdOz"
      },
      "execution_count": null,
      "outputs": []
    },
    {
      "cell_type": "code",
      "source": [
        "documents = []\n",
        "\n",
        "for doc in docs:\n",
        "  text = doc[text_field] \n",
        "  if text is None:\n",
        "    continue\n",
        "  for sent in splitter.split(text=text):\n",
        "    if sent.upper().isupper():\n",
        "      document = {\n",
        "          new_text_field : sent,\n",
        "          \"orign_text\" : text,\n",
        "      }\n",
        "      documents.append(document)"
      ],
      "metadata": {
        "id": "oU2Di-5kJhfu"
      },
      "execution_count": null,
      "outputs": []
    },
    {
      "cell_type": "code",
      "source": [
        "# client = Client(token=\"c825af6563b1c47322c9:RTFkazM0QUJlMXFteWdiWUlmM1I6ZFVlWGVkaktTX0NiTU1EaV9LYmdxQQ:ap-southeast-2:EbeVbWzxXnXmFLri0UOrsvQEwI53\")\n",
        "client = Client(token=authorizationToken)\n",
        "if new_dataset_id not in client.list_datasets()['datasets']:\n",
        "  client.create_dataset(new_dataset_id)\n",
        "  ds = client.Dataset(new_dataset_id)\n",
        "  ds.insert_documents(documents, create_id=True)\n",
        "else:\n",
        "  ds = client.Dataset(new_dataset_id)"
      ],
      "metadata": {
        "id": "nJgo515NJiEv"
      },
      "execution_count": null,
      "outputs": []
    }
  ]
}
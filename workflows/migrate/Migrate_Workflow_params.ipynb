{
 "cells": [
  {
   "cell_type": "markdown",
   "metadata": {
    "id": "TCfz9kRISGdT"
   },
   "source": [
    "# Migrate Dataset Workflow\n",
    "\n",
    "Migrate your datasets accross regions/projects. This copies over metadata, centroids (etc)"
   ]
  },
  {
   "cell_type": "code",
   "execution_count": null,
   "metadata": {
    "id": "MAPXTg9sS6-p"
   },
   "outputs": [],
   "source": [
    "!pip install -U relevanceai"
   ]
  },
  {
   "cell_type": "markdown",
   "metadata": {
    "id": "rJ76Pm2tVZUc"
   },
   "source": [
    "Set up the connection string here with MongoDB."
   ]
  },
  {
   "cell_type": "code",
   "execution_count": null,
   "metadata": {
    "id": "3k686UupSP1k"
   },
   "outputs": [],
   "source": [
    "#@title After filling this form, press the top left button.\n",
    "# You can grab your token here https://cloud.relevance.ai/sdk/api\n",
    "\n",
    "import base64\n",
    "import json\n",
    "\n",
    "token = \"\" #@param {type:\"string\"}\n",
    "\n",
    "config = json.loads(base64.b64decode(token + \"===\"))\n",
    "token = config['authorizationToken']\n",
    "dataset_id = config['dataset_id']\n",
    "\n",
    "src_token = config[\"src_token\"]\n",
    "dst_token = config[\"dst_token\"]"
   ]
  },
  {
   "cell_type": "markdown",
   "metadata": {
    "id": "OWj49cQLVcO_"
   },
   "source": [
    "Now running the part below, we are "
   ]
  },
  {
   "cell_type": "code",
   "execution_count": null,
   "metadata": {
    "id": "WVFfJEttR6SP"
   },
   "outputs": [],
   "source": [
    "import pandas as pd\n",
    "\n",
    "from relevanceai import Client\n",
    "from relevanceai.utils.migration.migrate import migrate_dataset\n",
    "\n",
    "migrate_dataset(\n",
    "    old_token=src_token,\n",
    "    new_token=dst_token,\n",
    "    dataset_id=dataset_id,\n",
    ")\n"
   ]
  }
 ],
 "metadata": {
  "colab": {
   "collapsed_sections": [],
   "name": "MongoDB Workflow",
   "provenance": []
  },
  "kernelspec": {
   "display_name": "Python 3.9.12 ('env': venv)",
   "language": "python",
   "name": "python3"
  },
  "language_info": {
   "name": "python",
   "version": "3.9.12"
  },
  "vscode": {
   "interpreter": {
    "hash": "20b5972250e5341b38b7eabea42a1c2f8cbff13e0ba526d1b1e464dc0179bad5"
   }
  }
 },
 "nbformat": 4,
 "nbformat_minor": 0
}

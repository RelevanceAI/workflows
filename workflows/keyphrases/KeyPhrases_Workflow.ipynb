{
  "nbformat": 4,
  "nbformat_minor": 0,
  "metadata": {
    "colab": {
      "name": "KeyPhrases Workflow.ipynb",
      "provenance": [],
      "collapsed_sections": [],
      "toc_visible": true
    },
    "kernelspec": {
      "name": "python3",
      "display_name": "Python 3"
    },
    "language_info": {
      "name": "python"
    },
    "widgets": {
      "application/vnd.jupyter.widget-state+json": {
        "f0ab88e8e57c4253bcbf8b96c7ffd1aa": {
          "model_module": "@jupyter-widgets/controls",
          "model_name": "HBoxModel",
          "model_module_version": "1.5.0",
          "state": {
            "_view_name": "HBoxView",
            "_dom_classes": [],
            "_model_name": "HBoxModel",
            "_view_module": "@jupyter-widgets/controls",
            "_model_module_version": "1.5.0",
            "_view_count": null,
            "_view_module_version": "1.5.0",
            "box_style": "",
            "layout": "IPY_MODEL_8196c04bd3e041e0a5cde077b0477d4b",
            "_model_module": "@jupyter-widgets/controls",
            "children": [
              "IPY_MODEL_aabfbd7bc83349f0ad1c75c4cc3632ae",
              "IPY_MODEL_48ed388798c34afd9742ca39bf09ba0f",
              "IPY_MODEL_a2d447eb229847c6b6b16d9b71998283"
            ]
          }
        },
        "8196c04bd3e041e0a5cde077b0477d4b": {
          "model_module": "@jupyter-widgets/base",
          "model_name": "LayoutModel",
          "model_module_version": "1.2.0",
          "state": {
            "_view_name": "LayoutView",
            "grid_template_rows": null,
            "right": null,
            "justify_content": null,
            "_view_module": "@jupyter-widgets/base",
            "overflow": null,
            "_model_module_version": "1.2.0",
            "_view_count": null,
            "flex_flow": null,
            "width": null,
            "min_width": null,
            "border": null,
            "align_items": null,
            "bottom": null,
            "_model_module": "@jupyter-widgets/base",
            "top": null,
            "grid_column": null,
            "overflow_y": null,
            "overflow_x": null,
            "grid_auto_flow": null,
            "grid_area": null,
            "grid_template_columns": null,
            "flex": null,
            "_model_name": "LayoutModel",
            "justify_items": null,
            "grid_row": null,
            "max_height": null,
            "align_content": null,
            "visibility": null,
            "align_self": null,
            "height": null,
            "min_height": null,
            "padding": null,
            "grid_auto_rows": null,
            "grid_gap": null,
            "max_width": null,
            "order": null,
            "_view_module_version": "1.2.0",
            "grid_template_areas": null,
            "object_position": null,
            "object_fit": null,
            "grid_auto_columns": null,
            "margin": null,
            "display": null,
            "left": null
          }
        },
        "aabfbd7bc83349f0ad1c75c4cc3632ae": {
          "model_module": "@jupyter-widgets/controls",
          "model_name": "HTMLModel",
          "model_module_version": "1.5.0",
          "state": {
            "_view_name": "HTMLView",
            "style": "IPY_MODEL_01c084119fb74523ae9faa9c7bcbb286",
            "_dom_classes": [],
            "description": "",
            "_model_name": "HTMLModel",
            "placeholder": "​",
            "_view_module": "@jupyter-widgets/controls",
            "_model_module_version": "1.5.0",
            "value": "100%",
            "_view_count": null,
            "_view_module_version": "1.5.0",
            "description_tooltip": null,
            "_model_module": "@jupyter-widgets/controls",
            "layout": "IPY_MODEL_5aeb5c85b9a64ca190c267b91f8c1504"
          }
        },
        "48ed388798c34afd9742ca39bf09ba0f": {
          "model_module": "@jupyter-widgets/controls",
          "model_name": "FloatProgressModel",
          "model_module_version": "1.5.0",
          "state": {
            "_view_name": "ProgressView",
            "style": "IPY_MODEL_2034519067e241d7bddc5ca9a6439dd0",
            "_dom_classes": [],
            "description": "",
            "_model_name": "FloatProgressModel",
            "bar_style": "success",
            "max": 1,
            "_view_module": "@jupyter-widgets/controls",
            "_model_module_version": "1.5.0",
            "value": 1,
            "_view_count": null,
            "_view_module_version": "1.5.0",
            "orientation": "horizontal",
            "min": 0,
            "description_tooltip": null,
            "_model_module": "@jupyter-widgets/controls",
            "layout": "IPY_MODEL_06270856f0d645c18e1865f148dea9d0"
          }
        },
        "a2d447eb229847c6b6b16d9b71998283": {
          "model_module": "@jupyter-widgets/controls",
          "model_name": "HTMLModel",
          "model_module_version": "1.5.0",
          "state": {
            "_view_name": "HTMLView",
            "style": "IPY_MODEL_08ad21d6694a42869f1381aee78b8a7f",
            "_dom_classes": [],
            "description": "",
            "_model_name": "HTMLModel",
            "placeholder": "​",
            "_view_module": "@jupyter-widgets/controls",
            "_model_module_version": "1.5.0",
            "value": " 1/1 [00:02&lt;00:00,  2.13s/it]",
            "_view_count": null,
            "_view_module_version": "1.5.0",
            "description_tooltip": null,
            "_model_module": "@jupyter-widgets/controls",
            "layout": "IPY_MODEL_0ee5a05a0712471ebebfc928356be7f1"
          }
        },
        "01c084119fb74523ae9faa9c7bcbb286": {
          "model_module": "@jupyter-widgets/controls",
          "model_name": "DescriptionStyleModel",
          "model_module_version": "1.5.0",
          "state": {
            "_view_name": "StyleView",
            "_model_name": "DescriptionStyleModel",
            "description_width": "",
            "_view_module": "@jupyter-widgets/base",
            "_model_module_version": "1.5.0",
            "_view_count": null,
            "_view_module_version": "1.2.0",
            "_model_module": "@jupyter-widgets/controls"
          }
        },
        "5aeb5c85b9a64ca190c267b91f8c1504": {
          "model_module": "@jupyter-widgets/base",
          "model_name": "LayoutModel",
          "model_module_version": "1.2.0",
          "state": {
            "_view_name": "LayoutView",
            "grid_template_rows": null,
            "right": null,
            "justify_content": null,
            "_view_module": "@jupyter-widgets/base",
            "overflow": null,
            "_model_module_version": "1.2.0",
            "_view_count": null,
            "flex_flow": null,
            "width": null,
            "min_width": null,
            "border": null,
            "align_items": null,
            "bottom": null,
            "_model_module": "@jupyter-widgets/base",
            "top": null,
            "grid_column": null,
            "overflow_y": null,
            "overflow_x": null,
            "grid_auto_flow": null,
            "grid_area": null,
            "grid_template_columns": null,
            "flex": null,
            "_model_name": "LayoutModel",
            "justify_items": null,
            "grid_row": null,
            "max_height": null,
            "align_content": null,
            "visibility": null,
            "align_self": null,
            "height": null,
            "min_height": null,
            "padding": null,
            "grid_auto_rows": null,
            "grid_gap": null,
            "max_width": null,
            "order": null,
            "_view_module_version": "1.2.0",
            "grid_template_areas": null,
            "object_position": null,
            "object_fit": null,
            "grid_auto_columns": null,
            "margin": null,
            "display": null,
            "left": null
          }
        },
        "2034519067e241d7bddc5ca9a6439dd0": {
          "model_module": "@jupyter-widgets/controls",
          "model_name": "ProgressStyleModel",
          "model_module_version": "1.5.0",
          "state": {
            "_view_name": "StyleView",
            "_model_name": "ProgressStyleModel",
            "description_width": "",
            "_view_module": "@jupyter-widgets/base",
            "_model_module_version": "1.5.0",
            "_view_count": null,
            "_view_module_version": "1.2.0",
            "bar_color": null,
            "_model_module": "@jupyter-widgets/controls"
          }
        },
        "06270856f0d645c18e1865f148dea9d0": {
          "model_module": "@jupyter-widgets/base",
          "model_name": "LayoutModel",
          "model_module_version": "1.2.0",
          "state": {
            "_view_name": "LayoutView",
            "grid_template_rows": null,
            "right": null,
            "justify_content": null,
            "_view_module": "@jupyter-widgets/base",
            "overflow": null,
            "_model_module_version": "1.2.0",
            "_view_count": null,
            "flex_flow": null,
            "width": null,
            "min_width": null,
            "border": null,
            "align_items": null,
            "bottom": null,
            "_model_module": "@jupyter-widgets/base",
            "top": null,
            "grid_column": null,
            "overflow_y": null,
            "overflow_x": null,
            "grid_auto_flow": null,
            "grid_area": null,
            "grid_template_columns": null,
            "flex": null,
            "_model_name": "LayoutModel",
            "justify_items": null,
            "grid_row": null,
            "max_height": null,
            "align_content": null,
            "visibility": null,
            "align_self": null,
            "height": null,
            "min_height": null,
            "padding": null,
            "grid_auto_rows": null,
            "grid_gap": null,
            "max_width": null,
            "order": null,
            "_view_module_version": "1.2.0",
            "grid_template_areas": null,
            "object_position": null,
            "object_fit": null,
            "grid_auto_columns": null,
            "margin": null,
            "display": null,
            "left": null
          }
        },
        "08ad21d6694a42869f1381aee78b8a7f": {
          "model_module": "@jupyter-widgets/controls",
          "model_name": "DescriptionStyleModel",
          "model_module_version": "1.5.0",
          "state": {
            "_view_name": "StyleView",
            "_model_name": "DescriptionStyleModel",
            "description_width": "",
            "_view_module": "@jupyter-widgets/base",
            "_model_module_version": "1.5.0",
            "_view_count": null,
            "_view_module_version": "1.2.0",
            "_model_module": "@jupyter-widgets/controls"
          }
        },
        "0ee5a05a0712471ebebfc928356be7f1": {
          "model_module": "@jupyter-widgets/base",
          "model_name": "LayoutModel",
          "model_module_version": "1.2.0",
          "state": {
            "_view_name": "LayoutView",
            "grid_template_rows": null,
            "right": null,
            "justify_content": null,
            "_view_module": "@jupyter-widgets/base",
            "overflow": null,
            "_model_module_version": "1.2.0",
            "_view_count": null,
            "flex_flow": null,
            "width": null,
            "min_width": null,
            "border": null,
            "align_items": null,
            "bottom": null,
            "_model_module": "@jupyter-widgets/base",
            "top": null,
            "grid_column": null,
            "overflow_y": null,
            "overflow_x": null,
            "grid_auto_flow": null,
            "grid_area": null,
            "grid_template_columns": null,
            "flex": null,
            "_model_name": "LayoutModel",
            "justify_items": null,
            "grid_row": null,
            "max_height": null,
            "align_content": null,
            "visibility": null,
            "align_self": null,
            "height": null,
            "min_height": null,
            "padding": null,
            "grid_auto_rows": null,
            "grid_gap": null,
            "max_width": null,
            "order": null,
            "_view_module_version": "1.2.0",
            "grid_template_areas": null,
            "object_position": null,
            "object_fit": null,
            "grid_auto_columns": null,
            "margin": null,
            "display": null,
            "left": null
          }
        },
        "167445494cde417992133ee7b823dacf": {
          "model_module": "@jupyter-widgets/controls",
          "model_name": "HBoxModel",
          "model_module_version": "1.5.0",
          "state": {
            "_view_name": "HBoxView",
            "_dom_classes": [],
            "_model_name": "HBoxModel",
            "_view_module": "@jupyter-widgets/controls",
            "_model_module_version": "1.5.0",
            "_view_count": null,
            "_view_module_version": "1.5.0",
            "box_style": "",
            "layout": "IPY_MODEL_f30a3d3ca3d54a91b14f1c2ae22a5f0b",
            "_model_module": "@jupyter-widgets/controls",
            "children": [
              "IPY_MODEL_a161de0703954297986f11e6fddce59f",
              "IPY_MODEL_dd2ae709e2634175aeb85688bdc711cc",
              "IPY_MODEL_e7517c4c3b674ea797b4cb86ef179245"
            ]
          }
        },
        "f30a3d3ca3d54a91b14f1c2ae22a5f0b": {
          "model_module": "@jupyter-widgets/base",
          "model_name": "LayoutModel",
          "model_module_version": "1.2.0",
          "state": {
            "_view_name": "LayoutView",
            "grid_template_rows": null,
            "right": null,
            "justify_content": null,
            "_view_module": "@jupyter-widgets/base",
            "overflow": null,
            "_model_module_version": "1.2.0",
            "_view_count": null,
            "flex_flow": null,
            "width": null,
            "min_width": null,
            "border": null,
            "align_items": null,
            "bottom": null,
            "_model_module": "@jupyter-widgets/base",
            "top": null,
            "grid_column": null,
            "overflow_y": null,
            "overflow_x": null,
            "grid_auto_flow": null,
            "grid_area": null,
            "grid_template_columns": null,
            "flex": null,
            "_model_name": "LayoutModel",
            "justify_items": null,
            "grid_row": null,
            "max_height": null,
            "align_content": null,
            "visibility": null,
            "align_self": null,
            "height": null,
            "min_height": null,
            "padding": null,
            "grid_auto_rows": null,
            "grid_gap": null,
            "max_width": null,
            "order": null,
            "_view_module_version": "1.2.0",
            "grid_template_areas": null,
            "object_position": null,
            "object_fit": null,
            "grid_auto_columns": null,
            "margin": null,
            "display": null,
            "left": null
          }
        },
        "a161de0703954297986f11e6fddce59f": {
          "model_module": "@jupyter-widgets/controls",
          "model_name": "HTMLModel",
          "model_module_version": "1.5.0",
          "state": {
            "_view_name": "HTMLView",
            "style": "IPY_MODEL_eda6ccee261c437495edee440d0bb74f",
            "_dom_classes": [],
            "description": "",
            "_model_name": "HTMLModel",
            "placeholder": "​",
            "_view_module": "@jupyter-widgets/controls",
            "_model_module_version": "1.5.0",
            "value": "100%",
            "_view_count": null,
            "_view_module_version": "1.5.0",
            "description_tooltip": null,
            "_model_module": "@jupyter-widgets/controls",
            "layout": "IPY_MODEL_8821dc99fa984cd9950f6f7db19d8296"
          }
        },
        "dd2ae709e2634175aeb85688bdc711cc": {
          "model_module": "@jupyter-widgets/controls",
          "model_name": "FloatProgressModel",
          "model_module_version": "1.5.0",
          "state": {
            "_view_name": "ProgressView",
            "style": "IPY_MODEL_363fbbc088004c5393fa5782d98f6c4b",
            "_dom_classes": [],
            "description": "",
            "_model_name": "FloatProgressModel",
            "bar_style": "success",
            "max": 2,
            "_view_module": "@jupyter-widgets/controls",
            "_model_module_version": "1.5.0",
            "value": 2,
            "_view_count": null,
            "_view_module_version": "1.5.0",
            "orientation": "horizontal",
            "min": 0,
            "description_tooltip": null,
            "_model_module": "@jupyter-widgets/controls",
            "layout": "IPY_MODEL_6e676b57f6354771a4f9d6b4ebb55922"
          }
        },
        "e7517c4c3b674ea797b4cb86ef179245": {
          "model_module": "@jupyter-widgets/controls",
          "model_name": "HTMLModel",
          "model_module_version": "1.5.0",
          "state": {
            "_view_name": "HTMLView",
            "style": "IPY_MODEL_ee3b8713d6c94a1c8d80f1b06de1b8db",
            "_dom_classes": [],
            "description": "",
            "_model_name": "HTMLModel",
            "placeholder": "​",
            "_view_module": "@jupyter-widgets/controls",
            "_model_module_version": "1.5.0",
            "value": " 2/2 [00:08&lt;00:00,  3.94s/it]",
            "_view_count": null,
            "_view_module_version": "1.5.0",
            "description_tooltip": null,
            "_model_module": "@jupyter-widgets/controls",
            "layout": "IPY_MODEL_dee327f4bf4742b49e4d033d9597248e"
          }
        },
        "eda6ccee261c437495edee440d0bb74f": {
          "model_module": "@jupyter-widgets/controls",
          "model_name": "DescriptionStyleModel",
          "model_module_version": "1.5.0",
          "state": {
            "_view_name": "StyleView",
            "_model_name": "DescriptionStyleModel",
            "description_width": "",
            "_view_module": "@jupyter-widgets/base",
            "_model_module_version": "1.5.0",
            "_view_count": null,
            "_view_module_version": "1.2.0",
            "_model_module": "@jupyter-widgets/controls"
          }
        },
        "8821dc99fa984cd9950f6f7db19d8296": {
          "model_module": "@jupyter-widgets/base",
          "model_name": "LayoutModel",
          "model_module_version": "1.2.0",
          "state": {
            "_view_name": "LayoutView",
            "grid_template_rows": null,
            "right": null,
            "justify_content": null,
            "_view_module": "@jupyter-widgets/base",
            "overflow": null,
            "_model_module_version": "1.2.0",
            "_view_count": null,
            "flex_flow": null,
            "width": null,
            "min_width": null,
            "border": null,
            "align_items": null,
            "bottom": null,
            "_model_module": "@jupyter-widgets/base",
            "top": null,
            "grid_column": null,
            "overflow_y": null,
            "overflow_x": null,
            "grid_auto_flow": null,
            "grid_area": null,
            "grid_template_columns": null,
            "flex": null,
            "_model_name": "LayoutModel",
            "justify_items": null,
            "grid_row": null,
            "max_height": null,
            "align_content": null,
            "visibility": null,
            "align_self": null,
            "height": null,
            "min_height": null,
            "padding": null,
            "grid_auto_rows": null,
            "grid_gap": null,
            "max_width": null,
            "order": null,
            "_view_module_version": "1.2.0",
            "grid_template_areas": null,
            "object_position": null,
            "object_fit": null,
            "grid_auto_columns": null,
            "margin": null,
            "display": null,
            "left": null
          }
        },
        "363fbbc088004c5393fa5782d98f6c4b": {
          "model_module": "@jupyter-widgets/controls",
          "model_name": "ProgressStyleModel",
          "model_module_version": "1.5.0",
          "state": {
            "_view_name": "StyleView",
            "_model_name": "ProgressStyleModel",
            "description_width": "",
            "_view_module": "@jupyter-widgets/base",
            "_model_module_version": "1.5.0",
            "_view_count": null,
            "_view_module_version": "1.2.0",
            "bar_color": null,
            "_model_module": "@jupyter-widgets/controls"
          }
        },
        "6e676b57f6354771a4f9d6b4ebb55922": {
          "model_module": "@jupyter-widgets/base",
          "model_name": "LayoutModel",
          "model_module_version": "1.2.0",
          "state": {
            "_view_name": "LayoutView",
            "grid_template_rows": null,
            "right": null,
            "justify_content": null,
            "_view_module": "@jupyter-widgets/base",
            "overflow": null,
            "_model_module_version": "1.2.0",
            "_view_count": null,
            "flex_flow": null,
            "width": null,
            "min_width": null,
            "border": null,
            "align_items": null,
            "bottom": null,
            "_model_module": "@jupyter-widgets/base",
            "top": null,
            "grid_column": null,
            "overflow_y": null,
            "overflow_x": null,
            "grid_auto_flow": null,
            "grid_area": null,
            "grid_template_columns": null,
            "flex": null,
            "_model_name": "LayoutModel",
            "justify_items": null,
            "grid_row": null,
            "max_height": null,
            "align_content": null,
            "visibility": null,
            "align_self": null,
            "height": null,
            "min_height": null,
            "padding": null,
            "grid_auto_rows": null,
            "grid_gap": null,
            "max_width": null,
            "order": null,
            "_view_module_version": "1.2.0",
            "grid_template_areas": null,
            "object_position": null,
            "object_fit": null,
            "grid_auto_columns": null,
            "margin": null,
            "display": null,
            "left": null
          }
        },
        "ee3b8713d6c94a1c8d80f1b06de1b8db": {
          "model_module": "@jupyter-widgets/controls",
          "model_name": "DescriptionStyleModel",
          "model_module_version": "1.5.0",
          "state": {
            "_view_name": "StyleView",
            "_model_name": "DescriptionStyleModel",
            "description_width": "",
            "_view_module": "@jupyter-widgets/base",
            "_model_module_version": "1.5.0",
            "_view_count": null,
            "_view_module_version": "1.2.0",
            "_model_module": "@jupyter-widgets/controls"
          }
        },
        "dee327f4bf4742b49e4d033d9597248e": {
          "model_module": "@jupyter-widgets/base",
          "model_name": "LayoutModel",
          "model_module_version": "1.2.0",
          "state": {
            "_view_name": "LayoutView",
            "grid_template_rows": null,
            "right": null,
            "justify_content": null,
            "_view_module": "@jupyter-widgets/base",
            "overflow": null,
            "_model_module_version": "1.2.0",
            "_view_count": null,
            "flex_flow": null,
            "width": null,
            "min_width": null,
            "border": null,
            "align_items": null,
            "bottom": null,
            "_model_module": "@jupyter-widgets/base",
            "top": null,
            "grid_column": null,
            "overflow_y": null,
            "overflow_x": null,
            "grid_auto_flow": null,
            "grid_area": null,
            "grid_template_columns": null,
            "flex": null,
            "_model_name": "LayoutModel",
            "justify_items": null,
            "grid_row": null,
            "max_height": null,
            "align_content": null,
            "visibility": null,
            "align_self": null,
            "height": null,
            "min_height": null,
            "padding": null,
            "grid_auto_rows": null,
            "grid_gap": null,
            "max_width": null,
            "order": null,
            "_view_module_version": "1.2.0",
            "grid_template_areas": null,
            "object_position": null,
            "object_fit": null,
            "grid_auto_columns": null,
            "margin": null,
            "display": null,
            "left": null
          }
        }
      }
    }
  },
  "cells": [
    {
      "cell_type": "markdown",
      "source": [
        "# Simple KeyPhrases Workflow\n",
        "\n",
        "This workflows shows users how to find keyphrases with Relevance AI."
      ],
      "metadata": {
        "id": "2mIfab1XFqGJ"
      }
    },
    {
      "cell_type": "code",
      "execution_count": 1,
      "metadata": {
        "colab": {
          "base_uri": "https://localhost:8080/"
        },
        "id": "1AiHW8ovFjg6",
        "outputId": "d04b5bc1-d427-460d-a30b-5dc742955fac"
      },
      "outputs": [
        {
          "output_type": "stream",
          "name": "stdout",
          "text": [
            "\u001b[K     |████████████████████████████████| 224 kB 12.1 MB/s \n",
            "\u001b[K     |████████████████████████████████| 1.1 MB 61.1 MB/s \n",
            "\u001b[K     |████████████████████████████████| 58 kB 4.3 MB/s \n",
            "\u001b[K     |████████████████████████████████| 271 kB 52.0 MB/s \n",
            "\u001b[K     |████████████████████████████████| 94 kB 2.3 MB/s \n",
            "\u001b[K     |████████████████████████████████| 144 kB 33.2 MB/s \n",
            "\u001b[31mERROR: pip's dependency resolver does not currently take into account all the packages that are installed. This behaviour is the source of the following dependency conflicts.\n",
            "tensorflow 2.8.0 requires tf-estimator-nightly==2.8.0.dev2021122109, which is not installed.\n",
            "arviz 0.11.4 requires typing-extensions<4,>=3.7.4.3, but you have typing-extensions 4.0.1 which is incompatible.\u001b[0m\n",
            "\u001b[?25h"
          ]
        }
      ],
      "source": [
        "!pip install -q RelevanceAI\n",
        "!pip install -q rake-nltk"
      ]
    },
    {
      "cell_type": "code",
      "source": [
        "from relevanceai import Client \n",
        "client = Client()"
      ],
      "metadata": {
        "id": "JshhGnBJ06BU"
      },
      "execution_count": 2,
      "outputs": []
    },
    {
      "cell_type": "code",
      "source": [
        "from relevanceai.datasets import get_dummy_ecommerce_dataset\n",
        "docs = get_dummy_ecommerce_dataset()"
      ],
      "metadata": {
        "id": "BxUViQon5ThQ"
      },
      "execution_count": 17,
      "outputs": []
    },
    {
      "cell_type": "code",
      "source": [
        "dataset_id = \"sample_dataset\"\n",
        "text_fields = [\"product_title\"]\n"
      ],
      "metadata": {
        "id": "lgBekv0I09xc"
      },
      "execution_count": 20,
      "outputs": []
    },
    {
      "cell_type": "code",
      "source": [
        "ds = client.Dataset(\"ecommerce-example\")\n",
        "ds.upsert_documents(docs)"
      ],
      "metadata": {
        "colab": {
          "base_uri": "https://localhost:8080/"
        },
        "id": "GYJkKmSN5eqC",
        "outputId": "34c0dfc3-b8d7-4e5c-c321-fc7196083c94"
      },
      "execution_count": 18,
      "outputs": [
        {
          "output_type": "stream",
          "name": "stdout",
          "text": [
            "✅ All documents inserted/edited successfully.\n"
          ]
        }
      ]
    },
    {
      "cell_type": "markdown",
      "source": [
        "# RAKE \n",
        "\n",
        "Relevance AI supports keyword extraction algorithm called `rake`. While this is the default, users can also specify additional stopwords to exclude on top of the `rake` algorithm and use normal keyword extraction. For example: \n",
        "- `nltk` with `unigram` (single word) extraction\n",
        "- `nltk` with `bigram` (multiple word) extraction"
      ],
      "metadata": {
        "id": "FiaC9Te37GSb"
      }
    },
    {
      "cell_type": "code",
      "source": [
        "ds.keyphrases(text_fields=text_fields, algorithm=\"rake\")"
      ],
      "metadata": {
        "colab": {
          "base_uri": "https://localhost:8080/"
        },
        "id": "_70fXyJf1MMv",
        "outputId": "addd70e8-8d3c-4304-c990-ff837d681d11"
      },
      "execution_count": 22,
      "outputs": [
        {
          "output_type": "stream",
          "name": "stderr",
          "text": [
            "/usr/local/lib/python3.7/dist-packages/relevanceai/utils.py:101: UserWarning: This function currently in beta and may change in the future.\n",
            "  warnings.warn(\"This function currently in beta and may change in the future.\")\n"
          ]
        },
        {
          "output_type": "stream",
          "name": "stdout",
          "text": [
            "Updating word count...\n",
            "Retrieving documents...\n",
            "Retrieving documents...\n",
            "Retrieving documents...\n",
            "Retrieving documents...\n",
            "Retrieving documents...\n",
            "Retrieving documents...\n",
            "Retrieving documents...\n",
            "Retrieving documents...\n",
            "Retrieving documents...\n",
            "Retrieving documents...\n",
            "Retrieving documents...\n",
            "Retrieving documents...\n",
            "Retrieving documents...\n",
            "Retrieving documents...\n",
            "Retrieving documents...\n",
            "Retrieving documents...\n",
            "Retrieving documents...\n",
            "Retrieving documents...\n",
            "Retrieving documents...\n",
            "Retrieving documents...\n",
            "Retrieving documents...\n",
            "Retrieving documents...\n",
            "Retrieving documents...\n",
            "Retrieving documents...\n",
            "Retrieving documents...\n",
            "Retrieving documents...\n",
            "Retrieving documents...\n",
            "Retrieving documents...\n",
            "Retrieving documents...\n",
            "Retrieving documents...\n",
            "Retrieving documents...\n",
            "Retrieving documents...\n",
            "Retrieving documents...\n",
            "Retrieving documents...\n",
            "Retrieving documents...\n",
            "Retrieving documents...\n",
            "Retrieving documents...\n",
            "Retrieving documents...\n",
            "Retrieving documents...\n",
            "Retrieving documents...\n",
            "Retrieving documents...\n",
            "Retrieving documents...\n",
            "Retrieving documents...\n",
            "Retrieving documents...\n",
            "Retrieving documents...\n",
            "Retrieving documents...\n",
            "Retrieving documents...\n",
            "Retrieving documents...\n",
            "Retrieving documents...\n",
            "Retrieving documents...\n",
            "Retrieving documents...\n",
            "Retrieving documents...\n",
            "Retrieving documents...\n",
            "Retrieving documents...\n",
            "Retrieving documents...\n",
            "Retrieving documents...\n",
            "Retrieving documents...\n",
            "Retrieving documents...\n",
            "Retrieving documents...\n",
            "Retrieving documents...\n",
            "Retrieving documents...\n",
            "Retrieving documents...\n",
            "Retrieving documents...\n",
            "Retrieving documents...\n",
            "Retrieving documents...\n",
            "Retrieving documents...\n",
            "Retrieving documents...\n",
            "Retrieving documents...\n",
            "Retrieving documents...\n",
            "Retrieving documents...\n",
            "Retrieving documents...\n",
            "Retrieving documents...\n",
            "Retrieving documents...\n",
            "Retrieving documents...\n",
            "Retrieving documents...\n"
          ]
        },
        {
          "output_type": "execute_result",
          "data": {
            "text/plain": [
              "[('hamilton beach 49970 personal cup single serve one cup pod disc coffee brewer',\n",
              "  332.5),\n",
              " ('sandisk ultra mobile microsd hc 8gb 16gb 32gb 64gb class10 memory card wholesale',\n",
              "  331.0),\n",
              " ('ounce eau de parfum spray', 273.75),\n",
              " ('aidan mattox gold strapless fairy tale empire waist bead evening dress',\n",
              "  225.5),\n",
              " ('turboion croc skin titanium ceramic digital flat hair iron gift set',\n",
              "  209.0),\n",
              " ('nike ladies pink lunar duet sport golf shoes', 204.71666666666667),\n",
              " ('micro sd 4gb 8gb 16gb tf flash memory card sdhc microsd', 203.5),\n",
              " ('secret vanilla lace scented massage oil sparkling caress rare htf', 200.0),\n",
              " ('mens stainless steel silver rope twist chain necklace jewelry 2', 197.5),\n",
              " ('36mens silver stainless steel braided wheat chain necklace jewelry 3',\n",
              "  195.33333333333331)]"
            ]
          },
          "metadata": {},
          "execution_count": 22
        }
      ]
    },
    {
      "cell_type": "markdown",
      "source": [
        "# Specifying the amount of words in the keyphrases"
      ],
      "metadata": {
        "id": "DnnXf5JT6bON"
      }
    },
    {
      "cell_type": "code",
      "source": [
        "ds.keyphrases(text_fields=text_fields, algorithm=\"nltk\", n=3)"
      ],
      "metadata": {
        "colab": {
          "base_uri": "https://localhost:8080/"
        },
        "id": "YHKeYYQ36a6m",
        "outputId": "8e9d31c0-ec4f-499d-8703-80d1ea35a123"
      },
      "execution_count": 24,
      "outputs": [
        {
          "output_type": "stream",
          "name": "stderr",
          "text": [
            "/usr/local/lib/python3.7/dist-packages/relevanceai/utils.py:101: UserWarning: This function currently in beta and may change in the future.\n",
            "  warnings.warn(\"This function currently in beta and may change in the future.\")\n"
          ]
        },
        {
          "output_type": "stream",
          "name": "stdout",
          "text": [
            "Updating word count...\n",
            "Retrieving documents...\n",
            "Retrieving documents...\n",
            "Retrieving documents...\n",
            "Retrieving documents...\n",
            "Retrieving documents...\n",
            "Retrieving documents...\n",
            "Retrieving documents...\n",
            "Retrieving documents...\n",
            "Retrieving documents...\n",
            "Retrieving documents...\n",
            "Retrieving documents...\n",
            "Retrieving documents...\n",
            "Retrieving documents...\n",
            "Retrieving documents...\n",
            "Retrieving documents...\n",
            "Retrieving documents...\n",
            "Retrieving documents...\n",
            "Retrieving documents...\n",
            "Retrieving documents...\n",
            "Retrieving documents...\n",
            "Retrieving documents...\n",
            "Retrieving documents...\n",
            "Retrieving documents...\n",
            "Retrieving documents...\n",
            "Retrieving documents...\n",
            "Retrieving documents...\n",
            "Retrieving documents...\n",
            "Retrieving documents...\n",
            "Retrieving documents...\n",
            "Retrieving documents...\n",
            "Retrieving documents...\n",
            "Retrieving documents...\n",
            "Retrieving documents...\n",
            "Retrieving documents...\n",
            "Retrieving documents...\n",
            "Retrieving documents...\n",
            "Retrieving documents...\n",
            "Retrieving documents...\n",
            "Retrieving documents...\n",
            "Retrieving documents...\n",
            "Retrieving documents...\n",
            "Retrieving documents...\n",
            "Retrieving documents...\n",
            "Retrieving documents...\n",
            "Retrieving documents...\n",
            "Retrieving documents...\n",
            "Retrieving documents...\n",
            "Retrieving documents...\n",
            "Retrieving documents...\n",
            "Retrieving documents...\n",
            "Retrieving documents...\n",
            "Retrieving documents...\n",
            "Retrieving documents...\n",
            "Retrieving documents...\n",
            "Retrieving documents...\n",
            "Retrieving documents...\n",
            "Retrieving documents...\n",
            "Retrieving documents...\n",
            "Retrieving documents...\n",
            "Retrieving documents...\n",
            "Retrieving documents...\n",
            "Retrieving documents...\n",
            "Retrieving documents...\n",
            "Retrieving documents...\n",
            "Retrieving documents...\n",
            "Retrieving documents...\n",
            "Retrieving documents...\n",
            "Retrieving documents...\n",
            "Retrieving documents...\n",
            "Retrieving documents...\n",
            "Retrieving documents...\n",
            "Retrieving documents...\n",
            "Retrieving documents...\n",
            "Retrieving documents...\n",
            "Retrieving documents...\n"
          ]
        },
        {
          "output_type": "execute_result",
          "data": {
            "text/plain": [
              "[(\"'s Gold Toe\", 46),\n",
              " (\"'s DC Shoes\", 44),\n",
              " (\"Men 's Gold\", 40),\n",
              " (\"Men 's DC\", 38),\n",
              " (\"Nike Women 's\", 30),\n",
              " ('White Mark Women', 24),\n",
              " (\"Mark Women 's\", 24),\n",
              " (\"Levi 's Women\", 24),\n",
              " (\"'s Women 's\", 24),\n",
              " (\"Nike Men 's\", 22)]"
            ]
          },
          "metadata": {},
          "execution_count": 24
        }
      ]
    },
    {
      "cell_type": "markdown",
      "source": [
        "# Infinitely Hackable With Preprocessing Hooks"
      ],
      "metadata": {
        "id": "LV1LE4Pl8vKl"
      }
    },
    {
      "cell_type": "code",
      "source": [
        "def remove_apostrophe(string):\n",
        "    return string.replace(\"'s\", \"\")"
      ],
      "metadata": {
        "id": "Pv44DWkO8_PN"
      },
      "execution_count": 29,
      "outputs": []
    },
    {
      "cell_type": "code",
      "source": [
        "ds.keyphrases(text_fields=text_fields, algorithm=\"nltk\", n=3, preprocess_hooks=[remove_apostrophe])"
      ],
      "metadata": {
        "id": "u5h5TfEn8uqw",
        "colab": {
          "base_uri": "https://localhost:8080/"
        },
        "outputId": "8340c1ae-0ee1-42c3-bb7c-688548ccf1a2"
      },
      "execution_count": 30,
      "outputs": [
        {
          "output_type": "stream",
          "name": "stderr",
          "text": [
            "/usr/local/lib/python3.7/dist-packages/relevanceai/utils.py:101: UserWarning: This function currently in beta and may change in the future.\n",
            "  warnings.warn(\"This function currently in beta and may change in the future.\")\n"
          ]
        },
        {
          "output_type": "stream",
          "name": "stdout",
          "text": [
            "Updating word count...\n",
            "Retrieving documents...\n",
            "Retrieving documents...\n",
            "Retrieving documents...\n",
            "Retrieving documents...\n",
            "Retrieving documents...\n",
            "Retrieving documents...\n",
            "Retrieving documents...\n",
            "Retrieving documents...\n",
            "Retrieving documents...\n",
            "Retrieving documents...\n",
            "Retrieving documents...\n",
            "Retrieving documents...\n",
            "Retrieving documents...\n",
            "Retrieving documents...\n",
            "Retrieving documents...\n",
            "Retrieving documents...\n",
            "Retrieving documents...\n",
            "Retrieving documents...\n",
            "Retrieving documents...\n",
            "Retrieving documents...\n",
            "Retrieving documents...\n",
            "Retrieving documents...\n",
            "Retrieving documents...\n",
            "Retrieving documents...\n",
            "Retrieving documents...\n",
            "Retrieving documents...\n",
            "Retrieving documents...\n",
            "Retrieving documents...\n",
            "Retrieving documents...\n",
            "Retrieving documents...\n",
            "Retrieving documents...\n",
            "Retrieving documents...\n",
            "Retrieving documents...\n",
            "Retrieving documents...\n",
            "Retrieving documents...\n",
            "Retrieving documents...\n",
            "Retrieving documents...\n",
            "Retrieving documents...\n",
            "Retrieving documents...\n",
            "Retrieving documents...\n",
            "Retrieving documents...\n",
            "Retrieving documents...\n",
            "Retrieving documents...\n",
            "Retrieving documents...\n",
            "Retrieving documents...\n",
            "Retrieving documents...\n",
            "Retrieving documents...\n",
            "Retrieving documents...\n",
            "Retrieving documents...\n",
            "Retrieving documents...\n",
            "Retrieving documents...\n",
            "Retrieving documents...\n",
            "Retrieving documents...\n",
            "Retrieving documents...\n",
            "Retrieving documents...\n",
            "Retrieving documents...\n",
            "Retrieving documents...\n",
            "Retrieving documents...\n",
            "Retrieving documents...\n",
            "Retrieving documents...\n",
            "Retrieving documents...\n",
            "Retrieving documents...\n",
            "Retrieving documents...\n",
            "Retrieving documents...\n",
            "Retrieving documents...\n",
            "Retrieving documents...\n",
            "Retrieving documents...\n",
            "Retrieving documents...\n",
            "Retrieving documents...\n",
            "Retrieving documents...\n",
            "Retrieving documents...\n",
            "Retrieving documents...\n",
            "Retrieving documents...\n",
            "Retrieving documents...\n",
            "Retrieving documents...\n"
          ]
        },
        {
          "output_type": "execute_result",
          "data": {
            "text/plain": [
              "[('Men Gold Toe', 40),\n",
              " ('Men DC Shoes', 38),\n",
              " ('White Mark Women', 24),\n",
              " ('Eau de Parfum', 22),\n",
              " ('External Hard Drive', 22),\n",
              " ('Lunar Duet Sport', 20),\n",
              " ('Logitech Wireless Mouse', 20),\n",
              " ('de Parfum Spray', 18),\n",
              " ('Lane Boots Women', 18),\n",
              " ('Nike Womens Lunar', 16)]"
            ]
          },
          "metadata": {},
          "execution_count": 30
        }
      ]
    },
    {
      "cell_type": "markdown",
      "source": [
        "# Adding Additional Stopwords\n",
        "\n",
        "Users can also add stopwords on top of normal stopwords to improve insight!"
      ],
      "metadata": {
        "id": "KOVK_T4B8p7k"
      }
    },
    {
      "cell_type": "code",
      "source": [
        "ds.keyphrases(text_fields=text_fields, algorithm=\"nltk\", n=3, additional_stopwords=[\"Men\", \"Women\"], preprocess_hooks=[remove_apostrophe])"
      ],
      "metadata": {
        "colab": {
          "base_uri": "https://localhost:8080/"
        },
        "id": "q2NuA47l8rfu",
        "outputId": "2bafc05c-7c15-4cc8-9042-4dc45bdce53c"
      },
      "execution_count": 33,
      "outputs": [
        {
          "output_type": "stream",
          "name": "stderr",
          "text": [
            "/usr/local/lib/python3.7/dist-packages/relevanceai/utils.py:101: UserWarning: This function currently in beta and may change in the future.\n",
            "  warnings.warn(\"This function currently in beta and may change in the future.\")\n"
          ]
        },
        {
          "output_type": "stream",
          "name": "stdout",
          "text": [
            "Updating word count...\n",
            "Retrieving documents...\n",
            "Retrieving documents...\n",
            "Retrieving documents...\n",
            "Retrieving documents...\n",
            "Retrieving documents...\n",
            "Retrieving documents...\n",
            "Retrieving documents...\n",
            "Retrieving documents...\n",
            "Retrieving documents...\n",
            "Retrieving documents...\n",
            "Retrieving documents...\n",
            "Retrieving documents...\n",
            "Retrieving documents...\n",
            "Retrieving documents...\n",
            "Retrieving documents...\n",
            "Retrieving documents...\n",
            "Retrieving documents...\n",
            "Retrieving documents...\n",
            "Retrieving documents...\n",
            "Retrieving documents...\n",
            "Retrieving documents...\n",
            "Retrieving documents...\n",
            "Retrieving documents...\n",
            "Retrieving documents...\n",
            "Retrieving documents...\n",
            "Retrieving documents...\n",
            "Retrieving documents...\n",
            "Retrieving documents...\n",
            "Retrieving documents...\n",
            "Retrieving documents...\n",
            "Retrieving documents...\n",
            "Retrieving documents...\n",
            "Retrieving documents...\n",
            "Retrieving documents...\n",
            "Retrieving documents...\n",
            "Retrieving documents...\n",
            "Retrieving documents...\n",
            "Retrieving documents...\n",
            "Retrieving documents...\n",
            "Retrieving documents...\n",
            "Retrieving documents...\n",
            "Retrieving documents...\n",
            "Retrieving documents...\n",
            "Retrieving documents...\n",
            "Retrieving documents...\n",
            "Retrieving documents...\n",
            "Retrieving documents...\n",
            "Retrieving documents...\n",
            "Retrieving documents...\n",
            "Retrieving documents...\n",
            "Retrieving documents...\n",
            "Retrieving documents...\n",
            "Retrieving documents...\n",
            "Retrieving documents...\n",
            "Retrieving documents...\n",
            "Retrieving documents...\n",
            "Retrieving documents...\n",
            "Retrieving documents...\n",
            "Retrieving documents...\n",
            "Retrieving documents...\n",
            "Retrieving documents...\n",
            "Retrieving documents...\n",
            "Retrieving documents...\n",
            "Retrieving documents...\n",
            "Retrieving documents...\n",
            "Retrieving documents...\n",
            "Retrieving documents...\n",
            "Retrieving documents...\n",
            "Retrieving documents...\n",
            "Retrieving documents...\n",
            "Retrieving documents...\n",
            "Retrieving documents...\n",
            "Retrieving documents...\n",
            "Retrieving documents...\n",
            "Retrieving documents...\n"
          ]
        },
        {
          "output_type": "execute_result",
          "data": {
            "text/plain": [
              "[('Eau de Parfum', 22),\n",
              " ('External Hard Drive', 22),\n",
              " ('Lunar Duet Sport', 20),\n",
              " ('Logitech Wireless Mouse', 20),\n",
              " ('de Parfum Spray', 18),\n",
              " ('Nike Womens Lunar', 16),\n",
              " ('Foam Mattress Topper', 16),\n",
              " ('Womens Lunar Duet', 14),\n",
              " ('Synthetic Athletic Shoe', 14),\n",
              " ('SonicFuel Hybrid Earbud', 14)]"
            ]
          },
          "metadata": {},
          "execution_count": 33
        }
      ]
    },
    {
      "cell_type": "markdown",
      "source": [
        "# Cluster Keyphrases\n",
        "\n",
        "Users can also get the key phrases across each cluster. This can be helpful if users want some automated way to label their clusters!"
      ],
      "metadata": {
        "id": "zrVLPZcXAza_"
      }
    },
    {
      "cell_type": "code",
      "source": [
        "# First we run some clustering\n",
        "clusterer = ds.auto_cluster(\"kmeans-5\", vector_fields=[\"product_title_clip_vector_\"])"
      ],
      "metadata": {
        "colab": {
          "base_uri": "https://localhost:8080/",
          "height": 208,
          "referenced_widgets": [
            "f0ab88e8e57c4253bcbf8b96c7ffd1aa",
            "8196c04bd3e041e0a5cde077b0477d4b",
            "aabfbd7bc83349f0ad1c75c4cc3632ae",
            "48ed388798c34afd9742ca39bf09ba0f",
            "a2d447eb229847c6b6b16d9b71998283",
            "01c084119fb74523ae9faa9c7bcbb286",
            "5aeb5c85b9a64ca190c267b91f8c1504",
            "2034519067e241d7bddc5ca9a6439dd0",
            "06270856f0d645c18e1865f148dea9d0",
            "08ad21d6694a42869f1381aee78b8a7f",
            "0ee5a05a0712471ebebfc928356be7f1"
          ]
        },
        "id": "L-jR4bvgA1m8",
        "outputId": "2bc637e2-a4d4-4ad2-bb27-eeabcbf40b69"
      },
      "execution_count": 42,
      "outputs": [
        {
          "output_type": "stream",
          "name": "stdout",
          "text": [
            "Retrieving all documents\n",
            "Fitting and predicting on all documents\n"
          ]
        },
        {
          "output_type": "display_data",
          "data": {
            "application/vnd.jupyter.widget-view+json": {
              "model_id": "f0ab88e8e57c4253bcbf8b96c7ffd1aa",
              "version_minor": 0,
              "version_major": 2
            },
            "text/plain": [
              "  0%|          | 0/1 [00:00<?, ?it/s]"
            ]
          },
          "metadata": {}
        },
        {
          "output_type": "stream",
          "name": "stdout",
          "text": [
            "---------------------------\n",
            "Grade: D\n",
            "Mean Silhouette Score: 0.08688070325190632\n",
            "---------------------------\n",
            "Updating the database...\n",
            "Inserting centroid documents...\n",
            "Build your clustering app here: https://cloud.relevance.ai/dataset/ecommerce-example/deploy/recent/cluster\n"
          ]
        }
      ]
    },
    {
      "cell_type": "code",
      "source": [
        "from tqdm.auto import tqdm\n",
        "cluster_field = \"_cluster_\"\n",
        "preprocess_hooks = []\n",
        "vector_fields=[\"product_title_clip_vector_\"]\n",
        "cluster_alias=\"kmeans-5\"\n",
        "text_fields=[\"product_title\"]\n",
        "\n",
        "vector_fields_str = \".\".join(sorted(vector_fields))\n",
        "field = f\"{cluster_field}.{vector_fields_str}.{cluster_alias}\"\n",
        "all_clusters = ds.facets([field], page_size=2)\n",
        "most_common = 10\n",
        "cluster_counters = {}\n",
        "for c in tqdm(all_clusters['results'][field]):\n",
        "    cluster_value = c[field]\n",
        "    top_words = ds.keyphrases(\n",
        "        text_fields=text_fields,\n",
        "        n=3,\n",
        "        filters=[\n",
        "            {\n",
        "                \"field\": field,\n",
        "                \"filter_type\": \"contains\",\n",
        "                \"condition\": \"==\",\n",
        "                \"condition_value\": cluster_value,\n",
        "            }\n",
        "        ],\n",
        "        most_common=most_common,\n",
        "        preprocess_hooks=preprocess_hooks,\n",
        "        algorithm=\"rake\",\n",
        "    )\n",
        "    cluster_counters[cluster_value] = top_words\n",
        "cluster_counters"
      ],
      "metadata": {
        "colab": {
          "base_uri": "https://localhost:8080/",
          "height": 973,
          "referenced_widgets": [
            "167445494cde417992133ee7b823dacf",
            "f30a3d3ca3d54a91b14f1c2ae22a5f0b",
            "a161de0703954297986f11e6fddce59f",
            "dd2ae709e2634175aeb85688bdc711cc",
            "e7517c4c3b674ea797b4cb86ef179245",
            "eda6ccee261c437495edee440d0bb74f",
            "8821dc99fa984cd9950f6f7db19d8296",
            "363fbbc088004c5393fa5782d98f6c4b",
            "6e676b57f6354771a4f9d6b4ebb55922",
            "ee3b8713d6c94a1c8d80f1b06de1b8db",
            "dee327f4bf4742b49e4d033d9597248e"
          ]
        },
        "id": "b2KrGeuLBlRD",
        "outputId": "2328a35f-613e-4792-c350-e1b7a2b0f71b"
      },
      "execution_count": 61,
      "outputs": [
        {
          "output_type": "display_data",
          "data": {
            "application/vnd.jupyter.widget-view+json": {
              "model_id": "167445494cde417992133ee7b823dacf",
              "version_minor": 0,
              "version_major": 2
            },
            "text/plain": [
              "  0%|          | 0/2 [00:00<?, ?it/s]"
            ]
          },
          "metadata": {}
        },
        {
          "output_type": "stream",
          "name": "stderr",
          "text": [
            "/usr/local/lib/python3.7/dist-packages/relevanceai/utils.py:101: UserWarning: This function currently in beta and may change in the future.\n",
            "  warnings.warn(\"This function currently in beta and may change in the future.\")\n"
          ]
        },
        {
          "output_type": "stream",
          "name": "stdout",
          "text": [
            "Updating word count...\n",
            "Retrieving documents...\n",
            "Retrieving documents...\n",
            "Retrieving documents...\n",
            "Retrieving documents...\n",
            "Retrieving documents...\n",
            "Retrieving documents...\n",
            "Retrieving documents...\n",
            "Retrieving documents...\n",
            "Retrieving documents...\n",
            "Retrieving documents...\n",
            "Retrieving documents...\n",
            "Retrieving documents...\n",
            "Updating word count...\n",
            "Retrieving documents...\n",
            "Retrieving documents...\n",
            "Retrieving documents...\n",
            "Retrieving documents...\n",
            "Retrieving documents...\n",
            "Retrieving documents...\n",
            "Retrieving documents...\n",
            "Retrieving documents...\n",
            "Retrieving documents...\n"
          ]
        },
        {
          "output_type": "execute_result",
          "data": {
            "text/plain": [
              "{'cluster-1': [('hamilton beach 49970 personal cup single serve one cup pod disc coffee brewer',\n",
              "   169.0),\n",
              "  ('turboion croc skin titanium ceramic digital flat hair iron gift set',\n",
              "   105.0),\n",
              "  ('secret vanilla lace scented massage oil sparkling caress rare htf', 100.0),\n",
              "  ('seagate backup plus portable stdr2000102 2 tb external hard drive', 100.0),\n",
              "  ('seagate backup plus portable stdr2000101 2 tb external hard drive', 100.0),\n",
              "  ('turboion croc skin titanium ceramic digital flat iron gift set', 96.0),\n",
              "  ('ounce eau de parfum spray', 94.95238095238095),\n",
              "  ('zaq galaxy ceramic litemist aromatherapy 200 ml essential oil diffuser',\n",
              "   91.0),\n",
              "  ('rayovac aa 12 pack platinum rechargeable low discharge nimh batteries',\n",
              "   86.83333333333334),\n",
              "  ('nemo digital white crystal pave twisted heart earbud headphones', 80.0)],\n",
              " 'cluster-3': [('nike ladies pink lunar duet sport golf shoes',\n",
              "   104.43333333333334),\n",
              "  ('nike ladies lunar duet sport golf shoes', 74.1462148962149),\n",
              "  ('western chief hello kitty glitter lighted rain boot pink',\n",
              "   72.64999999999999),\n",
              "  ('gold toe metropolitan crew 101s', 71.0),\n",
              "  ('nike womens lunar duet sport grape', 68.18253968253968),\n",
              "  ('nike womens lunar duet sport linen', 67.04700854700855),\n",
              "  ('gold toe canterbury otc extended 794he', 65.0),\n",
              "  ('nike womens lunar duet sport blue', 64.88547008547009),\n",
              "  ('western chief abstract blooms lighted rain boot purple',\n",
              "   60.64999999999999),\n",
              "  ('dc shoes trase tx se black', 59.87515262515262)]}"
            ]
          },
          "metadata": {},
          "execution_count": 61
        }
      ]
    }
  ]
}
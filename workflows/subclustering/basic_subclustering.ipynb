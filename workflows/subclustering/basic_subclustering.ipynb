{
 "cells": [
  {
   "cell_type": "markdown",
   "metadata": {
    "id": "Rf7koWjypGLn"
   },
   "source": [
    "<img src=\"https://relevance.ai/wp-content/uploads/2021/11/logo.79f303e-1.svg\" width=\"150\" alt=\"Relevance AI\" />\n",
    "<h5> Developer-first vector platform for ML teams </h5>\n",
    "\n",
    "[![Open In Colab](https://colab.research.google.com/assets/colab-badge.svg)](https://colab.research.google.com/github/RelevanceAI/workflows/blob/main/workflows/subclustering/basic_subclustering.ipynb)"
   ]
  },
  {
   "cell_type": "markdown",
   "metadata": {
    "id": "cr6lhZD3pIJg"
   },
   "source": [
    "# 🤖: Basic Sub-clustering\n",
    "\n",
    "This notebook is a quick guide on how to use Relevance AI for subclustering. Subclustering allows users to infinitely drill down into their clusters by running more clusters.\n",
    "\n",
    "Basic sub-clustering allows users to rely on clustering in simple ways.\n",
    "\n",
    "For more details, please refer to the  [references](https://relevanceai.readthedocs.io/en/development/operations/cluster/subclustering.html).\n"
   ]
  },
  {
   "cell_type": "code",
   "execution_count": null,
   "metadata": {},
   "outputs": [],
   "source": [
    "!pip install -q 'RelevanceAI[notebook, excel]'"
   ]
  },
  {
   "cell_type": "code",
   "execution_count": null,
   "metadata": {},
   "outputs": [],
   "source": [
    "from relevanceai import Client\n",
    "\n",
    "\"\"\"\n",
    "You can sign up/login and find your credentials here: https://cloud.relevance.ai/sdk/api\n",
    "Once you have signed up, click on the value under `Authorization token` and paste it here\n",
    "\"\"\"\n",
    "\n",
    "client = Client()"
   ]
  },
  {
   "cell_type": "markdown",
   "metadata": {},
   "source": [
    "# 🚣 Inserting data\n",
    "\n",
    "Prepare a sample retail dataset."
   ]
  },
  {
   "cell_type": "code",
   "execution_count": null,
   "metadata": {},
   "outputs": [],
   "source": [
    "from relevanceai.utils.datasets import get_ecommerce_dataset_encoded\n",
    "\n",
    "docs = get_ecommerce_dataset_encoded()\n",
    "docs[0]\n"
   ]
  },
  {
   "cell_type": "code",
   "execution_count": null,
   "metadata": {},
   "outputs": [],
   "source": [
    "ds = client.Dataset('basic_subclustering')\n",
    "ds.upsert_documents(docs)"
   ]
  },
  {
   "cell_type": "code",
   "execution_count": null,
   "metadata": {},
   "outputs": [],
   "source": [
    "ds.schema"
   ]
  },
  {
   "cell_type": "markdown",
   "metadata": {},
   "source": [
    "Running the initial clustering approach:"
   ]
  },
  {
   "cell_type": "code",
   "execution_count": null,
   "metadata": {},
   "outputs": [],
   "source": [
    "\n",
    "n_clusters = 10\n",
    "vector_field = \"product_image_clip_vector_\"\n",
    "parent_alias = f\"kmeans_{n_clusters}\"\n",
    "\n",
    "from sklearn.cluster import KMeans\n",
    "model = KMeans(n_clusters=n_clusters)\n",
    "\n",
    "cluster_ops = ds.cluster(\n",
    "   model,\n",
    "   vector_fields=[vector_field],\n",
    "   alias=parent_alias\n",
    ")\n",
    "\n",
    "# You can find the parent field in the schema or alternatively provide a field\n",
    "parent_field = f\"_cluster_.{vector_field}.{parent_alias}\"\n"
   ]
  },
  {
   "cell_type": "markdown",
   "metadata": {},
   "source": []
  },
  {
   "cell_type": "code",
   "execution_count": null,
   "metadata": {},
   "outputs": [],
   "source": []
  },
  {
   "cell_type": "markdown",
   "metadata": {},
   "source": [
    "Running sub-clustering is then as simple as running **ds.subcluster** to the function."
   ]
  },
  {
   "cell_type": "code",
   "execution_count": null,
   "metadata": {},
   "outputs": [],
   "source": [
    "\n",
    "# Given the parent field - we now run subclustering\n",
    "ds.subcluster(\n",
    "   model=model,\n",
    "   parent_field=parent_field,\n",
    "   vector_fields=[\"sample_2_vector_\"],\n",
    "   alias=\"subcluster-kmeans-2\"\n",
    ")\n"
   ]
  },
  {
   "cell_type": "markdown",
   "metadata": {},
   "source": [
    "You can then run sub-clustering again on a separate parent alias!"
   ]
  },
  {
   "cell_type": "code",
   "execution_count": null,
   "metadata": {},
   "outputs": [],
   "source": [
    "\n",
    "# Given the parent field - we now run subclustering\n",
    "ds.subcluster(\n",
    "   model=model,\n",
    "   parent_field=parent_field,\n",
    "   vector_fields=[\"sample_2_vector_\"],\n",
    "   alias=\"subcluster-kmeans-2\"\n",
    ")\n"
   ]
  },
  {
   "cell_type": "markdown",
   "metadata": {},
   "source": [
    "You are also able to infinitely continue subclustering as required by constantly referring back to the parent alias."
   ]
  },
  {
   "cell_type": "code",
   "execution_count": null,
   "metadata": {},
   "outputs": [],
   "source": []
  },
  {
   "cell_type": "markdown",
   "metadata": {},
   "source": [
    "\n",
    "**Next steps**\n",
    "\n",
    "If you require more indepth knowledge around subclustering, we will be writing more guides on how to adapt these to different aliases and models in the near future.\n",
    "\n",
    "\n",
    "For more details, please refer to the  [references](https://relevanceai.readthedocs.io/en/development/operations/cluster/subclustering.html)."
   ]
  }
 ],
 "metadata": {
  "interpreter": {
   "hash": "e7370f93d1d0cde622a1f8e1c04877d8463912d04d973331ad4851f04de6915a"
  },
  "kernelspec": {
   "display_name": "Python 3 (ipykernel)",
   "language": "python",
   "name": "python3"
  },
  "language_info": {
   "codemirror_mode": {
    "name": "ipython",
    "version": 3
   },
   "file_extension": ".py",
   "mimetype": "text/x-python",
   "name": "python",
   "nbconvert_exporter": "python",
   "pygments_lexer": "ipython3",
   "version": "3.8.0"
  },
  "toc": {
   "base_numbering": 1,
   "nav_menu": {},
   "number_sections": true,
   "sideBar": true,
   "skip_h1_title": false,
   "title_cell": "Table of Contents",
   "title_sidebar": "Contents",
   "toc_cell": false,
   "toc_position": {},
   "toc_section_display": true,
   "toc_window_display": false
  }
 },
 "nbformat": 4,
 "nbformat_minor": 2
}

{
 "cells": [
  {
   "cell_type": "markdown",
   "metadata": {
    "id": "Rf7koWjypGLn"
   },
   "source": [
    "<img src=\"https://relevance.ai/wp-content/uploads/2021/11/logo.79f303e-1.svg\" width=\"150\" alt=\"Relevance AI\" />\n",
    "<h5> Developer-first vector platform for ML teams </h5>\n",
    "\n",
    "[![Open In Colab](https://colab.research.google.com/assets/colab-badge.svg)](https://colab.research.google.com/github/RelevanceAI/workflows/blob/main/cluster-reporting/👍_Cluster_Reports_With_Relevance_AI.ipynb)"
   ]
  },
  {
   "cell_type": "markdown",
   "metadata": {
    "id": "cr6lhZD3pIJg"
   },
   "source": [
    "# 🤖: Basic Sub-clustering\n",
    "\n",
    "This notebook is a quick guide on how to use Relevance AI for subclustering. Subclustering allows users to infinitely drill down into their clusters by running more clusters.\n",
    "\n",
    "Basic sub-clustering allows users to rely on clustering in simple ways.\n"
   ]
  },
  {
   "cell_type": "code",
   "execution_count": null,
   "metadata": {},
   "outputs": [],
   "source": [
    "!pip install -q RelevanceAI"
   ]
  },
  {
   "cell_type": "code",
   "execution_count": null,
   "metadata": {},
   "outputs": [],
   "source": [
    "# Set up the client\n",
    "from relevanceai import Client \n",
    "client = Client()"
   ]
  },
  {
   "cell_type": "markdown",
   "metadata": {},
   "source": [
    "Running the initial clustering approach:"
   ]
  },
  {
   "cell_type": "code",
   "execution_count": null,
   "metadata": {},
   "outputs": [],
   "source": [
    "# Set up the relevant dashboard workflow\n",
    "from relevanceai.datasets import mock_documents\n",
    "\n",
    "ds = client.Dataset('sample')\n",
    "ds.upsert_documents(mock_documents(100))\n",
    "\n",
    "# Run initial kmeans to get clusters\n",
    "ds.auto_cluster('kmeans-3', vector_fields=[\"sample_1_vector_\"])\n"
   ]
  },
  {
   "cell_type": "markdown",
   "metadata": {},
   "source": [
    "Running sub-clustering is then as simple as adding a **parent_alias** to the function."
   ]
  },
  {
   "cell_type": "code",
   "execution_count": null,
   "metadata": {},
   "outputs": [],
   "source": [
    "# Run separate K Means to get subclusters and adding a parent_alias\n",
    "\n",
    "ds.auto_cluster(\n",
    "    'kmeans-2',\n",
    "    vector_fields=[\"sample_1_vector_\"],\n",
    "    parent_alias=\"kmeans-3\"\n",
    ")\n"
   ]
  },
  {
   "cell_type": "markdown",
   "metadata": {},
   "source": [
    "You can then run sub-clustering again on a separate parent alias!"
   ]
  },
  {
   "cell_type": "markdown",
   "metadata": {},
   "source": [
    "You are also able to infinitely continue subclustering as required by constantly referring back to the parent alias.\n",
    "\n",
    "**Next steps**\n",
    "\n",
    "If you require more indepth knowledge around subclustering, we will be writing more guides on how to adapt these to different aliases and models in the near future.\n"
   ]
  }
 ],
 "metadata": {
  "interpreter": {
   "hash": "e7370f93d1d0cde622a1f8e1c04877d8463912d04d973331ad4851f04de6915a"
  },
  "kernelspec": {
   "display_name": "Python 3 (ipykernel)",
   "language": "python",
   "name": "python3"
  },
  "language_info": {
   "codemirror_mode": {
    "name": "ipython",
    "version": 3
   },
   "file_extension": ".py",
   "mimetype": "text/x-python",
   "name": "python",
   "nbconvert_exporter": "python",
   "pygments_lexer": "ipython3",
   "version": "3.7.10"
  },
  "toc": {
   "base_numbering": 1,
   "nav_menu": {},
   "number_sections": true,
   "sideBar": true,
   "skip_h1_title": false,
   "title_cell": "Table of Contents",
   "title_sidebar": "Contents",
   "toc_cell": false,
   "toc_position": {},
   "toc_section_display": true,
   "toc_window_display": false
  }
 },
 "nbformat": 4,
 "nbformat_minor": 2
}

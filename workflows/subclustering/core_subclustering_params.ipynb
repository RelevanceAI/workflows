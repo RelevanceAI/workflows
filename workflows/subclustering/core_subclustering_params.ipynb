{
 "cells": [
  {
   "cell_type": "code",
   "execution_count": null,
   "metadata": {
    "tags": [
     "parameters"
    ]
   },
   "outputs": [],
   "source": [
    "import os\n",
    "\n",
    "api_key = \"\"\n",
    "project = \"\"\n",
    "region = \"\"\n",
    "authorizationToken = (\n",
    "    f\"{os.environ['TEST_ACTIVATION_TOKEN']}\"\n",
    "    if os.getenv(\"TEST_ACTIVATION_TOKEN\")\n",
    "    else \"\"\n",
    ")\n",
    "\n",
    "dataset_id = \"basic_subclustering\"\n",
    "n_clusters = 3\n",
    "clusteringType = \"kmeans\"\n",
    "threshold = 0.75\n",
    "vector_field = \"product_title_clip_vector_\"\n",
    "parent_field = \"_cluster_.product_title_clip_vector_.communitydetection\"\n",
    "alias = f\"_cluster_.product_title_clip_vector_.communitydetection.subcluster_3\""
   ]
  },
  {
   "cell_type": "code",
   "execution_count": null,
   "metadata": {
    "colab": {
     "base_uri": "https://localhost:8080/"
    },
    "id": "r7l4WPf7dWOn",
    "outputId": "5b4f2f6a-ef94-4920-f302-5a5941c62bf2"
   },
   "outputs": [],
   "source": [
    "from relevanceai import Client\n",
    "\n",
    "cluster_method = clusteringType\n",
    "\n",
    "client = Client(token=authorizationToken)\n",
    "ds = client.Dataset(dataset_id)\n",
    "\n",
    "try:\n",
    "    if cluster_method == \"community-detection\":\n",
    "        cluster_method = \"community_detection\"\n",
    "        ds.subcluster(\n",
    "            model=cluster_method,\n",
    "            cluster_config={\"threshold\": threshold},\n",
    "            vector_fields=[vector_field],\n",
    "            parent_field=parent_field,\n",
    "            alias=alias,\n",
    "        )\n",
    "    elif cluster_method == \"kmeans\":\n",
    "        from sklearn.cluster import KMeans\n",
    "\n",
    "        model = KMeans(n_clusters=n_clusters)\n",
    "        ds.subcluster(\n",
    "            model=model,\n",
    "            parent_field=parent_field,\n",
    "            vector_fields=[vector_field],\n",
    "            alias=alias,\n",
    "            cluster_config={\"n_clusters\": n_clusters},\n",
    "        )\n",
    "except Exception as e:\n",
    "\n",
    "    raise ValueError(f\"{str(e)}\")\n",
    "\n",
    "if cluster_method == \"community-detection\":\n",
    "    print(\n",
    "        f\"Finished subclustering your data with {cluster_method} with threshold={threshold}, you may close this window.\"\n",
    "    )\n",
    "elif cluster_method == \"kmeans\":\n",
    "    print(\n",
    "        f\"Finished subclustering your data with {cluster_method} with n_clusters={n_clusters}, you may close this window.\"\n",
    "    )"
   ]
  },
  {
   "cell_type": "code",
   "execution_count": null,
   "metadata": {
    "id": "xKhiLG1ffA0t"
   },
   "outputs": [],
   "source": []
  }
 ],
 "metadata": {
  "accelerator": "GPU",
  "celltoolbar": "Tags",
  "colab": {
   "collapsed_sections": [],
   "name": "Subcluster Your Data with RelevanceAI",
   "provenance": []
  },
  "interpreter": {
   "hash": "e7370f93d1d0cde622a1f8e1c04877d8463912d04d973331ad4851f04de6915a"
  },
  "kernelspec": {
   "display_name": "Python 3",
   "language": "python",
   "name": "python3"
  },
  "language_info": {
   "codemirror_mode": {
    "name": "ipython",
    "version": 3
   },
   "file_extension": ".py",
   "mimetype": "text/x-python",
   "name": "python",
   "nbconvert_exporter": "python",
   "pygments_lexer": "ipython3",
   "version": "3.8.0"
  },
  "name": "core_subclustering",
  "toc": {
   "base_numbering": 1,
   "nav_menu": {},
   "number_sections": true,
   "sideBar": true,
   "skip_h1_title": false,
   "title_cell": "Table of Contents",
   "title_sidebar": "Contents",
   "toc_cell": false,
   "toc_position": {},
   "toc_section_display": true,
   "toc_window_display": false
  }
 },
 "nbformat": 4,
 "nbformat_minor": 1
}

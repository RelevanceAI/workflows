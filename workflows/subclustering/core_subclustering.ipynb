{
  "cells": [
    {
      "cell_type": "markdown",
      "metadata": {
        "id": "0JoFtSSPdrBc"
      },
      "source": [
        "[![Open In Colab](https://colab.research.google.com/assets/colab-badge.svg)](https://colab.research.google.com/github/RelevanceAI/workflows/blob/main/workflows/subcluster/Subcluster.ipynb)\n",
        "\n",
        "# Instructions\n",
        "\n",
        "1. Paste the token copied to your clipboard provided from the 'Subcluster' Workflow dashboard.\n",
        "2. Click the ▶️  on the left or go to \"Runtime\" -> \"Run All\" and click \"Run anyway\" on the warning that pops up.\n",
        "3. You should see a progress bar underneath the form, keep this window opened and active until the progress bar is complete otherwise it'll terminate.\n",
        "\n",
        "Note: \n",
        "- For fastest clustering speed make sure to go to \"Runtime\" -> \"Change runtime type\" and enable \"Hardware accelerator\" as \"GPU\"."
      ]
    },
    {
      "cell_type": "code",
      "execution_count": null,
      "metadata": {
        "id": "SxepOpo4ImjE"
      },
      "outputs": [],
      "source": [
        "#@title Paste token below and press ▶️  button to the left of this title { display-mode: \"form\" }\n",
        "\n",
        "token = \"\" #@param {type:\"string\"}\n",
        "#@markdown Once the form is filled and you've clicked run, monitor below for logs of it running\n",
        "\n",
        "import json\n",
        "import base64\n",
        "\n",
        "!pip install -q -U RelevanceAI-dev\n",
        "from relevanceai import Client\n",
        "config = json.loads(base64.b64decode(token).decode())\n",
        "client = Client(token=config['authorizationToken'])\n",
        "\n",
        "\n",
        "ds = client.Dataset(config['dataset_id'])\n",
        "if config['clusteringType'] == \"kmeans\":\n",
        "  cluster_ops = ds.subcluster(\n",
        "      vector_fields=[config.get('vector_field')],\n",
        "      alias=config['alias'],\n",
        "      parent_field=config['parent_field'],\n",
        "      model=config['clusteringType'],\n",
        "      cluster_ids=config.get('cluster_ids'),\n",
        "      model_kwargs={\n",
        "          \"n_clusters\": config[\"n_clusters\"]\n",
        "      },\n",
        "      min_parent_cluster_size=int(config['n_clusters'])\n",
        "  )\n",
        "elif config['clusteringType'] == \"community-detection\":\n",
        "  cluster_ops = ds.subcluster(\n",
        "      vector_fields=[config.get('vector_field')],\n",
        "      alias=config['alias'],\n",
        "      parent_field=config['parent_field'],\n",
        "      model=config['clusteringType'],\n",
        "      cluster_ids=config.get('cluster_ids'),\n",
        "      model_kwargs={\n",
        "          \"threshold\": config[\"threshold\"]\n",
        "      },\n",
        "  )\n",
        "else:\n",
        "  raise ValueError(\"Clustering type not supported. Needs to be one of `community-detection` or `kmeans`.\")\n"
      ]
    }
  ],
  "metadata": {
    "colab": {
      "collapsed_sections": [],
      "name": "core_subclustering.ipynb",
      "provenance": []
    },
    "kernelspec": {
      "display_name": "Python 3",
      "name": "python3"
    },
    "language_info": {
      "name": "python",
      "version": "3.8.9"
    }
  },
  "nbformat": 4,
  "nbformat_minor": 0
}

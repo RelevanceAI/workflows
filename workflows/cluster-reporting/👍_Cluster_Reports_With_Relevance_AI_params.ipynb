{
 "cells": [
  {
   "cell_type": "code",
   "execution_count": null,
   "metadata": {
    "id": "RWzIWY1rphKa"
   },
   "outputs": [],
   "source": [
    "authorizationToken = f\"{os.environ['TEST_ACTIVATION_TOKEN']}\" if os.getenv('TEST_ACTIVATION_TOKEN') else \"\"\n",
    "dataset_id = \"basic_subclustering\" \n",
    "vector_field = \"product_title_clip_vector_\" \n",
    "cluster_method  = \"kmeans\"\n",
    "report_name = \"kmeans\""
   ]
  },
  {
   "cell_type": "code",
   "execution_count": null,
   "metadata": {},
   "outputs": [],
   "source": [
    "from relevanceai import Client\n",
    "client = Client(token=token)\n",
    "ds = client.Dataset(dataset_id)\n",
    "\n",
    "import pandas as pd\n",
    "import numpy as np\n",
    "from relevanceai.reports.cluster import ClusterReport\n",
    "\n",
    "vector_fields = [vector_field]\n",
    "\n",
    "if cluster_method == 'community-detection':\n",
    "    cluster_method  = \"communitydetection\"\n",
    "    ds.cluster(\n",
    "        cluster_method,\n",
    "        cluster_config={\"threshold\": cutoff},\n",
    "        vector_fields=vector_fields\n",
    "    )\n",
    "elif cluster_method == 'kmeans':\n",
    "    if ds.shape[0] < 3000:\n",
    "        ds.cluster(\n",
    "            cluster_method,\n",
    "            cluster_config={\"n_clusters\": n_clusters},\n",
    "            vector_fields=vector_fields\n",
    "        )\n",
    "    else:\n",
    "        cluster_method = 'minibatchkmeans'\n",
    "        ds.cluster(\n",
    "            cluster_method,\n",
    "            cluster_config={\"n_clusters\": n_clusters},\n",
    "            vector_fields=vector_fields\n",
    "        )\n",
    "\n",
    "# Storing your cluster report\n",
    "response = client.store_cluster_report(\n",
    "    report_name=report_name,\n",
    "    report=report.internal_report\n",
    ")"
   ]
  }
 ],
 "metadata": {
  "celltoolbar": "Tags",
  "colab": {
   "collapsed_sections": [],
   "name": "👍 Cluster Reports With Relevance AI",
   "provenance": []
  },
  "interpreter": {
   "hash": "2f37d18d48c838ed4650d00746e8f1f7ae7217fa17e107ee8294938c0787d93b"
  },
  "kernelspec": {
   "display_name": "Python 3",
   "language": "python",
   "name": "python3"
  },
  "language_info": {
   "codemirror_mode": {
    "name": "ipython",
    "version": 3
   },
   "file_extension": ".py",
   "mimetype": "text/x-python",
   "name": "python",
   "nbconvert_exporter": "python",
   "pygments_lexer": "ipython3",
   "version": "3.8.0"
  },
  "name": "👍_Cluster_Reports_With_Relevance_AI",
  "toc": {
   "base_numbering": 1,
   "nav_menu": {},
   "number_sections": true,
   "sideBar": true,
   "skip_h1_title": false,
   "title_cell": "Table of Contents",
   "title_sidebar": "Contents",
   "toc_cell": false,
   "toc_position": {},
   "toc_section_display": true,
   "toc_window_display": true
  }
 },
 "nbformat": 4,
 "nbformat_minor": 1
}

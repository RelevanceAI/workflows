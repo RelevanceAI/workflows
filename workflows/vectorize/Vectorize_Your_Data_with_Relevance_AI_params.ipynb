{
 "cells": [
  {
   "cell_type": "code",
   "execution_count": null,
   "metadata": {
    "tags": [
     "parameters"
    ]
   },
   "outputs": [],
   "source": [
    "api_key = \"\"\n",
    "project = \"the-office-series\"\n",
    "region = \"\"\n",
    "authorizationToken = \"\"\n",
    "dataset_id = \"the-office-series\"\n",
    "encode_type = \"text\"\n",
    "model_id = \"mpnet\"\n",
    "fields = [\"episode_title\"]"
   ]
  },
  {
   "cell_type": "code",
   "execution_count": null,
   "metadata": {
    "id": "TjROUZqQbiGq"
   },
   "outputs": [],
   "source": [
    "\n",
    "# config = {\n",
    "#   \"dataset_id\": \"advanced_search_example\",\n",
    "#   \"model_id\": \"mpnet\",\n",
    "#   \"encode_type\": \"text\",\n",
    "#   \"fields\": [\n",
    "#     \"product_title\"\n",
    "#   ],\n",
    "#   \"region\": \"xxx\",\n",
    "#   \"project\": \"xxx\",\n",
    "#   \"api_key\": \"xxx\",\n",
    "#   \"authorizationToken\": \"xxx:xxx:xxx:xxx\"\n",
    "# }\n",
    "\n",
    "show_warnings_in_logs = False #@param {type:\"boolean\"}\n",
    "\n",
    "import json\n",
    "import warnings\n",
    "warnings.filterwarnings('ignore')\n",
    "\n",
    "\n",
    "print(\"Installing RelevanceAI ...\")\n",
    "\n",
    "from relevanceai import Client \n",
    "client = Client(token=authorizationToken)\n",
    "\n",
    "try:\n",
    "    if model_id == 'clip' and encode_type.lower() == 'image_urls':\n",
    "        from vectorhub.bi_encoders.text_image.torch import Clip2Vec\n",
    "        class Model(Clip2Vec):\n",
    "            @property\n",
    "            def __name__(self):\n",
    "                return model_id\n",
    "        enc = Model()\n",
    "        enc.encode = enc.encode_image\n",
    "\n",
    "    elif model_id == 'clip' and encode_type.lower() == 'text':\n",
    "        from vectorhub.bi_encoders.text_image.torch import Clip2Vec\n",
    "        class Model(Clip2Vec):\n",
    "            @property\n",
    "            def __name__(self):\n",
    "                return model_id\n",
    "        enc = Model()\n",
    "        enc.encode = enc.encode_text\n",
    "\n",
    "    elif model_id == 'mpnet':\n",
    "        from vectorhub.encoders.text.sentence_transformers import SentenceTransformer2Vec\n",
    "        class Model(SentenceTransformer2Vec):\n",
    "            @property\n",
    "            def __name__(self):\n",
    "                return model_id\n",
    "        enc = Model(\"all-mpnet-base-v2\")\n",
    "\n",
    "    elif model_id == 'multiqampnet':\n",
    "        from vectorhub.encoders.text.sentence_transformers  import SentenceTransformer2Vec\n",
    "        class Model(SentenceTransformer2Vec):\n",
    "            @property\n",
    "            def __name__(self):\n",
    "                return model_id\n",
    "        enc = Model(\"multi-qa-mpnet-base-dot-v1\")\n",
    "\n",
    "    elif model_id == 'bit':\n",
    "        from vectorhub.encoders.image.tfhub import BitMedium2Vec\n",
    "        class Model(BitMedium2Vec):\n",
    "            @property\n",
    "            def __name__(self):\n",
    "                return model_id\n",
    "        enc = Model()\n",
    "\n",
    "\n",
    "except Exception as e:\n",
    "    print(e)\n",
    "    raise ValueError(f'{str(e)}')\n",
    "\n",
    "print(\"Finished installing machine learning models and dependencies to vectorize data.\")\n",
    "# enc.__name__ = config['model_id']\n",
    "\n",
    "import os\n",
    "import sys\n",
    "import warnings\n",
    "\n",
    "f = open(os.devnull, 'w')\n",
    "sys.stderr = f\n",
    "\n",
    "import traceback\n",
    "\n",
    "def encode_documents(docs):\n",
    "    try:\n",
    "#       if show_warnings_in_logs:\n",
    "#           with contextlib.redirect_stdout(None):\n",
    "#               with warnings.catch_warnings():\n",
    "#                   warnings.simplefilter(\"ignore\")\n",
    "#                   return enc.encode_documents(fields, docs)\n",
    "      return enc.encode_documents(fields, docs)\n",
    "    except Exception as e:\n",
    "        trc = traceback.format_exc()\n",
    "        error_message = \"Exception during processing: \" + str(e) + \"\\n\" + trc\n",
    "        raise Exception(f\"{error_message}\")\n",
    "\n",
    "print(\"Starting to vectorize your data.\")\n",
    "\n",
    "client.logger.warn = client.logger.warning\n",
    "client.pull_update_push(dataset_id, encode_documents, \n",
    "  show_progress_bar=True, \n",
    "  filters=[{'field' : f,\n",
    "    'filter_type' : 'exists', \n",
    "    \"condition\":\"==\", \n",
    "    \"condition_value\":\"\"} for f in fields], \n",
    "    select_fields=fields, retrieve_chunk_size=100)\n",
    "\n",
    "print(\"Finished vectorizing your data with, you may close this window.\")"
   ]
  },
  {
   "cell_type": "code",
   "execution_count": null,
   "metadata": {
    "id": "MRy5bYU_1OV4"
   },
   "outputs": [],
   "source": [
    "  "
   ]
  }
 ],
 "metadata": {
  "accelerator": "GPU",
  "celltoolbar": "Tags",
  "colab": {
   "collapsed_sections": [],
   "machine_shape": "hm",
   "name": "Vectorize Your Data with Relevance AI.ipynb",
   "provenance": []
  },
  "interpreter": {
   "hash": "2f37d18d48c838ed4650d00746e8f1f7ae7217fa17e107ee8294938c0787d93b"
  },
  "kernelspec": {
   "display_name": "Python 3",
   "language": "python",
   "name": "python3"
  },
  "language_info": {
   "codemirror_mode": {
    "name": "ipython",
    "version": 3
   },
   "file_extension": ".py",
   "mimetype": "text/x-python",
   "name": "python",
   "nbconvert_exporter": "python",
   "pygments_lexer": "ipython3",
   "version": "3.8.0"
  },
  "name": "Vectorize_Your_Data_with_Relevance_AI"
 },
 "nbformat": 4,
 "nbformat_minor": 1
}

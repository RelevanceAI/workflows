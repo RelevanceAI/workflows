{
 "cells": [
  {
   "cell_type": "code",
   "execution_count": null,
   "metadata": {
    "tags": [
     "parameters"
    ]
   },
   "outputs": [],
   "source": [
    "api_key = \"\"\n",
    "project = \"\"\n",
    "region = \"\"\n",
    "authorizationToken = \"\"\n",
    "\n",
    "dataset_id = \"basic_subclustering\"\n",
    "encode_type = \"text\"\n",
    "model_id = \"mpnet\"\n",
    "fields = [\"product_title\"]"
   ]
  },
  {
   "cell_type": "code",
   "execution_count": null,
   "metadata": {
    "id": "TjROUZqQbiGq"
   },
   "outputs": [],
   "source": [
    "client = Client()\n"
   ]
  },
  {
   "cell_type": "code",
   "execution_count": null,
   "metadata": {
    "id": "MRy5bYU_1OV4"
   },
   "outputs": [],
   "source": [
    "  "
   ]
  }
 ],
 "metadata": {
  "accelerator": "GPU",
  "celltoolbar": "Tags",
  "colab": {
   "collapsed_sections": [],
   "machine_shape": "hm",
   "name": "Vectorize Your Data with Relevance AI.ipynb",
   "provenance": []
  },
  "kernelspec": {
   "display_name": "Python 3",
   "language": "python",
   "name": "python3"
  },
  "language_info": {
   "codemirror_mode": {
    "name": "ipython",
    "version": 3
   },
   "file_extension": ".py",
   "mimetype": "text/x-python",
   "name": "python",
   "nbconvert_exporter": "python",
   "pygments_lexer": "ipython3",
   "version": "3.8.0"
  },
  "name": "Vectorize_Your_Data_with_Relevance_AI"
 },
 "nbformat": 4,
 "nbformat_minor": 1
}

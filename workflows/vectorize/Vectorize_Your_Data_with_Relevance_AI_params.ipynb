{
 "cells": [
  {
   "cell_type": "code",
   "execution_count": 1,
   "metadata": {
    "tags": [
     "parameters"
    ]
   },
   "outputs": [],
   "source": [
    "import os\n",
    "\n",
    "api_key = \"\"\n",
    "project = \"\"\n",
    "region = \"\"\n",
    "authorizationToken = f\"{os.environ['TEST_ACTIVATION_TOKEN']}\" if os.getenv('TEST_ACTIVATION_TOKEN') else \"\"\n",
    "\n",
    "dataset_id = \"dummy-ecommerce-clean\"\n",
    "encode_type = \"image_urls\"\n",
    "model_id = \"clip\"\n",
    "fields = [\"product_image\"]"
   ]
  },
  {
   "cell_type": "code",
   "execution_count": 2,
   "metadata": {
    "id": "TjROUZqQbiGq"
   },
   "outputs": [
    {
     "name": "stdout",
     "output_type": "stream",
     "text": [
      "Installing RelevanceAI ...\n"
     ]
    },
    {
     "ename": "ModuleNotFoundError",
     "evalue": "No module named 'relevanceai'",
     "output_type": "error",
     "traceback": [
      "\u001b[0;31m---------------------------------------------------------------------------\u001b[0m",
      "\u001b[0;31mModuleNotFoundError\u001b[0m                       Traceback (most recent call last)",
      "\u001b[0;32m<ipython-input-2-c18d0f5b93a4>\u001b[0m in \u001b[0;36m<module>\u001b[0;34m\u001b[0m\n\u001b[1;32m      6\u001b[0m \u001b[0mprint\u001b[0m\u001b[0;34m(\u001b[0m\u001b[0;34m\"Installing RelevanceAI ...\"\u001b[0m\u001b[0;34m)\u001b[0m\u001b[0;34m\u001b[0m\u001b[0;34m\u001b[0m\u001b[0m\n\u001b[1;32m      7\u001b[0m \u001b[0;34m\u001b[0m\u001b[0m\n\u001b[0;32m----> 8\u001b[0;31m \u001b[0;32mfrom\u001b[0m \u001b[0mrelevanceai\u001b[0m \u001b[0;32mimport\u001b[0m \u001b[0mClient\u001b[0m\u001b[0;34m\u001b[0m\u001b[0;34m\u001b[0m\u001b[0m\n\u001b[0m\u001b[1;32m      9\u001b[0m \u001b[0mclient\u001b[0m \u001b[0;34m=\u001b[0m \u001b[0mClient\u001b[0m\u001b[0;34m(\u001b[0m\u001b[0mtoken\u001b[0m\u001b[0;34m=\u001b[0m\u001b[0mauthorizationToken\u001b[0m\u001b[0;34m)\u001b[0m\u001b[0;34m\u001b[0m\u001b[0;34m\u001b[0m\u001b[0m\n\u001b[1;32m     10\u001b[0m \u001b[0;34m\u001b[0m\u001b[0m\n",
      "\u001b[0;31mModuleNotFoundError\u001b[0m: No module named 'relevanceai'"
     ]
    }
   ],
   "source": [
    "\n",
    "show_warnings_in_logs = False #@param {type:\"boolean\"}\n",
    "\n",
    "import warnings\n",
    "warnings.filterwarnings('ignore')\n",
    "\n",
    "print(\"Installing RelevanceAI ...\")\n",
    "\n",
    "from relevanceai import Client \n",
    "client = Client(token=authorizationToken)\n",
    "\n",
    "try:\n",
    "    if model_id == 'clip' and encode_type.lower() == 'image_urls':\n",
    "        print(\"Loading CLIP for image ...\")\n",
    "\n",
    "        from vectorhub.bi_encoders.text_image.torch import Clip2Vec\n",
    "        class Model(Clip2Vec):\n",
    "            @property\n",
    "            def __name__(self):\n",
    "                return model_id\n",
    "        enc = Model()\n",
    "        enc.encode = enc.encode_image\n",
    "\n",
    "    elif model_id == 'clip' and encode_type.lower() == 'text':\n",
    "        print(\"Loading CLIP for text ...\")\n",
    "        from vectorhub.bi_encoders.text_image.torch import Clip2Vec\n",
    "        class Model(Clip2Vec):\n",
    "            @property\n",
    "            def __name__(self):\n",
    "                return model_id\n",
    "        enc = Model()\n",
    "        enc.encode = enc.encode_text\n",
    "\n",
    "    elif model_id == 'mpnet':\n",
    "        print(\"Loading mpnet ...\")\n",
    "        from vectorhub.encoders.text.sentence_transformers import SentenceTransformer2Vec\n",
    "        class Model(SentenceTransformer2Vec):\n",
    "            @property\n",
    "            def __name__(self):\n",
    "                return model_id\n",
    "        enc = Model(\"all-mpnet-base-v2\")\n",
    "\n",
    "    elif model_id == 'multiqampnet':\n",
    "        print(\"Loading multiqa mpnet ...\")\n",
    "        from vectorhub.encoders.text.sentence_transformers  import SentenceTransformer2Vec\n",
    "        class Model(SentenceTransformer2Vec):\n",
    "            @property\n",
    "            def __name__(self):\n",
    "                return model_id\n",
    "        enc = Model(\"multi-qa-mpnet-base-dot-v1\")\n",
    "\n",
    "    elif model_id == 'bit':\n",
    "        print(\"Loading Bit ...\")\n",
    "        from vectorhub.encoders.image.tfhub import BitMedium2Vec\n",
    "        class Model(BitMedium2Vec):\n",
    "            @property\n",
    "            def __name__(self):\n",
    "                return model_id\n",
    "        enc = Model()\n",
    "\n",
    "\n",
    "except Exception as e:\n",
    "    print(e)\n",
    "    \n",
    "    raise ValueError(f'{str(e)}')\n",
    "\n",
    "print(\"Finished installing machine learning models and dependencies to vectorize data.\")\n",
    "\n",
    "import os\n",
    "import sys\n",
    "import warnings\n",
    "\n",
    "f = open(os.devnull, 'w')\n",
    "sys.stderr = f\n",
    "\n",
    "import traceback\n",
    "\n",
    "def encode_documents(docs):\n",
    "    try:\n",
    "#       if show_warnings_in_logs:\n",
    "#           with contextlib.redirect_stdout(None):\n",
    "#               with warnings.catch_warnings():\n",
    "#                   warnings.simplefilter(\"ignore\")\n",
    "#                   return enc.encode_documents(fields, docs)\n",
    "      return enc.encode_documents(fields, docs)\n",
    "    except Exception as e:\n",
    "        trc = traceback.format_exc()\n",
    "        error_message = \"Exception during processing: \" + str(e) + \"\\n\" + trc\n",
    "        raise Exception(f\"{error_message}\")\n",
    "\n",
    "print(\"Starting to vectorize your data.\")\n",
    "\n",
    "client.logger.warn = client.logger.warning\n",
    "client.pull_update_push(dataset_id, encode_documents, \n",
    "  show_progress_bar=True, \n",
    "  filters=[{'field' : f,\n",
    "    'filter_type' : 'exists', \n",
    "    \"condition\":\"==\", \n",
    "    \"condition_value\":\"\"} for f in fields], \n",
    "    select_fields=fields, retrieve_chunk_size=500)\n",
    "\n",
    "print(\"Finished vectorizing your data with, you may close this window.\")"
   ]
  },
  {
   "cell_type": "code",
   "execution_count": null,
   "metadata": {
    "id": "MRy5bYU_1OV4"
   },
   "outputs": [],
   "source": [
    "  "
   ]
  }
 ],
 "metadata": {
  "accelerator": "GPU",
  "celltoolbar": "Tags",
  "colab": {
   "collapsed_sections": [],
   "machine_shape": "hm",
   "name": "Vectorize Your Data with Relevance AI.ipynb",
   "provenance": []
  },
  "interpreter": {
   "hash": "2f37d18d48c838ed4650d00746e8f1f7ae7217fa17e107ee8294938c0787d93b"
  },
  "kernelspec": {
   "display_name": "Python 3",
   "language": "python",
   "name": "python3"
  },
  "language_info": {
   "codemirror_mode": {
    "name": "ipython",
    "version": 3
   },
   "file_extension": ".py",
   "mimetype": "text/x-python",
   "name": "python",
   "nbconvert_exporter": "python",
   "pygments_lexer": "ipython3",
   "version": "3.6.9"
  },
  "name": "Vectorize_Your_Data_with_Relevance_AI"
 },
 "nbformat": 4,
 "nbformat_minor": 1
}

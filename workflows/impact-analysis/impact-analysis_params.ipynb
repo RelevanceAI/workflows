{
 "cells": [
  {
   "cell_type": "markdown",
   "metadata": {},
   "source": [
    "<img src=\"https://relevance.ai/wp-content/uploads/2021/11/logo.79f303e-1.svg\" width=\"150\" alt=\"Relevance AI\" />\n",
    "<h5> Developer-first vector platform for ML teams </h5>\n",
    "\n",
    "[![Open In Colab](https://colab.research.google.com/assets/colab-badge.svg)](https://colab.research.google.com/github/RelevanceAI/workflows/blob/main/workflows/impact-analysis/impact-analysis.ipynb)"
   ]
  },
  {
   "cell_type": "markdown",
   "metadata": {
    "id": "SMcjsLmtgN7n"
   },
   "source": [
    "# 😄 Feature Analysis Workflow\n",
    "\n",
    "Feature analysis allows us to explore the impact of vectors or tags or labels on certain parameters. \n",
    "\n",
    "First - let us install everything"
   ]
  },
  {
   "cell_type": "code",
   "execution_count": null,
   "metadata": {
    "colab": {
     "base_uri": "https://localhost:8080/"
    },
    "id": "qF9-rPBpQo9T",
    "outputId": "c1a1e4ef-56a6-4c33-949d-1b0ebae26b32"
   },
   "outputs": [],
   "source": [
    "!pip install -q -U RelevanceAI==2.32.4\n",
    "!pip install -q catboost\n",
    "!pip install -q shap"
   ]
  },
  {
   "cell_type": "markdown",
   "metadata": {
    "id": "iQX24nmjRj3j"
   },
   "source": [
    "# 🧰 Inputs\n",
    "\n",
    "Now let us input everything we require."
   ]
  },
  {
   "cell_type": "code",
   "execution_count": null,
   "metadata": {
    "id": "QWINwj0FQtJN"
   },
   "outputs": [],
   "source": [
    "dataset_id = \"titanic\"\n",
    "vector_field = \"value_vector_\"\n",
    "column_values = ['Pclass', 'Age', 'SibSp', 'Parch', 'Fare', 'male', 'Q', 'S']\n",
    " \n",
    "# This is what produced the vector\n",
    "y = \"Survived\"\n",
    "\n",
    "# Used to determine what document ID it should be\n",
    "document_id = None\n",
    "\n",
    "# Instantiating the client.\n",
    "from relevanceai import Client \n",
    "client = Client()"
   ]
  },
  {
   "cell_type": "code",
   "execution_count": null,
   "metadata": {
    "id": "j8EU1BcAQshz"
   },
   "outputs": [],
   "source": [
    "# Set up data if a user is just running it to see if it works\n",
    "from relevanceai.utils.datasets import get_titanic_dataset\n",
    "if dataset_id == 'titanic':\n",
    "  # Create the vector\n",
    "  docs = get_titanic_dataset()\n",
    "  ds = client.Dataset(dataset_id)\n",
    "  ds.upsert_documents(docs, create_id=True)\n",
    "else:\n",
    "  ds = client.Dataset(dataset_id)"
   ]
  },
  {
   "cell_type": "markdown",
   "metadata": {
    "id": "0o_Z27QhQxfK"
   },
   "source": [
    "# 👷 Feature Analysis On 1 Observation\n"
   ]
  },
  {
   "cell_type": "code",
   "execution_count": null,
   "metadata": {
    "colab": {
     "base_uri": "https://localhost:8080/",
     "height": 49,
     "referenced_widgets": [
      "46945ad157de4bb2b710d6fb34d74315",
      "9bb7f2c963b24565b3596cf0d12a93cc",
      "88af040785a24173a8c312b119f42e97",
      "800094ad17b4433885a679f27e15b6c1",
      "a4050e2aa3a4417a86c52b12650670de",
      "9033bdc404354332a480018ea7d3b28b",
      "9f3782725ab64332baf581ecaa8578c1",
      "20ce2c055db14d088f6bd10d3bd7fa53",
      "6db8486de32e45a1be8f3776516278f2",
      "18a205e45665458d9b67cdbb09b8064b",
      "f8c76c6510e04439b8ad4dacde7e4a2d"
     ]
    },
    "id": "-bCDacUmQxKQ",
    "outputId": "2adaf926-9470-4fc1-d993-54dd88937eab"
   },
   "outputs": [],
   "source": [
    "docs = ds.get_all_documents(select_fields=[vector_field, y])"
   ]
  },
  {
   "cell_type": "code",
   "execution_count": null,
   "metadata": {
    "id": "P-3DdgGUQ5CI"
   },
   "outputs": [],
   "source": [
    "import numpy as np\n",
    "from catboost import CatBoostClassifier, Pool\n",
    "X = ds.get_field_across_documents(vector_field, docs)\n",
    "train_data = np.array(X)\n",
    "label = ds.get_field_across_documents(y, docs)"
   ]
  },
  {
   "cell_type": "code",
   "execution_count": null,
   "metadata": {
    "colab": {
     "base_uri": "https://localhost:8080/"
    },
    "id": "KHCIm-lgQ52g",
    "outputId": "fe4cd11a-e9a7-4878-89ea-eeb804032d93"
   },
   "outputs": [],
   "source": [
    "test_data = catboost_pool = Pool(train_data, label)\n",
    "# Modify this if you want to play around with more parameters\n",
    "model = CatBoostClassifier(\n",
    "    iterations=2,\n",
    "    depth=2,\n",
    "    learning_rate=1,\n",
    "    loss_function='Logloss',\n",
    "    verbose=True)\n",
    "\n",
    "model.fit(train_data, label)"
   ]
  },
  {
   "cell_type": "markdown",
   "metadata": {
    "id": "vpvt5qxqTKtB"
   },
   "source": [
    "# 📑 Feature Importance\n",
    "\n",
    "Feature importance allows us to determine the most important columns. "
   ]
  },
  {
   "cell_type": "markdown",
   "metadata": {
    "id": "XFRo3f-ST2Gt"
   },
   "source": [
    "## Feature Importance As A Table"
   ]
  },
  {
   "cell_type": "code",
   "execution_count": null,
   "metadata": {
    "colab": {
     "base_uri": "https://localhost:8080/",
     "height": 297
    },
    "id": "xRv9aZS_Thbw",
    "outputId": "66ea1be2-56b5-46dd-dbaf-c147646fb566"
   },
   "outputs": [],
   "source": [
    "import pandas as pd\n",
    "pd.DataFrame({'feature_importance': model.get_feature_importance(catboost_pool), \n",
    "              'feature_names': column_values}).sort_values(by=['feature_importance'], ascending=False)"
   ]
  },
  {
   "cell_type": "markdown",
   "metadata": {
    "id": "Bcf8C58kT4El"
   },
   "source": [
    "## Feature Importance As A Chart "
   ]
  },
  {
   "cell_type": "code",
   "execution_count": null,
   "metadata": {
    "colab": {
     "base_uri": "https://localhost:8080/",
     "height": 318
    },
    "id": "gsbzDiFoV11o",
    "outputId": "60dd3a21-2446-445e-f9b6-bda173faea27"
   },
   "outputs": [],
   "source": [
    "pd.DataFrame({'feature_importance': model.get_feature_importance(catboost_pool), \n",
    "              'feature_names': column_values}).sort_values(by=['feature_importance'], \n",
    "                                ascending=False).set_index(\"feature_names\").plot(kind='bar')"
   ]
  },
  {
   "cell_type": "markdown",
   "metadata": {
    "id": "U4OHWefNV1f2"
   },
   "source": [
    "# 📋 Observation Level Explanations\n",
    "## Preprocessing"
   ]
  },
  {
   "cell_type": "code",
   "execution_count": null,
   "metadata": {
    "id": "-a-fI9vZQ8NU"
   },
   "outputs": [],
   "source": [
    "import pandas as pd\n",
    "import shap\n",
    "shap_df = pd.DataFrame(train_data)\n",
    "shap_df.columns = column_values\n",
    "shap_df.index = [d['_id'] for d in docs]\n",
    "if document_id is None:\n",
    "  # Choose a random ID for now\n",
    "  document_id = docs[20]['_id']\n",
    "\n",
    "explainer = shap.TreeExplainer(model)\n",
    "shap_values = explainer.shap_values(shap_df)\n",
    "for i, d in enumerate(docs):\n",
    "    d['shap_vector_'] = shap_values[i]\n",
    "ds.upsert_documents(docs)\n",
    "doc = ds.get(document_id)\n",
    "expected_value = explainer.expected_value\n",
    "ds.insert_metadata({\"shap_expected_value\": expected_value})\n",
    "print(\"Now we are ready!\")"
   ]
  },
  {
   "cell_type": "markdown",
   "metadata": {
    "id": "4imo-ihxVy2-"
   },
   "source": [
    "## Plotting By Observation"
   ]
  },
  {
   "cell_type": "code",
   "execution_count": null,
   "metadata": {
    "colab": {
     "base_uri": "https://localhost:8080/",
     "height": 193
    },
    "id": "u_MzzNYFRJqT",
    "outputId": "1219aac2-b425-4856-d432-26a57732d0dc"
   },
   "outputs": [],
   "source": [
    "# warning make sure\n",
    "shap.initjs()\n",
    "metadata = ds.metadata\n",
    "expected_value = metadata['shap_expected_value']\n",
    "shap.force_plot(expected_value, np.array(doc['document']['shap_vector_']), feature_names=column_values)"
   ]
  },
  {
   "cell_type": "markdown",
   "metadata": {
    "id": "O4oRNawo1lBT"
   },
   "source": [
    "# 🌇 Next Steps\n",
    "\n",
    "This is just a quick tutorial on Relevance AI, there are many more applications that is possible such as zero-shot based labelling, recommendations, anomaly detection, projector and more:\n",
    "\n",
    "- Explore our platform and check out new workflows at https://cloud.relevance.ai\n",
    "- There are more indepth tutorials and guides at https://docs.relevance.ai\n",
    "- There are detailed library references at https://relevanceai.readthedocs.io/\n",
    "- Join our slack community at https://join.slack.com/t/relevance-ai/shared_invite/zt-11fo8oush-dHPd57wamhoQ7J5arNv1mg"
   ]
  }
 ],
 "metadata": {
  "colab": {
   "collapsed_sections": [],
   "name": "Feature Analysis WorkFlow On Vectors ",
   "provenance": [],
   "toc_visible": true
  },
  "kernelspec": {
   "display_name": "Python 3",
   "name": "python3"
  },
  "language_info": {
   "name": "python"
  },
  "widgets": {
   "application/vnd.jupyter.widget-state+json": {
    "18a205e45665458d9b67cdbb09b8064b": {
     "model_module": "@jupyter-widgets/controls",
     "model_module_version": "1.5.0",
     "model_name": "DescriptionStyleModel",
     "state": {
      "_model_module": "@jupyter-widgets/controls",
      "_model_module_version": "1.5.0",
      "_model_name": "DescriptionStyleModel",
      "_view_count": null,
      "_view_module": "@jupyter-widgets/base",
      "_view_module_version": "1.2.0",
      "_view_name": "StyleView",
      "description_width": ""
     }
    },
    "20ce2c055db14d088f6bd10d3bd7fa53": {
     "model_module": "@jupyter-widgets/controls",
     "model_module_version": "1.5.0",
     "model_name": "ProgressStyleModel",
     "state": {
      "_model_module": "@jupyter-widgets/controls",
      "_model_module_version": "1.5.0",
      "_model_name": "ProgressStyleModel",
      "_view_count": null,
      "_view_module": "@jupyter-widgets/base",
      "_view_module_version": "1.2.0",
      "_view_name": "StyleView",
      "bar_color": null,
      "description_width": ""
     }
    },
    "46945ad157de4bb2b710d6fb34d74315": {
     "model_module": "@jupyter-widgets/controls",
     "model_module_version": "1.5.0",
     "model_name": "HBoxModel",
     "state": {
      "_dom_classes": [],
      "_model_module": "@jupyter-widgets/controls",
      "_model_module_version": "1.5.0",
      "_model_name": "HBoxModel",
      "_view_count": null,
      "_view_module": "@jupyter-widgets/controls",
      "_view_module_version": "1.5.0",
      "_view_name": "HBoxView",
      "box_style": "",
      "children": [
       "IPY_MODEL_88af040785a24173a8c312b119f42e97",
       "IPY_MODEL_800094ad17b4433885a679f27e15b6c1",
       "IPY_MODEL_a4050e2aa3a4417a86c52b12650670de"
      ],
      "layout": "IPY_MODEL_9bb7f2c963b24565b3596cf0d12a93cc"
     }
    },
    "6db8486de32e45a1be8f3776516278f2": {
     "model_module": "@jupyter-widgets/base",
     "model_module_version": "1.2.0",
     "model_name": "LayoutModel",
     "state": {
      "_model_module": "@jupyter-widgets/base",
      "_model_module_version": "1.2.0",
      "_model_name": "LayoutModel",
      "_view_count": null,
      "_view_module": "@jupyter-widgets/base",
      "_view_module_version": "1.2.0",
      "_view_name": "LayoutView",
      "align_content": null,
      "align_items": null,
      "align_self": null,
      "border": null,
      "bottom": null,
      "display": null,
      "flex": null,
      "flex_flow": null,
      "grid_area": null,
      "grid_auto_columns": null,
      "grid_auto_flow": null,
      "grid_auto_rows": null,
      "grid_column": null,
      "grid_gap": null,
      "grid_row": null,
      "grid_template_areas": null,
      "grid_template_columns": null,
      "grid_template_rows": null,
      "height": null,
      "justify_content": null,
      "justify_items": null,
      "left": null,
      "margin": null,
      "max_height": null,
      "max_width": null,
      "min_height": null,
      "min_width": null,
      "object_fit": null,
      "object_position": null,
      "order": null,
      "overflow": null,
      "overflow_x": null,
      "overflow_y": null,
      "padding": null,
      "right": null,
      "top": null,
      "visibility": null,
      "width": null
     }
    },
    "800094ad17b4433885a679f27e15b6c1": {
     "model_module": "@jupyter-widgets/controls",
     "model_module_version": "1.5.0",
     "model_name": "FloatProgressModel",
     "state": {
      "_dom_classes": [],
      "_model_module": "@jupyter-widgets/controls",
      "_model_module_version": "1.5.0",
      "_model_name": "FloatProgressModel",
      "_view_count": null,
      "_view_module": "@jupyter-widgets/controls",
      "_view_module_version": "1.5.0",
      "_view_name": "ProgressView",
      "bar_style": "success",
      "description": "",
      "description_tooltip": null,
      "layout": "IPY_MODEL_6db8486de32e45a1be8f3776516278f2",
      "max": 1,
      "min": 0,
      "orientation": "horizontal",
      "style": "IPY_MODEL_20ce2c055db14d088f6bd10d3bd7fa53",
      "value": 1
     }
    },
    "88af040785a24173a8c312b119f42e97": {
     "model_module": "@jupyter-widgets/controls",
     "model_module_version": "1.5.0",
     "model_name": "HTMLModel",
     "state": {
      "_dom_classes": [],
      "_model_module": "@jupyter-widgets/controls",
      "_model_module_version": "1.5.0",
      "_model_name": "HTMLModel",
      "_view_count": null,
      "_view_module": "@jupyter-widgets/controls",
      "_view_module_version": "1.5.0",
      "_view_name": "HTMLView",
      "description": "",
      "description_tooltip": null,
      "layout": "IPY_MODEL_9f3782725ab64332baf581ecaa8578c1",
      "placeholder": "​",
      "style": "IPY_MODEL_9033bdc404354332a480018ea7d3b28b",
      "value": "100%"
     }
    },
    "9033bdc404354332a480018ea7d3b28b": {
     "model_module": "@jupyter-widgets/controls",
     "model_module_version": "1.5.0",
     "model_name": "DescriptionStyleModel",
     "state": {
      "_model_module": "@jupyter-widgets/controls",
      "_model_module_version": "1.5.0",
      "_model_name": "DescriptionStyleModel",
      "_view_count": null,
      "_view_module": "@jupyter-widgets/base",
      "_view_module_version": "1.2.0",
      "_view_name": "StyleView",
      "description_width": ""
     }
    },
    "9bb7f2c963b24565b3596cf0d12a93cc": {
     "model_module": "@jupyter-widgets/base",
     "model_module_version": "1.2.0",
     "model_name": "LayoutModel",
     "state": {
      "_model_module": "@jupyter-widgets/base",
      "_model_module_version": "1.2.0",
      "_model_name": "LayoutModel",
      "_view_count": null,
      "_view_module": "@jupyter-widgets/base",
      "_view_module_version": "1.2.0",
      "_view_name": "LayoutView",
      "align_content": null,
      "align_items": null,
      "align_self": null,
      "border": null,
      "bottom": null,
      "display": null,
      "flex": null,
      "flex_flow": null,
      "grid_area": null,
      "grid_auto_columns": null,
      "grid_auto_flow": null,
      "grid_auto_rows": null,
      "grid_column": null,
      "grid_gap": null,
      "grid_row": null,
      "grid_template_areas": null,
      "grid_template_columns": null,
      "grid_template_rows": null,
      "height": null,
      "justify_content": null,
      "justify_items": null,
      "left": null,
      "margin": null,
      "max_height": null,
      "max_width": null,
      "min_height": null,
      "min_width": null,
      "object_fit": null,
      "object_position": null,
      "order": null,
      "overflow": null,
      "overflow_x": null,
      "overflow_y": null,
      "padding": null,
      "right": null,
      "top": null,
      "visibility": null,
      "width": null
     }
    },
    "9f3782725ab64332baf581ecaa8578c1": {
     "model_module": "@jupyter-widgets/base",
     "model_module_version": "1.2.0",
     "model_name": "LayoutModel",
     "state": {
      "_model_module": "@jupyter-widgets/base",
      "_model_module_version": "1.2.0",
      "_model_name": "LayoutModel",
      "_view_count": null,
      "_view_module": "@jupyter-widgets/base",
      "_view_module_version": "1.2.0",
      "_view_name": "LayoutView",
      "align_content": null,
      "align_items": null,
      "align_self": null,
      "border": null,
      "bottom": null,
      "display": null,
      "flex": null,
      "flex_flow": null,
      "grid_area": null,
      "grid_auto_columns": null,
      "grid_auto_flow": null,
      "grid_auto_rows": null,
      "grid_column": null,
      "grid_gap": null,
      "grid_row": null,
      "grid_template_areas": null,
      "grid_template_columns": null,
      "grid_template_rows": null,
      "height": null,
      "justify_content": null,
      "justify_items": null,
      "left": null,
      "margin": null,
      "max_height": null,
      "max_width": null,
      "min_height": null,
      "min_width": null,
      "object_fit": null,
      "object_position": null,
      "order": null,
      "overflow": null,
      "overflow_x": null,
      "overflow_y": null,
      "padding": null,
      "right": null,
      "top": null,
      "visibility": null,
      "width": null
     }
    },
    "a4050e2aa3a4417a86c52b12650670de": {
     "model_module": "@jupyter-widgets/controls",
     "model_module_version": "1.5.0",
     "model_name": "HTMLModel",
     "state": {
      "_dom_classes": [],
      "_model_module": "@jupyter-widgets/controls",
      "_model_module_version": "1.5.0",
      "_model_name": "HTMLModel",
      "_view_count": null,
      "_view_module": "@jupyter-widgets/controls",
      "_view_module_version": "1.5.0",
      "_view_name": "HTMLView",
      "description": "",
      "description_tooltip": null,
      "layout": "IPY_MODEL_f8c76c6510e04439b8ad4dacde7e4a2d",
      "placeholder": "​",
      "style": "IPY_MODEL_18a205e45665458d9b67cdbb09b8064b",
      "value": " 1/1 [00:00&lt;00:00,  4.42it/s]"
     }
    },
    "f8c76c6510e04439b8ad4dacde7e4a2d": {
     "model_module": "@jupyter-widgets/base",
     "model_module_version": "1.2.0",
     "model_name": "LayoutModel",
     "state": {
      "_model_module": "@jupyter-widgets/base",
      "_model_module_version": "1.2.0",
      "_model_name": "LayoutModel",
      "_view_count": null,
      "_view_module": "@jupyter-widgets/base",
      "_view_module_version": "1.2.0",
      "_view_name": "LayoutView",
      "align_content": null,
      "align_items": null,
      "align_self": null,
      "border": null,
      "bottom": null,
      "display": null,
      "flex": null,
      "flex_flow": null,
      "grid_area": null,
      "grid_auto_columns": null,
      "grid_auto_flow": null,
      "grid_auto_rows": null,
      "grid_column": null,
      "grid_gap": null,
      "grid_row": null,
      "grid_template_areas": null,
      "grid_template_columns": null,
      "grid_template_rows": null,
      "height": null,
      "justify_content": null,
      "justify_items": null,
      "left": null,
      "margin": null,
      "max_height": null,
      "max_width": null,
      "min_height": null,
      "min_width": null,
      "object_fit": null,
      "object_position": null,
      "order": null,
      "overflow": null,
      "overflow_x": null,
      "overflow_y": null,
      "padding": null,
      "right": null,
      "top": null,
      "visibility": null,
      "width": null
     }
    }
   }
  }
 },
 "nbformat": 4,
 "nbformat_minor": 0
}

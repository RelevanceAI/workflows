{
 "cells": [
  {
   "cell_type": "code",
   "execution_count": 5,
   "id": "1d265e78",
   "metadata": {},
   "outputs": [
    {
     "name": "stdout",
     "output_type": "stream",
     "text": [
      "Activation token (you can find it here: https://cloud.relevance.ai/sdk/api )\n",
      "Activation token:········\n",
      "Connecting to us-east-1...\n",
      "Welcome to RelevanceAI. Logged in as 334fe5fb667b3a64dada.\n"
     ]
    }
   ],
   "source": [
    "from relevanceai import Client \n",
    "client = Client(force_refresh=True)"
   ]
  },
  {
   "cell_type": "code",
   "execution_count": 9,
   "id": "c765bd62",
   "metadata": {},
   "outputs": [],
   "source": [
    "ds = client.Dataset('sample')"
   ]
  },
  {
   "cell_type": "code",
   "execution_count": 34,
   "id": "2b38a330",
   "metadata": {},
   "outputs": [],
   "source": [
    "labels = [{\"label\": \"value\", \"score\": 0.42, \"y\": 0.1}, \n",
    "          {\"label\": \"score\", \"score\": 0.1, \"y\": 0.5},\n",
    "          {\"label\": \"value\", \"score\": 0.35, \"y\": 0.3}]"
   ]
  },
  {
   "cell_type": "code",
   "execution_count": 39,
   "id": "509d3a33",
   "metadata": {},
   "outputs": [],
   "source": [
    "labels = [\n",
    "    {\"value\": 0.45, \"y\": 0.1},\n",
    "    {\"value\": 0.45, \"y\": 0.5},\n",
    "    {\"score\": 0.1, \"y\": 0.3}\n",
    "]"
   ]
  },
  {
   "cell_type": "code",
   "execution_count": 81,
   "id": "c7df3574",
   "metadata": {},
   "outputs": [],
   "source": [
    "from sklearn.feature_extraction import DictVectorizer\n",
    "vec = DictVectorizer(sparse=False)\n",
    "X = vec.fit_transform(labels, )\n",
    "y = X[:, -1]\n",
    "new_X = X[:, :-1]"
   ]
  },
  {
   "cell_type": "code",
   "execution_count": 122,
   "id": "0d9a3c0a",
   "metadata": {},
   "outputs": [
    {
     "data": {
      "text/plain": [
       "<BarContainer object of 2 artists>"
      ]
     },
     "execution_count": 122,
     "metadata": {},
     "output_type": "execute_result"
    },
    {
     "data": {
      "image/png": "[encoded data removed]",
      "text/plain": [
       "<Figure size 432x288 with 1 Axes>"
      ]
     },
     "metadata": {
      "needs_background": "light"
     },
     "output_type": "display_data"
    }
   ],
   "source": [
    "from sklearn.linear_model import LinearRegression\n",
    "model = LinearRegression()\n",
    "model.fit(new_X, y)\n",
    "model.predict(new_X)\n",
    "import matplotlib.pyplot as plt\n",
    "plt.bar(vec.feature_names_[:-1], model.coef_)"
   ]
  },
  {
   "cell_type": "code",
   "execution_count": null,
   "id": "79239051",
   "metadata": {},
   "outputs": [],
   "source": []
  }
 ],
 "metadata": {
  "kernelspec": {
   "display_name": "Python 3",
   "language": "python",
   "name": "python3"
  },
  "language_info": {
   "codemirror_mode": {
    "name": "ipython",
    "version": 3
   },
   "file_extension": ".py",
   "mimetype": "text/x-python",
   "name": "python",
   "nbconvert_exporter": "python",
   "pygments_lexer": "ipython3",
   "version": "3.7.10"
  },
  "toc": {
   "base_numbering": 1,
   "nav_menu": {},
   "number_sections": true,
   "sideBar": true,
   "skip_h1_title": false,
   "title_cell": "Table of Contents",
   "title_sidebar": "Contents",
   "toc_cell": false,
   "toc_position": {},
   "toc_section_display": true,
   "toc_window_display": false
  }
 },
 "nbformat": 4,
 "nbformat_minor": 5
}

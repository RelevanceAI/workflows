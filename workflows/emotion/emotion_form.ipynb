{
 "cells": [
  {
   "cell_type": "markdown",
   "metadata": {
    "id": "7FrcK2yt-_5p"
   },
   "source": [
    "<img src=\"https://relevance.ai/wp-content/uploads/2021/11/logo.79f303e-1.svg\" width=\"150\" alt=\"Relevance AI\" />\n",
    "<h5> Developer-first vector platform for ML teams </h5>\n",
    "\n",
    "[![Open In Colab](https://colab.research.google.com/assets/colab-badge.svg)](https://colab.research.google.com/github/RelevanceAI/workflows/blob/main/workflows/emotion/emotion_form.ipynb)\n"
   ]
  },
  {
   "cell_type": "markdown",
   "metadata": {
    "id": "j72LHGmFwLiZ"
   },
   "source": [
    "# Emotion Class 🙂😐😠"
   ]
  },
  {
   "cell_type": "code",
   "execution_count": null,
   "metadata": {
    "id": "8xiwJyB8pWqj"
   },
   "outputs": [],
   "source": [
    "#@markdown  Name of the dataset \n",
    "dataset_id = 'emotion-experience'       #@param  {type:\"string\"}   \n",
    "\n",
    "#@markdown Field to process for emotion\n",
    "input_field = 'product_title'        #@param  {type:\"string\"}     \n",
    "\n",
    "#@markdown Name of the field to save the emotion results\n",
    "output_field = \"product_title_emotion\"  #@param  {type:\"string\"}   \n",
    "\n",
    "#@markdown  Any transformer model trained for emotion recognition\n",
    "model_name = \"joeddav/distilbert-base-uncased-go-emotions-student\"  \n",
    "\n",
    "\n",
    "!pip install -U RelevanceAI==2.3.5\n",
    "!pip install transformers==4.18.0\n",
    "!pip install sentence_transformers==2.2.0\n",
    "\n",
    "from relevanceai import Client\n",
    "\n",
    "client = Client(token=token)\n",
    "\n",
    "from typing import List\n",
    "from transformers import pipeline\n",
    "\n",
    "class Emotion:\n",
    "  def __init__(self, model_name: str = \"joeddav/distilbert-base-uncased-go-emotions-student\"):\n",
    "    self.emotion = pipeline('sentiment-analysis', model_name)\n",
    "\n",
    "  def add_emotion_field(self, docs:List, input_field:str, output_field:str):\n",
    "    idx = []\n",
    "    text_data = []\n",
    "    for i, doc in enumerate(docs):\n",
    "      if input_field in doc and doc[input_field]:\n",
    "        idx.append(i)\n",
    "        text_data.append(doc[input_field])\n",
    "    emotion_res = self.emotion(text_data)\n",
    "\n",
    "    for i, ix in enumerate(idx):\n",
    "      docs[ix][output_field] = emotion_res[i]['label']\n",
    "\n",
    "    return docs\n",
    "  \n",
    "\n",
    "em = Emotion(model_name)\n",
    "\n",
    "ds = client.Dataset(dataset_id)\n",
    "docs = ds.get_all_documents()\n",
    "\n",
    "docs = em.add_emotion_field(docs, input_field, output_field)"
   ]
  }
 ],
 "metadata": {
  "colab": {
   "collapsed_sections": [],
   "name": "emotion.ipynb",
   "provenance": [],
   "toc_visible": true
  },
  "kernelspec": {
   "display_name": "Python 3.8.13 ('.venv': venv)",
   "language": "python",
   "name": "python3"
  },
  "language_info": {
   "name": "python",
   "version": "3.8.13"
  },
  "vscode": {
   "interpreter": {
    "hash": "33129f74f752ccabd3d30d5a3c12b8abaa2090964a9fe96b4e55e8471d1aefbe"
   }
  }
 },
 "nbformat": 4,
 "nbformat_minor": 0
}

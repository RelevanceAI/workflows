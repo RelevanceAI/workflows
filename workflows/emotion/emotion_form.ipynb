{
 "cells": [
  {
   "cell_type": "markdown",
   "metadata": {
    "id": "7FrcK2yt-_5p"
   },
   "source": [
    "<img src=\"https://relevance.ai/wp-content/uploads/2021/11/logo.79f303e-1.svg\" width=\"150\" alt=\"Relevance AI\" />\n",
    "<h5> Developer-first vector platform for ML teams </h5>\n",
    "\n",
    "[![Open In Colab](https://colab.research.google.com/assets/colab-badge.svg)](https://colab.research.google.com/github/RelevanceAI/workflows/blob/main/workflows/emotion/emotion_form.ipynb)\n"
   ]
  },
  {
   "cell_type": "markdown",
   "metadata": {
    "id": "j72LHGmFwLiZ"
   },
   "source": [
    "# Emotion Class 🙂😐😠"
   ]
  },
  {
   "cell_type": "code",
   "execution_count": null,
   "metadata": {
    "id": "8xiwJyB8pWqj"
   },
   "outputs": [],
   "source": [
    "#@title After filling this form, press the top left button.\n",
    "# You can grab your token here https://cloud.relevance.ai/sdk/api\n",
    "\n",
    "#@markdown  Name of the dataset \n",
    "token = \"<copy paste from https://cloud.relevance.ai/sdk/api>\"#@param  {type:\"string\"}  \n",
    "\n",
    "#@markdown  Name of the dataset \n",
    "dataset_id = 'emotion-experience'       #@param  {type:\"string\"}   \n",
    "\n",
    "#@markdown Field to process for emotion\n",
    "text_fields = 'product_title'        #@param  {type:\"string\"}     \n",
    "\n",
    "#@markdown  Any transformer model trained for emotion recognition\n",
    "model_name = \"joeddav/distilbert-base-uncased-go-emotions-student\"   #@param  {type:\"string\"}   \n",
    "\n",
    "\n",
    "!pip install -U RelevanceAI==2.4.0\n",
    "!pip install transformers==4.18.0\n",
    "!pip install sentence_transformers==2.2.0\n",
    "\n",
    "def strip_empty_string(list):\n",
    "  without_empty_strings = []\n",
    "  for string in list:\n",
    "    if (string != ''):\n",
    "        without_empty_strings.append(string.strip())\n",
    "  return without_empty_strings\n",
    "\n",
    "text_fields = strip_empty_string(text_fields.split(','))\n",
    "\n",
    "\n",
    "from relevanceai import Client\n",
    "\n",
    "client = Client(token=token)\n",
    "\n",
    "ds = client.Dataset(dataset_id)\n",
    "\n",
    "ds.extract_emotion(\n",
    "    text_fields = text_fields,\n",
    "    model_name = model_name\n"
   ]
  }
 ],
 "metadata": {
  "colab": {
   "collapsed_sections": [],
   "name": "emotion.ipynb",
   "provenance": [],
   "toc_visible": true
  },
  "kernelspec": {
   "display_name": "Python 3 (ipykernel)",
   "language": "python",
   "name": "python3"
  },
  "language_info": {
   "codemirror_mode": {
    "name": "ipython",
    "version": 3
   },
   "file_extension": ".py",
   "mimetype": "text/x-python",
   "name": "python",
   "nbconvert_exporter": "python",
   "pygments_lexer": "ipython3",
   "version": "3.8.13"
  },
  "vscode": {
   "interpreter": {
    "hash": "33129f74f752ccabd3d30d5a3c12b8abaa2090964a9fe96b4e55e8471d1aefbe"
   }
  }
 },
 "nbformat": 4,
 "nbformat_minor": 1
}

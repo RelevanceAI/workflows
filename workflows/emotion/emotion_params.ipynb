{
 "cells": [
  {
   "cell_type": "markdown",
   "metadata": {
    "id": "7FrcK2yt-_5p"
   },
   "source": [
    "<img src=\"https://relevance.ai/wp-content/uploads/2021/11/logo.79f303e-1.svg\" width=\"150\" alt=\"Relevance AI\" />\n",
    "<h5> Developer-first vector platform for ML teams </h5>\n",
    "\n",
    "[![Open In Colab](https://colab.research.google.com/assets/colab-badge.svg)](https://colab.research.google.com/github/RelevanceAI/workflows/blob/main/workflows/emotion/emotion.ipynb)\n"
   ]
  },
  {
   "cell_type": "code",
   "execution_count": null,
   "metadata": {
    "id": "ELfjJUBpo1ix",
    "tags": [
     "parameters"
    ]
   },
   "outputs": [],
   "source": [
    "token = \"\""
   ]
  },
  {
   "cell_type": "code",
   "execution_count": null,
   "metadata": {},
   "outputs": [],
   "source": [
    "# because we don't know how to set env variables\n",
    "try:\n",
    "    import os\n",
    "    os.environ[\"WORKFLOW_ID\"] = job_id\n",
    "except Exception as e:\n",
    "    print(e)\n",
    "    pass"
   ]
  },
  {
   "cell_type": "code",
   "execution_count": null,
   "metadata": {
    "id": "26ijLj2yr_oJ"
   },
   "outputs": [],
   "source": [
    "from relevanceai.utils import decode_workflow_token\n",
    "config = decode_workflow_token(token)\n",
    "authorizationToken = config['authorizationToken']\n",
    "text_fields = config['text_field']\n",
    "dataset_id = config['dataset_id']\n",
    "model_name = config['model_id']\n",
    "output_fields = config.get('output_fields')\n",
    "\n",
    "from relevanceai import Client \n",
    "client = Client(token=authorizationToken)\n",
    "ds = client.Dataset(dataset_id)\n",
    "\n",
    "ds.extract_emotion(\n",
    "    text_fields=[text_fields],\n",
    "    model_name=model_name,\n",
    "    output_fields=output_fields\n",
    ")\n"
   ]
  }
 ],
 "metadata": {
  "celltoolbar": "Tags",
  "colab": {
   "collapsed_sections": [],
   "name": "emotion.ipynb",
   "provenance": [],
   "toc_visible": true
  },
  "kernelspec": {
   "display_name": "Python 3 (ipykernel)",
   "language": "python",
   "name": "python3"
  },
  "language_info": {
   "codemirror_mode": {
    "name": "ipython",
    "version": 3
   },
   "file_extension": ".py",
   "mimetype": "text/x-python",
   "name": "python",
   "nbconvert_exporter": "python",
   "pygments_lexer": "ipython3",
   "version": "3.9.12"
  },
  "toc": {
   "base_numbering": 1,
   "nav_menu": {},
   "number_sections": true,
   "sideBar": true,
   "skip_h1_title": false,
   "title_cell": "Table of Contents",
   "title_sidebar": "Contents",
   "toc_cell": false,
   "toc_position": {},
   "toc_section_display": true,
   "toc_window_display": false
  },
  "vscode": {
   "interpreter": {
    "hash": "33129f74f752ccabd3d30d5a3c12b8abaa2090964a9fe96b4e55e8471d1aefbe"
   }
  }
 },
 "nbformat": 4,
 "nbformat_minor": 1
}

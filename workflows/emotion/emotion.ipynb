{
  "cells": [
    {
      "cell_type": "markdown",
      "metadata": {
        "id": "DbMZBw1ioRzP"
      },
      "source": [
        "# Installation ⚡"
      ]
    },
    {
      "cell_type": "code",
      "execution_count": null,
      "metadata": {
        "id": "oMVEUJhXoFAJ"
      },
      "outputs": [],
      "source": [
        "! pip install -U RelevanceAI\n",
        "! pip install transformers\n",
        "! pip install sentence_transformers"
      ]
    },
    {
      "cell_type": "markdown",
      "metadata": {
        "id": "b57MvDWloeT7"
      },
      "source": [
        "# Setup 🛠"
      ]
    },
    {
      "cell_type": "markdown",
      "metadata": {
        "id": "YLC2ET03oz16"
      },
      "source": [
        "## Client 🤖"
      ]
    },
    {
      "cell_type": "code",
      "execution_count": null,
      "metadata": {
        "id": "ELfjJUBpo1ix"
      },
      "outputs": [],
      "source": [
        "from relevanceai import Client\n",
        "\n",
        "client = Client()"
      ]
    },
    {
      "cell_type": "markdown",
      "metadata": {
        "id": "sXmg8qYbouav"
      },
      "source": [
        "## Variables 🗒"
      ]
    },
    {
      "cell_type": "code",
      "execution_count": 4,
      "metadata": {
        "id": "L2kvgFfsoMe9"
      },
      "outputs": [],
      "source": [
        "input_field = 'product_title'               # Field to process for emotion\n",
        "output_field = f\"{input_field}_emotion\"     # Name of the field to save the emotion results\n",
        "dataset_id = 'emotion-experience'           # Name of the dataset to upload the data to\n",
        "\n",
        "model_name = \"joeddav/distilbert-base-uncased-go-emotions-student\"  #  any transformer model trained for emotion recognition"
      ]
    },
    {
      "cell_type": "markdown",
      "metadata": {
        "id": "j72LHGmFwLiZ"
      },
      "source": [
        "# Emotion Class 🙂😐😠"
      ]
    },
    {
      "cell_type": "code",
      "execution_count": 9,
      "metadata": {
        "id": "8xiwJyB8pWqj"
      },
      "outputs": [],
      "source": [
        "from typing import List\n",
        "from transformers import pipeline\n",
        "\n",
        "class Emotion:\n",
        "  def __init__(self, model_name:str = \"joeddav/distilbert-base-uncased-go-emotions-student\"):\n",
        "    self.emotion = pipeline('sentiment-analysis', model_name)\n",
        "\n",
        "  def add_emotion_field(self, docs:List, input_field:str, output_field:str):\n",
        "    idx = []\n",
        "    text_data = []\n",
        "    for i, doc in enumerate(docs):\n",
        "      if input_field in doc and doc[input_field]:\n",
        "        idx.append(i)\n",
        "        text_data.append(doc[input_field])\n",
        "    emotion_res = self.emotion(text_data)\n",
        "\n",
        "    for i, ix in enumerate(idx):\n",
        "      docs[ix][output_field] = emotion_res[i]['label']\n",
        "\n",
        "    return docs"
      ]
    },
    {
      "cell_type": "code",
      "execution_count": 10,
      "metadata": {
        "id": "26ijLj2yr_oJ"
      },
      "outputs": [],
      "source": [
        "em = Emotion(model_name)"
      ]
    },
    {
      "cell_type": "markdown",
      "metadata": {
        "id": "nXoDUE7qxGeK"
      },
      "source": [
        "# Data 📚"
      ]
    },
    {
      "cell_type": "code",
      "execution_count": null,
      "metadata": {
        "colab": {
          "base_uri": "https://localhost:8080/"
        },
        "id": "zTB7w2kBs0JN",
        "outputId": "8ab156b7-d31b-40ba-e3d0-a08d055b5b99"
      },
      "outputs": [],
      "source": [
        "from relevanceai.utils.datasets import get_ecommerce_dataset_clean\n",
        "\n",
        "docs = get_ecommerce_dataset_clean()\n",
        "len(docs)"
      ]
    },
    {
      "cell_type": "markdown",
      "metadata": {
        "id": "90wsEItsz3Sm"
      },
      "source": [
        "# Add emotion field to data ✨"
      ]
    },
    {
      "cell_type": "code",
      "execution_count": 12,
      "metadata": {
        "id": "Y2eYZ_T9xLbC"
      },
      "outputs": [],
      "source": [
        "docs = em.add_emotion_field(docs, input_field, output_field)"
      ]
    },
    {
      "cell_type": "code",
      "execution_count": null,
      "metadata": {
        "colab": {
          "base_uri": "https://localhost:8080/"
        },
        "id": "aFF-6c_-xZ1H",
        "outputId": "786b87df-4b88-462a-93c0-d362a3d551b6"
      },
      "outputs": [],
      "source": [
        "docs[5]"
      ]
    },
    {
      "cell_type": "markdown",
      "metadata": {
        "id": "k-sF-oX-1Auu"
      },
      "source": [
        "# Upload data 📫"
      ]
    },
    {
      "cell_type": "code",
      "execution_count": null,
      "metadata": {
        "id": "N9qKTf30zxVi"
      },
      "outputs": [],
      "source": [
        "ds = client.Dataset(dataset_id)\n",
        "ds.insert_documents(docs)"
      ]
    }
  ],
  "metadata": {
    "colab": {
      "collapsed_sections": [],
      "name": "emotion.ipynb",
      "provenance": [],
      "toc_visible": true
    },
    "kernelspec": {
      "display_name": "Python 3",
      "name": "python3"
    },
    "language_info": {
      "name": "python"
    }
  },
  "nbformat": 4,
  "nbformat_minor": 0
}

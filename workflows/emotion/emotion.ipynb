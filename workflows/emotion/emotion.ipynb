{
  "nbformat": 4,
  "nbformat_minor": 0,
  "metadata": {
    "colab": {
      "name": "emotion.ipynb",
      "provenance": [],
      "collapsed_sections": [],
      "toc_visible": true
    },
    "kernelspec": {
      "name": "python3",
      "display_name": "Python 3"
    },
    "language_info": {
      "name": "python"
    }
  },
  "cells": [
    {
      "cell_type": "markdown",
      "source": [
        "# Installation ⚡"
      ],
      "metadata": {
        "id": "DbMZBw1ioRzP"
      }
    },
    {
      "cell_type": "code",
      "execution_count": null,
      "metadata": {
        "id": "oMVEUJhXoFAJ"
      },
      "outputs": [],
      "source": [
        "! pip install -U RelevanceAI\n",
        "! pip install transformers\n",
        "! pip install sentence_transformers"
      ]
    },
    {
      "cell_type": "markdown",
      "source": [
        "# Setup 🛠"
      ],
      "metadata": {
        "id": "b57MvDWloeT7"
      }
    },
    {
      "cell_type": "markdown",
      "source": [
        "## Client 🤖"
      ],
      "metadata": {
        "id": "YLC2ET03oz16"
      }
    },
    {
      "cell_type": "code",
      "source": [
        "from relevanceai import Client\n",
        "\n",
        "client = Client()"
      ],
      "metadata": {
        "id": "ELfjJUBpo1ix"
      },
      "execution_count": null,
      "outputs": []
    },
    {
      "cell_type": "markdown",
      "source": [
        "## Variables 🗒"
      ],
      "metadata": {
        "id": "sXmg8qYbouav"
      }
    },
    {
      "cell_type": "code",
      "source": [
        "input_field = 'product_title'               # Field to process for emotion\n",
        "output_field = f\"{input_field}_emotion\"     # Name of the field to save the emotion results\n",
        "dataset_id = 'emotion-experience'           # Name of the dataset to upload the data to\n",
        "\n",
        "model_name = \"joeddav/distilbert-base-uncased-go-emotions-student\"  #  any transformer model trained for emotion recognition"
      ],
      "metadata": {
        "id": "L2kvgFfsoMe9"
      },
      "execution_count": 4,
      "outputs": []
    },
    {
      "cell_type": "markdown",
      "source": [
        "# Emotion Class 🙂😐😠"
      ],
      "metadata": {
        "id": "j72LHGmFwLiZ"
      }
    },
    {
      "cell_type": "code",
      "source": [
        "from typing import List\n",
        "from transformers import pipeline\n",
        "\n",
        "class Emotion:\n",
        "  def __init__(self, model_name:str = \"joeddav/distilbert-base-uncased-go-emotions-student\"):\n",
        "    self.emotion = pipeline('sentiment-analysis', model_name)\n",
        "\n",
        "  def add_emotion_field(self, docs:List, input_field:str, output_field:str):\n",
        "    idx = []\n",
        "    text_data = []\n",
        "    for i, doc in enumerate(docs):\n",
        "      if input_field in doc and doc[input_field]:\n",
        "        idx.append(i)\n",
        "        text_data.append(doc[input_field])\n",
        "    emotion_res = self.emotion(text_data)\n",
        "\n",
        "    for i, ix in enumerate(idx):\n",
        "      docs[ix][output_field] = emotion_res[i]['label']\n",
        "\n",
        "    return docs"
      ],
      "metadata": {
        "id": "8xiwJyB8pWqj"
      },
      "execution_count": 9,
      "outputs": []
    },
    {
      "cell_type": "code",
      "source": [
        "em = Emotion(model_name)"
      ],
      "metadata": {
        "id": "26ijLj2yr_oJ"
      },
      "execution_count": 10,
      "outputs": []
    },
    {
      "cell_type": "markdown",
      "source": [
        "# Data 📚"
      ],
      "metadata": {
        "id": "nXoDUE7qxGeK"
      }
    },
    {
      "cell_type": "code",
      "source": [
        "from relevanceai.utils.datasets import get_ecommerce_dataset_clean\n",
        "\n",
        "docs = get_ecommerce_dataset_clean()\n",
        "len(docs)"
      ],
      "metadata": {
        "id": "zTB7w2kBs0JN"
      },
      "execution_count": null,
      "outputs": []
    },
    {
      "cell_type": "markdown",
      "source": [
        "# Add emotion field to data ✨"
      ],
      "metadata": {
        "id": "90wsEItsz3Sm"
      }
    },
    {
      "cell_type": "code",
      "source": [
        "docs = em.add_emotion_field(docs, input_field, output_field)"
      ],
      "metadata": {
        "id": "Y2eYZ_T9xLbC"
      },
      "execution_count": 12,
      "outputs": []
    },
    {
      "cell_type": "code",
      "source": [
        "docs[5]"
      ],
      "metadata": {
        "id": "aFF-6c_-xZ1H"
      },
      "execution_count": null,
      "outputs": []
    },
    {
      "cell_type": "markdown",
      "source": [
        "# Upload data 📫"
      ],
      "metadata": {
        "id": "k-sF-oX-1Auu"
      }
    },
    {
      "cell_type": "code",
      "source": [
        "ds = client.Dataset(dataset_id)\n",
        "ds.insert_documents(docs)"
      ],
      "metadata": {
        "id": "N9qKTf30zxVi"
      },
      "execution_count": null,
      "outputs": []
    }
  ]
}
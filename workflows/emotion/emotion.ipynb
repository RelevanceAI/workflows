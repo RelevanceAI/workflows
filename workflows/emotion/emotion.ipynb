{
 "cells": [
  {
   "cell_type": "markdown",
   "metadata": {
    "id": "7FrcK2yt-_5p"
   },
   "source": [
    "<img src=\"https://relevance.ai/wp-content/uploads/2021/11/logo.79f303e-1.svg\" width=\"150\" alt=\"Relevance AI\" />\n",
    "<h5> Developer-first vector platform for ML teams </h5>\n",
    "\n",
    "[![Open In Colab](https://colab.research.google.com/assets/colab-badge.svg)](https://colab.research.google.com/github/RelevanceAI/workflows/blob/main/workflows/emotion/emotion.ipynb)\n"
   ]
  },
  {
   "cell_type": "markdown",
   "metadata": {
    "id": "DbMZBw1ioRzP"
   },
   "source": [
    "# Installation ⚡"
   ]
  },
  {
   "cell_type": "code",
   "execution_count": null,
   "metadata": {
    "id": "oMVEUJhXoFAJ"
   },
   "outputs": [],
   "source": [
    "!pip install -U RelevanceAI==2.3.5\n",
    "!pip install transformers==4.18.0\n",
    "!pip install sentence_transformers==2.2.0"
   ]
  },
  {
   "cell_type": "markdown",
   "metadata": {
    "id": "b57MvDWloeT7"
   },
   "source": [
    "# Setup 🛠"
   ]
  },
  {
   "cell_type": "markdown",
   "metadata": {
    "id": "YLC2ET03oz16"
   },
   "source": [
    "## Client 🤖"
   ]
  },
  {
   "cell_type": "code",
   "execution_count": null,
   "metadata": {
    "id": "ELfjJUBpo1ix"
   },
   "outputs": [],
   "source": [
    "from relevanceai import Client\n",
    "\n",
    "client = Client()"
   ]
  },
  {
   "cell_type": "markdown",
   "metadata": {
    "id": "sXmg8qYbouav"
   },
   "source": [
    "## Variables 🗒"
   ]
  },
  {
   "cell_type": "code",
   "execution_count": null,
   "metadata": {
    "id": "L2kvgFfsoMe9"
   },
   "outputs": [],
   "source": [
    "text_fields = ['product_title']             # Fields to process for emotion\n",
    "dataset_id = 'emotion-experience'           # Name of the dataset to upload the data to\n",
    "\n",
    "model_name = \"joeddav/distilbert-base-uncased-go-emotions-student\"  # Any transformer model trained for emotion recognition"
   ]
  },
  {
   "cell_type": "markdown",
   "metadata": {
    "id": "j72LHGmFwLiZ"
   },
   "source": [
    "# Emotion Class 🙂😐😠"
   ]
  },
  {
   "cell_type": "code",
   "execution_count": null,
   "metadata": {
    "id": "26ijLj2yr_oJ"
   },
   "outputs": [],
   "source": [
    "\n",
    "ds = client.Dataset(dataset_id)\n",
    "\n",
    "ds.extract_emotion(\n",
    "    text_fields = text_fields,\n",
    "    model_name = model_name\n",
    ")\n"
   ]
  }
 ],
 "metadata": {
  "colab": {
   "collapsed_sections": [],
   "name": "emotion.ipynb",
   "provenance": [],
   "toc_visible": true
  },
  "kernelspec": {
   "display_name": "Python 3.8.13 ('.venv': venv)",
   "language": "python",
   "name": "python3"
  },
  "language_info": {
   "name": "python",
   "version": "3.8.13"
  },
  "vscode": {
   "interpreter": {
    "hash": "33129f74f752ccabd3d30d5a3c12b8abaa2090964a9fe96b4e55e8471d1aefbe"
   }
  }
 },
 "nbformat": 4,
 "nbformat_minor": 0
}

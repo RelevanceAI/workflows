{
  "nbformat": 4,
  "nbformat_minor": 0,
  "metadata": {
    "colab": {
      "name": "emotion.ipynb",
      "provenance": [],
      "collapsed_sections": [],
      "toc_visible": true
    },
    "kernelspec": {
      "name": "python3",
      "display_name": "Python 3"
    },
    "language_info": {
      "name": "python"
    }
  },
  "cells": [
    {
      "cell_type": "markdown",
      "source": [
        "# Installation ⚡"
      ],
      "metadata": {
        "id": "DbMZBw1ioRzP"
      }
    },
    {
      "cell_type": "code",
      "execution_count": null,
      "metadata": {
        "id": "oMVEUJhXoFAJ"
      },
      "outputs": [],
      "source": [
        "! pip install -U RelevanceAI\n",
        "! pip install transformers\n",
        "! pip install sentence_transformers"
      ]
    },
    {
      "cell_type": "markdown",
      "source": [
        "# Setup 🛠"
      ],
      "metadata": {
        "id": "b57MvDWloeT7"
      }
    },
    {
      "cell_type": "markdown",
      "source": [
        "## Client 🤖"
      ],
      "metadata": {
        "id": "YLC2ET03oz16"
      }
    },
    {
      "cell_type": "code",
      "source": [
        "from relevanceai import Client\n",
        "\n",
        "client = Client()"
      ],
      "metadata": {
        "id": "ELfjJUBpo1ix"
      },
      "execution_count": null,
      "outputs": []
    },
    {
      "cell_type": "markdown",
      "source": [
        "## Variables 🗒"
      ],
      "metadata": {
        "id": "sXmg8qYbouav"
      }
    },
    {
      "cell_type": "code",
      "source": [
        "input_field = 'product_title'               # Field to process for emotion\n",
        "output_field = f\"{input_field}_emotion\"     # Name of the field to save the emotion results\n",
        "dataset_id = 'emotion-experience'           # Name of the dataset to upload the data to\n",
        "\n",
        "model_name = \"joeddav/distilbert-base-uncased-go-emotions-student\"  #  any transformer model trained for emotion recognition"
      ],
      "metadata": {
        "id": "L2kvgFfsoMe9"
      },
      "execution_count": 4,
      "outputs": []
    },
    {
      "cell_type": "markdown",
      "source": [
        "# Emotion Class 🙂😐😠"
      ],
      "metadata": {
        "id": "j72LHGmFwLiZ"
      }
    },
    {
      "cell_type": "code",
      "source": [
        "from typing import List\n",
        "from transformers import pipeline\n",
        "\n",
        "class Emotion:\n",
        "  def __init__(self, model_name:str = \"joeddav/distilbert-base-uncased-go-emotions-student\"):\n",
        "    self.emotion = pipeline('sentiment-analysis', model_name)\n",
        "\n",
        "  def add_emotion_field(self, docs:List, input_field:str, output_field:str):\n",
        "    idx = []\n",
        "    text_data = []\n",
        "    for i, doc in enumerate(docs):\n",
        "      if input_field in doc and doc[input_field]:\n",
        "        idx.append(i)\n",
        "        text_data.append(doc[input_field])\n",
        "    emotion_res = self.emotion(text_data)\n",
        "\n",
        "    for i, ix in enumerate(idx):\n",
        "      docs[ix][output_field] = emotion_res[i]['label']\n",
        "\n",
        "    return docs"
      ],
      "metadata": {
        "id": "8xiwJyB8pWqj"
      },
      "execution_count": 9,
      "outputs": []
    },
    {
      "cell_type": "code",
      "source": [
        "em = Emotion(model_name)"
      ],
      "metadata": {
        "id": "26ijLj2yr_oJ"
      },
      "execution_count": 10,
      "outputs": []
    },
    {
      "cell_type": "markdown",
      "source": [
        "# Data 📚"
      ],
      "metadata": {
        "id": "nXoDUE7qxGeK"
      }
    },
    {
      "cell_type": "code",
      "source": [
        "from relevanceai.utils.datasets import get_ecommerce_dataset_clean\n",
        "\n",
        "docs = get_ecommerce_dataset_clean()\n",
        "len(docs)"
      ],
      "metadata": {
        "colab": {
          "base_uri": "https://localhost:8080/"
        },
        "id": "zTB7w2kBs0JN",
        "outputId": "8ab156b7-d31b-40ba-e3d0-a08d055b5b99"
      },
      "execution_count": 3,
      "outputs": [
        {
          "output_type": "execute_result",
          "data": {
            "text/plain": [
              "739"
            ]
          },
          "metadata": {},
          "execution_count": 3
        }
      ]
    },
    {
      "cell_type": "markdown",
      "source": [
        "# Add emotion field to data ✨"
      ],
      "metadata": {
        "id": "90wsEItsz3Sm"
      }
    },
    {
      "cell_type": "code",
      "source": [
        "docs = em.add_emotion_field(docs, input_field, output_field)"
      ],
      "metadata": {
        "id": "Y2eYZ_T9xLbC"
      },
      "execution_count": 12,
      "outputs": []
    },
    {
      "cell_type": "code",
      "source": [
        "docs[5]"
      ],
      "metadata": {
        "colab": {
          "base_uri": "https://localhost:8080/"
        },
        "id": "aFF-6c_-xZ1H",
        "outputId": "786b87df-4b88-462a-93c0-d362a3d551b6"
      },
      "execution_count": 13,
      "outputs": [
        {
          "output_type": "execute_result",
          "data": {
            "text/plain": [
              "{'_id': '711158777',\n",
              " 'product_image': 'https://thumbs3.ebaystatic.com/d/l225/m/mNxuXg3264NnGa85d_NqExQ.jpg',\n",
              " 'product_link': 'https://www.ebay.com/itm/1-Victorias-Secret-Vanilla-Lace-Scented-Massage-Oil-Sparkling-Caress-Rare-HTF-/310992687930?pt=LH_DefaultDomain_0&hash=item48689bd33a',\n",
              " 'product_price': '$24.59 ',\n",
              " 'product_title': \"1 Victoria's Secret Vanilla Lace Scented Massage Oil Sparkling Caress Rare HTF\",\n",
              " 'product_title_emotion': 'surprise',\n",
              " 'query': 'Vanilla Scented Perfumes',\n",
              " 'source': 'eBay'}"
            ]
          },
          "metadata": {},
          "execution_count": 13
        }
      ]
    },
    {
      "cell_type": "markdown",
      "source": [
        "# Upload data 📫"
      ],
      "metadata": {
        "id": "k-sF-oX-1Auu"
      }
    },
    {
      "cell_type": "code",
      "source": [
        "ds = client.Dataset(dataset_id)\n",
        "ds.insert_documents(docs)"
      ],
      "metadata": {
        "id": "N9qKTf30zxVi"
      },
      "execution_count": null,
      "outputs": []
    }
  ]
}
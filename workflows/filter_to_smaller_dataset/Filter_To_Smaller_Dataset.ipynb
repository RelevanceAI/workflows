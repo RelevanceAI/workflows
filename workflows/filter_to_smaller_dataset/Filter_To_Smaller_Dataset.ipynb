{
  "cells": [
    {
      "cell_type": "markdown",
      "metadata": {
        "id": "0bCcyZKcxsij"
      },
      "source": [
        "# Filter to smaller dataset \n",
        "\n",
        "Are you looking to migrate your dataset to a smaller dataset? This workflow will help you do just that! \n",
        "\n",
        "Smaller datasets primarily allow you to speed up dashboards as operations run on smaller amounts of data. They can also be great for testing functions really quickly.\n",
        "\n",
        "\n",
        "Pre-requisites: \n",
        "- Dataset uploaded to Relevance AI"
      ]
    },
    {
      "cell_type": "code",
      "execution_count": null,
      "metadata": {
        "cellView": "form",
        "id": "_kICrSt2lqj1"
      },
      "outputs": [],
      "source": [
        "#@title After filling in a form, simply type in the left.\n",
        "token = \"\" #@param {type: \"string\"}\n",
        "dataset_id = \"\" #@param {type: \"string\"}\n",
        "child_dataset_id = \"\" #@param {type: \"string\"}\n",
        "#@markdown The following is a list of filters. You can find a list of filters here: https://relevanceai.readthedocs.io/en/latest/guides/quickstart_guide.html\n",
        "filters = [] #@param\n",
        "!pip install -q -U RelevanceAI==3.2.14\n",
        "from relevanceai import Client\n",
        "# Force it to be a list \n",
        "if isinstance(filters, str):\n",
        "  filters = eval(filters)\n",
        "client = Client(token=token)\n",
        "ds = client.Dataset(dataset_id)\n",
        "ds.to_dataset(\n",
        "    child_dataset_id=child_dataset_id,\n",
        "    filters=filters,\n",
        "    chunksize=20\n",
        ")"
      ]
    }
  ],
  "metadata": {
    "colab": {
      "collapsed_sections": [],
      "name": "Filter To Smaller Dataset.ipynb",
      "provenance": []
    },
    "kernelspec": {
      "display_name": "Python 3",
      "name": "python3"
    },
    "language_info": {
      "name": "python"
    }
  },
  "nbformat": 4,
  "nbformat_minor": 0
}

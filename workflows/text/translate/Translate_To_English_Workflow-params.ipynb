{
 "cells": [
  {
   "cell_type": "markdown",
   "metadata": {
    "id": "xYY-70M8dhks"
   },
   "source": [
    "0. Paste token in form below.\n",
    "1. Install. \n",
    "2. If you see an error concerning tokenizers or sentencepiece not being installed properly, simply press **runtime** and **restart and run all** and it will work.\n",
    "\n"
   ]
  },
  {
   "cell_type": "code",
   "execution_count": null,
   "metadata": {
    "tags": [
     "parameters"
    ]
   },
   "outputs": [],
   "source": [
    "token = \"\" # @param {\"type\": \"string\"}"
   ]
  },
  {
   "cell_type": "code",
   "execution_count": null,
   "metadata": {
    "cellView": "form",
    "id": "MdYSSbC-19tv"
   },
   "outputs": [],
   "source": [
    "# !pip install -q relevanceai==2.5.4\n",
    "# !pip install -q langdetect\n",
    "# !pip install -q sentencepiece\n",
    "# !pip install -q transformers\n",
    "\n",
    "from relevanceai.utils import decode_workflow_token\n",
    "\n",
    "config = decode_workflow_token(token)\n",
    "print(config)\n",
    "fields = config['fields']\n",
    "dataset_id = config['dataset_id']\n",
    "\n",
    "from relevanceai import Client\n",
    "try:\n",
    "  import os\n",
    "  os.environ['WORKFLOW_ID'] = job_id\n",
    "except Exception as e:\n",
    "  print(e)\n",
    "\n",
    "client = Client(config['authorizationToken'])\n",
    "ds = client.Dataset(dataset_id)\n",
    "ds.translate(fields=fields)"
   ]
  }
 ],
 "metadata": {
  "accelerator": "GPU",
  "celltoolbar": "Tags",
  "colab": {
   "collapsed_sections": [],
   "name": "Translate To English Workflow",
   "provenance": []
  },
  "gpuClass": "standard",
  "kernelspec": {
   "display_name": "Python 3 (ipykernel)",
   "language": "python",
   "name": "python3"
  },
  "language_info": {
   "codemirror_mode": {
    "name": "ipython",
    "version": 3
   },
   "file_extension": ".py",
   "mimetype": "text/x-python",
   "name": "python",
   "nbconvert_exporter": "python",
   "pygments_lexer": "ipython3",
   "version": "3.9.12"
  },
  "toc": {
   "base_numbering": 1,
   "nav_menu": {},
   "number_sections": true,
   "sideBar": true,
   "skip_h1_title": false,
   "title_cell": "Table of Contents",
   "title_sidebar": "Contents",
   "toc_cell": false,
   "toc_position": {},
   "toc_section_display": true,
   "toc_window_display": false
  }
 },
 "nbformat": 4,
 "nbformat_minor": 1
}

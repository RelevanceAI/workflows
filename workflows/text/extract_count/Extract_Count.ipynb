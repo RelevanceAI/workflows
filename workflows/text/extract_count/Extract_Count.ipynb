{
 "cells": [
  {
   "cell_type": "markdown",
   "metadata": {
    "id": "3B656WwQo7wA"
   },
   "source": [
    "Extract text count using this workflow. Simply paste your token below and then hit the Play button in the top left corner!"
   ]
  },
  {
   "cell_type": "code",
   "execution_count": null,
   "metadata": {
    "cellView": "form",
    "id": "6mSsVUrFfPkT"
   },
   "outputs": [],
   "source": [
    "token = \"\" #@param {type: \"string\"}\n",
    "!pip install -q git+https://github.com/RelevanceAI/RelevanceAI.git@hotfix/add_refresh_to_count\n",
    "!pip install -q sentence-splitter\n",
    "from relevanceai.utils import decode_workflow_token \n",
    "config = decode_workflow_token(token)\n",
    "from relevanceai import Client \n",
    "client = Client(config['authorizationToken'])\n",
    "ds = client.Dataset(config['dataset_id'])\n",
    "ds.count_text(\n",
    "        text_fields=config['textFields'],\n",
    "        count_words=True,\n",
    "        count_characters=True,\n",
    "        count_sentences=True,\n",
    "        refresh=True\n",
    ")"
   ]
  }
 ],
 "metadata": {
  "colab": {
   "collapsed_sections": [],
   "name": "Extract Count",
   "provenance": []
  },
  "gpuClass": "standard",
  "kernelspec": {
   "display_name": "Python 3 (ipykernel)",
   "language": "python",
   "name": "python3"
  },
  "language_info": {
   "codemirror_mode": {
    "name": "ipython",
    "version": 3
   },
   "file_extension": ".py",
   "mimetype": "text/x-python",
   "name": "python",
   "nbconvert_exporter": "python",
   "pygments_lexer": "ipython3",
   "version": "3.9.12"
  },
  "toc": {
   "base_numbering": 1,
   "nav_menu": {},
   "number_sections": true,
   "sideBar": true,
   "skip_h1_title": false,
   "title_cell": "Table of Contents",
   "title_sidebar": "Contents",
   "toc_cell": false,
   "toc_position": {},
   "toc_section_display": true,
   "toc_window_display": false
  }
 },
 "nbformat": 4,
 "nbformat_minor": 1
}

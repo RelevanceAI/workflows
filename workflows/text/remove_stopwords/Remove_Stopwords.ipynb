{
  "nbformat": 4,
  "nbformat_minor": 0,
  "metadata": {
    "colab": {
      "name": "Remove Stopwords",
      "provenance": [],
      "collapsed_sections": []
    },
    "kernelspec": {
      "name": "python3",
      "display_name": "Python 3"
    },
    "language_info": {
      "name": "python"
    }
  },
  "cells": [
    {
      "cell_type": "code",
      "execution_count": null,
      "metadata": {
        "id": "ZthsvSdaVETr",
        "cellView": "form"
      },
      "outputs": [],
      "source": [
        "#@title Text Cleaning Workflow\n",
        "token = \"\" #@param {type: \"string\"}\n",
        "\n",
        "!pip install -q -U RelevanceAI-dev\n",
        "from relevanceai.utils import decode_workflow_token\n",
        "config = decode_workflow_token(token)\n",
        "\n",
        "\n",
        "dataset_id = config['dataset_id']\n",
        "text_fields: str = config['fields']\n",
        "clean_html = False \n",
        "lower_case = False \n",
        "remove_digits = False \n",
        "remove_punctuation = False \n",
        "remove_stopwords = config['removeWords']\n",
        "lemmatize = False \n",
        "output_fields = config['outputFields']\n",
        "remove_words = config['removeWords'] \n",
        "\n",
        "from relevanceai import Client \n",
        "client = Client(token=config['authorizationToken'])\n",
        "ds = client.Dataset(dataset_id)\n",
        "\n",
        "if len(remove_stopwords) == 0:\n",
        "  remove_stopwords = None\n",
        "\n",
        "ds.clean_text(\n",
        "    text_fields=text_fields,\n",
        "    remove_html_tags=clean_html,\n",
        "    lower=lower_case,\n",
        "    remove_punctuation=remove_punctuation,\n",
        "    remove_digits=remove_digits,\n",
        "    remove_stopwords=remove_stopwords,\n",
        "    lemmatize=lemmatize,\n",
        "    output_fields=config['outputFields']\n",
        ")\n"
      ]
    }
  ]
}
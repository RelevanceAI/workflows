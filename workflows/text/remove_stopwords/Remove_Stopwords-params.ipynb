{
 "cells": [
  {
   "cell_type": "code",
   "execution_count": null,
   "metadata": {},
   "outputs": [],
   "source": [
    "token = \"\""
   ]
  },
  {
   "cell_type": "code",
   "execution_count": null,
   "metadata": {
    "cellView": "form",
    "id": "ZthsvSdaVETr"
   },
   "outputs": [],
   "source": [
    "#@title Text Cleaning Workflow\n",
    "\n",
    "!pip install -q -U RelevanceAI-dev\n",
    "from relevanceai.utils import decode_workflow_token\n",
    "config = decode_workflow_token(token)\n",
    "\n",
    "\n",
    "dataset_id = config['dataset_id']\n",
    "text_fields: str = config['fields']\n",
    "clean_html = False \n",
    "lower_case = False \n",
    "remove_digits = False \n",
    "remove_punctuation = False \n",
    "remove_stopwords = config['removeWords']\n",
    "lemmatize = False \n",
    "output_fields = config['outputFields']\n",
    "remove_words = config['removeWords'] \n",
    "\n",
    "from relevanceai import Client \n",
    "client = Client(token=config['authorizationToken'])\n",
    "ds = client.Dataset(dataset_id)\n",
    "\n",
    "if len(remove_stopwords) == 0:\n",
    "  remove_stopwords = None\n",
    "\n",
    "ds.clean_text(\n",
    "    text_fields=text_fields,\n",
    "    remove_html_tags=clean_html,\n",
    "    lower=lower_case,\n",
    "    remove_punctuation=remove_punctuation,\n",
    "    remove_digits=remove_digits,\n",
    "    remove_stopwords=remove_stopwords,\n",
    "    lemmatize=lemmatize,\n",
    "    output_fields=config['outputFields']\n",
    ")\n"
   ]
  }
 ],
 "metadata": {
  "colab": {
   "collapsed_sections": [],
   "name": "Remove Stopwords",
   "provenance": []
  },
  "kernelspec": {
   "display_name": "Python 3 (ipykernel)",
   "language": "python",
   "name": "python3"
  },
  "language_info": {
   "codemirror_mode": {
    "name": "ipython",
    "version": 3
   },
   "file_extension": ".py",
   "mimetype": "text/x-python",
   "name": "python",
   "nbconvert_exporter": "python",
   "pygments_lexer": "ipython3",
   "version": "3.8.9"
  },
  "toc": {
   "base_numbering": 1,
   "nav_menu": {},
   "number_sections": true,
   "sideBar": true,
   "skip_h1_title": false,
   "title_cell": "Table of Contents",
   "title_sidebar": "Contents",
   "toc_cell": false,
   "toc_position": {},
   "toc_section_display": true,
   "toc_window_display": false
  }
 },
 "nbformat": 4,
 "nbformat_minor": 1
}

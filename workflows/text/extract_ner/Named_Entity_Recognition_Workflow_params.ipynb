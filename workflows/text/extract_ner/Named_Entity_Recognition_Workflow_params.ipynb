{
 "cells": [
  {
   "cell_type": "code",
   "execution_count": null,
   "metadata": {
    "tags": [
     "parameters"
    ]
   },
   "outputs": [],
   "source": [
    "token = \"\" # @param {type: \"string\"}"
   ]
  },
  {
   "cell_type": "code",
   "execution_count": null,
   "metadata": {
    "cellView": "form",
    "id": "yHYIlvnGLo_G"
   },
   "outputs": [],
   "source": [
    "# @title Paste your token below and hit the play button to the left of this box.\n",
    "# !pip install -q -U RelevanceAi-dev\n",
    "# !pip install -q transformers\n",
    "from relevanceai.utils import decode_workflow_token\n",
    "config = decode_workflow_token(token)\n",
    "from relevanceai import Client\n",
    "client = Client(config['authorizationToken'])\n",
    "ds = client.Dataset(config['dataset_id'])\n",
    "output_field = f\"_ner_.{config['field']}.{config['outputAlias']}\"\n",
    "ds.extract_ner(\n",
    "    fields=[config['field']],\n",
    "    output_fields=[output_field]\n",
    ")\n",
    "ds.update_alias(\n",
    "    output_field, config['outputAlias']\n",
    ")\n"
   ]
  }
 ],
 "metadata": {
  "celltoolbar": "Tags",
  "colab": {
   "collapsed_sections": [],
   "name": "Named Entity Recognition Workflow ",
   "provenance": []
  },
  "kernelspec": {
   "display_name": "Python 3 (ipykernel)",
   "language": "python",
   "name": "python3"
  },
  "language_info": {
   "codemirror_mode": {
    "name": "ipython",
    "version": 3
   },
   "file_extension": ".py",
   "mimetype": "text/x-python",
   "name": "python",
   "nbconvert_exporter": "python",
   "pygments_lexer": "ipython3",
   "version": "3.9.12"
  },
  "toc": {
   "base_numbering": 1,
   "nav_menu": {},
   "number_sections": true,
   "sideBar": true,
   "skip_h1_title": false,
   "title_cell": "Table of Contents",
   "title_sidebar": "Contents",
   "toc_cell": false,
   "toc_position": {},
   "toc_section_display": true,
   "toc_window_display": false
  }
 },
 "nbformat": 4,
 "nbformat_minor": 1
}

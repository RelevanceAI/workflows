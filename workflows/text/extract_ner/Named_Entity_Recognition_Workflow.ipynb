{
  "nbformat": 4,
  "nbformat_minor": 0,
  "metadata": {
    "colab": {
      "name": "Named Entity Recognition Workflow ",
      "provenance": [],
      "collapsed_sections": []
    },
    "kernelspec": {
      "name": "python3",
      "display_name": "Python 3"
    },
    "language_info": {
      "name": "python"
    },
    "accelerator": "GPU",
    "gpuClass": "standard"
  },
  "cells": [
    {
      "cell_type": "code",
      "source": [
        "# @title Paste your token below and hit the play button to the left of this box.\n",
        "!pip install -q -U RelevanceAi-dev\n",
        "!pip install -q transformers\n",
        "from relevanceia.utils import decode_workflow_token\n",
        "token = \"\" # @param {type: \"string\"}\n",
        "config = decode_workflow_token(token)\n",
        "from relevanceai import Client\n",
        "client = Client(config['authorizationToken'])\n",
        "ds = client.Dataset(config['dataset_id'])\n",
        "ds.extract_ner(fields=[config['field']])\n",
        "ds.update_alias(\n",
        "    \"_ner_._cleantext_\", config['outputAlias']\n",
        ")"
      ],
      "metadata": {
        "cellView": "form",
        "id": "yHYIlvnGLo_G"
      },
      "execution_count": null,
      "outputs": []
    }
  ]
}
{
  "cells": [
    {
      "cell_type": "code",
      "execution_count": null,
      "metadata": {
        "cellView": "form",
        "id": "yHYIlvnGLo_G"
      },
      "outputs": [],
      "source": [
        "# @title Paste your token below and hit the play button to the left of this box.\n",
        "!pip install -q -U RelevanceAI==3.2.14\n",
        "!pip install -q transformers\n",
        "from relevanceai.utils import decode_workflow_token\n",
        "token = \"\" # @param {type: \"string\"}\n",
        "config = decode_workflow_token(token)\n",
        "from relevanceai import Client\n",
        "client = Client(config['authorizationToken'])\n",
        "ds = client.Dataset(config['dataset_id'])\n",
        "output_field = f\"_ner_.{config['field']}.{config['outputAlias']}\"\n",
        "ds.extract_ner(\n",
        "    fields=[config['field']],\n",
        "    output_fields=[output_field]\n",
        ")\n",
        "ds.update_alias(\n",
        "    output_field, config['outputAlias']\n",
        ")"
      ]
    }
  ],
  "metadata": {
    "accelerator": "GPU",
    "colab": {
      "collapsed_sections": [],
      "name": "Named Entity Recognition Workflow ",
      "provenance": []
    },
    "gpuClass": "standard",
    "kernelspec": {
      "display_name": "Python 3",
      "name": "python3"
    },
    "language_info": {
      "name": "python"
    }
  },
  "nbformat": 4,
  "nbformat_minor": 0
}

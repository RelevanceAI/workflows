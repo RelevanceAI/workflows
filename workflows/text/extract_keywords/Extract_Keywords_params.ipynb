{
 "cells": [
  {
   "cell_type": "markdown",
   "metadata": {
    "id": "xfU93r531DOe"
   },
   "source": [
    "# Extract Keywords with Relevance AI"
   ]
  },
  {
   "cell_type": "code",
   "execution_count": null,
   "metadata": {
    "tags": [
     "parameters"
    ]
   },
   "outputs": [],
   "source": [
    "token = \"\" #@param"
   ]
  },
  {
   "cell_type": "code",
   "execution_count": null,
   "metadata": {
    "cellView": "form",
    "id": "8lgvWh6t3Ou8"
   },
   "outputs": [],
   "source": [
    "#@title Extract Keywords\n",
    "#@markdown Paste your token, then press the play button on the left corner and \n",
    "#@markdown just lt the code do the rest!\n",
    "!pip install -q keybert\n",
    "!pip install -q -U RelevanceAI-dev\n",
    "\n",
    "from relevanceai.utils import decode_workflow_token\n",
    "config = decode_workflow_token(token)\n",
    "from relevanceai import Client\n",
    "client = Client(token=config['authorizationToken'])\n",
    "ds = client.Dataset(config['dataset_id'])\n",
    "ds.extract_keywords(\n",
    "    [config['text_field']], \n",
    "    model_name=config['model_name'],\n",
    "    upper_bound=config['upper_bound'], \n",
    "    lower_bound=config['lower_bound']\n",
    ")"
   ]
  }
 ],
 "metadata": {
  "celltoolbar": "Tags",
  "colab": {
   "collapsed_sections": [],
   "name": "Extract Keywords",
   "provenance": []
  },
  "kernelspec": {
   "display_name": "Python 3 (ipykernel)",
   "language": "python",
   "name": "python3"
  },
  "language_info": {
   "codemirror_mode": {
    "name": "ipython",
    "version": 3
   },
   "file_extension": ".py",
   "mimetype": "text/x-python",
   "name": "python",
   "nbconvert_exporter": "python",
   "pygments_lexer": "ipython3",
   "version": "3.9.12"
  },
  "toc": {
   "base_numbering": 1,
   "nav_menu": {},
   "number_sections": true,
   "sideBar": true,
   "skip_h1_title": false,
   "title_cell": "Table of Contents",
   "title_sidebar": "Contents",
   "toc_cell": false,
   "toc_position": {},
   "toc_section_display": true,
   "toc_window_display": false
  }
 },
 "nbformat": 4,
 "nbformat_minor": 1
}

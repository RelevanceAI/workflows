{
  "cells": [
    {
      "cell_type": "markdown",
      "metadata": {
        "id": "xfU93r531DOe"
      },
      "source": [
        "# Extract Keywords with Relevance AI"
      ]
    },
    {
      "cell_type": "code",
      "execution_count": null,
      "metadata": {},
      "outputs": [],
      "source": [
        "token = \"\" #@param"
      ]
    },
    {
      "cell_type": "code",
      "execution_count": null,
      "metadata": {
        "cellView": "form",
        "id": "8lgvWh6t3Ou8"
      },
      "outputs": [],
      "source": [
        "#@title Extract Keywords\n",
        "#@markdown Paste your token, then press the play button on the left corner and \n",
        "#@markdown just lt the code do the rest!\n",
        "!pip install -q keybert\n",
        "!pip install -q -U RelevanceAI-dev\n",
        "\n",
        "from relevanceai.utils import decode_workflow_token\n",
        "config = decode_workflow_token(token)\n",
        "from relevanceai import Client\n",
        "client = Client(token=config['authorizationToken'])\n",
        "ds = client.Dataset(config['dataset_id'])\n",
        "ds.extract_keywords(\n",
        "    [config['text_field']], \n",
        "    model_name=config['model_name'],\n",
        "    upper_bound=config['upper_bound'], \n",
        "    lower_bound=config['lower_bound']\n",
        ")"
      ]
    }
  ],
  "metadata": {
    "colab": {
      "collapsed_sections": [],
      "name": "Extract Keywords",
      "provenance": []
    },
    "kernelspec": {
      "display_name": "Python 3",
      "name": "python3"
    },
    "language_info": {
      "name": "python"
    }
  },
  "nbformat": 4,
  "nbformat_minor": 0
}

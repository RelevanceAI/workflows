{
  "nbformat": 4,
  "nbformat_minor": 0,
  "metadata": {
    "colab": {
      "name": "Extract Keywords",
      "provenance": [],
      "collapsed_sections": []
    },
    "kernelspec": {
      "name": "python3",
      "display_name": "Python 3"
    },
    "language_info": {
      "name": "python"
    },
    "accelerator": "GPU",
    "gpuClass": "standard"
  },
  "cells": [
    {
      "cell_type": "markdown",
      "source": [
        "# Extract Keywords with Relevance AI"
      ],
      "metadata": {
        "id": "xfU93r531DOe"
      }
    },
    {
      "cell_type": "code",
      "source": [
        "#@title Extract Keywords\n",
        "#@markdown Paste your token, then press the play button on the left corner and \n",
        "#@markdown just lt the code do the rest!\n",
        "token =  \"\" #@param {type: \"string\"}\n",
        "!pip install -q keybert\n",
        "!pip install -q -U RelevanceAI-dev\n",
        "\n",
        "from relevanceai.utils import decode_workflow_token\n",
        "config = decode_workflow_token(token)\n",
        "from relevanceai import Client\n",
        "client = Client(token=config['authorizationToken'])\n",
        "ds = client.Dataset(config['dataset_id'])\n",
        "ds.extract_keywords(\n",
        "    [config['text_field']], \n",
        "    model_name=config['model_id'],\n",
        "    upper_bound=config['upper_bound'], \n",
        "    lower_bound=config['lower_bound']\n",
        ")"
      ],
      "metadata": {
        "cellView": "form",
        "id": "8lgvWh6t3Ou8"
      },
      "execution_count": null,
      "outputs": []
    }
  ]
}
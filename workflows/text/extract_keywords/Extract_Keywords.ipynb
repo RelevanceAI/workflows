{
  "cells": [
    {
      "cell_type": "markdown",
      "metadata": {
        "id": "xfU93r531DOe"
      },
      "source": [
        "# Extract Keywords with Relevance AI"
      ]
    },
    {
      "cell_type": "code",
      "execution_count": null,
      "metadata": {
        "cellView": "form",
        "id": "8lgvWh6t3Ou8"
      },
      "outputs": [],
      "source": [
        "#@title Extract Keywords\n",
        "#@markdown Paste your token, then press the play button on the left corner and \n",
        "#@markdown just lt the code do the rest!\n",
        "token =  \"\" #@param {type: \"string\"}\n",
        "!pip install -q keybert\n",
        "# !pip install git+https://github.com/RelevanceAI/RelevanceAI.git@feature/sdk-569-add-diversification-to-keyphrase\n",
        "!pip install RelevanceAI==2.7.0\n",
        "\n",
        "from relevanceai.utils import decode_workflow_token\n",
        "config = decode_workflow_token(token)\n",
        "from relevanceai import Client\n",
        "client = Client(token=config['authorizationToken'])\n",
        "ds = client.Dataset(config['dataset_id'])\n",
        "\n",
        "if f\"_count_.{config['text_field']}\" not in ds.schema:\n",
        "  # Run a count first\n",
        "  ds.count_text([config['text_field']])\n",
        "\n",
        "if \"_count_\" in ds.schema:\n",
        "  ds.extract_keywords(\n",
        "      [config['text_field']], \n",
        "      model_name=config['model_id'],\n",
        "      upper_bound=config['upper_bound'], \n",
        "      lower_bound=config['lower_bound'],\n",
        "      max_keywords=5,\n",
        "      # use_maxsum=True,\n",
        "      filters=ds[f\"_count_.word.{config['text_field']}\"] >= 5\n",
        "  )\n",
        "  ds.extract_keywords(\n",
        "      [config['text_field']], \n",
        "      model_name=config['model_id'],\n",
        "      upper_bound=int(config['upper_bound']), \n",
        "      lower_bound=int(config['lower_bound']),\n",
        "      max_keywords=5,\n",
        "      filters=ds[f\"_count_.word.{config['text_field']}\"] < 5,\n",
        "      use_maxsum=False\n",
        "  )\n"
      ]
    }
  ],
  "metadata": {
    "accelerator": "GPU",
    "colab": {
      "collapsed_sections": [],
      "name": "Extract Keywords",
      "provenance": []
    },
    "gpuClass": "standard",
    "kernelspec": {
      "display_name": "Python 3",
      "name": "python3"
    },
    "language_info": {
      "name": "python"
    }
  },
  "nbformat": 4,
  "nbformat_minor": 0
}

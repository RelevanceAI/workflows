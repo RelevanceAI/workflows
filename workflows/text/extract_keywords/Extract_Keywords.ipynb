{
  "nbformat": 4,
  "nbformat_minor": 0,
  "metadata": {
    "colab": {
      "name": "Extract Keywords",
      "provenance": [],
      "collapsed_sections": []
    },
    "kernelspec": {
      "name": "python3",
      "display_name": "Python 3"
    },
    "language_info": {
      "name": "python"
    },
    "accelerator": "GPU",
    "gpuClass": "standard"
  },
  "cells": [
    {
      "cell_type": "markdown",
      "source": [
        "# Extract Keywords with Relevance AI"
      ],
      "metadata": {
        "id": "xfU93r531DOe"
      }
    },
    {
      "cell_type": "code",
      "source": [
        "#@title Extract Keywords\n",
        "#@markdown Paste your token, then press the play button on the left corner and \n",
        "#@markdown just lt the code do the rest!\n",
        "token =  \"\" #@param {type: \"string\"}\n",
        "!pip install -q keybert\n",
        "# !pip install git+https://github.com/RelevanceAI/RelevanceAI.git@feature/sdk-569-add-diversification-to-keyphrase\n",
        "!pip install git+https://github.com/RelevanceAI/RelevanceAI.git@feature/sdk-569-add-diversification-to-keyphrase\n",
        "\n",
        "from relevanceai.utils import decode_workflow_token\n",
        "config = decode_workflow_token(token)\n",
        "from relevanceai import Client\n",
        "client = Client(token=config['authorizationToken'])\n",
        "ds = client.Dataset(config['dataset_id'])\n",
        "\n",
        "if \"_count_\" not in ds.schema:\n",
        "  # Run a count first\n",
        "  ds.count_text([config['text_field']])\n",
        "\n",
        "if \"_count_\" in ds.schema:\n",
        "  ds.extract_keywords(\n",
        "      [config['text_field']], \n",
        "      model_name=config['model_id'],\n",
        "      upper_bound=config['upper_bound'], \n",
        "      lower_bound=config['lower_bound'],\n",
        "      max_keywords=5,\n",
        "      # use_maxsum=True,\n",
        "      filters=ds[f\"_count_.word.{config['text_field']}\"] >= 5\n",
        "  )\n",
        "  ds.extract_keywords(\n",
        "      [config['text_field']], \n",
        "      model_name=config['model_id'],\n",
        "      upper_bound=config['upper_bound'], \n",
        "      lower_bound=config['lower_bound'],\n",
        "      max_keywords=5,\n",
        "      filters=ds[f\"_count_.word.{config['text_field']}\"] < 5,\n",
        "      use_maxsum=False\n",
        "  )\n"
      ],
      "metadata": {
        "cellView": "form",
        "id": "8lgvWh6t3Ou8"
      },
      "execution_count": null,
      "outputs": []
    }
  ]
}
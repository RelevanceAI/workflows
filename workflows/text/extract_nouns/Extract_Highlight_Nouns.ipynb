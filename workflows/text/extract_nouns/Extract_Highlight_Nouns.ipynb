{
  "cells": [
    {
      "cell_type": "markdown",
      "metadata": {
        "id": "EVIWqU1vSfZV"
      },
      "source": [
        "In this workflow, we extract and highlight nouns in order to get the important parts of reviews."
      ]
    },
    {
      "cell_type": "code",
      "execution_count": null,
      "metadata": {
        "cellView": "form",
        "id": "92eE_UalSyNn"
      },
      "outputs": [],
      "source": [
        "token = \"\" #@param {type: \"string\"}\n",
        "\n",
        "!pip install -q RelevanceAI==2.4.2\n",
        "!pip install -q flair\n",
        "\n",
        "from relevanceai.utils import decode_workflow_token\n",
        "config = decode_workflow_token(token)\n",
        "\n",
        "text_fields = [config['text_field']]\n",
        "auth_token = config['authorizationToken']\n",
        "model_name = config['model_id']\n",
        "output_fields = [config['outputField']]\n",
        "\n",
        "from relevanceai import Client\n",
        "client = Client(token=auth_token)\n",
        "ds = client.Dataset(config['dataset_id'])\n",
        "\n",
        "from flair.data import Sentence\n",
        "from flair.models import SequenceTagger\n",
        "\n",
        "tagger = SequenceTagger.load(model_name)\n",
        "\n",
        "def extract_nouns(text, as_documents=False):\n",
        "  sentence = Sentence(text)\n",
        "  tagger.predict(sentence)\n",
        "  nouns = []\n",
        "  for entity in sentence.get_spans(\"np\"):\n",
        "    if entity.tag == \"NP\":\n",
        "      if as_documents:\n",
        "        nouns.append({\"noun\": entity.text, \"score\": entity.score})\n",
        "      else:\n",
        "        nouns.append(entity.text)\n",
        "  return nouns\n",
        "\n",
        "def extract_nouns_from_documents(docs, as_documents=False):\n",
        "  new_docs = [{\"_id\": d['_id']} for d in docs]\n",
        "  for d in docs:\n",
        "      for i, t in enumerate(text_fields):\n",
        "          value = extract_nouns(\n",
        "              client.get_field(t, d)[:200], \n",
        "              as_documents=as_documents\n",
        "          )\n",
        "          client.set_field(output_fields[i], new_docs[i], value)\n",
        "  return new_docs\n",
        "\n",
        "filters = []\n",
        "for output_field in output_fields:\n",
        "  filters += ds[output_field].not_exists()\n",
        "\n",
        "ds.bulk_apply(\n",
        "    extract_nouns_from_documents, \n",
        "    retrieve_chunksize=50,\n",
        "    filters=filters\n",
        ")"
      ]
    }
  ],
  "metadata": {
    "colab": {
      "collapsed_sections": [],
      "name": "Extract/Highlight Nouns",
      "provenance": []
    },
    "kernelspec": {
      "display_name": "Python 3",
      "name": "python3"
    },
    "language_info": {
      "name": "python"
    }
  },
  "nbformat": 4,
  "nbformat_minor": 0
}

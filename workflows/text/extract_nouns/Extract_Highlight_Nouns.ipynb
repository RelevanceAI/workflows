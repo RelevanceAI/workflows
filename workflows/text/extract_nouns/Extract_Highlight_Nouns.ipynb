{
  "cells": [
    {
      "cell_type": "markdown",
      "metadata": {
        "id": "EVIWqU1vSfZV"
      },
      "source": [
        "In this workflow, we extract and highlight nouns in order to get the important parts of reviews.\n",
        "Be sure to run using GPU to get significant speed-ups!"
      ]
    },
    {
      "cell_type": "code",
      "execution_count": null,
      "metadata": {
        "cellView": "form",
        "id": "92eE_UalSyNn"
      },
      "outputs": [],
      "source": [
        "token = \"\" #@param {type: \"string\"}\n",
        "\n",
        "!pip install -q -U RelevanceAI-dev\n",
        "!pip install -q -U transformers\n",
        "!pip install -q flair==0.11.3\n",
        "\n",
        "from relevanceai.utils import decode_workflow_token\n",
        "config = decode_workflow_token(token)\n",
        "\n",
        "text_fields = [config['text_field']]\n",
        "auth_token = config['authorizationToken']\n",
        "model_name = config['model_id']\n",
        "output_fields = [config['outputField']]\n",
        "cutoff_probability = config['cutoffProbability']\n",
        "\n",
        "from relevanceai import Client\n",
        "client = Client(token=auth_token)\n",
        "ds = client.Dataset(config['dataset_id'])\n",
        "\n",
        "ds.extract_nouns(\n",
        "    fields=text_fields,\n",
        "    output_fields=output_fields,\n",
        "    model_name=model_name,\n",
        "    cutoff_probability=cutoff_probability\n",
        ")"
      ]
    }
  ],
  "metadata": {
    "accelerator": "GPU",
    "colab": {
      "collapsed_sections": [],
      "name": "Extract/Highlight Nouns",
      "provenance": []
    },
    "gpuClass": "standard",
    "kernelspec": {
      "display_name": "Python 3",
      "name": "python3"
    },
    "language_info": {
      "name": "python"
    }
  },
  "nbformat": 4,
  "nbformat_minor": 0
}
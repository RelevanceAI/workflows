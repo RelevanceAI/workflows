{
 "cells": [
  {
   "cell_type": "markdown",
   "metadata": {
    "id": "EVIWqU1vSfZV"
   },
   "source": [
    "In this workflow, we extract and highlight nouns in order to get the important parts of reviews."
   ]
  },
  {
   "cell_type": "code",
   "execution_count": null,
   "metadata": {
    "id": "ELb3QMaQ9WKy",
    "tags": [
     "parameters"
    ]
   },
   "outputs": [],
   "source": [
    "token = \"\""
   ]
  },
  {
   "cell_type": "code",
   "execution_count": null,
   "metadata": {
    "id": "92eE_UalSyNn"
   },
   "outputs": [],
   "source": [
    "!pip install -q RelevanceAI==2.4.2\n",
    "!pip install -q flair\n",
    "\n",
    "from relevanceai.utils import decode_workflow_token\n",
    "config = decode_workflow_token(token)\n",
    "\n",
    "text_fields = config['text_fields']\n",
    "auth_token = config['authorizationToken']\n",
    "model_name = config['model_name']\n",
    "if config['output_fields'] is None:\n",
    "  output_fields = [f\"_nounchunk_.{t}\" for t in text_fields]\n",
    "else:\n",
    "  output_fields = config['output_fields']\n",
    "\n",
    "from relevanceai import Client\n",
    "client = Client(token=auth_token)\n",
    "ds = client.Dataset(config['dataset_id'])\n",
    "\n",
    "from flair.data import Sentence\n",
    "from flair.models import SequenceTagger\n",
    "\n",
    "tagger = SequenceTagger.load(model_name)\n",
    "\n",
    "def extract_nouns(text, as_documents=False):\n",
    "  sentence = Sentence(text)\n",
    "  tagger.predict(sentence)\n",
    "  nouns = []\n",
    "  for entity in sentence.get_spans(\"np\"):\n",
    "    if entity.tag == \"NP\":\n",
    "      if as_documents:\n",
    "        nouns.append({\"noun\": entity.text, \"score\": entity.score})\n",
    "      else:\n",
    "        nouns.append(entity.text)\n",
    "  return nouns\n",
    "\n",
    "def extract_nouns_from_documents(docs, as_documents=False):\n",
    "  new_docs = [{\"_id\": d['_id']} for d in docs]\n",
    "  for d in docs:\n",
    "      for i, t in enumerate(text_fields):\n",
    "          value = extract_nouns(\n",
    "              client.get_field(t, d)[:200], \n",
    "              as_documents=as_documents\n",
    "          )\n",
    "          client.set_field(output_fields[i], new_docs[i], value)\n",
    "  return new_docs\n",
    "\n",
    "filters = []\n",
    "for output_field in output_fields:\n",
    "  filters += ds[output_field].not_exists()\n",
    "\n",
    "ds.bulk_apply(\n",
    "    extract_nouns_from_documents, \n",
    "    retrieve_chunksize=50,\n",
    "    filters=filters\n",
    ")"
   ]
  }
 ],
 "metadata": {
  "celltoolbar": "Tags",
  "colab": {
   "collapsed_sections": [],
   "name": "Extract/Highlight Nouns",
   "provenance": []
  },
  "kernelspec": {
   "display_name": "Python 3 (ipykernel)",
   "language": "python",
   "name": "python3"
  },
  "language_info": {
   "codemirror_mode": {
    "name": "ipython",
    "version": 3
   },
   "file_extension": ".py",
   "mimetype": "text/x-python",
   "name": "python",
   "nbconvert_exporter": "python",
   "pygments_lexer": "ipython3",
   "version": "3.8.9"
  },
  "toc": {
   "base_numbering": 1,
   "nav_menu": {},
   "number_sections": true,
   "sideBar": true,
   "skip_h1_title": false,
   "title_cell": "Table of Contents",
   "title_sidebar": "Contents",
   "toc_cell": false,
   "toc_position": {},
   "toc_section_display": true,
   "toc_window_display": false
  }
 },
 "nbformat": 4,
 "nbformat_minor": 1
}

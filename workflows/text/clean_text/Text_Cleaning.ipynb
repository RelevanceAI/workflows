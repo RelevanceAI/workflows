{
  "nbformat": 4,
  "nbformat_minor": 0,
  "metadata": {
    "colab": {
      "name": "Text Cleaning",
      "provenance": [],
      "collapsed_sections": []
    },
    "kernelspec": {
      "name": "python3",
      "display_name": "Python 3"
    },
    "language_info": {
      "name": "python"
    }
  },
  "cells": [
    {
      "cell_type": "code",
      "execution_count": null,
      "metadata": {
        "cellView": "form",
        "id": "ZthsvSdaVETr"
      },
      "outputs": [],
      "source": [
        "#@title Text Cleaning Workflow\n",
        "!pip install -q -U RelevanceAI-dev\n",
        "\n",
        "#@markdown You can grab your Relevance AI Text Cleaning options [here](https://cloud.relevance.ai/sdk/api).\n",
        "token = \"\" #@param {type: \"string\"}\n",
        "dataset_id = \"\" #@param {type: \"string\"}\n",
        "text_fields: str = \"text_field_1,text_field_2\" #@param {type: \"string\"}\n",
        "clean_html = True #@param {type: \"boolean\"}\n",
        "lower_case = False #@param {type: \"boolean\"}\n",
        "remove_digits = False #@param {type: \"boolean\"}\n",
        "remove_punctuation = False #@param {type: \"boolean\"}\n",
        "remove_stopwords = \"\" #@param {type: \"string\"}\n",
        "remove_stopwords = remove_stopwords.split(\",\")\n",
        "lemmatize = False #@param {type: \"boolean\"}\n",
        "\n",
        "#@markdown Words to replace by `word_1:word_2,word_3:word_4`\n",
        "replace_words = \"\" #@param {type: \"string\"}\n",
        "replace_words_list = replace_words.split(\",\")\n",
        "\n",
        "new_replace_words = {}\n",
        "\n",
        "for r in replace_words_list:\n",
        "  new_r = r.split(\":\")\n",
        "  new_replace_words[new_r[0]] = new_r[1]\n",
        "\n",
        "from relevanceai import Client \n",
        "client = Client(token=token)\n",
        "ds = client.Dataset(dataset_id)\n",
        "text_fields = text_fields.split(\",\")\n",
        "\n",
        "if len(remove_stopwords) == 0:\n",
        "  remove_stopwords = None\n",
        "\n",
        "ds.clean_text(\n",
        "    text_fields=text_fields,\n",
        "    remove_html_tags=clean_html,\n",
        "    lower=lower_case,\n",
        "    remove_punctuation=remove_punctuation,\n",
        "    remove_digits=remove_digits,\n",
        "    remove_stopwords=remove_stopwords,\n",
        "    lemmatize=lemmatize,\n",
        "    replace_words=replace_Words\n",
        ")\n"
      ]
    }
  ]
}
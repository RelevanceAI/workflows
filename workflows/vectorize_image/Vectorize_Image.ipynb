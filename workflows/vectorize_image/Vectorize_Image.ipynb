{
 "cells": [
  {
   "cell_type": "markdown",
   "metadata": {
    "id": "NUfB11RSeqc1"
   },
   "source": [
    "<img src=\"https://relevance.ai/wp-content/uploads/2021/11/logo.79f303e-1.svg\" width=\"150\" alt=\"Relevance AI\" />\n",
    "<h5> Developer-first vector platform for ML teams </h5>\n",
    "\n",
    "[![Open In Colab](https://colab.research.google.com/assets/colab-badge.svg)](https://colab.research.google.com/github/RelevanceAI/workflows/blob/main/workflows/taxonomy/Taxonomy.ipynb)\n",
    "\n",
    "Inserting your own taxonomy or labels with Relevance AI allows users to better understand."
   ]
  },
  {
   "cell_type": "code",
   "execution_count": null,
   "metadata": {
    "id": "TjROUZqQbiGq"
   },
   "outputs": [],
   "source": [
    "# @title After filling this form, press the top left button.\n",
    "# You can grab your token here https://cloud.relevance.ai/sdk/api\n",
    "\n",
    "token = (\n",
    "    \"<copy paste from https://cloud.relevance.ai/sdk/api>\"  # @param  {type:\"string\"}\n",
    ")\n",
    "dataset_id = \"<your dataset ID here>\"  # @param1 {type:\"string\"}\n",
    "field = (\n",
    "    \"<text_field>\"  # @param  {type:\"string\"} Could be a vector field or a text field\n",
    ")\n",
    "model = \"<clip>\"  # @param {type:\"string\"}\n",
    "\n",
    "!pip install -q RelevanceAI==2.3.2\n",
    "!pip install -q sentence-transformers\n",
    "\n",
    "from relevanceai import Client\n",
    "\n",
    "client = Client(token=token)\n",
    "ds = client.Dataset(dataset_id)\n",
    "\n",
    "from sentence_transformers import SentenceTransformer\n",
    "\n",
    "enc = SentenceTransformer(model)\n",
    "\n",
    "ds.vectorize_image(\n",
    "    vector_fields=[vector_field],\n",
    "    label_documents=label_documents,\n",
    "    max_number_of_labels=max_number_of_labels,\n",
    ")"
   ]
  }
 ],
 "metadata": {
  "accelerator": "GPU",
  "colab": {
   "collapsed_sections": [],
   "machine_shape": "hm",
   "name": "Vectorize Your Data with Relevance AI.ipynb",
   "provenance": []
  },
  "kernelspec": {
   "display_name": "Python 3",
   "language": "python",
   "name": "python3"
  },
  "language_info": {
   "codemirror_mode": {
    "name": "ipython",
    "version": 3
   },
   "file_extension": ".py",
   "mimetype": "text/x-python",
   "name": "python",
   "nbconvert_exporter": "python",
   "pygments_lexer": "ipython3",
   "version": "3.6.9"
  },
  "name": "Vectorize_Your_Data_with_Relevance_AI"
 },
 "nbformat": 4,
 "nbformat_minor": 1
}

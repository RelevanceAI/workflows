{
 "cells": [
  {
   "cell_type": "markdown",
   "id": "d861bae2",
   "metadata": {},
   "source": [
    "<img src=\"https://relevance.ai/wp-content/uploads/2021/11/logo.79f303e-1.svg\" width=\"150\" alt=\"Relevance AI\" />\n",
    "<h5> Developer-first vector platform for ML teams </h5>\n",
    "\n",
    "[![Open In Colab](https://colab.research.google.com/assets/colab-badge.svg)](https://colab.research.google.com/github/RelevanceAI/workflows/blob/main/community-detection/Community_Detection_with_Relevance_AI.ipynb)"
   ]
  },
  {
   "cell_type": "markdown",
   "id": "7c970c90",
   "metadata": {},
   "source": [
    "# 🔰 Community Detection with Relevance AI"
   ]
  },
  {
   "cell_type": "code",
   "execution_count": null,
   "id": "97e1244a",
   "metadata": {},
   "outputs": [],
   "source": []
  },
  {
   "cell_type": "markdown",
   "id": "f7df64fa",
   "metadata": {},
   "source": [
    "Community detection is a method used to cluster nodes in a graph. In deep learning, community detection is applied to data encoded into an embedding by a transformer. Relevence AI uses the community detection algorithm provided by [Sentence Transformers](https://github.com/UKPLab/sentence-transformers) (see example [here](https://github.com/UKPLab/sentence-transformers/blob/master/examples/applications/clustering/fast_clustering.py)). Relevance AI simplifies the process of uploading data and applying the algorithm to just a few lines of code."
   ]
  },
  {
   "cell_type": "markdown",
   "id": "b0dcd23f",
   "metadata": {},
   "source": [
    "\n",
    "## ⏬ Install `relevanceai` and `sentence-transformers`"
   ]
  },
  {
   "cell_type": "code",
   "execution_count": null,
   "id": "160330ec",
   "metadata": {},
   "outputs": [],
   "source": [
    "%%capture\n",
    "!pip install -q RelevanceAI==2.3.2\n",
    "!pip install -q sentence-transformers==2.2.0"
   ]
  },
  {
   "cell_type": "markdown",
   "id": "5b32b32e",
   "metadata": {},
   "source": [
    "## 🖥️ Connect to Client"
   ]
  },
  {
   "cell_type": "code",
   "execution_count": null,
   "id": "f31d46ee",
   "metadata": {},
   "outputs": [],
   "source": [
    "from relevanceai import Client\n",
    "\n",
    "client = Client()"
   ]
  },
  {
   "cell_type": "markdown",
   "id": "6dfc67ae",
   "metadata": {},
   "source": [
    "## 📊 Data"
   ]
  },
  {
   "cell_type": "markdown",
   "id": "1ab41efc",
   "metadata": {},
   "source": [
    "For this example, let's use one of Relevance AI's cleaned datasets, namely the cleaned ecommerce dataset. To simplify this example, we'll only get the field over which we apply the algorithm: `product_title`, the name of a product."
   ]
  },
  {
   "cell_type": "code",
   "execution_count": null,
   "id": "e6f4dddc",
   "metadata": {},
   "outputs": [],
   "source": [
    "from relevanceai.utils.datasets import get_ecommerce_dataset_encoded\n",
    "\n",
    "documents = get_ecommerce_dataset_encoded(\n",
    "    select_fields=['product_title', 'product_image', 'product_image_clip_vector_']\n",
    ")\n",
    "ds = client.Dataset('community-detection-test')\n",
    "ds.insert_documents(documents)"
   ]
  },
  {
   "cell_type": "code",
   "execution_count": null,
   "id": "4e504c56",
   "metadata": {},
   "outputs": [],
   "source": [
    "ds.schema"
   ]
  },
  {
   "cell_type": "markdown",
   "id": "c1e50013",
   "metadata": {},
   "source": [
    "## 🔎 Community Detection"
   ]
  },
  {
   "cell_type": "code",
   "execution_count": null,
   "id": "d211e29e",
   "metadata": {},
   "outputs": [],
   "source": [
    "ds.cluster(\n",
    "    model=\"communitydetection\",\n",
    "    vector_fields=['product_image_clip_vector_'],\n",
    "    cluster_config={\"threshold\": 0.75},\n",
    ")"
   ]
  },
  {
   "cell_type": "markdown",
   "id": "d6b1d0d0",
   "metadata": {},
   "source": [
    "And that's it. The method above automatically creates the attribute `_cluster_.product_title.community-detection` in all relevant documents of the Dataset. To confirm that this is indeed the case, you can check the schema below. While we didn't change any of the default values for this demonstration, be sure to check out the documentation to see how fine-tune the algorithm."
   ]
  },
  {
   "cell_type": "code",
   "execution_count": null,
   "id": "1c58fee7",
   "metadata": {},
   "outputs": [],
   "source": [
    "ds.schema"
   ]
  },
  {
   "cell_type": "markdown",
   "id": "b5916b67",
   "metadata": {},
   "source": [
    "## 👣 Next Steps"
   ]
  },
  {
   "cell_type": "markdown",
   "id": "708dbff1",
   "metadata": {},
   "source": [
    "* Explore our platform at https://cloud.releveance.ai\n",
    "* There are more in-depth tutorials and guides at https://docs.relevance.ai\n",
    "* There are detailed library references at https://relevanceai.readthedocs.io/\n",
    "* Join our slack community at https://join.slack.com/t/relevance-ai/shared_invite/zt-11fo8oush-dHPd57wamhoQ7J5arNv1mg"
   ]
  },
  {
   "cell_type": "markdown",
   "id": "bb40beca",
   "metadata": {},
   "source": [
    "## 📄 Documentation Link"
   ]
  },
  {
   "cell_type": "markdown",
   "id": "69d6b81e",
   "metadata": {},
   "source": [
    "* https://relevanceai.readthedocs.io/en/latest/dataset.html?highlight=community#relevanceai.dataset_api.dataset_operations.Operations.community_detection"
   ]
  }
 ],
 "metadata": {
  "kernelspec": {
   "display_name": "Python 3",
   "language": "python",
   "name": "python3"
  },
  "language_info": {
   "codemirror_mode": {
    "name": "ipython",
    "version": 3
   },
   "file_extension": ".py",
   "mimetype": "text/x-python",
   "name": "python",
   "nbconvert_exporter": "python",
   "pygments_lexer": "ipython3",
   "version": "3.8.0"
  },
  "name": "Community_Detection_with_Relevance_AI"
 },
 "nbformat": 4,
 "nbformat_minor": 5
}

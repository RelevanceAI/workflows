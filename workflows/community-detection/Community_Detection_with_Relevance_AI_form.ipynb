{
 "cells": [
  {
   "cell_type": "markdown",
   "id": "d861bae2",
   "metadata": {},
   "source": [
    "<img src=\"https://relevance.ai/wp-content/uploads/2021/11/logo.79f303e-1.svg\" width=\"150\" alt=\"Relevance AI\" />\n",
    "<h5> Developer-first vector platform for ML teams </h5>\n",
    "\n",
    "[![Open In Colab](https://colab.research.google.com/assets/colab-badge.svg)](https://colab.research.google.com/github/RelevanceAI/workflows/blob/main/community-detection/Community_Detection_with_Relevance_AI_form.ipynb)"
   ]
  },
  {
   "cell_type": "code",
   "execution_count": null,
   "id": "24edc87c",
   "metadata": {},
   "outputs": [],
   "source": [
    "token = \"<copy paste from https://cloud.relevance.ai/sdk/api>\"  #@param  {type:\"string\"}\n",
    "dataset_id = \"<your dataset ID here>\"  #@param {type:\"string\"}\n",
    "vector_field =  \"<your vector field  here>\"#@param {type:\"string\"}\n",
    "threshold = 0.75 #@param {type:\"number\"}\n",
    "\n",
    "\n",
    "%%capture\n",
    "!pip install -q RelevanceAI==2.3.2\n",
    "!pip install -q sentence-transformers==2.2.0\n",
    "\n",
    "\n",
    "try: \n",
    "    from relevanceai import Client\n",
    "\n",
    "    client = Client(token=token)\n",
    "    ds = client.Dataset(dataset_id)\n",
    "\n",
    "    if '_vector_' not in vector_field:\n",
    "        raise ValueError(f'{vector_field} must contain \"_vector_\"')\n",
    "\n",
    "    ds.cluster(\n",
    "        model=\"communitydetection\",\n",
    "        vector_fields=[vector_field],\n",
    "        cluster_config={\"threshold\": threshold},\n",
    "    )\n",
    "\n",
    "except Exception as e:\n",
    "    \n",
    "    raise ValueError(f'{e}')\n",
    "\n"
   ]
  }
 ],
 "metadata": {
  "kernelspec": {
   "display_name": "Python 3",
   "language": "python",
   "name": "python3"
  },
  "language_info": {
   "codemirror_mode": {
    "name": "ipython",
    "version": 3
   },
   "file_extension": ".py",
   "mimetype": "text/x-python",
   "name": "python",
   "nbconvert_exporter": "python",
   "pygments_lexer": "ipython3",
   "version": "3.8.0"
  },
  "name": "Community_Detection_with_Relevance_AI"
 },
 "nbformat": 4,
 "nbformat_minor": 5
}

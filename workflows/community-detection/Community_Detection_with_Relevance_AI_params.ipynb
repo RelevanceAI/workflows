{
 "cells": [
  {
   "cell_type": "code",
   "execution_count": null,
   "id": "9e796da6",
   "metadata": {
    "tags": [
     "parameters"
    ]
   },
   "outputs": [],
   "source": [
    "import os\n",
    "\n",
    "token =  f\"{os.environ['TEST_ACTIVATION_TOKEN']}\" if os.getenv('TEST_ACTIVATION_TOKEN') else \"\"\n",
    "dataset_id = \"basic_subclustering\"  \n",
    "vector_field =  \"product_title_clip_vector_\"\n",
    "threshold = 0.75 \n"
   ]
  },
  {
   "cell_type": "code",
   "execution_count": null,
   "id": "76e6a0c8",
   "metadata": {},
   "outputs": [],
   "source": [
    "\n",
    "try: \n",
    "    from relevanceai import Client\n",
    "\n",
    "    client = Client(token=token)\n",
    "    ds = client.Dataset(dataset_id)\n",
    "\n",
    "    if '_vector_' not in vector_field:\n",
    "        raise ValueError(f'{vector_field} must contain \"_vector_\"')\n",
    "\n",
    "    ds.cluster(\n",
    "        model=\"community_detection\",\n",
    "        cluster_config={\"threshold\": threshold},\n",
    "        vector_fields=[vector_field],\n",
    "        alias='community_detection'\n",
    "    )\n",
    "    \n",
    "\n",
    "except Exception as e:\n",
    "    \n",
    "    raise ValueError(f'{e}')"
   ]
  },
  {
   "cell_type": "code",
   "execution_count": null,
   "id": "0dbc27b4",
   "metadata": {},
   "outputs": [],
   "source": []
  }
 ],
 "metadata": {
  "celltoolbar": "Tags",
  "kernelspec": {
   "display_name": "Python 3 (ipykernel)",
   "language": "python",
   "name": "python3"
  },
  "language_info": {
   "codemirror_mode": {
    "name": "ipython",
    "version": 3
   },
   "file_extension": ".py",
   "mimetype": "text/x-python",
   "name": "python",
   "nbconvert_exporter": "python",
   "pygments_lexer": "ipython3",
   "version": "3.8.13"
  },
  "name": "Community_Detection_with_Relevance_AI"
 },
 "nbformat": 4,
 "nbformat_minor": 5
}

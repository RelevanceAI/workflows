{
 "cells": [
  {
   "cell_type": "markdown",
   "metadata": {
    "id": "U2PjT8qmmhKJ"
   },
   "source": [
    "<img src=\"https://relevance.ai/wp-content/uploads/2021/11/logo.79f303e-1.svg\" width=\"150\" alt=\"Relevance AI\" />\n",
    "<h5> Developer-first vector platform for ML teams </h5>\n",
    "\n",
    "[![Open In Colab](https://colab.research.google.com/assets/colab-badge.svg)](https://colab.research.google.com/github/RelevanceAI/workflows/blob/main/cluster-reporting/%F0%9F%91%8D_Cluster_Reports_With_Relevance_AI.ipynb)"
   ]
  },
  {
   "cell_type": "markdown",
   "metadata": {
    "id": "GPy0dwcWm8CA"
   },
   "source": [
    "# 🤖: Get started with our open-source bias detection toolkit!\n",
    "\n",
    "This notebook is a quick guide on how to use Relevance AI to detect bias based on embeddings!\n",
    "\n",
    "\n"
   ]
  },
  {
   "cell_type": "code",
   "execution_count": null,
   "metadata": {
    "id": "MpysdEa9mW-6"
   },
   "outputs": [],
   "source": [
    "%%capture\n",
    "!pip install -q RelevanceAI==2.1.4"
   ]
  },
  {
   "cell_type": "markdown",
   "metadata": {
    "id": "UY7qxP2ynd8A"
   },
   "source": [
    "## ⏬ Install `RelevanceAI` and related models!"
   ]
  },
  {
   "cell_type": "code",
   "execution_count": null,
   "metadata": {
    "id": "-pLfhxz9nVMH"
   },
   "outputs": [],
   "source": [
    "%%capture\n",
    "!pip install -q vectorhub[encoders-text-tfhub]==1.8.3\n",
    "\n",
    "from vectorhub.encoders.text.tfhub import USE2Vec\n",
    "enc = USE2Vec()"
   ]
  },
  {
   "cell_type": "markdown",
   "metadata": {
    "id": "VB1jHkc8nc8Y"
   },
   "source": [
    "## ⚡ Run the bias detection algorithm!\n",
    "\n",
    "Run the bias detection algorithm plots!"
   ]
  },
  {
   "cell_type": "code",
   "execution_count": null,
   "metadata": {
    "colab": {
     "base_uri": "https://localhost:8080/",
     "height": 337
    },
    "id": "JAhbvvyamWjT",
    "outputId": "90ad940e-812b-4009-8b39-a75a47b624ef"
   },
   "outputs": [],
   "source": [
    "from relevanceai.bias_detection import bias_indicator\n",
    "\n",
    "bias_indicator(\n",
    "    [\"boy\", \"girl\"],\n",
    "    [\"basketball\", \"draft\", \"skirt\", \"dress\", \"grave digger\"], \n",
    "    enc.encode\n",
    ")"
   ]
  },
  {
   "cell_type": "markdown",
   "metadata": {
    "id": "s3VscV6IE_FG"
   },
   "source": [
    "# 🌇 Next Steps\n",
    "\n",
    "This is just a quick tutorial on Relevance AI, there are many more applications that is possible such as zero-shot based labelling, recommendations, anomaly detection, projector and more:\n",
    "\n",
    "- Explore our platform and workflows at https://cloud.relevance.ai\n",
    "- There are more indepth tutorials and guides at https://docs.relevance.ai\n",
    "- There are detailed library references at https://relevanceai.readthedocs.io/\n",
    "- Join our slack community at https://join.slack.com/t/relevance-ai/shared_invite/zt-11fo8oush-dHPd57wamhoQ7J5arNv1mg"
   ]
  }
 ],
 "metadata": {
  "colab": {
   "collapsed_sections": [],
   "name": "✨Vector-Based Bias Detection With Relevance AI",
   "provenance": [],
   "toc_visible": true
  },
  "kernelspec": {
   "display_name": "Python 3",
   "name": "python3"
  },
  "language_info": {
   "name": "python"
  }
 },
 "nbformat": 4,
 "nbformat_minor": 0
}

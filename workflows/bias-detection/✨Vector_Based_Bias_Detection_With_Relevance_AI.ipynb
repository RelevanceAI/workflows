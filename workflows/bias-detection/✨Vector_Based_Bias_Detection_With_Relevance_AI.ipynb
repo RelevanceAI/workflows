{
 "cells": [
  {
   "cell_type": "markdown",
   "metadata": {
    "id": "U2PjT8qmmhKJ"
   },
   "source": [
    "<img src=\"https://relevance.ai/wp-content/uploads/2021/11/logo.79f303e-1.svg\" width=\"150\" alt=\"Relevance AI\" />\n",
    "<h5> Developer-first vector platform for ML teams </h5>\n",
    "\n",
    "[![Open In Colab](https://colab.research.google.com/assets/colab-badge.svg)](https://colab.research.google.com/github/RelevanceAI/workflows/blob/main/workflows/bias-detection/%E2%9C%A8Vector_Based_Bias_Detection_With_Relevance_AI.ipynb)"
   ]
  },
  {
   "cell_type": "markdown",
   "metadata": {
    "id": "GPy0dwcWm8CA"
   },
   "source": [
    "# 🤖: Get started with our open-source bias detection toolkit!\n",
    "\n",
    "This notebook is a quick guide on how to use Relevance AI to detect bias based on embeddings!\n",
    "\n",
    "\n"
   ]
  },
  {
   "cell_type": "code",
   "execution_count": null,
   "metadata": {
    "id": "MpysdEa9mW-6"
   },
   "outputs": [],
   "source": [
    "%%capture\n",
    "!pip install -q RelevanceAI==2.3.4"
   ]
  },
  {
   "cell_type": "markdown",
   "metadata": {
    "id": "UY7qxP2ynd8A"
   },
   "source": [
    "## ⏬ Install `RelevanceAI` and related models!"
   ]
  },
  {
   "cell_type": "code",
   "execution_count": null,
   "metadata": {
    "id": "-pLfhxz9nVMH"
   },
   "outputs": [],
   "source": [
    "%%capture\n",
    "!pip install -q sentence-transformers==2.2.0"
   ]
  },
  {
   "cell_type": "code",
   "execution_count": null,
   "metadata": {},
   "outputs": [],
   "source": [
    "from sentence_transformers import SentenceTransformer\n",
    "\n",
    "model = SentenceTransformer(\"all-mpnet-base-v2\")\n"
   ]
  },
  {
   "cell_type": "markdown",
   "metadata": {
    "id": "VB1jHkc8nc8Y"
   },
   "source": [
    "## ⚡ Run the bias detection algorithm!\n",
    "\n",
    "Run the bias detection algorithm plots!"
   ]
  },
  {
   "cell_type": "code",
   "execution_count": null,
   "metadata": {
    "colab": {
     "base_uri": "https://localhost:8080/",
     "height": 337
    },
    "id": "JAhbvvyamWjT",
    "outputId": "90ad940e-812b-4009-8b39-a75a47b624ef"
   },
   "outputs": [],
   "source": [
    "from relevanceai.utils.bias_detection import bias_indicator\n",
    "\n",
    "bias_indicator(\n",
    "    anchors=[\"boy\", \"girl\"],\n",
    "    values=[\"basketball\", \"draft\", \"skirt\", \"dress\", \"grave digger\"],\n",
    "    encoder=model.encode\n",
    ")\n"
   ]
  },
  {
   "cell_type": "markdown",
   "metadata": {
    "id": "s3VscV6IE_FG"
   },
   "source": [
    "# 🌇 Next Steps\n",
    "\n",
    "This is just a quick tutorial on Relevance AI, there are many more applications that is possible such as zero-shot based labelling, recommendations, anomaly detection, projector and more:\n",
    "\n",
    "- Explore our platform and workflows at https://cloud.relevance.ai\n",
    "- There are more indepth tutorials and guides at https://docs.relevance.ai\n",
    "- There are detailed library references at https://relevanceai.readthedocs.io/\n",
    "- Join our slack community at https://join.slack.com/t/relevance-ai/shared_invite/zt-11fo8oush-dHPd57wamhoQ7J5arNv1mg"
   ]
  }
 ],
 "metadata": {
  "colab": {
   "collapsed_sections": [],
   "name": "✨Vector-Based Bias Detection With Relevance AI",
   "provenance": [],
   "toc_visible": true
  },
  "interpreter": {
   "hash": "33129f74f752ccabd3d30d5a3c12b8abaa2090964a9fe96b4e55e8471d1aefbe"
  },
  "kernelspec": {
   "display_name": "Python 3.8.13 ('.venv': venv)",
   "language": "python",
   "name": "python3"
  },
  "language_info": {
   "codemirror_mode": {
    "name": "ipython",
    "version": 3
   },
   "file_extension": ".py",
   "mimetype": "text/x-python",
   "name": "python",
   "nbconvert_exporter": "python",
   "pygments_lexer": "ipython3",
   "version": "3.8.13"
  },
  "name": "✨Vector_Based_Bias_Detection_With_Relevance_AI"
 },
 "nbformat": 4,
 "nbformat_minor": 1
}

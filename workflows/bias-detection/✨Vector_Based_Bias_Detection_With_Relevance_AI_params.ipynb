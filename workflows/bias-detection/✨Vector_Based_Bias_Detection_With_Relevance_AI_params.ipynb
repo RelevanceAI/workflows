{
 "cells": [
  {
   "cell_type": "code",
   "execution_count": null,
   "metadata": {
    "tags": [
     "parameters"
    ]
   },
   "outputs": [],
   "source": [
    "anchors=[\"boy\", \"girl\"]\n",
    "values=[\"basketball\", \"draft\", \"skirt\", \"dress\", \"grave digger\"]\n",
    "sentence_transformer_model_id=\"all-mpnet-base-v2\""
   ]
  },
  {
   "cell_type": "code",
   "execution_count": null,
   "metadata": {},
   "outputs": [],
   "source": [
    "from sentence_transformers import SentenceTransformer\n",
    "model = SentenceTransformer(sentence_transformer_model_id)"
   ]
  },
  {
   "cell_type": "code",
   "execution_count": null,
   "metadata": {
    "colab": {
     "base_uri": "https://localhost:8080/",
     "height": 337
    },
    "id": "JAhbvvyamWjT",
    "outputId": "90ad940e-812b-4009-8b39-a75a47b624ef"
   },
   "outputs": [],
   "source": [
    "from relevanceai.utils.bias_detection import bias_indicator\n",
    "\n",
    "bias_indicator(\n",
    "    anchors=anchors,\n",
    "    values=values,\n",
    "    encoder=model.encode\n",
    ")\n"
   ]
  },
  {
   "cell_type": "code",
   "execution_count": null,
   "metadata": {},
   "outputs": [],
   "source": []
  }
 ],
 "metadata": {
  "celltoolbar": "Tags",
  "colab": {
   "collapsed_sections": [],
   "name": "✨Vector-Based Bias Detection With Relevance AI",
   "provenance": [],
   "toc_visible": true
  },
  "kernelspec": {
   "display_name": "Python 3 (ipykernel)",
   "language": "python",
   "name": "python3"
  },
  "language_info": {
   "codemirror_mode": {
    "name": "ipython",
    "version": 3
   },
   "file_extension": ".py",
   "mimetype": "text/x-python",
   "name": "python",
   "nbconvert_exporter": "python",
   "pygments_lexer": "ipython3",
   "version": "3.8.13"
  },
  "name": "✨Vector_Based_Bias_Detection_With_Relevance_AI"
 },
 "nbformat": 4,
 "nbformat_minor": 1
}

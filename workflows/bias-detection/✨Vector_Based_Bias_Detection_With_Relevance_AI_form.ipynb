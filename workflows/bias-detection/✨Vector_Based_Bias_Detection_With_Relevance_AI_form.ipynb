{
 "cells": [
  {
   "cell_type": "markdown",
   "metadata": {
    "id": "7FrcK2yt-_5p"
   },
   "source": [
    "<img src=\"https://relevance.ai/wp-content/uploads/2021/11/logo.79f303e-1.svg\" width=\"150\" alt=\"Relevance AI\" />\n",
    "<h5> Developer-first vector platform for ML teams </h5>\n",
    "\n",
    "[![Open In Colab](https://colab.research.google.com/assets/colab-badge.svg)](https://colab.research.google.com/github/RelevanceAI/workflows/blob/main/workflows/bias-detection/%E2%9C%A8Vector_Based_Bias_Detection_With_Relevance_AI_form.ipynb)\n"
   ]
  },
  {
   "cell_type": "markdown",
   "metadata": {
    "id": "Gk-OeKuQ-_5q"
   },
   "source": [
    "# 🤖: Get started with our open-source bias detection toolkit!\n",
    "\n",
    "This notebook is a quick guide on how to use Relevance AI to detect bias based on embeddings!\n",
    "\n",
    "\n"
   ]
  },
  {
   "cell_type": "code",
   "execution_count": null,
   "metadata": {
    "cellView": "form",
    "id": "AuDpm4Sy-_5r",
    "tags": [
     "parameters"
    ]
   },
   "outputs": [],
   "source": [
    "#@title After filling this form, press the top left button.\n",
    "\n",
    "anchors =\"man\" #@param  {type:\"string\"}\n",
    "values =\"basketball, draft, skirt, dress, grave digger\" #@param {type:\"string\"}\n",
    "sentence_transformer_model_id=\"all-mpnet-base-v2\"  #@param  {type:\"string\"} \n",
    "\n",
    "!pip install -q sentence-transformers==2.2.0\n",
    "!pip install -q -U RelevanceAI==3.2.14\n",
    "\n",
    "def strip_empty_string(list):\n",
    "    without_empty_strings = []\n",
    "    for string in list:\n",
    "        if (string != ''):\n",
    "            without_empty_strings.append(string.strip())\n",
    "    return without_empty_strings\n",
    "\n",
    "anchors = strip_empty_string(anchors.split(\",\"))\n",
    "values = strip_empty_string(values.split(\",\"))\n",
    "\n",
    "from sentence_transformers import SentenceTransformer\n",
    "model = SentenceTransformer(sentence_transformer_model_id)\n",
    "\n",
    "from relevanceai.utils.bias_detection import bias_indicator\n",
    "\n",
    "bias_indicator(\n",
    "    anchors=anchors,\n",
    "    values=values,\n",
    "    encoder=model.encode\n",
    ")"
   ]
  },
  {
   "cell_type": "markdown",
   "metadata": {
    "id": "nvGSWyZS-_5r"
   },
   "source": [
    "# 🌇 Next Steps\n",
    "\n",
    "This is just a quick tutorial on Relevance AI, there are many more applications that is possible such as zero-shot based labelling, recommendations, anomaly detection, projector and more:\n",
    "\n",
    "- Explore our platform and workflows at https://cloud.relevance.ai\n",
    "- There are more indepth tutorials and guides at https://docs.relevance.ai\n",
    "- There are detailed library references at https://relevanceai.readthedocs.io/\n",
    "- Join our slack community at https://join.slack.com/t/relevance-ai/shared_invite/zt-11fo8oush-dHPd57wamhoQ7J5arNv1mg"
   ]
  }
 ],
 "metadata": {
  "celltoolbar": "Tags",
  "colab": {
   "collapsed_sections": [],
   "name": "✨Vector-Based Bias Detection With Relevance AI",
   "provenance": [],
   "toc_visible": true
  },
  "kernelspec": {
   "display_name": "Python 3 (ipykernel)",
   "language": "python",
   "name": "python3"
  },
  "language_info": {
   "codemirror_mode": {
    "name": "ipython",
    "version": 3
   },
   "file_extension": ".py",
   "mimetype": "text/x-python",
   "name": "python",
   "nbconvert_exporter": "python",
   "pygments_lexer": "ipython3",
   "version": "3.8.13"
  },
  "name": "✨Vector_Based_Bias_Detection_With_Relevance_AI"
 },
 "nbformat": 4,
 "nbformat_minor": 0
}

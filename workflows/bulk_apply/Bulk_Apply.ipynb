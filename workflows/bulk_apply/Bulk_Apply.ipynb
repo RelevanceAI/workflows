{
  "cells": [
    {
      "cell_type": "markdown",
      "metadata": {
        "id": "oAjAHRcV8yXn"
      },
      "source": [
        "# Bulk Apply \n",
        "\n",
        "Bulk apply allows developers and users to write a quick processing function. Relevance AI Python SDK then handles fetching documents and upserting them asynchronously to ensure the fastest possible processing."
      ]
    },
    {
      "cell_type": "code",
      "execution_count": null,
      "metadata": {
        "id": "jBv2CGYO8yN8"
      },
      "outputs": [],
      "source": [
        "select_fields = [] \n",
        "dataset_id = \"\"\n",
        "chunksize: int =20\n",
        "def bulk_apply_fn(docs):\n",
        "  # sample code showing a sample bulk apply function\n",
        "  import random\n",
        "  for d in docs:\n",
        "    d['value'] = random.randint(0, 100)\n",
        "  return docs\n",
        "\n",
        "!pip install -q RelevanceAI==2.3.5\n",
        "\n",
        "from relevanceai import Client \n",
        "client = Client()\n",
        "ds = client.Dataset(dataset_id)\n",
        "ds.bulk_apply(\n",
        "    bulk_apply_fn, \n",
        "    select_fields=select_fields, \n",
        "    retrieve_chunksize=chunksize\n",
        ")"
      ]
    },
    {
      "cell_type": "code",
      "execution_count": null,
      "metadata": {
        "id": "v3aH-XXX8wzn"
      },
      "outputs": [],
      "source": []
    }
  ],
  "metadata": {
    "colab": {
      "collapsed_sections": [],
      "name": "Bulk Apply.ipynb",
      "provenance": []
    },
    "kernelspec": {
      "display_name": "Python 3",
      "name": "python3"
    },
    "language_info": {
      "name": "python"
    }
  },
  "nbformat": 4,
  "nbformat_minor": 0
}

{
 "cells": [
  {
   "cell_type": "markdown",
   "metadata": {
    "id": "NUfB11RSeqc1"
   },
   "source": [
    "<img src=\"https://relevance.ai/wp-content/uploads/2021/11/logo.79f303e-1.svg\" width=\"150\" alt=\"Relevance AI\" />\n",
    "<h5> Developer-first vector platform for ML teams </h5>\n",
    "\n",
    "[![Open In Colab](https://colab.research.google.com/assets/colab-badge.svg)](https://colab.research.google.com/github/RelevanceAI/workflows/blob/main/workflows/taxonomy/Taxonomy.ipynb)\n",
    "\n",
    "Clustering on unstructured data using pretrained or custom vectors!"
   ]
  },
  {
   "cell_type": "code",
   "execution_count": null,
   "metadata": {
    "id": "TjROUZqQbiGq"
   },
   "outputs": [],
   "source": [
    "#@title After filling this form, press the top left button.\n",
    "# You can grab your token here https://cloud.relevance.ai/sdk/api\n",
    "\n",
    "DEFAULT_VECTOR_FIELD = \"<vector field to cluster on>\"\n",
    "DEFAULT_ALIAS = \"<alias of cluster field, remove quotations and set None for default>\"\n",
    "DEFAULT_MODEL_KWARGS = \"<JSON like string of model parameters>\"\n",
    "\n",
    "token = \"fc103ba5498da02f86a3:SzJhQVRuOEJrTVRSa0ZIWFhvX3I6V0llWDBIbWZSM2FTQVd1enhOVTRMQQ:ap-southeast-2:wBfUxxaHI3QsutqMzqliyGr9RbC3\" #@param\n",
    "dataset_id = \"iris\" #@param\n",
    "model = \"kmeans\" #@param\n",
    "vector_field = \"feature_vector_\" #@param\n",
    "alias = None #@param Could be a vector field or a text field\n",
    "model_kwargs = '{\"n_clusters\": 3}' #@param\n",
    "\n",
    "!pip install -q RelevanceAI==2.3.4\n",
    "\n",
    "from relevanceai import Client\n",
    "client = Client(token=token)\n",
    "ds = client.Dataset(dataset_id)\n",
    "\n",
    "alias = None if alias == DEFAULT_ALIAS else alias\n",
    "model_kwargs = None if model_kwargs == DEFAULT_MODEL_KWARGS else model_kwargs\n",
    "if vector_field == DEFAULT_VECTOR_FIELD:\n",
    "  raise ValueError(\"Please set a vaild vector field\")\n",
    "\n",
    "import json\n",
    "model_kwargs = json.loads(model_kwargs)\n",
    "\n",
    "ds.cluster(\n",
    "  vector_fields=[vector_field],\n",
    "  model=model,\n",
    "  alias=alias,\n",
    "  model_kwargs=model_kwargs,\n",
    ")"
   ]
  }
 ],
 "metadata": {
  "accelerator": "GPU",
  "colab": {
   "collapsed_sections": [],
   "machine_shape": "hm",
   "name": "Cluster Your Data with Relevance AI.ipynb",
   "provenance": []
  },
  "interpreter": {
   "hash": "2f37d18d48c838ed4650d00746e8f1f7ae7217fa17e107ee8294938c0787d93b"
  },
  "kernelspec": {
   "display_name": "Python 3.8.0 ('.venv': venv)",
   "language": "python",
   "name": "python3"
  },
  "language_info": {
   "codemirror_mode": {
    "name": "ipython",
    "version": 3
   },
   "file_extension": ".py",
   "mimetype": "text/x-python",
   "name": "python",
   "nbconvert_exporter": "python",
   "pygments_lexer": "ipython3",
   "version": "3.8.0"
  },
  "name": "Cluster_Your_Data_with_Relevance_AI"
 },
 "nbformat": 4,
 "nbformat_minor": 0
}

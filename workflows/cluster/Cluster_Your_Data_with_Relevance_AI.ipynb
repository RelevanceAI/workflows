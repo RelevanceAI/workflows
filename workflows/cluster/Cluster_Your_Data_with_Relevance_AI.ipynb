{
 "cells": [
  {
   "cell_type": "markdown",
   "metadata": {
    "id": "24gb3YFYTLkt"
   },
   "source": [
    "[![Open In Colab](https://colab.research.google.com/assets/colab-badge.svg)](https://colab.research.google.com/github/RelevanceAI/workflows/blob/main/workflows/cluster/Cluster_Your_Data_with_Relevance_AI.ipynb)"
   ]
  },
  {
   "cell_type": "markdown",
   "metadata": {
    "id": "NUfB11RSeqc1"
   },
   "source": [
    "# Instructions\n",
    "\n",
    "1. Paste the token copied to your clipboard provided from the 'Subcluster' Workflow dashboard.\n",
    "2. Click the ▶️  on the left or go to \"Runtime\" -> \"Run All\" and click \"Run anyway\" on the warning that pops up.\n",
    "3. You should see a progress bar underneath the form, keep this window opened and active until the progress bar is complete otherwise it'll terminate.\n",
    "\n",
    "Note: \n",
    "- For fastest clustering speed make sure to go to \"Runtime\" -> \"Change runtime type\" and enable \"Hardware accelerator\" as \"GPU\"."
   ]
  },
  {
   "cell_type": "code",
   "execution_count": null,
   "metadata": {
    "id": "TjROUZqQbiGq"
   },
   "outputs": [],
   "source": [
    "#@title Paste token below and press ▶️  button to the left of this title { display-mode: \"form\" }\n",
    "# %tb\n",
    "\n",
    "# config = {\n",
    "#   \"dataset_id\": \"advanced_search_example\",\n",
    "#   \"n_clusters\": 10,\n",
    "#   \"vector_fields\": [\n",
    "#     \"product_title_clip_vector_\"\n",
    "#   ],\n",
    "#   \"cutoff\": 0.75,\n",
    "#   \"clusteringType\": \"community-detection\",\n",
    "#   \"region\": \"ap-southeast-2\",\n",
    "#   \"project\": \"xxx\",\n",
    "#   \"api_key\": \"xxx\",\n",
    "#   \"authorizationToken\": \"xxx:xxx:ap-southeast-2:xxx\"\n",
    "# }\n",
    "\n",
    "import base64\n",
    "import json\n",
    "\n",
    "token = \"\" #@param {type:\"string\"}\n",
    "\n",
    "show_warnings_in_logs = False #@param {type:\"boolean\"}\n",
    "#@markdown Once the form is filled and you've clicked run, monitor below for logs of it running\n",
    "\n",
    "config = json.loads(base64.b64decode(token + \"===\"))\n",
    "\n",
    "# print(json.dumps(config, indent=2))\n",
    "\n",
    "print(\"Installing RelevanceAI\")\n",
    "\n",
    "!pip install -q RelevanceAI==2.1.8\n",
    "## Instantiate client ###\n",
    "from relevanceai import Client \n",
    "client = Client(token=config['authorizationToken'])\n",
    "\n",
    "## Checking valid vector field ###\n",
    "for v in config['vector_fields']:\n",
    "  if not '_vector_'in v:\n",
    "    raise ValueError(f\"'{v}' is not a valid vector field\")\n",
    "\n",
    "\n",
    "df = client.Dataset(config['dataset_id'])\n",
    "try:\n",
    "  if config['clusteringType'] == 'community-detection':\n",
    "    cluster_method  = \"community_detection\"\n",
    "    !pip install -q sentence-transformers==2.2.0\n",
    "    df.cluster(\n",
    "        cluster_method,\n",
    "        cluster_config={\"threshold\": config['cutoff']},\n",
    "        vector_fields=config['vector_fields']\n",
    "    )\n",
    "  elif config['clusteringType'] == 'kmeans':\n",
    "    if df.shape[0] < 3000:\n",
    "      df.cluster(\n",
    "          config['clusteringType'],\n",
    "          cluster_config={\"n_clusters\": config['n_clusters']},\n",
    "          vector_fields=config['vector_fields']\n",
    "      )\n",
    "    else:\n",
    "      cluster_method = 'minibatchkmeans'\n",
    "      df.cluster(\n",
    "          cluster_method,\n",
    "          cluster_config={\"n_clusters\": config['n_clusters']},\n",
    "          vector_fields=config['vector_fields']\n",
    "      )\n",
    "  else:\n",
    "    cluster_method = \"kmeans\"\n",
    "    df.cluster(\n",
    "        cluster_method,\n",
    "        cluster_config={\"n_clusters\": config['n_clusters']},\n",
    "        vector_fields=config['vector_fields']\n",
    "    )\n",
    "except Exception as e:\n",
    "  raise ValueError('Incorrect token provided')\n",
    "\n",
    "if cluster_method == \"community-detection\":\n",
    "    print(f\"Finished subclustering your data with {cluster_method} with cutoff={config['cutoff']}, you may close this window.\")\n",
    "elif cluster_method == \"kmeans\":\n",
    "    print(f\"Finished subclustering your data with {cluster_method} with n_clusters={config['n_clusters']}, you may close this window.\")\n"
   ]
  },
  {
   "cell_type": "code",
   "execution_count": null,
   "metadata": {},
   "outputs": [],
   "source": []
  }
 ],
 "metadata": {
  "accelerator": "GPU",
  "colab": {
   "collapsed_sections": [],
   "machine_shape": "hm",
   "name": "Cluster Your Data with Relevance AI.ipynb",
   "provenance": []
  },
  "interpreter": {
   "hash": "2f37d18d48c838ed4650d00746e8f1f7ae7217fa17e107ee8294938c0787d93b"
  },
  "kernelspec": {
   "display_name": "Python 3.8.0 ('.venv': venv)",
   "language": "python",
   "name": "python3"
  },
  "language_info": {
   "codemirror_mode": {
    "name": "ipython",
    "version": 3
   },
   "file_extension": ".py",
   "mimetype": "text/x-python",
   "name": "python",
   "nbconvert_exporter": "python",
   "pygments_lexer": "ipython3",
   "version": "3.8.0"
  },
  "name": "Cluster_Your_Data_with_Relevance_AI"
 },
 "nbformat": 4,
 "nbformat_minor": 0
}

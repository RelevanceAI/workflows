{
 "cells": [
  {
   "cell_type": "markdown",
   "metadata": {
    "id": "24gb3YFYTLkt"
   },
   "source": [
    "[![Open In Colab](https://colab.research.google.com/assets/colab-badge.svg)](https://colab.research.google.com/github/RelevanceAI/workflows/blob/main/workflows/cluster/Cluster_Your_Data_with_Relevance_AI.ipynb)"
   ]
  },
  {
   "cell_type": "markdown",
   "metadata": {
    "id": "NUfB11RSeqc1"
   },
   "source": [
    "# Instructions\n",
    "\n",
    "1. Paste the token copied to your clipboard provided from the 'Subcluster' Workflow dashboard.\n",
    "2. Click the ▶️  on the left or go to \"Runtime\" -> \"Run All\" and click \"Run anyway\" on the warning that pops up.\n",
    "3. You should see a progress bar underneath the form, keep this window opened and active until the progress bar is complete otherwise it'll terminate.\n",
    "\n",
    "Note: \n",
    "- For fastest clustering speed make sure to go to \"Runtime\" -> \"Change runtime type\" and enable \"Hardware accelerator\" as \"GPU\"."
   ]
  },
  {
   "cell_type": "code",
   "execution_count": null,
   "metadata": {
    "id": "TjROUZqQbiGq"
   },
   "outputs": [],
   "source": [
    "#@title Paste token below and press ▶️  button to the left of this title { display-mode: \"form\" }\n",
    "# %tb\n",
    "\n",
    "import base64\n",
    "import json\n",
    "token = \"\" #@param {type:\"string\"}\n",
    "\n",
    "show_warnings_in_logs = False #@param {type:\"boolean\"}\n",
    "#@markdown Once the form is filled and you've clicked run, monitor below for logs of it running\n",
    "\n",
    "config = json.loads(base64.b64decode(token + \"===\"))\n",
    "\n",
    "# print(json.dumps(config, indent=2))\n",
    "\n",
    "!pip install -q RelevanceAI==2.1.4\n",
    "!pip install -q sentence-transformers==2.2.0\n",
    "from relevanceai import Client\n",
    "client = Client(token=config['authorizationToken'])\n",
    "\n",
    "dataset_id = config['dataset_id']  ## Change this to your own dataset\n",
    "n_clusters = config['n_clusters'] # number of clusters you want\n",
    "vector_field = config['vector_field']  # vector field\n",
    "parent_field = config['parent_field'] # what to base clusters on\n",
    "alias = config['alias'] # What you want to call these clusters\n",
    "cluster_method = config['clusteringType']\n",
    "ds = client.Dataset(dataset_id)\n",
    "\n",
    "try:\n",
    "  if cluster_method == \"community-detection\":\n",
    "      cluster_method = \"community_detection\"\n",
    "      !pip install -q sentence-transformers==2.2.0\n",
    "      ds.subcluster(\n",
    "          model=cluster_method,\n",
    "          cluster_config={\"threshold\": config['threshold']},\n",
    "          vector_fields=[vector_field],\n",
    "          parent_field=parent_field,\n",
    "          alias=alias\n",
    "      )\n",
    "  elif cluster_method == \"kmeans\":\n",
    "      from sklearn.cluster import KMeans\n",
    "      model = KMeans(n_clusters=n_clusters)\n",
    "      ds.subcluster(\n",
    "          model=model,\n",
    "          parent_field=parent_field,\n",
    "          vector_fields=[vector_field],\n",
    "          alias=alias,\n",
    "          cluster_config={\"n_clusters\": config['n_clusters']}\n",
    "      )\n",
    "except Exception as e:\n",
    "    print(e)\n",
    "    raise ValueError(f'Incorrect token provided. {json.dumps(config, indent=2)}')\n",
    "\n",
    "\n",
    "print(\"Finished subclustering your data.\")"
   ]
  }
 ],
 "metadata": {
  "accelerator": "GPU",
  "colab": {
   "collapsed_sections": [],
   "machine_shape": "hm",
   "name": "Cluster Your Data with Relevance AI.ipynb",
   "provenance": []
  },
  "interpreter": {
   "hash": "ce74dd10116053770a9f879f012eff522217714348206cf6ee41fb944aa63a70"
  },
  "kernelspec": {
   "display_name": "Python 3.7.10 64-bit",
   "name": "python3"
  },
  "language_info": {
   "codemirror_mode": {
    "name": "ipython",
    "version": 3
   },
   "file_extension": ".py",
   "mimetype": "text/x-python",
   "name": "python",
   "nbconvert_exporter": "python",
   "pygments_lexer": "ipython3",
   "version": "3.7.10"
  }
 },
 "nbformat": 4,
 "nbformat_minor": 0
}

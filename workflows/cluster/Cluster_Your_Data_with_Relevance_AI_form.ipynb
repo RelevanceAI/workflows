{
 "cells": [
  {
   "cell_type": "markdown",
   "metadata": {
    "id": "NUfB11RSeqc1"
   },
   "source": [
    "<img src=\"https://relevance.ai/wp-content/uploads/2021/11/logo.79f303e-1.svg\" width=\"150\" alt=\"Relevance AI\" />\n",
    "<h5> Developer-first vector platform for ML teams </h5>\n",
    "\n",
    "[![Open In Colab](https://colab.research.google.com/assets/colab-badge.svg)](https://colab.research.google.com/github/RelevanceAI/workflows/blob/main/workflows/cluster/Cluster_Your_Data_with_Relevance_AI_form.ipynb)\n"
   ]
  },
  {
   "cell_type": "code",
   "execution_count": null,
   "metadata": {
    "id": "TjROUZqQbiGq"
   },
   "outputs": [],
   "source": [
    "#@title After filling this form, press the top left button.\n",
    "# You can grab your token here https://cloud.relevance.ai/sdk/api\n",
    "\n",
    "token = \"<copy paste from https://cloud.relevance.ai/sdk/api>\"  #@param  {type:\"string\"}\n",
    "dataset_id = \"<your dataset ID here>\"  #@param {type:\"string\"}\n",
    "n_clusters = 10  #@param {type: \"integer\"}\n",
    "vector_field =  \"<your vector field  here>\"#@param {type:\"string\"}\n",
    "clusteringType =  \"community-detection\"  #@param {type:\"string\"}\n",
    "\n",
    "#@markdown Optional Configurations\n",
    "cutoff = 0.75 #@param {type:\"number\"}\n",
    "\n",
    "project = token.split(':')[0]\n",
    "api_key = token.split(':')[1]\n",
    "region = token.split(':')[2]\n",
    "\n",
    "config = {\n",
    "  \"dataset_id\": dataset_id,\n",
    "  \"n_clusters\": 10,\n",
    "  \"vector_fields\": [vector_field],\n",
    "  \"cutoff\": cutoff,\n",
    "  \"clusteringType\": clusteringType,\n",
    "  \"region\": region,\n",
    "  \"project\": project,\n",
    "  \"api_key\": api_key,\n",
    "  \"authorizationToken\": token\n",
    "}\n",
    "\n",
    "import base64\n",
    "import json\n",
    "\n",
    "show_warnings_in_logs = False #@param {type:\"boolean\"}\n",
    "#@markdown Once the form is filled and you've clicked run, monitor below for logs of it running\n",
    "\n",
    "# print(json.dumps(config, indent=2))\n",
    "\n",
    "print(\"Installing RelevanceAI\")\n",
    "\n",
    "!pip install -q RelevanceAI==2.1.8\n",
    "## Instantiate client ###\n",
    "from relevanceai import Client \n",
    "client = Client(token=token)\n",
    "\n",
    "## Checking valid vector field ###\n",
    "for v in config['vector_fields']:\n",
    "  if not '_vector_'in v:\n",
    "    raise ValueError(f\"'{v}' is not a valid vector field\")\n",
    "\n",
    "\n",
    "df = client.Dataset(config['dataset_id'])\n",
    "cluster_method = \"kmeans\" # setting to default\n",
    "try:\n",
    "  if config['clusteringType'] == 'community-detection':\n",
    "    cluster_method  = \"community_detection\"\n",
    "    !pip install -q sentence-transformers==2.2.0\n",
    "    df.cluster(\n",
    "        cluster_method,\n",
    "        cluster_config={\"threshold\": config['cutoff']},\n",
    "        vector_fields=config['vector_fields']\n",
    "    )\n",
    "  elif config['clusteringType'] == 'kmeans':\n",
    "    if df.shape[0] < 3000:\n",
    "      cluster_method = 'kmeans'\n",
    "      df.cluster(\n",
    "          config['clusteringType'],\n",
    "          cluster_config={\"n_clusters\": config['n_clusters']},\n",
    "          vector_fields=config['vector_fields']\n",
    "      )\n",
    "    else:\n",
    "      cluster_method = 'minibatchkmeans'\n",
    "      df.cluster(\n",
    "          cluster_method,\n",
    "          cluster_config={\"n_clusters\": config['n_clusters']},\n",
    "          vector_fields=config['vector_fields']\n",
    "      )\n",
    "  else:\n",
    "    cluster_method = \"kmeans\"\n",
    "    df.cluster(\n",
    "        cluster_method,\n",
    "        cluster_config={\"n_clusters\": config['n_clusters']},\n",
    "        vector_fields=config['vector_fields']\n",
    "    )\n",
    "except Exception as e:\n",
    "  raise ValueError('Incorrect token provided')\n",
    "\n",
    "if cluster_method == \"community-detection\":\n",
    "    print(f\"Finished subclustering your data with {cluster_method} with cutoff={config['cutoff']}, you may close this window.\")\n",
    "elif cluster_method == \"kmeans\":\n",
    "    print(f\"Finished subclustering your data with {cluster_method} with n_clusters={config['n_clusters']}, you may close this window.\")\n"
   ]
  },
  {
   "cell_type": "code",
   "execution_count": null,
   "metadata": {},
   "outputs": [],
   "source": []
  }
 ],
 "metadata": {
  "accelerator": "GPU",
  "colab": {
   "collapsed_sections": [],
   "machine_shape": "hm",
   "name": "Cluster Your Data with Relevance AI.ipynb",
   "provenance": []
  },
  "interpreter": {
   "hash": "2f37d18d48c838ed4650d00746e8f1f7ae7217fa17e107ee8294938c0787d93b"
  },
  "kernelspec": {
   "display_name": "Python 3.8.0 ('.venv': venv)",
   "language": "python",
   "name": "python3"
  },
  "language_info": {
   "codemirror_mode": {
    "name": "ipython",
    "version": 3
   },
   "file_extension": ".py",
   "mimetype": "text/x-python",
   "name": "python",
   "nbconvert_exporter": "python",
   "pygments_lexer": "ipython3",
   "version": "3.8.0"
  },
  "name": "Cluster_Your_Data_with_Relevance_AI"
 },
 "nbformat": 4,
 "nbformat_minor": 0
}

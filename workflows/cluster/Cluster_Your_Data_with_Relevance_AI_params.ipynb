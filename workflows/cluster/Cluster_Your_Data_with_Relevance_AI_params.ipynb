{
 "cells": [
  {
   "cell_type": "code",
   "execution_count": null,
   "metadata": {
    "tags": [
     "parameters"
    ]
   },
   "outputs": [],
   "source": [
    "api_key = \"\"\n",
    "project = \"\"\n",
    "region = \"\"\n",
    "authorizationToken = \"\"\n",
    "\n",
    "dataset_id = \"basic_subclustering\"\n",
    "clusteringType = \"community-detection\"\n",
    "cutoff = 0.75\n",
    "encode_type = \"text\"\n",
    "vector_fields = [\"product_title_clip_vector_\"]\n",
    "n_clusters = 10\n"
   ]
  },
  {
   "cell_type": "code",
   "execution_count": null,
   "metadata": {
    "id": "TjROUZqQbiGq"
   },
   "outputs": [],
   "source": [
    "client = Client()\n"
   ]
  },
  {
   "cell_type": "code",
   "execution_count": null,
   "metadata": {},
   "outputs": [],
   "source": []
  }
 ],
 "metadata": {
  "accelerator": "GPU",
  "celltoolbar": "Tags",
  "colab": {
   "collapsed_sections": [],
   "machine_shape": "hm",
   "name": "Cluster Your Data with Relevance AI.ipynb",
   "provenance": []
  },
  "interpreter": {
   "hash": "2f37d18d48c838ed4650d00746e8f1f7ae7217fa17e107ee8294938c0787d93b"
  },
  "kernelspec": {
   "display_name": "Python 3",
   "language": "python",
   "name": "python3"
  },
  "language_info": {
   "codemirror_mode": {
    "name": "ipython",
    "version": 3
   },
   "file_extension": ".py",
   "mimetype": "text/x-python",
   "name": "python",
   "nbconvert_exporter": "python",
   "pygments_lexer": "ipython3",
   "version": "3.8.0"
  },
  "name": "Cluster_Your_Data_with_Relevance_AI"
 },
 "nbformat": 4,
 "nbformat_minor": 1
}

{
  "cells": [
    {
      "cell_type": "code",
      "execution_count": null,
      "metadata": {
        "id": "LOZXlX6OQXde",
        "tags": [
          "parameters"
        ]
      },
      "outputs": [],
      "source": [
        "import os\n",
        "\n",
        "api_key = \"\"\n",
        "project = \"\"\n",
        "region = \"\"\n",
        "authorizationToken = f\"{os.environ['TEST_ACTIVATION_TOKEN']}\" if os.getenv('TEST_ACTIVATION_TOKEN') else \"\"\n",
        "\n",
        "dataset_id = \"basic_subclustering\"\n",
        "clusteringType = \"community-detection\"\n",
        "cutoff = 0.75\n",
        "encode_type = \"text\"\n",
        "vector_fields = [\"product_title_clip_vector_\"]\n",
        "n_clusters = 10\n",
        "\n",
        "\n"
      ]
    },
    {
      "cell_type": "code",
      "execution_count": null,
      "metadata": {
        "id": "k3hcxG57QXdf"
      },
      "outputs": [],
      "source": [
        "# because we don't know how to set env variables\n",
        "try:\n",
        "    import os\n",
        "    os.environ[\"WORKFLOW_ID\"] = job_id\n",
        "except Exception as e:\n",
        "    print(e)\n",
        "    pass"
      ]
    },
    {
      "cell_type": "code",
      "execution_count": null,
      "metadata": {
        "id": "TjROUZqQbiGq"
      },
      "outputs": [],
      "source": [
        "\n",
        "## Instantiate client ###\n",
        "from relevanceai import Client \n",
        "client = Client(token=authorizationToken)\n",
        "\n",
        "## Checking valid vector field ###\n",
        "for v in vector_fields:\n",
        "  if not '_vector_'in v:\n",
        "    raise ValueError(f\"'{v}' is not a valid vector field\")\n",
        "\n",
        "!pip install -q -U RelevanceAI==2.7.6\n",
        "ds = client.Dataset(dataset_id)\n",
        "try:\n",
        "  if clusteringType == 'community-detection':\n",
        "    cluster_method  = \"community_detection\"\n",
        "    ds.cluster(\n",
        "        model=cluster_method,\n",
        "        cluster_config={\"threshold\": cutoff},\n",
        "        vector_fields=vector_fields\n",
        "    )\n",
        "  elif clusteringType == 'kmeans':\n",
        "    if ds.shape[0] < 5000:\n",
        "      from sklearn.cluster import KMeans\n",
        "      cluster_method = 'kmeans'\n",
        "      model = KMeans(n_clusters=n_clusters, random_state=42)\n",
        "      alias = f\"{cluster_method}-{n_clusters}\"\n",
        "      ds.cluster(\n",
        "          model=model,\n",
        "          cluster_config={\"n_clusters\": n_clusters, \"random_state\": 42},\n",
        "          vector_fields=vector_fields,\n",
        "          alias=alias\n",
        "      )\n",
        "    else:\n",
        "      cluster_method = 'minibatchkmeans'\n",
        "      from sklearn.cluster import MiniBatchKMeans\n",
        "      cluster_method = 'kmeans'\n",
        "      model = MiniBatchKMeans(n_clusters=n_clusters, random_state=42)\n",
        "      alias = f\"{cluster_method}-{n_clusters}\"\n",
        "      ds.batch_cluster(\n",
        "          model=model,\n",
        "          cluster_config={\"n_clusters\": n_clusters, \"random_state\": 42},\n",
        "          vector_fields=vector_fields,\n",
        "          alias=alias\n",
        "      )\n",
        "  elif clusteringType == \"kmedoids\":\n",
        "    from sklearn_extra.cluster import KMedoids\n",
        "    cluster_method = \"kmedoids\"\n",
        "    model = KMedoids(n_clusters=n_clusters, random_state=42, init=\"k-medoids++\")\n",
        "    alias = f\"{cluster_method}-{n_clusters}\"\n",
        "    ds.cluster(\n",
        "        model=model,\n",
        "        vector_fields=vector_fields,\n",
        "        alias=alias\n",
        "    )\n",
        "\n",
        "except Exception as e:\n",
        "  raise ValueError(f'{e}')\n",
        "\n",
        "print(\"Finished clustering your data, you may close this window.\")\n",
        "\n"
      ]
    }
  ],
  "metadata": {
    "accelerator": "GPU",
    "celltoolbar": "Tags",
    "colab": {
      "collapsed_sections": [],
      "machine_shape": "hm",
      "name": "Cluster Your Data with Relevance AI.ipynb",
      "provenance": []
    },
    "interpreter": {
      "hash": "33129f74f752ccabd3d30d5a3c12b8abaa2090964a9fe96b4e55e8471d1aefbe"
    },
    "kernelspec": {
      "display_name": "Python 3 (ipykernel)",
      "language": "python",
      "name": "python3"
    },
    "language_info": {
      "codemirror_mode": {
        "name": "ipython",
        "version": 3
      },
      "file_extension": ".py",
      "mimetype": "text/x-python",
      "name": "python",
      "nbconvert_exporter": "python",
      "pygments_lexer": "ipython3",
      "version": "3.9.12"
    },
    "name": "Cluster_Your_Data_with_Relevance_AI",
    "toc": {
      "base_numbering": 1,
      "nav_menu": {},
      "number_sections": true,
      "sideBar": true,
      "skip_h1_title": false,
      "title_cell": "Table of Contents",
      "title_sidebar": "Contents",
      "toc_cell": false,
      "toc_position": {},
      "toc_section_display": true,
      "toc_window_display": false
    }
  },
  "nbformat": 4,
  "nbformat_minor": 0
}

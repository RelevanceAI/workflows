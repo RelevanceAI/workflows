{
  "nbformat": 4,
  "nbformat_minor": 0,
  "metadata": {
    "colab": {
      "name": "Inserting Excel Files.ipynb",
      "provenance": [],
      "collapsed_sections": []
    },
    "kernelspec": {
      "name": "python3",
      "display_name": "Python 3"
    },
    "language_info": {
      "name": "python"
    }
  },
  "cells": [
    {
      "cell_type": "markdown",
      "source": [
        "# Inserting Excel files"
      ],
      "metadata": {
        "id": "1-qgs8F4-oCD"
      }
    },
    {
      "cell_type": "code",
      "source": [
        "#@title Press the folder icon on the left, drag and drop your Excel file there. Then, fill out this form and then press play on the left.\n",
        "\n",
        "dataset_id = \"\" #@param {type: \"string\"}\n",
        "excel_filename = \"\" #@param {type: \"string\"}\n",
        "#@markdown You can grab your token [by clicking here](https://cloud.relevance.ai/sdk/api)\n",
        "token = \"\" #@param {type: \"string\"}\n",
        "\n",
        "!pip install -q RelevanceAI-dev \n",
        "\n",
        "\n",
        "from relevanceai import Client \n",
        "client = Client(token=token)\n",
        "ds = client.Dataset(dataset_id)\n",
        "import pandas as pd\n",
        "df = pd.read_excel(excel_filename)\n",
        "ds.insert_df(df)\n"
      ],
      "metadata": {
        "cellView": "form",
        "id": "CROo1OdC-nhH"
      },
      "execution_count": null,
      "outputs": []
    }
  ]
}
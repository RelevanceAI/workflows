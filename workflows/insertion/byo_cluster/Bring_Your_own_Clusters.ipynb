{
  "nbformat": 4,
  "nbformat_minor": 0,
  "metadata": {
    "colab": {
      "name": "Bring Your own Clusters",
      "provenance": [],
      "collapsed_sections": []
    },
    "kernelspec": {
      "name": "python3",
      "display_name": "Python 3"
    },
    "language_info": {
      "name": "python"
    }
  },
  "cells": [
    {
      "cell_type": "code",
      "execution_count": null,
      "metadata": {
        "cellView": "form",
        "id": "f8UKRfLgPzb7"
      },
      "outputs": [],
      "source": [
        "#@title Bring Your Own Clusters\n",
        "#@markdown This notebook shows you how to bring your own clusters. This allows\n",
        "#@markdown users to unlock all the functionality of vectors and explorer\n",
        "#@markdown dashboards!\n",
        "\n",
        "#@markdown You can get your token [by clicking here](https://cloud.relevance.ai/sdk/api)\n",
        "token = \"\" #@param {type: \"string\"}\n",
        "dataset_id = \"\" #@param {type: \"string\"}\n",
        "byo_cluster_field = \"\" #@param {type: \"string\"}\n",
        "alias = \"\" #@param {type: \"string\"}\n",
        "vector_fields = [\"reviews.title_mpnet_vector_\"] #@param\n",
        "\n",
        "\n",
        "!pip install -q RelevanceAI-dev\n",
        "from relevanceai import Client \n",
        "client = Client(token=token)\n",
        "ds = client.Dataset(dataset_id)\n",
        "ds.byo_cluster(\n",
        "    vector_fields=vector_fields,\n",
        "    alias=alias,\n",
        "    byo_cluster_field=byo_cluster_field,\n",
        "    # If you have your own centroids and don't need us to calculate - add them \n",
        "    # below \n",
        "    centroids=None\n",
        ")"
      ]
    }
  ]
}
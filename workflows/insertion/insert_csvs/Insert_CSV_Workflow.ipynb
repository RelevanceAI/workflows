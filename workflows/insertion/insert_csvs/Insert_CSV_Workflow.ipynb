{
  "cells": [
    {
      "cell_type": "markdown",
      "metadata": {
        "id": "qqSm4HGOM0Uc"
      },
      "source": [
        "This workflow allows you to insert large CSVs. \n",
        "\n",
        "Step 1: Press the Folder icon on the left and then drag and drop a CSV.\n",
        "Step 2: Fill out the form below   \n",
        "Step 3: Press Play on the top left corner of the cell below.   "
      ]
    },
    {
      "cell_type": "code",
      "execution_count": null,
      "metadata": {
        "cellView": "form",
        "id": "cOt0DMo6MyGi"
      },
      "outputs": [],
      "source": [
        "!pip install -q RelevanceAI-dev\n",
        "\n",
        "#@markdown Get your token from https://cloud.relevance.ai/sdk/api and paste below\n",
        "authorizationToken = \"\" # @param {type: \"string\"}\n",
        "#@markdown The name of your CSV\n",
        "csvFilename = \"\" # @param {type: \"string\"}\n",
        "#@markdown What to call your dataset\n",
        "datasetId = \"\"  # @param {type: \"string\"}\n",
        "\n",
        "from relevanceai import Client\n",
        "client = Client(token=authorizationToken)\n",
        "ds = client.Dataset(datasetId)\n",
        "ds.insert_csv(csvFilename)"
      ]
    }
  ],
  "metadata": {
    "colab": {
      "collapsed_sections": [],
      "name": "Insert CSV Workflow.ipynb",
      "provenance": []
    },
    "kernelspec": {
      "display_name": "Python 3",
      "name": "python3"
    },
    "language_info": {
      "name": "python"
    }
  },
  "nbformat": 4,
  "nbformat_minor": 0
}

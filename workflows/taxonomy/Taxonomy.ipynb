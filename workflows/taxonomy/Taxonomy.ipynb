{
  "cells": [
    {
      "cell_type": "markdown",
      "metadata": {
        "id": "bi8X48E9ct6l"
      },
      "source": [
        "<img src=\"https://relevance.ai/wp-content/uploads/2021/11/logo.79f303e-1.svg\" width=\"150\" alt=\"Relevance AI\" />\n",
        "<h5> Developer-first vector platform for ML teams </h5>\n",
        "\n",
        "[![Open In Colab](https://colab.research.google.com/assets/colab-badge.svg)](https://colab.research.google.com/github/RelevanceAI/workflows/blob/main/workflows/taxonomy/Taxonomy.ipynb)\n",
        "\n",
        "Inserting your own taxonomy or labels with Relevance AI allows users to better understand."
      ]
    },
    {
      "cell_type": "code",
      "execution_count": 23,
      "metadata": {
        "cellView": "form",
        "id": "GCKOo_jAdEnx"
      },
      "outputs": [],
      "source": [
        "#@title After filling this form, press the top left button.\n",
        "# You can grab your token here https://cloud.relevance.ai/sdk/api\n",
        "\n",
        "token = \"<copy paste from https://cloud.relevance.ai/sdk/api>\" #@param\n",
        "dataset_id = \"<your dataset ID here>\" #@param\n",
        "taxonomy_labels = [\"dairy products\", \"bread\"] #@param\n",
        "field = \"text\" #@param Could be a vector field or a text field\n",
        "\n",
        "#@markdown Optional Configurations\n",
        "max_number_of_labels = 1 #@param\n",
        "model_id = \"sentence-transformers/all-mpnet-base-v2\" #@param\n",
        "\n",
        "!pip install -q RelevanceAI==2.3.2\n",
        "!pip install -q sentence-transformers=2.2.0\n",
        "\n",
        "from relevanceai import Client\n",
        "client = Client(token=token)\n",
        "ds = client.Dataset(dataset_id)\n",
        "from sentence_transformers import SentenceTransformer\n",
        "enc = SentenceTransformer(model_id)\n",
        "\n",
        "label_documents = [{\"label\": l, \"label_vector_\": enc.encode(l).tolist()} for l in taxonomy_labels]\n",
        "if not field.endswith(\"_vector_\"):\n",
        "  ds.vectorize_text(fields=[field], models=[model_id])\n",
        "\n",
        "if not field.endswith(\"_vector_\"):\n",
        "  # rename to a different vector \n",
        "  field = field + \"_\" + model_id + \"_vector_\"\n",
        "vector_field = field.replace(\"/\", \"_\")\n",
        "ds.label(\n",
        "    vector_fields=[vector_field],\n",
        "    label_documents=label_documents,\n",
        "    max_number_of_labels=max_number_of_labels,\n",
        ")"
      ]
    }
  ],
  "metadata": {
    "colab": {
      "collapsed_sections": [],
      "name": "Taxonomy",
      "provenance": []
    },
    "kernelspec": {
      "display_name": "Python 3",
      "name": "python3"
    },
    "language_info": {
      "name": "python"
    }
  },
  "nbformat": 4,
  "nbformat_minor": 0
}

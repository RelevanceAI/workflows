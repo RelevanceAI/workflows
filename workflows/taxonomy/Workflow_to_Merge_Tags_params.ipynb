{
 "cells": [
  {
   "cell_type": "markdown",
   "metadata": {
    "id": "LOwnziOH0Sa4"
   },
   "source": [
    "# Merge Tags Workflow"
   ]
  },
  {
   "cell_type": "code",
   "execution_count": null,
   "metadata": {
    "tags": [
     "parameters"
    ]
   },
   "outputs": [],
   "source": [
    "# Run this workflow to merge tags \n",
    "token = \"\" # @param {type: \"string\"}"
   ]
  },
  {
   "cell_type": "code",
   "execution_count": null,
   "metadata": {
    "cellView": "form",
    "id": "6vhXqw9k0Q6e"
   },
   "outputs": [
    {
     "name": "stdout",
     "output_type": "stream",
     "text": [
      "Connecting to ap-southeast-2...\n",
      "Welcome to RelevanceAI. Logged in as e1d131774fde12cdef45.\n"
     ]
    },
    {
     "data": {
      "application/vnd.jupyter.widget-view+json": {
       "model_id": "6ad5ac94feb34f3988d1c0d5156b15d6",
       "version_major": 2,
       "version_minor": 0
      },
      "text/plain": [
       "  0%|          | 0/6 [00:00<?, ?it/s]"
      ]
     },
     "metadata": {},
     "output_type": "display_data"
    },
    {
     "name": "stdout",
     "output_type": "stream",
     "text": [
      "Updating chunksize for batch data insertion to 100\n",
      "✅ All documents inserted/edited successfully.\n",
      "Updating chunksize for batch data insertion to 100\n",
      "✅ All documents inserted/edited successfully.\n",
      "Updating chunksize for batch data insertion to 100\n"
     ]
    }
   ],
   "source": [
    "# !pip install -q relevanceai==2.7.0\n",
    "from relevanceai.utils import decode_workflow_token\n",
    "\n",
    "config = decode_workflow_token(token)\n",
    "\n",
    "# config = {\n",
    "#     \"inputField\": \"_surveytag_.B2OE.example.label\",\n",
    "#     \"outputField\": \"_surveytag_.B2OE.example_fixed\",\n",
    "#     \"tagsToMerge\": {\n",
    "#         \"Teaching\": \"Teach\",\n",
    "#         \"teachers_2\": \"life\"\n",
    "#     },\n",
    "#     \"authorizationToken\": \"\",\n",
    "#     \"datasetId\": \"teachers-data-csv\"\n",
    "# }\n",
    "\n",
    "input_field = config['inputField']\n",
    "output_field = config['outputField']\n",
    "tags_to_merge = config['tagsToMerge']\n",
    "\n",
    "from relevanceai import Client\n",
    "client = Client(config['authorizationToken'])\n",
    "ds = client.Dataset(config['dataset_id'])\n",
    "\n",
    "# Merge the tags together\n",
    "# Note that the following should work given mutable property of python lists \n",
    "# See here to better understand why: https://florimond.dev/en/posts/2018/08/python-mutable-defaults-are-the-source-of-all-evil/\n",
    "for chunk in ds.chunk_dataset(select_fields=[input_field], filters=ds[input_field].exists()):\n",
    "  for k, v in tags_to_merge.items():\n",
    "    new_chunk = []\n",
    "    for d in chunk:\n",
    "      new_doc = {\"_id\": d['_id']}\n",
    "      tag_field = \".\".join(input_field.split(\".\")[:-1])\n",
    "      tag_docs =  client.get_field(tag_field, d)\n",
    "      tags = client.get_field_across_documents(input_field.split(\".\")[-1], tag_docs)\n",
    "      if k in tags:\n",
    "        tags.remove(k)\n",
    "        if v not in tags:\n",
    "          tags.append(v)\n",
    "      # To avoid overwriting\n",
    "      client.set_field(output_field, new_doc, tags)\n",
    "      new_chunk.append(new_doc)\n",
    "  # We don't fire and forget here because it would otherwise\n",
    "  # spam the server\n",
    "  ds.upsert_documents(new_chunk)"
   ]
  }
 ],
 "metadata": {
  "celltoolbar": "Tags",
  "colab": {
   "collapsed_sections": [],
   "name": "Workflow to Merge Tags",
   "provenance": []
  },
  "kernelspec": {
   "display_name": "Python 3 (ipykernel)",
   "language": "python",
   "name": "python3"
  },
  "language_info": {
   "codemirror_mode": {
    "name": "ipython",
    "version": 3
   },
   "file_extension": ".py",
   "mimetype": "text/x-python",
   "name": "python",
   "nbconvert_exporter": "python",
   "pygments_lexer": "ipython3",
   "version": "3.9.12"
  },
  "toc": {
   "base_numbering": 1,
   "nav_menu": {},
   "number_sections": true,
   "sideBar": true,
   "skip_h1_title": false,
   "title_cell": "Table of Contents",
   "title_sidebar": "Contents",
   "toc_cell": false,
   "toc_position": {},
   "toc_section_display": true,
   "toc_window_display": false
  }
 },
 "nbformat": 4,
 "nbformat_minor": 1
}

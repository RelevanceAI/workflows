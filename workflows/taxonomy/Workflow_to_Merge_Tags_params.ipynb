{
 "cells": [
  {
   "cell_type": "markdown",
   "metadata": {
    "id": "LOwnziOH0Sa4"
   },
   "source": [
    "# Merge Tags Workflow"
   ]
  },
  {
   "cell_type": "code",
   "execution_count": null,
   "metadata": {
    "id": "l4U2MgxA86wq"
   },
   "outputs": [],
   "source": [
    "# !pip install -q relevanceai==3.0.0"
   ]
  },
  {
   "cell_type": "code",
   "execution_count": null,
   "metadata": {
    "tags": [
     "parameters"
    ]
   },
   "outputs": [],
   "source": [
    "token = \"\" # @param {type: \"string\"}"
   ]
  },
  {
   "cell_type": "code",
   "execution_count": null,
   "metadata": {
    "cellView": "form",
    "id": "6vhXqw9k0Q6e"
   },
   "outputs": [],
   "source": [
    "# Run this workflow to merge tags \n",
    "\n",
    "\n",
    "from relevanceai.utils import decode_workflow_token\n",
    "\n",
    "config = decode_workflow_token(token)\n",
    "\n",
    "# config = {\n",
    "#     \"inputField\": \"_surveytag_.B2OE.example.label\",\n",
    "#     \"outputField\": \"_surveytag_.B2OE.example_fixed\",\n",
    "#     \"tagsToMerge\": {\n",
    "#         \"Teaching\": \"Teach\",\n",
    "#         \"teachers_2\": \"life\"\n",
    "#     },\n",
    "#     \"authorizationToken\": \"\",\n",
    "#     \"datasetId\": \"teachers-data-csv\"\n",
    "# }\n"
   ]
  },
  {
   "cell_type": "code",
   "execution_count": null,
   "metadata": {
    "id": "EbF9n5by9J4Z"
   },
   "outputs": [],
   "source": [
    "input_field = config['inputField']\n",
    "output_field = config['outputField']\n",
    "tags_to_merge = config['tagsToMerge']\n",
    "\n",
    "\n",
    "filters = config.get(\"filters\", [])\n",
    "refresh = config.get(\"refresh\", False)\n",
    "from relevanceai import Client\n",
    "client = Client(config['authorizationToken'])\n",
    "ds = client.Dataset(config['dataset_id'])"
   ]
  },
  {
   "cell_type": "code",
   "execution_count": null,
   "metadata": {
    "id": "fcDtNcQH770l"
   },
   "outputs": [],
   "source": [
    "from relevanceai.operations_new.transform_base import TransformBase\n",
    "class MergeTagsTransform(TransformBase):\n",
    "    def __init__(\n",
    "        self,\n",
    "        input_field,\n",
    "        output_field,\n",
    "        tags_to_merge,\n",
    "        **kwargs,\n",
    "    ):\n",
    "        self.input_field = input_field\n",
    "        self.output_alias = output_field\n",
    "        self.output_field = \".\".join(input_field.split(\".\")[:-2]) + \".\" + self.output_alias\n",
    "        self.tags_to_merge = tags_to_merge\n",
    "        for k, v in kwargs.items():\n",
    "            setattr(self, k, v)\n",
    "\n",
    "    def transform(self, documents):\n",
    "        try:\n",
    "            # For each document, update the field\n",
    "            new_chunk = []\n",
    "            if input_field.endswith(\"label\"):\n",
    "                tag_field = \".\".join(input_field.split(\".\")[:-1])\n",
    "            else:\n",
    "                tag_field = input_field\n",
    "\n",
    "            for d in documents:\n",
    "              tag_docs =  client.get_field(tag_field, d)\n",
    "              new_tag_docs = tag_docs.copy()\n",
    "              new_doc = {\"_id\": d['_id']}\n",
    "              # Loop through tag documents and replace\n",
    "              for new_d in new_tag_docs: \n",
    "                if new_d['label'] in tags_to_merge:\n",
    "                  new_d['label'] = tags_to_merge[new_d['label']]\n",
    "              client.set_field(self.output_field, new_doc, new_tag_docs)\n",
    "              new_chunk.append(new_doc)\n",
    "            return new_chunk\n",
    "        except:\n",
    "            import traceback\n",
    "            traceback.print_exc()\n",
    "        return documents\n",
    "\n",
    "    @property\n",
    "    def name(self):\n",
    "        return \"mergetags\"\n"
   ]
  },
  {
   "cell_type": "code",
   "execution_count": null,
   "metadata": {
    "id": "lNfesACx7wdi"
   },
   "outputs": [],
   "source": [
    "from relevanceai.operations_new.ops_base import OperationAPIBase\n",
    "\n",
    "class MergeTagOps(OperationAPIBase, MergeTagsTransform):\n",
    "    \"\"\" \n",
    "    Add ratings\n",
    "    \"\"\"\n",
    "    def __init__(\n",
    "        self,\n",
    "        input_field,\n",
    "        output_field,\n",
    "        tags_to_merge,\n",
    "        **kwargs,\n",
    "    ):\n",
    "        self.input_field = input_field\n",
    "        self.output_field = output_field\n",
    "        self.tags_to_merge = tags_to_merge\n",
    "        for k, v in kwargs.items():\n",
    "            setattr(self, k, v)\n",
    "\n",
    "    @property\n",
    "    def name(self):\n",
    "        return \"mergetags\""
   ]
  },
  {
   "cell_type": "code",
   "execution_count": null,
   "metadata": {
    "id": "PfFMeDWW7cX-"
   },
   "outputs": [],
   "source": [
    "ops = MergeTagOps(\n",
    "  credentials=ds.credentials,      \n",
    "  input_field=input_field,\n",
    "  output_field=output_field,\n",
    "  tags_to_merge=tags_to_merge\n",
    ")\n",
    "filters += ds[input_field].exists()\n",
    "\n",
    "ops.run(\n",
    "    ds,\n",
    "    filters=filters,\n",
    "    select_fields=[input_field],\n",
    "    chunksize=100,\n",
    "    batched=True,\n",
    "    output_fields=[output_field],\n",
    "    refresh=refresh,\n",
    "    warmup_chunksize=1\n",
    ")"
   ]
  },
  {
   "cell_type": "code",
   "execution_count": null,
   "metadata": {},
   "outputs": [],
   "source": [
    "if isinstance(output_field, str):\n",
    "    output_field = [output_field]\n",
    "ds.update_field_children(\n",
    "    field=input_field,\n",
    "    field_children=output_field,\n",
    "    category=\"tags\"\n",
    ")\n",
    "\n",
    "workflow_id = job_id\n",
    "\n",
    "client.workflows.status(\n",
    "    workflow_id=workflow_id,\n",
    "    status=\"complete\",\n",
    "    workflow_name=\"Merge Tags\",\n",
    "    metadata={\n",
    "        \"tags_to_merge\": tags_to_merge\n",
    "    },\n",
    "    additional_information=\"We have merged tags for you.\"\n",
    ")"
   ]
  }
 ],
 "metadata": {
  "celltoolbar": "Tags",
  "colab": {
   "collapsed_sections": [],
   "name": "Merge Tags Workflow",
   "provenance": []
  },
  "kernelspec": {
   "display_name": "Python 3 (ipykernel)",
   "language": "python",
   "name": "python3"
  },
  "language_info": {
   "codemirror_mode": {
    "name": "ipython",
    "version": 3
   },
   "file_extension": ".py",
   "mimetype": "text/x-python",
   "name": "python",
   "nbconvert_exporter": "python",
   "pygments_lexer": "ipython3",
   "version": "3.8.10"
  },
  "toc": {
   "base_numbering": 1,
   "nav_menu": {},
   "number_sections": true,
   "sideBar": true,
   "skip_h1_title": false,
   "title_cell": "Table of Contents",
   "title_sidebar": "Contents",
   "toc_cell": false,
   "toc_position": {},
   "toc_section_display": true,
   "toc_window_display": false
  }
 },
 "nbformat": 4,
 "nbformat_minor": 1
}

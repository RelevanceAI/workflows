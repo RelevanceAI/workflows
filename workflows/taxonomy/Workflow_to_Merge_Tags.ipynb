{
  "cells": [
    {
      "cell_type": "markdown",
      "metadata": {
        "id": "LOwnziOH0Sa4"
      },
      "source": [
        "# Merge Tags Workflow"
      ]
    },
    {
      "cell_type": "code",
      "execution_count": null,
      "metadata": {
        "cellView": "form",
        "id": "6vhXqw9k0Q6e"
      },
      "outputs": [],
      "source": [
        "# Run this workflow to merge tags \n",
        "token = \"\" # @param {type: \"string\"}\n",
        "\n",
        "!pip install -q relevanceai==2.7.0\n",
        "from relevanceai.utils import decode_workflow_token\n",
        "\n",
        "config = decode_workflow_token(token)\n",
        "\n",
        "# config = {\n",
        "#     \"inputField\": \"_surveytag_.B2OE.example.label\",\n",
        "#     \"outputField\": \"_surveytag_.B2OE.example_fixed\",\n",
        "#     \"tagsToMerge\": {\n",
        "#         \"Teaching\": \"Teach\",\n",
        "#         \"teachers_2\": \"life\"\n",
        "#     },\n",
        "#     \"authorizationToken\": \"\",\n",
        "#     \"datasetId\": \"teachers-data-csv\"\n",
        "# }\n",
        "\n",
        "input_field = config['inputField']\n",
        "output_field = config['outputField']\n",
        "tags_to_merge = config['tagsToMerge']\n",
        "\n",
        "from relevanceai import Client\n",
        "client = Client(config['authorizationToken'])\n",
        "ds = client.Dataset(config['dataset_id'])\n",
        "\n",
        "# Merge the tags together\n",
        "# Note that the following should work given mutable property of python lists \n",
        "# See here to better understand why: https://florimond.dev/en/posts/2018/08/python-mutable-defaults-are-the-source-of-all-evil/\n",
        "for chunk in ds.chunk_dataset(\n",
        "    select_fields=[input_field], \n",
        "    filters=ds[input_field].exists()\n",
        "):\n",
        "  new_chunk = []\n",
        "  for d in chunk:\n",
        "    for old_label, new_label in tags_to_merge.items():\n",
        "      new_doc = {\"_id\": d['_id']}\n",
        "      tag_field = \".\".join(input_field.split(\".\")[:-1])\n",
        "      tag_docs =  client.get_field(tag_field, d)\n",
        "      tags = client.get_field_across_documents(input_field.split(\".\")[-1], tag_docs)\n",
        "      \n",
        "      new_tags = []\n",
        "      if old_label in tags:\n",
        "        if new_label not in new_tags:\n",
        "            new_tags.append(new_label)\n",
        "      # To avoid overwriting\n",
        "      client.set_field(output_field, new_doc, new_tags)\n",
        "      print(tags)\n",
        "      print(new_tags)\n",
        "      new_chunk.append(new_doc)\n",
        "  # We don't fire and forget here because it would otherwise\n",
        "  # spam the server\n",
        "  ds.upsert_documents(new_chunk)"
      ]
    }
  ],
  "metadata": {
    "colab": {
      "collapsed_sections": [],
      "name": "Workflow to Merge Tags",
      "provenance": []
    },
    "kernelspec": {
      "display_name": "Python 3",
      "name": "python3"
    },
    "language_info": {
      "name": "python"
    }
  },
  "nbformat": 4,
  "nbformat_minor": 0
}

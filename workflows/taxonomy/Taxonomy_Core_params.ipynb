{
 "cells": [
  {
   "cell_type": "code",
   "execution_count": null,
   "metadata": {},
   "outputs": [],
   "source": [
    "import os"
   ]
  },
  {
   "cell_type": "code",
   "execution_count": null,
   "metadata": {
    "tags": [
     "parameters"
    ]
   },
   "outputs": [],
   "source": [
    "dataset_id: str = \"dummy-ecommerce\"\n",
    "taxonomy_labels = [\"electronics\", \"clothes\", \"beauty\"]\n",
    "fields = [\"product_title\"]\n",
    "output_field: str = \"label\"\n",
    "authorizationToken: str = f\"{os.environ['TEST_ACTIVATION_TOKEN']}\" if os.getenv('TEST_ACTIVATION_TOKEN') else \"\"\n",
    "\n",
    "max_number_of_labels: int = 1\n",
    "threshold: float = 0.5\n",
    "token: str = \"\"\n"
   ]
  },
  {
   "cell_type": "code",
   "execution_count": null,
   "metadata": {
    "cellView": "form",
    "id": "GCKOo_jAdEnx"
   },
   "outputs": [],
   "source": [
    "from relevanceai.utils import decode_workflow_token\n",
    "config = decode_workflow_token(token)\n",
    "model_id: str = config.get(\"model_id\", \"princeton-nlp/sup-simcse-roberta-large\")\n",
    "fields = config.get('fields')\n",
    "output_field = config.get(\"output_field\")\n",
    "\n",
    "if output_field == \"\":\n",
    "    output_field = None\n",
    "\n",
    "from relevanceai import Client\n",
    "client = Client(token=config['authorizationToken'])\n",
    "ds = client.Dataset(config['dataset_id'])\n",
    "from sentence_transformers import SentenceTransformer\n",
    "enc = SentenceTransformer(model_id)\n",
    "label_documents = [{\"label\": l, \"label_vector_\": enc.encode(l).tolist()} for l in taxonomy_labels]\n",
    "for field in fields:\n",
    "    if not field.endswith(\"_vector_\"):\n",
    "        ds.vectorize_text(fields=[field], models=[model_id])\n",
    "\n",
    "    if not field.endswith(\"_vector_\"):\n",
    "        # rename to a different vector \n",
    "        field = field + \"_\" + model_id + \"_vector_\"\n",
    "        \n",
    "    vector_field = field.replace(\"/\", \"_\")\n",
    "    ds.label(\n",
    "      vector_fields=[vector_field],\n",
    "      label_documents=label_documents,\n",
    "      max_number_of_labels=max_number_of_labels,\n",
    "      output_field=output_field,\n",
    "      similarity_threshold=threshold\n",
    "    )"
   ]
  },
  {
   "cell_type": "code",
   "execution_count": null,
   "metadata": {},
   "outputs": [],
   "source": []
  }
 ],
 "metadata": {
  "celltoolbar": "Tags",
  "colab": {
   "collapsed_sections": [],
   "name": "Taxonomy",
   "provenance": []
  },
  "interpreter": {
   "hash": "33129f74f752ccabd3d30d5a3c12b8abaa2090964a9fe96b4e55e8471d1aefbe"
  },
  "kernelspec": {
   "display_name": "Python 3 (ipykernel)",
   "language": "python",
   "name": "python3"
  },
  "language_info": {
   "codemirror_mode": {
    "name": "ipython",
    "version": 3
   },
   "file_extension": ".py",
   "mimetype": "text/x-python",
   "name": "python",
   "nbconvert_exporter": "python",
   "pygments_lexer": "ipython3",
   "version": "3.8.9"
  },
  "toc": {
   "base_numbering": 1,
   "nav_menu": {},
   "number_sections": true,
   "sideBar": true,
   "skip_h1_title": false,
   "title_cell": "Table of Contents",
   "title_sidebar": "Contents",
   "toc_cell": false,
   "toc_position": {},
   "toc_section_display": true,
   "toc_window_display": false
  }
 },
 "nbformat": 4,
 "nbformat_minor": 1
}

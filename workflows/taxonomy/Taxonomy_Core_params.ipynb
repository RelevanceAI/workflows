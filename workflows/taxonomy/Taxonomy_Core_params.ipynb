{
 "cells": [
  {
   "cell_type": "code",
   "execution_count": null,
   "metadata": {
    "tags": [
     "parameters"
    ]
   },
   "outputs": [],
   "source": [
    "import os\n",
    "\n",
    "dataset_id: str = \"dummy-ecommerce\"\n",
    "taxonomy_labels: list[str] = [\"electronics\", \"clothes\", \"beauty\"]\n",
    "fields: list[str] = [\"product_title\"]\n",
    "output_field: str = \"label\"\n",
    "\n",
    "api_key: str = \"\"\n",
    "project: str = \"\"\n",
    "region: str = \"\"\n",
    "authorizationToken: str = f\"{os.environ['TEST_ACTIVATION_TOKEN']}\" if os.getenv('TEST_ACTIVATION_TOKEN') else \"\"\n",
    "\n",
    "max_number_of_labels: int = 1 \n",
    "model_id: str = \"sentence-transformers/all-mpnet-base-v2\" \n",
    "threshold: float = 0.5 \n"
   ]
  },
  {
   "cell_type": "code",
   "execution_count": null,
   "metadata": {
    "cellView": "form",
    "id": "GCKOo_jAdEnx"
   },
   "outputs": [],
   "source": [
    "\n",
    "# Return back to default\n",
    "if output_field == \"\":\n",
    "    output_field = None\n",
    "\n",
    "    \n",
    "from relevanceai import Client\n",
    "client = Client(token=authorizationToken)\n",
    "ds = client.Dataset(dataset_id)\n",
    "from sentence_transformers import SentenceTransformer\n",
    "enc = SentenceTransformer(model_id)\n",
    "\n",
    "label_documents = [{\"label\": l, \"label_vector_\": enc.encode(l).tolist()} for l in taxonomy_labels]\n",
    "for field in fields:\n",
    "    if not field.endswith(\"_vector_\"):\n",
    "        ds.vectorize_text(fields=[field], models=[model_id])\n",
    "\n",
    "    if not field.endswith(\"_vector_\"):\n",
    "        # rename to a different vector \n",
    "        field = field + \"_\" + model_id + \"_vector_\"\n",
    "        \n",
    "    vector_field = field.replace(\"/\", \"_\")\n",
    "    ds.label(\n",
    "      vector_fields=[vector_field],\n",
    "      label_documents=label_documents,\n",
    "      max_number_of_labels=max_number_of_labels,\n",
    "      output_field=output_field,\n",
    "      similarity_threshold=threshold\n",
    "    )"
   ]
  },
  {
   "cell_type": "code",
   "execution_count": null,
   "metadata": {},
   "outputs": [],
   "source": []
  }
 ],
 "metadata": {
  "celltoolbar": "Tags",
  "colab": {
   "collapsed_sections": [],
   "name": "Taxonomy",
   "provenance": []
  },
  "interpreter": {
   "hash": "33129f74f752ccabd3d30d5a3c12b8abaa2090964a9fe96b4e55e8471d1aefbe"
  },
  "kernelspec": {
   "display_name": "Python 3 (ipykernel)",
   "language": "python",
   "name": "python3"
  },
  "language_info": {
   "codemirror_mode": {
    "name": "ipython",
    "version": 3
   },
   "file_extension": ".py",
   "mimetype": "text/x-python",
   "name": "python",
   "nbconvert_exporter": "python",
   "pygments_lexer": "ipython3",
   "version": "3.8.13"
  }
 },
 "nbformat": 4,
 "nbformat_minor": 1
}

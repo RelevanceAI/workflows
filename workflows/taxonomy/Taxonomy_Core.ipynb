{
  "cells": [
    {
      "cell_type": "markdown",
      "metadata": {
        "id": "bi8X48E9ct6l"
      },
      "source": [
        "<img src=\"https://relevance.ai/wp-content/uploads/2021/11/logo.79f303e-1.svg\" width=\"150\" alt=\"Relevance AI\" />\n",
        "<h5> Developer-first vector platform for ML teams </h5>\n",
        "\n",
        "[![Open In Colab](https://colab.research.google.com/assets/colab-badge.svg)](https://colab.research.google.com/github/RelevanceAI/workflows/blob/main/workflows/taxonomy/Taxonomy.ipynb)\n",
        "\n",
        "Inserting your own taxonomy or labels with Relevance AI allows users to better understand."
      ]
    },
    {
      "cell_type": "code",
      "execution_count": null,
      "metadata": {
        "cellView": "form",
        "id": "GCKOo_jAdEnx"
      },
      "outputs": [],
      "source": [
        "#@title After filling this form, press the top left button.\n",
        "# You can grab your token here https://cloud.relevance.ai/sdk/api\n",
        "\n",
        "import base64\n",
        "import json\n",
        "\n",
        "token = \"\" #@param {type:\"string\"}\n",
        "\n",
        "show_warnings_in_logs = False #@param {type:\"boolean\"}\n",
        "#@markdown Once the form is filled and you've clicked run, monitor below for logs of it running\n",
        "\n",
        "config = json.loads(base64.b64decode(token + \"===\"))\n",
        "token = config['authorizationToken']\n",
        "dataset_id = config['dataset_id']\n",
        "taxonomy_labels = config['taxonomy_labels']\n",
        "fields = config['fields']\n",
        "threshold = config['similarity_threshold']\n",
        "max_number_of_labels = int(config['max_number_of_labels'])\n",
        "output_field = config.get(\"output_field\")\n",
        "\n",
        "#@markdown <h3>Optional Configurations</h3>\n",
        "model_id = \"sentence-transformers/all-mpnet-base-v2\" #@param  {type:\"string\"}\n",
        "\n",
        "taxonomy_labels = [x for x in taxonomy_labels if x.strip() != \"\"]\n",
        "\n",
        "!pip install -q -U RelevanceAI==2.3.5\n",
        "!pip install -q sentence-transformers==2.2.0\n",
        "\n",
        "from relevanceai import Client\n",
        "client = Client(token=token)\n",
        "ds = client.Dataset(dataset_id)\n",
        "from sentence_transformers import SentenceTransformer\n",
        "enc = SentenceTransformer(model_id)\n",
        "\n",
        "label_documents = [{\"label\": l, \"label_vector_\": enc.encode(l).tolist()} for l in taxonomy_labels]\n",
        "for field in fields:\n",
        "  \n",
        "  if not field.endswith(\"_vector_\"):\n",
        "    ds.vectorize_text(fields=[field], models=[model_id])\n",
        "\n",
        "  if not field.endswith(\"_vector_\"):\n",
        "    # rename to a different vector \n",
        "    field = field + \"_\" + model_id + \"_vector_\"\n",
        "  vector_field = field.replace(\"/\", \"_\")\n",
        "  ds.label(\n",
        "      vector_fields=[vector_field],\n",
        "      label_documents=label_documents,\n",
        "      max_number_of_labels=max_number_of_labels,\n",
        "      output_field=output_field,\n",
        "      similarity_threshold=threshold\n",
        "  )"
      ]
    }
  ],
  "metadata": {
    "colab": {
      "collapsed_sections": [],
      "name": "Taxonomy-Core",
      "provenance": []
    },
    "interpreter": {
      "hash": "33129f74f752ccabd3d30d5a3c12b8abaa2090964a9fe96b4e55e8471d1aefbe"
    },
    "kernelspec": {
      "display_name": "Python 3.8.13 ('.venv': venv)",
      "language": "python",
      "name": "python3"
    },
    "language_info": {
      "codemirror_mode": {
        "name": "ipython",
        "version": 3
      },
      "file_extension": ".py",
      "mimetype": "text/x-python",
      "name": "python",
      "nbconvert_exporter": "python",
      "pygments_lexer": "ipython3",
      "version": "3.8.13"
    }
  },
  "nbformat": 4,
  "nbformat_minor": 0
}

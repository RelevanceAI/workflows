{
 "cells": [
  {
   "cell_type": "markdown",
   "metadata": {
    "id": "U2PjT8qmmhKJ"
   },
   "source": [
    "<img src=\"https://relevance.ai/wp-content/uploads/2021/11/logo.79f303e-1.svg\" width=\"150\" alt=\"Relevance AI\" />\n",
    "<h5> Developer-first vector platform for ML teams </h5>\n",
    "\n",
    "[![Open In Colab](https://colab.research.google.com/assets/colab-badge.svg)](https://colab.research.google.com/github/RelevanceAI/workflows/blob/main/workflows/dummy-datasets/Dummy_Datasets_Workflow.ipynb)"
   ]
  },
  {
   "cell_type": "markdown",
   "metadata": {
    "id": "KUgAI592hI24"
   },
   "source": [
    "# Insert a dummy dataset"
   ]
  },
  {
   "cell_type": "markdown",
   "metadata": {
    "id": "nncjmgvMet5J"
   },
   "source": [
    "Pick from our range of datasets to try out on your own data!"
   ]
  },
  {
   "cell_type": "markdown",
   "metadata": {
    "id": "SkehXQlUHVeR"
   },
   "source": [
    "# Step 0: Install"
   ]
  },
  {
   "cell_type": "code",
   "execution_count": null,
   "metadata": {
    "colab": {
     "base_uri": "https://localhost:8080/"
    },
    "id": "tzkPQMGLrh3E",
    "outputId": "f69c5032-e913-4798-cc2a-cd99a8e6835c"
   },
   "outputs": [],
   "source": [
    "%%capture\n",
    "!pip install -q -U RelevanceAI==2.1.8"
   ]
  },
  {
   "cell_type": "markdown",
   "metadata": {
    "id": "PqfuMIpbhHwb"
   },
   "source": [
    "# Step 1: Start up client"
   ]
  },
  {
   "cell_type": "code",
   "execution_count": null,
   "metadata": {
    "colab": {
     "base_uri": "https://localhost:8080/"
    },
    "id": "4Y62oHY_hHap",
    "outputId": "d0b949ed-1d7b-45cd-a326-1f9a49f0610e"
   },
   "outputs": [],
   "source": [
    "from relevanceai import Client\n",
    "client = Client()"
   ]
  },
  {
   "cell_type": "markdown",
   "metadata": {
    "id": "H0fUP7pIHW9t"
   },
   "source": [
    "# Step 2: Choose a dataset and run the code block!"
   ]
  },
  {
   "cell_type": "markdown",
   "metadata": {
    "id": "1Ht-PhKRN8Z8"
   },
   "source": [
    "## Quick and easy fake dataset\n",
    "\n",
    "A quick and dirty dataset for rapid experimentation.\n",
    "\n",
    "It contains all of the basic dataset features and follows the following schema\n",
    "\n",
    "```\n",
    "{'_chunk_': 'chunks',\n",
    "'_chunk_.label': 'text',\n",
    "'_chunk_.label_chunkvector_': {'chunkvector': 5},\n",
    "'insert_date_': 'date',\n",
    "'sample_1_description': 'text',\n",
    "'sample_1_label': 'text',\n",
    "'sample_1_value': 'numeric',\n",
    "'sample_1_vector_': {'vector': 5},\n",
    "'sample_2_description': 'text',\n",
    "'sample_2_label': 'text',\n",
    "'sample_2_value': 'numeric',\n",
    "'sample_2_vector_': {'vector': 5},\n",
    "'sample_3_description': 'text',\n",
    "'sample_3_label': 'text',\n",
    "'sample_3_value': 'numeric',\n",
    "'sample_3_vector_': {'vector': 5}}\n",
    "```"
   ]
  },
  {
   "cell_type": "code",
   "execution_count": null,
   "metadata": {
    "colab": {
     "base_uri": "https://localhost:8080/"
    },
    "id": "tWAYllKAfMV_",
    "outputId": "5e14feea-8161-4499-85cb-908932e342de"
   },
   "outputs": [],
   "source": [
    "from relevanceai.utils.datasets import mock_documents\n",
    "ds = client.Dataset('dummy-mock_dataset')\n",
    "ds.upsert_documents(mock_documents(100))"
   ]
  },
  {
   "cell_type": "markdown",
   "metadata": {},
   "source": [
    "## Dummy Datasets with Vectors\n",
    "\n",
    "We have already encoded some sample vectors ready for further downstream tasks in the following dummy datasets."
   ]
  },
  {
   "cell_type": "markdown",
   "metadata": {
    "id": "JNlNtihqN0to"
   },
   "source": [
    "## E-commerce Dummy Dataset \n",
    "\n",
    "An e-commerce dataset containing encoded products, uncleaned product prices and their sources.\n",
    "\n",
    "```\n",
    "{\n",
    "    '_id': 'b7fc9acbc9ddd18855f96863d37a4fe9',\n",
    "    'product_image': 'https://thumbs4.ebaystatic.com/d/l225/pict/321567405391_1.jpg',\n",
    "    'product_link': 'https://www.ebay.com/itm/20-36-Mens-Silver-Stainless-Steel-Braided-Wheat-Chain-Necklace-Jewelry-3-4-5-6MM-/321567405391?pt=LH_DefaultDomain_0&var=&hash=item4adee9354f',\n",
    "    'product_price': '$7.99 to $12.99',\n",
    "    'product_title': '20-36Mens Silver Stainless Steel Braided Wheat Chain Necklace Jewelry 3/4/5/6MM\"',\n",
    "    'product_title_clip_vector_': [...],\n",
    "    'product_image_clip_vector_': [...],\n",
    "    'query': 'steel necklace',\n",
    "    'source': 'eBay'\n",
    "}\n",
    "```"
   ]
  },
  {
   "cell_type": "code",
   "execution_count": null,
   "metadata": {
    "colab": {
     "base_uri": "https://localhost:8080/"
    },
    "id": "mrjEJZFxN0O_",
    "outputId": "3aac33f2-d55e-4624-bb50-f115be833fb5"
   },
   "outputs": [],
   "source": [
    "from relevanceai.utils.datasets import get_ecommerce_dataset_encoded\n",
    "\n",
    "ds.upsert_documents(get_ecommerce_dataset_encoded())"
   ]
  },
  {
   "cell_type": "code",
   "execution_count": null,
   "metadata": {},
   "outputs": [],
   "source": [
    "\n",
    "from relevanceai.utils.datasets import get_ecommerce_dataset_encoded\n",
    "ds = client.Dataset('dummy-ecommerce')\n",
    "docs = get_ecommerce_dataset_encoded()\n",
    "docs[0]\n"
   ]
  },
  {
   "cell_type": "markdown",
   "metadata": {
    "id": "J8v09RyEN25K"
   },
   "source": [
    "## Titanic Dataset\n",
    "\n",
    "The famous dataset about Titanic survivors. Cleaned and is useful for tabular data examples.\n",
    "\n",
    "```\n",
    "{   'Unnamed: 0': 0,\n",
    "    'PassengerId': 892,\n",
    "    'Survived': 0,\n",
    "    'Pclass': 3,\n",
    "    'Age': 34.5,\n",
    "    'SibSp': 0,\n",
    "    'Parch': 0,\n",
    "    'Fare': 7.8292,\n",
    "    'male': 1,\n",
    "    'Q': 1,\n",
    "    'S': 0,\n",
    "    'value_vector_': '[3.0, 34.5, 0.0, 0.0, 7.8292, 1.0, 1.0, 0.0]'\n",
    "}\n",
    "```"
   ]
  },
  {
   "cell_type": "code",
   "execution_count": null,
   "metadata": {
    "colab": {
     "base_uri": "https://localhost:8080/",
     "height": 431
    },
    "id": "UOlDZcPON8IE",
    "outputId": "35401ef5-63e0-4fa0-e4ac-9b881ee808d1"
   },
   "outputs": [],
   "source": [
    "from relevanceai.utils.datasets import get_titanic_dataset\n",
    "ds = client.Dataset('dummy-titanic')\n",
    "ds.upsert_documents(get_titanic_dataset())"
   ]
  },
  {
   "cell_type": "markdown",
   "metadata": {},
   "source": [
    "## COCO Dataset\n",
    "\n",
    "The famous MS COCO dataset https://cocodataset.org/ encoded for easy use.\n",
    "\n",
    "```\n",
    "{\n",
    "     '_id': '0abc',\n",
    "     'annotations': {'caption': 'A table is adorned with wooden chairs with blue '\n",
    "                                'accents.',\n",
    "                     'id': 794853,\n",
    "                     'image_id': 57870},\n",
    "     'coco_url': 'http://images.cocodataset.org/train2014/COCO_train2014_000000057870.jpg',\n",
    "     'coco_url_bit_medium_model_vector_': [0.039498601108789444, ... ],\n",
    "     'coco_url_clip_vector_': [0.01488494873046875, ...],\n",
    "     'coco_url_mobile_v2_model_vector_': [0.48851051926612854, ...],\n",
    "     'date_captured': '2013-11-14 16:28:13',\n",
    "     'file_name': 'COCO_train2014_000000057870.jpg',\n",
    "     'flickr_url': 'http://farm4.staticflickr.com/3153/2970773875_164f0c0b83_z.jpg',\n",
    "     'height': 480,\n",
    "     'id': 57870,\n",
    "     'insert_date_': '2022-03-27T03:48:26.119Z',\n",
    "     'license': 5,\n",
    "     'license_info': {'id': 5,\n",
    "                      'name': 'Attribution-ShareAlike License',\n",
    "                      'url': 'http://creativecommons.org/licenses/by-sa/2.0/'},\n",
    "     'width': 640\n",
    " }\n",
    "```"
   ]
  },
  {
   "cell_type": "code",
   "execution_count": null,
   "metadata": {},
   "outputs": [],
   "source": [
    "\n",
    "from relevanceai.utils.datasets import get_coco_dataset\n",
    "ds = client.Dataset('dummy-coco')\n",
    "\n",
    "ds.upsert_documents(get_coco_dataset())\n"
   ]
  },
  {
   "cell_type": "markdown",
   "metadata": {},
   "source": [
    "## Dummy Datasets without Vectors\n",
    "\n",
    "\n",
    "An e-commerce dataset with cleaned product prices and their sources.\n",
    "\n",
    "```\n",
    "{\n",
    "    '_id': 'b7fc9acbc9ddd18855f96863d37a4fe9',\n",
    "    'product_image': 'https://thumbs4.ebaystatic.com/d/l225/pict/321567405391_1.jpg',\n",
    "    'product_link': 'https://www.ebay.com/itm/20-36-Mens-Silver-Stainless-Steel-Braided-Wheat-Chain-Necklace-Jewelry-3-4-5-6MM-/321567405391?pt=LH_DefaultDomain_0&var=&hash=item4adee9354f',\n",
    "    'product_price': '$7.99 to $12.99',\n",
    "    'product_title': '20-36Mens Silver Stainless Steel Braided Wheat Chain Necklace Jewelry 3/4/5/6MM\"',\n",
    "    'query': 'steel necklace',\n",
    "    'source': 'eBay'\n",
    "}\n",
    "```"
   ]
  },
  {
   "cell_type": "code",
   "execution_count": null,
   "metadata": {},
   "outputs": [],
   "source": [
    "\n",
    "from relevanceai.utils.datasets import get_ecommerce_dataset_clean\n",
    "ds = client.Dataset('dummy-ecommerce')\n",
    "ds.upsert_documents(get_ecommerce_dataset_clean())\n"
   ]
  },
  {
   "cell_type": "markdown",
   "metadata": {
    "id": "5Z98piK5ibm3"
   },
   "source": [
    "## Flipkart Dataset (E-commerce)\n",
    "\n",
    "A flipkart e-commerce dataset. \n",
    "Sample Document: \n",
    "\n",
    "```\n",
    "{\n",
    "    '_id': 0,\n",
    "    'product_name': \"Alisha Solid Women's Cycling Shorts\",\n",
    "    'description': \"Key Features of Alisha Solid Women's Cycling Shorts Cotton Lycra Navy, Red, Navy,Specifications of Alisha Solid Women's Cycling Shorts Shorts Details Number of Contents in Sales Package Pack of 3 Fabric Cotton Lycra Type Cycling Shorts General Details Pattern Solid Ideal For Women's Fabric Care Gentle Machine Wash in Lukewarm Water, Do Not Bleach Additional Details Style Code ALTHT_3P_21 In the Box 3 shorts\",\n",
    "    'retail_price': 999.0\n",
    "}\n",
    "```\n"
   ]
  },
  {
   "cell_type": "code",
   "execution_count": null,
   "metadata": {
    "colab": {
     "base_uri": "https://localhost:8080/"
    },
    "id": "XqKiw0nVibaR",
    "outputId": "9f288b1a-7e46-4a6e-ee7d-698dcf49ce2d"
   },
   "outputs": [],
   "source": [
    "from relevanceai.utils.datasets import get_flipkart_dataset\n",
    "ds = client.Dataset('dummy-flipkart')\n",
    "ds.upsert_documents(get_flipkart_dataset())"
   ]
  },
  {
   "cell_type": "markdown",
   "metadata": {
    "id": "bnyMvOW8hmnm"
   },
   "source": [
    "## Real Estate Dataset \n",
    "\n",
    "A sample real estate data containing images of houses, pricing, bathrooms and other details in Australia.\n",
    "\n",
    "```\n",
    "  {\n",
    "      'propertyDetails': {'area': 'North Shore - Lower',\n",
    "      'carspaces': 1,\n",
    "      'streetNumber': '28',\n",
    "      'latitude': -33.8115768,\n",
    "      'allPropertyTypes': ['ApartmentUnitFlat'],\n",
    "      'postcode': '2066',\n",
    "      'unitNumber': '6',\n",
    "      'bathrooms': 1.0,\n",
    "      'bedrooms': 1.0,\n",
    "      'features': ['BuiltInWardrobes', 'InternalLaundry','Intercom', 'Dishwasher'],\n",
    "      'street': 'Epping Road',\n",
    "      'propertyType': 'ApartmentUnitFlat',\n",
    "      'suburb': 'LANE COVE',\n",
    "      'state': 'NSW',\n",
    "      'region': 'Sydney Region',\n",
    "      'displayableAddress': '6/28 Epping Road, Lane Cove',\n",
    "      'longitude': 151.166611},\n",
    "      'listingSlug': '6-28-epping-road-lane-cove-nsw-2066-14688794',\n",
    "      'id': 14688794,\n",
    "      'headline': 'Extra large one bedroom unit',\n",
    "      'summaryDescription': '<b></b><br />This modern and spacious one-bedroom apartment situated on the top floor, the quiet rear side of a small 2 story boutique block, enjoys a wonderfully private, leafy, and greenly outlook from 2 sides and balcony. A short stroll to city buse...',\n",
    "      'advertiser': 'Ray White Lane Cove',\n",
    "      'image_url': 'https://bucket-api.domain.com.au/v1/bucket/image/14688794_1_1_201203_101135-w1600-h1065',\n",
    "      'insert_date_': '2021-03-01T14:19:22.805086',\n",
    "      'labels': [],\n",
    "      'image_url_5': 'https://bucket-api.domain.com.au/v1/bucket/image/14688794_5_1_201203_101135-w1600-h1067',\n",
    "      'image_url_4': 'https://bucket-api.domain.com.au/v1/bucket/image/14688794_4_1_201203_101135-w1600-h1067',\n",
    "      'priceDetails': {'displayPrice': 'Deposit Taken ! Inspection Cancelled thank you !!!'}\n",
    "  ...\n",
    "  }\n",
    "```"
   ]
  },
  {
   "cell_type": "code",
   "execution_count": null,
   "metadata": {
    "id": "R3PxiQbPhnqU"
   },
   "outputs": [],
   "source": [
    "from relevanceai.utils.datasets import get_realestate_dataset\n",
    "ds = client.Dataset('dummy-realestate')\n",
    "ds.upsert_documents(get_realestate_dataset())"
   ]
  },
  {
   "cell_type": "markdown",
   "metadata": {
    "id": "9HeMLbL_iqZn"
   },
   "source": [
    "## Games Dataset \n",
    "\n",
    "Our famous games dataset. \n",
    "\n",
    "Download an example games dataset (https://www.freetogame.com/)\n",
    "\n",
    "Example\n",
    "```\n",
    "{\n",
    "    'id': 1,\n",
    "    'title': 'Dauntless',\n",
    "    'thumbnail': 'https://www.freetogame.com/g/1/thumbnail.jpg',\n",
    "    'short_description': 'A free-to-play, co-op action RPG with gameplay similar to Monster Hunter.',\n",
    "    'game_url': 'https://www.freetogame.com/open/dauntless',\n",
    "    'genre': 'MMORPG',\n",
    "    'platform': 'PC (Windows)',\n",
    "    'publisher': 'Phoenix Labs',\n",
    "    'developer': 'Phoenix Labs, Iron Galaxy',\n",
    "    'release_date': '2019-05-21',\n",
    "    'freetogame_profile_url': 'https://www.freetogame.com/dauntless'\n",
    "}\n",
    "```"
   ]
  },
  {
   "cell_type": "code",
   "execution_count": null,
   "metadata": {
    "colab": {
     "base_uri": "https://localhost:8080/",
     "height": 431
    },
    "id": "IhH10bOliwTk",
    "outputId": "0a301b4f-9ba5-44d9-823c-e6f77cd47562"
   },
   "outputs": [],
   "source": [
    "from relevanceai.utils.datasets import get_games_dataset\n",
    "ds = client.Dataset('dummy-games-dataset')\n",
    "ds.upsert_documents(get_games_dataset())"
   ]
  },
  {
   "cell_type": "markdown",
   "metadata": {
    "id": "2o4d5xX3i2Is"
   },
   "source": [
    "## News Dataset\n",
    "\n",
    "An example news dataset (note - this is not encoded)\n",
    "\n",
    "```\n",
    "{\n",
    "    'authors': 'Ruth Harris',\n",
    "    'content': 'Sometimes the power of Christmas will make you do wild and wonderful things. You do not need to believe in the Holy Trinity to believe in the positive power of doing good for others.\n",
    "    'domain': 'awm.com',\n",
    "    'id': 141,\n",
    "    'inserted_at': '2018-02-02 01:19:41.756632',\n",
    "    'keywords': nan,\n",
    "    'meta_description': nan,\n",
    "    'meta_keywords': \"['']\",\n",
    "    'scraped_at': '2018-01-25 16:17:44.789555',\n",
    "    'summary': nan,\n",
    "    'tags': nan,\n",
    "    'title': 'Church Congregation Brings Gift to Waitresses Working on Christmas Eve, Has Them Crying (video)',\n",
    "    'type': 'unreliable',\n",
    "    'updated_at': '2018-02-02 01:19:41.756664',\n",
    "    'url': 'http://awm.com/church-congregation-brings-gift-to-waitresses-working-on-christmas-eve-has-them-crying-video/'\n",
    "}\n",
    "```"
   ]
  },
  {
   "cell_type": "code",
   "execution_count": null,
   "metadata": {
    "colab": {
     "base_uri": "https://localhost:8080/"
    },
    "id": "_llKsmMbi2dk",
    "outputId": "479b47cc-56d3-4a34-9778-809bec74cebe"
   },
   "outputs": [],
   "source": [
    "from relevanceai.utils.datasets import get_news_dataset\n",
    "ds = client.Dataset('dummy-news')\n",
    "ds.upsert_documents(get_news_dataset())"
   ]
  },
  {
   "cell_type": "markdown",
   "metadata": {},
   "source": [
    "## Iris Dataset\n",
    "\n",
    "The famous Iris dataset\n",
    "\n",
    "```\n",
    "\n",
    "{\n",
    "    \"PetalLengthCm\": \"numeric\",\n",
    "    \"PetalWidthCm\": \"numeric\",\n",
    "    \"SepalLengthCm\": \"numeric\",\n",
    "    \"SepalWidthCm\": \"numeric\",\n",
    "    \"Species\": \"text\",\n",
    "    \"insert_date_\": \"date\"\n",
    "}\n",
    "\n",
    "```"
   ]
  },
  {
   "cell_type": "code",
   "execution_count": null,
   "metadata": {},
   "outputs": [],
   "source": [
    "from relevanceai.utils.datasets import get_iris_dataset\n",
    "ds = client.Dataset('dummy-iris')\n",
    "ds.upsert_documents(get_iris_dataset())"
   ]
  },
  {
   "cell_type": "markdown",
   "metadata": {},
   "source": [
    "## Palmer Penguins Dataset\n",
    "\n",
    "The popular [Palmer Penguins](https://allisonhorst.github.io/palmerpenguins/articles/intro.html) dataset!\n",
    "\n",
    "```\n",
    "{\n",
    "     'Body Mass (g)': 4350.0,\n",
    "     'Clutch Completion': 'Yes',\n",
    "     'Comments': nan,\n",
    "     'Culmen Depth (mm)': 18.5,\n",
    "     'Culmen Length (mm)': 40.3,\n",
    "     'Date Egg': '2008-11-08',\n",
    "     'Delta 13 C (o/oo)': -26.01152,\n",
    "     'Delta 15 N (o/oo)': 8.39459,\n",
    "     'Flipper Length (mm)': 196.0,\n",
    "     'Individual ID': 'N49A2',\n",
    "     'Island': 'Dream',\n",
    "     'Region': 'Anvers',\n",
    "     'Sample Number': 98,\n",
    "     'Sex': 'MALE',\n",
    "     'Species': 'Adelie Penguin (Pygoscelis adeliae)',\n",
    "     'Stage': 'Adult, 1 Egg Stage',\n",
    "     '_id': 'PAL0809'\n",
    "}\n",
    "```"
   ]
  },
  {
   "cell_type": "code",
   "execution_count": null,
   "metadata": {},
   "outputs": [],
   "source": [
    "from relevanceai.utils.datasets import get_palmer_penguins_dataset\n",
    "ds = client.Dataset('dummy-palmer-penguins')\n",
    "ds.upsert_documents(get_palmer_penguins_dataset())"
   ]
  },
  {
   "cell_type": "code",
   "execution_count": null,
   "metadata": {},
   "outputs": [],
   "source": []
  },
  {
   "cell_type": "code",
   "execution_count": null,
   "metadata": {},
   "outputs": [],
   "source": []
  }
 ],
 "metadata": {
  "colab": {
   "collapsed_sections": [],
   "name": "Dummy Datasets Workflow.ipynb",
   "provenance": [],
   "toc_visible": true
  },
  "kernelspec": {
   "display_name": "Python 3",
   "language": "python",
   "name": "python3"
  },
  "language_info": {
   "codemirror_mode": {
    "name": "ipython",
    "version": 3
   },
   "file_extension": ".py",
   "mimetype": "text/x-python",
   "name": "python",
   "nbconvert_exporter": "python",
   "pygments_lexer": "ipython3",
   "version": "3.8.0"
  },
  "name": "Dummy_Datasets_Workflow"
 },
 "nbformat": 4,
 "nbformat_minor": 1
}

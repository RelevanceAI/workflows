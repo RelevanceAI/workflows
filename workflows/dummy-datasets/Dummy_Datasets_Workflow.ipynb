{
  "nbformat": 4,
  "nbformat_minor": 0,
  "metadata": {
    "colab": {
      "name": "Dummy Datasets Workflow.ipynb",
      "provenance": [],
      "collapsed_sections": [],
      "toc_visible": true
    },
    "kernelspec": {
      "name": "python3",
      "display_name": "Python 3"
    },
    "language_info": {
      "name": "python"
    }
  },
  "cells": [
    {
      "cell_type": "markdown",
      "source": [
        "# Dummy Datasets"
      ],
      "metadata": {
        "id": "KUgAI592hI24"
      }
    },
    {
      "cell_type": "markdown",
      "source": [
        "Pick from our range of datasets to try out on your own data!"
      ],
      "metadata": {
        "id": "nncjmgvMet5J"
      }
    },
    {
      "cell_type": "code",
      "execution_count": null,
      "metadata": {
        "id": "tzkPQMGLrh3E"
      },
      "outputs": [],
      "source": [
        "!pip install -q RelevanceAI"
      ]
    },
    {
      "cell_type": "markdown",
      "source": [
        "# Client Setup"
      ],
      "metadata": {
        "id": "PqfuMIpbhHwb"
      }
    },
    {
      "cell_type": "code",
      "source": [
        "from relevanceai import Client\n",
        "client = Client()"
      ],
      "metadata": {
        "id": "4Y62oHY_hHap"
      },
      "execution_count": null,
      "outputs": []
    },
    {
      "cell_type": "markdown",
      "source": [
        "# E-commerce Dummy Dataset \n",
        "\n",
        "An e-commerce dataset containing encoded products, uncleaned product prices and their sources.\n",
        "\n",
        "```\n",
        "{\n",
        "    '_id': 'b7fc9acbc9ddd18855f96863d37a4fe9',\n",
        "    'product_image': 'https://thumbs4.ebaystatic.com/d/l225/pict/321567405391_1.jpg',\n",
        "    'product_image_clip_vector_': [...],\n",
        "    'product_link': 'https://www.ebay.com/itm/20-36-Mens-Silver-Stainless-Steel-Braided-Wheat-Chain-Necklace-Jewelry-3-4-5-6MM-/321567405391?pt=LH_DefaultDomain_0&var=&hash=item4adee9354f',\n",
        "    'product_price': '$7.99 to $12.99',\n",
        "    'product_title': '20-36Mens Silver Stainless Steel Braided Wheat Chain Necklace Jewelry 3/4/5/6MM\"',\n",
        "    'product_title_clip_vector_': [...],\n",
        "    'query': 'steel necklace',\n",
        "    'source': 'eBay'\n",
        "}\n",
        "```"
      ],
      "metadata": {
        "id": "JNlNtihqN0to"
      }
    },
    {
      "cell_type": "code",
      "source": [
        "from relevanceai.datasets import get_ecommerce_dataset_encoded\n",
        "ds = client.Dataset('dummy-ecommerce')\n",
        "ds.upsert_documents(get_ecommerce_dataset_encoded())"
      ],
      "metadata": {
        "id": "mrjEJZFxN0O_"
      },
      "execution_count": 11,
      "outputs": []
    },
    {
      "cell_type": "markdown",
      "source": [
        "# Flipkart Dataset (E-commerce)\n",
        "\n",
        "A flipkart e-commerce dataset. \n",
        "Sample Document: \n",
        "\n",
        "```\n",
        "{\n",
        "    '_id': 0,\n",
        "    'product_name': \"Alisha Solid Women's Cycling Shorts\",\n",
        "    'description': \"Key Features of Alisha Solid Women's Cycling Shorts Cotton Lycra Navy, Red, Navy,Specifications of Alisha Solid Women's Cycling Shorts Shorts Details Number of Contents in Sales Package Pack of 3 Fabric Cotton Lycra Type Cycling Shorts General Details Pattern Solid Ideal For Women's Fabric Care Gentle Machine Wash in Lukewarm Water, Do Not Bleach Additional Details Style Code ALTHT_3P_21 In the Box 3 shorts\",\n",
        "    'retail_price': 999.0\n",
        "}\n",
        "```\n"
      ],
      "metadata": {
        "id": "5Z98piK5ibm3"
      }
    },
    {
      "cell_type": "code",
      "source": [
        "from relevanceai.datasets import get_flipkart_dataset\n",
        "ds = client.Dataset('dummy-flipkart')\n",
        "ds.upsert_documents(get_flipkart_dataset())"
      ],
      "metadata": {
        "id": "XqKiw0nVibaR"
      },
      "execution_count": null,
      "outputs": []
    },
    {
      "cell_type": "markdown",
      "source": [
        "# Titanic Dataset\n",
        "\n",
        "The famous dataset about Titanic survivors. Cleaned and is useful for tabular data examples."
      ],
      "metadata": {
        "id": "J8v09RyEN25K"
      }
    },
    {
      "cell_type": "code",
      "source": [
        "from relevanceai.datasets import get_titanic_dataset\n",
        "ds = client.Dataset('dummy-titanic')\n",
        "ds.upsert_documents(get_titanic_dataset())"
      ],
      "metadata": {
        "id": "UOlDZcPON8IE"
      },
      "execution_count": null,
      "outputs": []
    },
    {
      "cell_type": "markdown",
      "source": [
        "# Real Estate Dataset \n",
        "\n",
        "A sample real estate data containing images of houses, pricing, bathrooms and other details in Australia.\n",
        "\n",
        "```\n",
        "  {\n",
        "      'propertyDetails': {'area': 'North Shore - Lower',\n",
        "      'carspaces': 1,\n",
        "      'streetNumber': '28',\n",
        "      'latitude': -33.8115768,\n",
        "      'allPropertyTypes': ['ApartmentUnitFlat'],\n",
        "      'postcode': '2066',\n",
        "      'unitNumber': '6',\n",
        "      'bathrooms': 1.0,\n",
        "      'bedrooms': 1.0,\n",
        "      'features': ['BuiltInWardrobes', 'InternalLaundry','Intercom', 'Dishwasher'],\n",
        "      'street': 'Epping Road',\n",
        "      'propertyType': 'ApartmentUnitFlat',\n",
        "      'suburb': 'LANE COVE',\n",
        "      'state': 'NSW',\n",
        "      'region': 'Sydney Region',\n",
        "      'displayableAddress': '6/28 Epping Road, Lane Cove',\n",
        "      'longitude': 151.166611},\n",
        "      'listingSlug': '6-28-epping-road-lane-cove-nsw-2066-14688794',\n",
        "      'id': 14688794,\n",
        "      'headline': 'Extra large one bedroom unit',\n",
        "      'summaryDescription': '<b></b><br />This modern and spacious one-bedroom apartment situated on the top floor, the quiet rear side of a small 2 story boutique block, enjoys a wonderfully private, leafy, and greenly outlook from 2 sides and balcony. A short stroll to city buse...',\n",
        "      'advertiser': 'Ray White Lane Cove',\n",
        "      'image_url': 'https://bucket-api.domain.com.au/v1/bucket/image/14688794_1_1_201203_101135-w1600-h1065',\n",
        "      'insert_date_': '2021-03-01T14:19:22.805086',\n",
        "      'labels': [],\n",
        "      'image_url_5': 'https://bucket-api.domain.com.au/v1/bucket/image/14688794_5_1_201203_101135-w1600-h1067',\n",
        "      'image_url_4': 'https://bucket-api.domain.com.au/v1/bucket/image/14688794_4_1_201203_101135-w1600-h1067',\n",
        "      'priceDetails': {'displayPrice': 'Deposit Taken ! Inspection Cancelled thank you !!!'}\n",
        "  ...\n",
        "  }\n",
        "```"
      ],
      "metadata": {
        "id": "bnyMvOW8hmnm"
      }
    },
    {
      "cell_type": "code",
      "source": [
        "from relevanceai.datasets import get_realestate_dataset\n",
        "ds = client.Dataset('dummy-realestate')\n",
        "ds.upsert_documents(get_realestate_dataset())"
      ],
      "metadata": {
        "id": "R3PxiQbPhnqU"
      },
      "execution_count": null,
      "outputs": []
    },
    {
      "cell_type": "markdown",
      "source": [
        "# Games Dataset \n",
        "\n",
        "Our famous games dataset. \n",
        "\n",
        "Download an example games dataset (https://www.freetogame.com/)\n",
        "\n",
        "Example\n",
        "```\n",
        "{\n",
        "    'id': 1,\n",
        "    'title': 'Dauntless',\n",
        "    'thumbnail': 'https://www.freetogame.com/g/1/thumbnail.jpg',\n",
        "    'short_description': 'A free-to-play, co-op action RPG with gameplay similar to Monster Hunter.',\n",
        "    'game_url': 'https://www.freetogame.com/open/dauntless',\n",
        "    'genre': 'MMORPG',\n",
        "    'platform': 'PC (Windows)',\n",
        "    'publisher': 'Phoenix Labs',\n",
        "    'developer': 'Phoenix Labs, Iron Galaxy',\n",
        "    'release_date': '2019-05-21',\n",
        "    'freetogame_profile_url': 'https://www.freetogame.com/dauntless'\n",
        "}\n",
        "```"
      ],
      "metadata": {
        "id": "9HeMLbL_iqZn"
      }
    },
    {
      "cell_type": "code",
      "source": [
        "from relevanceai.datasets import get_games_dataset\n",
        "ds = client.Dataset('dummy-games-dataset')\n",
        "ds.upsert_documents(get_games_dataset())"
      ],
      "metadata": {
        "id": "IhH10bOliwTk"
      },
      "execution_count": null,
      "outputs": []
    },
    {
      "cell_type": "markdown",
      "source": [
        "# News Dataset\n",
        "\n",
        "An example news dataset (note - this is not encoded)\n",
        "\n",
        "```\n",
        "{\n",
        "    'authors': 'Ruth Harris',\n",
        "    'content': 'Sometimes the power of Christmas will make you do wild and wonderful things. You do not need to believe in the Holy Trinity to believe in the positive power of doing good for others.\n",
        "    'domain': 'awm.com',\n",
        "    'id': 141,\n",
        "    'inserted_at': '2018-02-02 01:19:41.756632',\n",
        "    'keywords': nan,\n",
        "    'meta_description': nan,\n",
        "    'meta_keywords': \"['']\",\n",
        "    'scraped_at': '2018-01-25 16:17:44.789555',\n",
        "    'summary': nan,\n",
        "    'tags': nan,\n",
        "    'title': 'Church Congregation Brings Gift to Waitresses Working on Christmas Eve, Has Them Crying (video)',\n",
        "    'type': 'unreliable',\n",
        "    'updated_at': '2018-02-02 01:19:41.756664',\n",
        "    'url': 'http://awm.com/church-congregation-brings-gift-to-waitresses-working-on-christmas-eve-has-them-crying-video/'\n",
        "}\n",
        "```"
      ],
      "metadata": {
        "id": "2o4d5xX3i2Is"
      }
    },
    {
      "cell_type": "code",
      "source": [
        "from relevanceai.datasets import get_news_dataset\n",
        "ds = client.Dataset('dummy-news')\n",
        "ds.upsert_documents(get_news_dataset())"
      ],
      "metadata": {
        "id": "_llKsmMbi2dk"
      },
      "execution_count": null,
      "outputs": []
    },
    {
      "cell_type": "markdown",
      "source": [
        "# Quick and easy fake dataset\n",
        "\n",
        "A quick and dirty dataset for rapid experimentation.\n",
        "\n",
        "It contains all of the basic dataset features and follows the following schema\n",
        "\n",
        "```\n",
        "{'_chunk_': 'chunks',\n",
        "'_chunk_.label': 'text',\n",
        "'_chunk_.label_chunkvector_': {'chunkvector': 5},\n",
        "'insert_date_': 'date',\n",
        "'sample_1_description': 'text',\n",
        "'sample_1_label': 'text',\n",
        "'sample_1_value': 'numeric',\n",
        "'sample_1_vector_': {'vector': 5},\n",
        "'sample_2_description': 'text',\n",
        "'sample_2_label': 'text',\n",
        "'sample_2_value': 'numeric',\n",
        "'sample_2_vector_': {'vector': 5},\n",
        "'sample_3_description': 'text',\n",
        "'sample_3_label': 'text',\n",
        "'sample_3_value': 'numeric',\n",
        "'sample_3_vector_': {'vector': 5}}\n",
        "```"
      ],
      "metadata": {
        "id": "1Ht-PhKRN8Z8"
      }
    },
    {
      "cell_type": "code",
      "source": [
        "from relevanceai.datasets import mock_documents\n",
        "ds = client.Dataset('dummy-mock_dataset')\n",
        "ds.upsert_documents(mock_documents(100))"
      ],
      "metadata": {
        "id": "tWAYllKAfMV_"
      },
      "execution_count": 4,
      "outputs": []
    }
  ]
}
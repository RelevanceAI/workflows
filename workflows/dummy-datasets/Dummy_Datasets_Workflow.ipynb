{
  "nbformat": 4,
  "nbformat_minor": 0,
  "metadata": {
    "colab": {
      "name": "Dummy Datasets Workflow.ipynb",
      "provenance": [],
      "collapsed_sections": [],
      "toc_visible": true
    },
    "kernelspec": {
      "name": "python3",
      "display_name": "Python 3"
    },
    "language_info": {
      "name": "python"
    }
  },
  "cells": [
    {
      "cell_type": "markdown",
      "source": [
        "# Insert a dummy dataset"
      ],
      "metadata": {
        "id": "KUgAI592hI24"
      }
    },
    {
      "cell_type": "markdown",
      "source": [
        "Pick from our range of datasets to try out on your own data!"
      ],
      "metadata": {
        "id": "nncjmgvMet5J"
      }
    },
    {
      "cell_type": "markdown",
      "source": [
        "# Step 0: Install"
      ],
      "metadata": {
        "id": "SkehXQlUHVeR"
      }
    },
    {
      "cell_type": "code",
      "execution_count": 1,
      "metadata": {
        "colab": {
          "base_uri": "https://localhost:8080/"
        },
        "id": "tzkPQMGLrh3E",
        "outputId": "f69c5032-e913-4798-cc2a-cd99a8e6835c"
      },
      "outputs": [
        {
          "output_type": "stream",
          "name": "stdout",
          "text": [
            "\u001b[K     |████████████████████████████████| 229 kB 4.4 MB/s \n",
            "\u001b[K     |████████████████████████████████| 58 kB 4.9 MB/s \n",
            "\u001b[K     |████████████████████████████████| 1.1 MB 51.5 MB/s \n",
            "\u001b[K     |████████████████████████████████| 94 kB 3.0 MB/s \n",
            "\u001b[K     |████████████████████████████████| 144 kB 49.2 MB/s \n",
            "\u001b[K     |████████████████████████████████| 271 kB 45.9 MB/s \n",
            "\u001b[31mERROR: pip's dependency resolver does not currently take into account all the packages that are installed. This behaviour is the source of the following dependency conflicts.\n",
            "tensorflow 2.8.0 requires tf-estimator-nightly==2.8.0.dev2021122109, which is not installed.\n",
            "arviz 0.11.4 requires typing-extensions<4,>=3.7.4.3, but you have typing-extensions 4.0.1 which is incompatible.\u001b[0m\n",
            "\u001b[?25h"
          ]
        }
      ],
      "source": [
        "!pip install -q RelevanceAI"
      ]
    },
    {
      "cell_type": "markdown",
      "source": [
        "# Step 1: Start up client"
      ],
      "metadata": {
        "id": "PqfuMIpbhHwb"
      }
    },
    {
      "cell_type": "code",
      "source": [
        "from relevanceai import Client\n",
        "client = Client()"
      ],
      "metadata": {
        "colab": {
          "base_uri": "https://localhost:8080/"
        },
        "id": "4Y62oHY_hHap",
        "outputId": "d0b949ed-1d7b-45cd-a326-1f9a49f0610e"
      },
      "execution_count": 2,
      "outputs": [
        {
          "output_type": "stream",
          "name": "stdout",
          "text": [
            "Activation token (you can find it here: https://cloud.relevance.ai/sdk/api )\n",
            "Activation token:··········\n",
            "Connecting to us-east-1...\n",
            "Welcome to RelevanceAI. Logged in as 334fe5fb667b3a64dada.\n"
          ]
        }
      ]
    },
    {
      "cell_type": "markdown",
      "source": [
        "# Step 2: Choose a dataset and run the code block!"
      ],
      "metadata": {
        "id": "H0fUP7pIHW9t"
      }
    },
    {
      "cell_type": "markdown",
      "source": [
        "## E-commerce Dummy Dataset \n",
        "\n",
        "An e-commerce dataset containing encoded products, uncleaned product prices and their sources.\n",
        "\n",
        "```\n",
        "{\n",
        "    '_id': 'b7fc9acbc9ddd18855f96863d37a4fe9',\n",
        "    'product_image': 'https://thumbs4.ebaystatic.com/d/l225/pict/321567405391_1.jpg',\n",
        "    'product_image_clip_vector_': [...],\n",
        "    'product_link': 'https://www.ebay.com/itm/20-36-Mens-Silver-Stainless-Steel-Braided-Wheat-Chain-Necklace-Jewelry-3-4-5-6MM-/321567405391?pt=LH_DefaultDomain_0&var=&hash=item4adee9354f',\n",
        "    'product_price': '$7.99 to $12.99',\n",
        "    'product_title': '20-36Mens Silver Stainless Steel Braided Wheat Chain Necklace Jewelry 3/4/5/6MM\"',\n",
        "    'product_title_clip_vector_': [...],\n",
        "    'query': 'steel necklace',\n",
        "    'source': 'eBay'\n",
        "}\n",
        "```"
      ],
      "metadata": {
        "id": "JNlNtihqN0to"
      }
    },
    {
      "cell_type": "code",
      "source": [
        "from relevanceai.datasets import get_ecommerce_dataset_encoded\n",
        "ds = client.Dataset('dummy-ecommerce')\n",
        "ds.upsert_documents(get_ecommerce_dataset_encoded())"
      ],
      "metadata": {
        "colab": {
          "base_uri": "https://localhost:8080/"
        },
        "id": "mrjEJZFxN0O_",
        "outputId": "3aac33f2-d55e-4624-bb50-f115be833fb5"
      },
      "execution_count": 8,
      "outputs": [
        {
          "output_type": "stream",
          "name": "stdout",
          "text": [
            "✅ All documents inserted/edited successfully.\n"
          ]
        }
      ]
    },
    {
      "cell_type": "markdown",
      "source": [
        "## Flipkart Dataset (E-commerce)\n",
        "\n",
        "A flipkart e-commerce dataset. \n",
        "Sample Document: \n",
        "\n",
        "```\n",
        "{\n",
        "    '_id': 0,\n",
        "    'product_name': \"Alisha Solid Women's Cycling Shorts\",\n",
        "    'description': \"Key Features of Alisha Solid Women's Cycling Shorts Cotton Lycra Navy, Red, Navy,Specifications of Alisha Solid Women's Cycling Shorts Shorts Details Number of Contents in Sales Package Pack of 3 Fabric Cotton Lycra Type Cycling Shorts General Details Pattern Solid Ideal For Women's Fabric Care Gentle Machine Wash in Lukewarm Water, Do Not Bleach Additional Details Style Code ALTHT_3P_21 In the Box 3 shorts\",\n",
        "    'retail_price': 999.0\n",
        "}\n",
        "```\n"
      ],
      "metadata": {
        "id": "5Z98piK5ibm3"
      }
    },
    {
      "cell_type": "code",
      "source": [
        "from relevanceai.datasets import get_flipkart_dataset\n",
        "ds = client.Dataset('dummy-flipkart')\n",
        "ds.upsert_documents(get_flipkart_dataset())"
      ],
      "metadata": {
        "colab": {
          "base_uri": "https://localhost:8080/"
        },
        "id": "XqKiw0nVibaR",
        "outputId": "9f288b1a-7e46-4a6e-ee7d-698dcf49ce2d"
      },
      "execution_count": 9,
      "outputs": [
        {
          "output_type": "stream",
          "name": "stdout",
          "text": [
            "✅ All documents inserted/edited successfully.\n"
          ]
        }
      ]
    },
    {
      "cell_type": "markdown",
      "source": [
        "## Titanic Dataset\n",
        "\n",
        "The famous dataset about Titanic survivors. Cleaned and is useful for tabular data examples."
      ],
      "metadata": {
        "id": "J8v09RyEN25K"
      }
    },
    {
      "cell_type": "code",
      "source": [
        "from relevanceai.datasets import get_titanic_dataset\n",
        "ds = client.Dataset('dummy-titanic')\n",
        "ds.upsert_documents(get_titanic_dataset())"
      ],
      "metadata": {
        "colab": {
          "base_uri": "https://localhost:8080/",
          "height": 431
        },
        "id": "UOlDZcPON8IE",
        "outputId": "35401ef5-63e0-4fa0-e4ac-9b881ee808d1"
      },
      "execution_count": 10,
      "outputs": [
        {
          "output_type": "error",
          "ename": "MissingFieldError",
          "evalue": "ignored",
          "traceback": [
            "\u001b[0;31m---------------------------------------------------------------------------\u001b[0m",
            "\u001b[0;31mKeyError\u001b[0m                                  Traceback (most recent call last)",
            "\u001b[0;32m/usr/local/lib/python3.7/dist-packages/relevanceai/utils.py\u001b[0m in \u001b[0;36m_convert_id_to_string\u001b[0;34m(self, documents, create_id)\u001b[0m\n\u001b[1;32m     56\u001b[0m             self.set_field_across_documents(\n\u001b[0;32m---> 57\u001b[0;31m                 \u001b[0;34m\"_id\"\u001b[0m\u001b[0;34m,\u001b[0m \u001b[0;34m[\u001b[0m\u001b[0mstr\u001b[0m\u001b[0;34m(\u001b[0m\u001b[0mi\u001b[0m\u001b[0;34m[\u001b[0m\u001b[0;34m\"_id\"\u001b[0m\u001b[0;34m]\u001b[0m\u001b[0;34m)\u001b[0m \u001b[0;32mfor\u001b[0m \u001b[0mi\u001b[0m \u001b[0;32min\u001b[0m \u001b[0mdocuments\u001b[0m\u001b[0;34m]\u001b[0m\u001b[0;34m,\u001b[0m \u001b[0mdocuments\u001b[0m\u001b[0;34m\u001b[0m\u001b[0;34m\u001b[0m\u001b[0m\n\u001b[0m\u001b[1;32m     58\u001b[0m             )\n",
            "\u001b[0;32m/usr/local/lib/python3.7/dist-packages/relevanceai/utils.py\u001b[0m in \u001b[0;36m<listcomp>\u001b[0;34m(.0)\u001b[0m\n\u001b[1;32m     56\u001b[0m             self.set_field_across_documents(\n\u001b[0;32m---> 57\u001b[0;31m                 \u001b[0;34m\"_id\"\u001b[0m\u001b[0;34m,\u001b[0m \u001b[0;34m[\u001b[0m\u001b[0mstr\u001b[0m\u001b[0;34m(\u001b[0m\u001b[0mi\u001b[0m\u001b[0;34m[\u001b[0m\u001b[0;34m\"_id\"\u001b[0m\u001b[0;34m]\u001b[0m\u001b[0;34m)\u001b[0m \u001b[0;32mfor\u001b[0m \u001b[0mi\u001b[0m \u001b[0;32min\u001b[0m \u001b[0mdocuments\u001b[0m\u001b[0;34m]\u001b[0m\u001b[0;34m,\u001b[0m \u001b[0mdocuments\u001b[0m\u001b[0;34m\u001b[0m\u001b[0;34m\u001b[0m\u001b[0m\n\u001b[0m\u001b[1;32m     58\u001b[0m             )\n",
            "\u001b[0;31mKeyError\u001b[0m: '_id'",
            "\nDuring handling of the above exception, another exception occurred:\n",
            "\u001b[0;31mMissingFieldError\u001b[0m                         Traceback (most recent call last)",
            "\u001b[0;32m<ipython-input-10-987b442c89ba>\u001b[0m in \u001b[0;36m<module>\u001b[0;34m()\u001b[0m\n\u001b[1;32m      1\u001b[0m \u001b[0;32mfrom\u001b[0m \u001b[0mrelevanceai\u001b[0m\u001b[0;34m.\u001b[0m\u001b[0mdatasets\u001b[0m \u001b[0;32mimport\u001b[0m \u001b[0mget_titanic_dataset\u001b[0m\u001b[0;34m\u001b[0m\u001b[0;34m\u001b[0m\u001b[0m\n\u001b[1;32m      2\u001b[0m \u001b[0mds\u001b[0m \u001b[0;34m=\u001b[0m \u001b[0mclient\u001b[0m\u001b[0;34m.\u001b[0m\u001b[0mDataset\u001b[0m\u001b[0;34m(\u001b[0m\u001b[0;34m'dummy-titanic'\u001b[0m\u001b[0;34m)\u001b[0m\u001b[0;34m\u001b[0m\u001b[0;34m\u001b[0m\u001b[0m\n\u001b[0;32m----> 3\u001b[0;31m \u001b[0mds\u001b[0m\u001b[0;34m.\u001b[0m\u001b[0mupsert_documents\u001b[0m\u001b[0;34m(\u001b[0m\u001b[0mget_titanic_dataset\u001b[0m\u001b[0;34m(\u001b[0m\u001b[0;34m)\u001b[0m\u001b[0;34m)\u001b[0m\u001b[0;34m\u001b[0m\u001b[0;34m\u001b[0m\u001b[0m\n\u001b[0m",
            "\u001b[0;32m/usr/local/lib/python3.7/dist-packages/relevanceai/analytics_funcs.py\u001b[0m in \u001b[0;36mwrapper\u001b[0;34m(*args, **kwargs)\u001b[0m\n\u001b[1;32m    122\u001b[0m             \u001b[0;32mpass\u001b[0m\u001b[0;34m\u001b[0m\u001b[0;34m\u001b[0m\u001b[0m\n\u001b[1;32m    123\u001b[0m         \u001b[0;32mtry\u001b[0m\u001b[0;34m:\u001b[0m\u001b[0;34m\u001b[0m\u001b[0;34m\u001b[0m\u001b[0m\n\u001b[0;32m--> 124\u001b[0;31m             \u001b[0;32mreturn\u001b[0m \u001b[0mfunc\u001b[0m\u001b[0;34m(\u001b[0m\u001b[0;34m*\u001b[0m\u001b[0margs\u001b[0m\u001b[0;34m,\u001b[0m \u001b[0;34m**\u001b[0m\u001b[0mkwargs\u001b[0m\u001b[0;34m)\u001b[0m\u001b[0;34m\u001b[0m\u001b[0;34m\u001b[0m\u001b[0m\n\u001b[0m\u001b[1;32m    125\u001b[0m         \u001b[0;32mfinally\u001b[0m\u001b[0;34m:\u001b[0m\u001b[0;34m\u001b[0m\u001b[0;34m\u001b[0m\u001b[0m\n\u001b[1;32m    126\u001b[0m             \u001b[0mos\u001b[0m\u001b[0;34m.\u001b[0m\u001b[0menviron\u001b[0m\u001b[0;34m[\u001b[0m\u001b[0mTRANSIT_ENV_VAR\u001b[0m\u001b[0;34m]\u001b[0m \u001b[0;34m=\u001b[0m \u001b[0;34m\"FALSE\"\u001b[0m\u001b[0;34m\u001b[0m\u001b[0;34m\u001b[0m\u001b[0m\n",
            "\u001b[0;32m/usr/local/lib/python3.7/dist-packages/relevanceai/dataset_api/dataset_write.py\u001b[0m in \u001b[0;36mupsert_documents\u001b[0;34m(self, documents, bulk_fn, max_workers, retry_chunk_mult, chunksize, show_progress_bar, use_json_encoder, return_json, create_id)\u001b[0m\n\u001b[1;32m    363\u001b[0m             \u001b[0mchunksize\u001b[0m\u001b[0;34m=\u001b[0m\u001b[0mchunksize\u001b[0m\u001b[0;34m,\u001b[0m\u001b[0;34m\u001b[0m\u001b[0;34m\u001b[0m\u001b[0m\n\u001b[1;32m    364\u001b[0m             \u001b[0muse_json_encoder\u001b[0m\u001b[0;34m=\u001b[0m\u001b[0muse_json_encoder\u001b[0m\u001b[0;34m,\u001b[0m\u001b[0;34m\u001b[0m\u001b[0;34m\u001b[0m\u001b[0m\n\u001b[0;32m--> 365\u001b[0;31m             \u001b[0mcreate_id\u001b[0m\u001b[0;34m=\u001b[0m\u001b[0mcreate_id\u001b[0m\u001b[0;34m,\u001b[0m\u001b[0;34m\u001b[0m\u001b[0;34m\u001b[0m\u001b[0m\n\u001b[0m\u001b[1;32m    366\u001b[0m         )\n\u001b[1;32m    367\u001b[0m         \u001b[0;32mreturn\u001b[0m \u001b[0mself\u001b[0m\u001b[0;34m.\u001b[0m\u001b[0m_process_insert_results\u001b[0m\u001b[0;34m(\u001b[0m\u001b[0mresults\u001b[0m\u001b[0;34m,\u001b[0m \u001b[0mreturn_json\u001b[0m\u001b[0;34m=\u001b[0m\u001b[0mreturn_json\u001b[0m\u001b[0;34m)\u001b[0m\u001b[0;34m\u001b[0m\u001b[0;34m\u001b[0m\u001b[0m\n",
            "\u001b[0;32m/usr/local/lib/python3.7/dist-packages/relevanceai/api/batch/batch_insert.py\u001b[0m in \u001b[0;36m_update_documents\u001b[0;34m(self, dataset_id, documents, bulk_fn, max_workers, retry_chunk_mult, chunksize, show_progress_bar, use_json_encoder, create_id, *args, **kwargs)\u001b[0m\n\u001b[1;32m    325\u001b[0m \u001b[0;34m\u001b[0m\u001b[0m\n\u001b[1;32m    326\u001b[0m         \u001b[0;31m# Turn _id into string\u001b[0m\u001b[0;34m\u001b[0m\u001b[0;34m\u001b[0m\u001b[0;34m\u001b[0m\u001b[0m\n\u001b[0;32m--> 327\u001b[0;31m         \u001b[0mself\u001b[0m\u001b[0;34m.\u001b[0m\u001b[0m_convert_id_to_string\u001b[0m\u001b[0;34m(\u001b[0m\u001b[0mdocuments\u001b[0m\u001b[0;34m,\u001b[0m \u001b[0mcreate_id\u001b[0m\u001b[0;34m=\u001b[0m\u001b[0mcreate_id\u001b[0m\u001b[0;34m)\u001b[0m\u001b[0;34m\u001b[0m\u001b[0;34m\u001b[0m\u001b[0m\n\u001b[0m\u001b[1;32m    328\u001b[0m \u001b[0;34m\u001b[0m\u001b[0m\n\u001b[1;32m    329\u001b[0m         \u001b[0;32mif\u001b[0m \u001b[0muse_json_encoder\u001b[0m\u001b[0;34m:\u001b[0m\u001b[0;34m\u001b[0m\u001b[0;34m\u001b[0m\u001b[0m\n",
            "\u001b[0;32m/usr/local/lib/python3.7/dist-packages/relevanceai/utils.py\u001b[0m in \u001b[0;36m_convert_id_to_string\u001b[0;34m(self, documents, create_id)\u001b[0m\n\u001b[1;32m     64\u001b[0m             \u001b[0;32melse\u001b[0m\u001b[0;34m:\u001b[0m\u001b[0;34m\u001b[0m\u001b[0;34m\u001b[0m\u001b[0m\n\u001b[1;32m     65\u001b[0m                 raise MissingFieldError(\n\u001b[0;32m---> 66\u001b[0;31m                     \u001b[0;34m\"Missing _id field. Set `create_id=True` to automatically generate IDs.\"\u001b[0m\u001b[0;34m\u001b[0m\u001b[0;34m\u001b[0m\u001b[0m\n\u001b[0m\u001b[1;32m     67\u001b[0m                 )\n\u001b[1;32m     68\u001b[0m \u001b[0;34m\u001b[0m\u001b[0m\n",
            "\u001b[0;31mMissingFieldError\u001b[0m: Missing _id field. Set `create_id=True` to automatically generate IDs."
          ]
        }
      ]
    },
    {
      "cell_type": "markdown",
      "source": [
        "## Real Estate Dataset \n",
        "\n",
        "A sample real estate data containing images of houses, pricing, bathrooms and other details in Australia.\n",
        "\n",
        "```\n",
        "  {\n",
        "      'propertyDetails': {'area': 'North Shore - Lower',\n",
        "      'carspaces': 1,\n",
        "      'streetNumber': '28',\n",
        "      'latitude': -33.8115768,\n",
        "      'allPropertyTypes': ['ApartmentUnitFlat'],\n",
        "      'postcode': '2066',\n",
        "      'unitNumber': '6',\n",
        "      'bathrooms': 1.0,\n",
        "      'bedrooms': 1.0,\n",
        "      'features': ['BuiltInWardrobes', 'InternalLaundry','Intercom', 'Dishwasher'],\n",
        "      'street': 'Epping Road',\n",
        "      'propertyType': 'ApartmentUnitFlat',\n",
        "      'suburb': 'LANE COVE',\n",
        "      'state': 'NSW',\n",
        "      'region': 'Sydney Region',\n",
        "      'displayableAddress': '6/28 Epping Road, Lane Cove',\n",
        "      'longitude': 151.166611},\n",
        "      'listingSlug': '6-28-epping-road-lane-cove-nsw-2066-14688794',\n",
        "      'id': 14688794,\n",
        "      'headline': 'Extra large one bedroom unit',\n",
        "      'summaryDescription': '<b></b><br />This modern and spacious one-bedroom apartment situated on the top floor, the quiet rear side of a small 2 story boutique block, enjoys a wonderfully private, leafy, and greenly outlook from 2 sides and balcony. A short stroll to city buse...',\n",
        "      'advertiser': 'Ray White Lane Cove',\n",
        "      'image_url': 'https://bucket-api.domain.com.au/v1/bucket/image/14688794_1_1_201203_101135-w1600-h1065',\n",
        "      'insert_date_': '2021-03-01T14:19:22.805086',\n",
        "      'labels': [],\n",
        "      'image_url_5': 'https://bucket-api.domain.com.au/v1/bucket/image/14688794_5_1_201203_101135-w1600-h1067',\n",
        "      'image_url_4': 'https://bucket-api.domain.com.au/v1/bucket/image/14688794_4_1_201203_101135-w1600-h1067',\n",
        "      'priceDetails': {'displayPrice': 'Deposit Taken ! Inspection Cancelled thank you !!!'}\n",
        "  ...\n",
        "  }\n",
        "```"
      ],
      "metadata": {
        "id": "bnyMvOW8hmnm"
      }
    },
    {
      "cell_type": "code",
      "source": [
        "from relevanceai.datasets import get_realestate_dataset\n",
        "ds = client.Dataset('dummy-realestate')\n",
        "ds.upsert_documents(get_realestate_dataset())"
      ],
      "metadata": {
        "id": "R3PxiQbPhnqU"
      },
      "execution_count": null,
      "outputs": []
    },
    {
      "cell_type": "markdown",
      "source": [
        "## Games Dataset \n",
        "\n",
        "Our famous games dataset. \n",
        "\n",
        "Download an example games dataset (https://www.freetogame.com/)\n",
        "\n",
        "Example\n",
        "```\n",
        "{\n",
        "    'id': 1,\n",
        "    'title': 'Dauntless',\n",
        "    'thumbnail': 'https://www.freetogame.com/g/1/thumbnail.jpg',\n",
        "    'short_description': 'A free-to-play, co-op action RPG with gameplay similar to Monster Hunter.',\n",
        "    'game_url': 'https://www.freetogame.com/open/dauntless',\n",
        "    'genre': 'MMORPG',\n",
        "    'platform': 'PC (Windows)',\n",
        "    'publisher': 'Phoenix Labs',\n",
        "    'developer': 'Phoenix Labs, Iron Galaxy',\n",
        "    'release_date': '2019-05-21',\n",
        "    'freetogame_profile_url': 'https://www.freetogame.com/dauntless'\n",
        "}\n",
        "```"
      ],
      "metadata": {
        "id": "9HeMLbL_iqZn"
      }
    },
    {
      "cell_type": "code",
      "source": [
        "from relevanceai.datasets import get_games_dataset\n",
        "ds = client.Dataset('dummy-games-dataset')\n",
        "ds.upsert_documents(get_games_dataset(), create_id=True)"
      ],
      "metadata": {
        "colab": {
          "base_uri": "https://localhost:8080/",
          "height": 431
        },
        "id": "IhH10bOliwTk",
        "outputId": "0a301b4f-9ba5-44d9-823c-e6f77cd47562"
      },
      "execution_count": 7,
      "outputs": [
        {
          "output_type": "error",
          "ename": "MissingFieldError",
          "evalue": "ignored",
          "traceback": [
            "\u001b[0;31m---------------------------------------------------------------------------\u001b[0m",
            "\u001b[0;31mKeyError\u001b[0m                                  Traceback (most recent call last)",
            "\u001b[0;32m/usr/local/lib/python3.7/dist-packages/relevanceai/utils.py\u001b[0m in \u001b[0;36m_convert_id_to_string\u001b[0;34m(self, documents, create_id)\u001b[0m\n\u001b[1;32m     56\u001b[0m             self.set_field_across_documents(\n\u001b[0;32m---> 57\u001b[0;31m                 \u001b[0;34m\"_id\"\u001b[0m\u001b[0;34m,\u001b[0m \u001b[0;34m[\u001b[0m\u001b[0mstr\u001b[0m\u001b[0;34m(\u001b[0m\u001b[0mi\u001b[0m\u001b[0;34m[\u001b[0m\u001b[0;34m\"_id\"\u001b[0m\u001b[0;34m]\u001b[0m\u001b[0;34m)\u001b[0m \u001b[0;32mfor\u001b[0m \u001b[0mi\u001b[0m \u001b[0;32min\u001b[0m \u001b[0mdocuments\u001b[0m\u001b[0;34m]\u001b[0m\u001b[0;34m,\u001b[0m \u001b[0mdocuments\u001b[0m\u001b[0;34m\u001b[0m\u001b[0;34m\u001b[0m\u001b[0m\n\u001b[0m\u001b[1;32m     58\u001b[0m             )\n",
            "\u001b[0;32m/usr/local/lib/python3.7/dist-packages/relevanceai/utils.py\u001b[0m in \u001b[0;36m<listcomp>\u001b[0;34m(.0)\u001b[0m\n\u001b[1;32m     56\u001b[0m             self.set_field_across_documents(\n\u001b[0;32m---> 57\u001b[0;31m                 \u001b[0;34m\"_id\"\u001b[0m\u001b[0;34m,\u001b[0m \u001b[0;34m[\u001b[0m\u001b[0mstr\u001b[0m\u001b[0;34m(\u001b[0m\u001b[0mi\u001b[0m\u001b[0;34m[\u001b[0m\u001b[0;34m\"_id\"\u001b[0m\u001b[0;34m]\u001b[0m\u001b[0;34m)\u001b[0m \u001b[0;32mfor\u001b[0m \u001b[0mi\u001b[0m \u001b[0;32min\u001b[0m \u001b[0mdocuments\u001b[0m\u001b[0;34m]\u001b[0m\u001b[0;34m,\u001b[0m \u001b[0mdocuments\u001b[0m\u001b[0;34m\u001b[0m\u001b[0;34m\u001b[0m\u001b[0m\n\u001b[0m\u001b[1;32m     58\u001b[0m             )\n",
            "\u001b[0;31mKeyError\u001b[0m: '_id'",
            "\nDuring handling of the above exception, another exception occurred:\n",
            "\u001b[0;31mMissingFieldError\u001b[0m                         Traceback (most recent call last)",
            "\u001b[0;32m<ipython-input-7-304de44ee4bb>\u001b[0m in \u001b[0;36m<module>\u001b[0;34m()\u001b[0m\n\u001b[1;32m      1\u001b[0m \u001b[0;32mfrom\u001b[0m \u001b[0mrelevanceai\u001b[0m\u001b[0;34m.\u001b[0m\u001b[0mdatasets\u001b[0m \u001b[0;32mimport\u001b[0m \u001b[0mget_games_dataset\u001b[0m\u001b[0;34m\u001b[0m\u001b[0;34m\u001b[0m\u001b[0m\n\u001b[1;32m      2\u001b[0m \u001b[0mds\u001b[0m \u001b[0;34m=\u001b[0m \u001b[0mclient\u001b[0m\u001b[0;34m.\u001b[0m\u001b[0mDataset\u001b[0m\u001b[0;34m(\u001b[0m\u001b[0;34m'dummy-games-dataset'\u001b[0m\u001b[0;34m)\u001b[0m\u001b[0;34m\u001b[0m\u001b[0;34m\u001b[0m\u001b[0m\n\u001b[0;32m----> 3\u001b[0;31m \u001b[0mds\u001b[0m\u001b[0;34m.\u001b[0m\u001b[0mupsert_documents\u001b[0m\u001b[0;34m(\u001b[0m\u001b[0mget_games_dataset\u001b[0m\u001b[0;34m(\u001b[0m\u001b[0;34m)\u001b[0m\u001b[0;34m)\u001b[0m\u001b[0;34m\u001b[0m\u001b[0;34m\u001b[0m\u001b[0m\n\u001b[0m",
            "\u001b[0;32m/usr/local/lib/python3.7/dist-packages/relevanceai/analytics_funcs.py\u001b[0m in \u001b[0;36mwrapper\u001b[0;34m(*args, **kwargs)\u001b[0m\n\u001b[1;32m    122\u001b[0m             \u001b[0;32mpass\u001b[0m\u001b[0;34m\u001b[0m\u001b[0;34m\u001b[0m\u001b[0m\n\u001b[1;32m    123\u001b[0m         \u001b[0;32mtry\u001b[0m\u001b[0;34m:\u001b[0m\u001b[0;34m\u001b[0m\u001b[0;34m\u001b[0m\u001b[0m\n\u001b[0;32m--> 124\u001b[0;31m             \u001b[0;32mreturn\u001b[0m \u001b[0mfunc\u001b[0m\u001b[0;34m(\u001b[0m\u001b[0;34m*\u001b[0m\u001b[0margs\u001b[0m\u001b[0;34m,\u001b[0m \u001b[0;34m**\u001b[0m\u001b[0mkwargs\u001b[0m\u001b[0;34m)\u001b[0m\u001b[0;34m\u001b[0m\u001b[0;34m\u001b[0m\u001b[0m\n\u001b[0m\u001b[1;32m    125\u001b[0m         \u001b[0;32mfinally\u001b[0m\u001b[0;34m:\u001b[0m\u001b[0;34m\u001b[0m\u001b[0;34m\u001b[0m\u001b[0m\n\u001b[1;32m    126\u001b[0m             \u001b[0mos\u001b[0m\u001b[0;34m.\u001b[0m\u001b[0menviron\u001b[0m\u001b[0;34m[\u001b[0m\u001b[0mTRANSIT_ENV_VAR\u001b[0m\u001b[0;34m]\u001b[0m \u001b[0;34m=\u001b[0m \u001b[0;34m\"FALSE\"\u001b[0m\u001b[0;34m\u001b[0m\u001b[0;34m\u001b[0m\u001b[0m\n",
            "\u001b[0;32m/usr/local/lib/python3.7/dist-packages/relevanceai/dataset_api/dataset_write.py\u001b[0m in \u001b[0;36mupsert_documents\u001b[0;34m(self, documents, bulk_fn, max_workers, retry_chunk_mult, chunksize, show_progress_bar, use_json_encoder, return_json, create_id)\u001b[0m\n\u001b[1;32m    363\u001b[0m             \u001b[0mchunksize\u001b[0m\u001b[0;34m=\u001b[0m\u001b[0mchunksize\u001b[0m\u001b[0;34m,\u001b[0m\u001b[0;34m\u001b[0m\u001b[0;34m\u001b[0m\u001b[0m\n\u001b[1;32m    364\u001b[0m             \u001b[0muse_json_encoder\u001b[0m\u001b[0;34m=\u001b[0m\u001b[0muse_json_encoder\u001b[0m\u001b[0;34m,\u001b[0m\u001b[0;34m\u001b[0m\u001b[0;34m\u001b[0m\u001b[0m\n\u001b[0;32m--> 365\u001b[0;31m             \u001b[0mcreate_id\u001b[0m\u001b[0;34m=\u001b[0m\u001b[0mcreate_id\u001b[0m\u001b[0;34m,\u001b[0m\u001b[0;34m\u001b[0m\u001b[0;34m\u001b[0m\u001b[0m\n\u001b[0m\u001b[1;32m    366\u001b[0m         )\n\u001b[1;32m    367\u001b[0m         \u001b[0;32mreturn\u001b[0m \u001b[0mself\u001b[0m\u001b[0;34m.\u001b[0m\u001b[0m_process_insert_results\u001b[0m\u001b[0;34m(\u001b[0m\u001b[0mresults\u001b[0m\u001b[0;34m,\u001b[0m \u001b[0mreturn_json\u001b[0m\u001b[0;34m=\u001b[0m\u001b[0mreturn_json\u001b[0m\u001b[0;34m)\u001b[0m\u001b[0;34m\u001b[0m\u001b[0;34m\u001b[0m\u001b[0m\n",
            "\u001b[0;32m/usr/local/lib/python3.7/dist-packages/relevanceai/api/batch/batch_insert.py\u001b[0m in \u001b[0;36m_update_documents\u001b[0;34m(self, dataset_id, documents, bulk_fn, max_workers, retry_chunk_mult, chunksize, show_progress_bar, use_json_encoder, create_id, *args, **kwargs)\u001b[0m\n\u001b[1;32m    325\u001b[0m \u001b[0;34m\u001b[0m\u001b[0m\n\u001b[1;32m    326\u001b[0m         \u001b[0;31m# Turn _id into string\u001b[0m\u001b[0;34m\u001b[0m\u001b[0;34m\u001b[0m\u001b[0;34m\u001b[0m\u001b[0m\n\u001b[0;32m--> 327\u001b[0;31m         \u001b[0mself\u001b[0m\u001b[0;34m.\u001b[0m\u001b[0m_convert_id_to_string\u001b[0m\u001b[0;34m(\u001b[0m\u001b[0mdocuments\u001b[0m\u001b[0;34m,\u001b[0m \u001b[0mcreate_id\u001b[0m\u001b[0;34m=\u001b[0m\u001b[0mcreate_id\u001b[0m\u001b[0;34m)\u001b[0m\u001b[0;34m\u001b[0m\u001b[0;34m\u001b[0m\u001b[0m\n\u001b[0m\u001b[1;32m    328\u001b[0m \u001b[0;34m\u001b[0m\u001b[0m\n\u001b[1;32m    329\u001b[0m         \u001b[0;32mif\u001b[0m \u001b[0muse_json_encoder\u001b[0m\u001b[0;34m:\u001b[0m\u001b[0;34m\u001b[0m\u001b[0;34m\u001b[0m\u001b[0m\n",
            "\u001b[0;32m/usr/local/lib/python3.7/dist-packages/relevanceai/utils.py\u001b[0m in \u001b[0;36m_convert_id_to_string\u001b[0;34m(self, documents, create_id)\u001b[0m\n\u001b[1;32m     64\u001b[0m             \u001b[0;32melse\u001b[0m\u001b[0;34m:\u001b[0m\u001b[0;34m\u001b[0m\u001b[0;34m\u001b[0m\u001b[0m\n\u001b[1;32m     65\u001b[0m                 raise MissingFieldError(\n\u001b[0;32m---> 66\u001b[0;31m                     \u001b[0;34m\"Missing _id field. Set `create_id=True` to automatically generate IDs.\"\u001b[0m\u001b[0;34m\u001b[0m\u001b[0;34m\u001b[0m\u001b[0m\n\u001b[0m\u001b[1;32m     67\u001b[0m                 )\n\u001b[1;32m     68\u001b[0m \u001b[0;34m\u001b[0m\u001b[0m\n",
            "\u001b[0;31mMissingFieldError\u001b[0m: Missing _id field. Set `create_id=True` to automatically generate IDs."
          ]
        }
      ]
    },
    {
      "cell_type": "markdown",
      "source": [
        "## News Dataset\n",
        "\n",
        "An example news dataset (note - this is not encoded)\n",
        "\n",
        "```\n",
        "{\n",
        "    'authors': 'Ruth Harris',\n",
        "    'content': 'Sometimes the power of Christmas will make you do wild and wonderful things. You do not need to believe in the Holy Trinity to believe in the positive power of doing good for others.\n",
        "    'domain': 'awm.com',\n",
        "    'id': 141,\n",
        "    'inserted_at': '2018-02-02 01:19:41.756632',\n",
        "    'keywords': nan,\n",
        "    'meta_description': nan,\n",
        "    'meta_keywords': \"['']\",\n",
        "    'scraped_at': '2018-01-25 16:17:44.789555',\n",
        "    'summary': nan,\n",
        "    'tags': nan,\n",
        "    'title': 'Church Congregation Brings Gift to Waitresses Working on Christmas Eve, Has Them Crying (video)',\n",
        "    'type': 'unreliable',\n",
        "    'updated_at': '2018-02-02 01:19:41.756664',\n",
        "    'url': 'http://awm.com/church-congregation-brings-gift-to-waitresses-working-on-christmas-eve-has-them-crying-video/'\n",
        "}\n",
        "```"
      ],
      "metadata": {
        "id": "2o4d5xX3i2Is"
      }
    },
    {
      "cell_type": "code",
      "source": [
        "from relevanceai.datasets import get_news_dataset\n",
        "ds = client.Dataset('dummy-news')\n",
        "ds.upsert_documents(get_news_dataset(), create_id=True)"
      ],
      "metadata": {
        "colab": {
          "base_uri": "https://localhost:8080/"
        },
        "id": "_llKsmMbi2dk",
        "outputId": "479b47cc-56d3-4a34-9778-809bec74cebe"
      },
      "execution_count": 5,
      "outputs": [
        {
          "output_type": "stream",
          "name": "stdout",
          "text": [
            "✅ All documents inserted/edited successfully.\n"
          ]
        }
      ]
    },
    {
      "cell_type": "markdown",
      "source": [
        "## Quick and easy fake dataset\n",
        "\n",
        "A quick and dirty dataset for rapid experimentation.\n",
        "\n",
        "It contains all of the basic dataset features and follows the following schema\n",
        "\n",
        "```\n",
        "{'_chunk_': 'chunks',\n",
        "'_chunk_.label': 'text',\n",
        "'_chunk_.label_chunkvector_': {'chunkvector': 5},\n",
        "'insert_date_': 'date',\n",
        "'sample_1_description': 'text',\n",
        "'sample_1_label': 'text',\n",
        "'sample_1_value': 'numeric',\n",
        "'sample_1_vector_': {'vector': 5},\n",
        "'sample_2_description': 'text',\n",
        "'sample_2_label': 'text',\n",
        "'sample_2_value': 'numeric',\n",
        "'sample_2_vector_': {'vector': 5},\n",
        "'sample_3_description': 'text',\n",
        "'sample_3_label': 'text',\n",
        "'sample_3_value': 'numeric',\n",
        "'sample_3_vector_': {'vector': 5}}\n",
        "```"
      ],
      "metadata": {
        "id": "1Ht-PhKRN8Z8"
      }
    },
    {
      "cell_type": "code",
      "source": [
        "from relevanceai.datasets import mock_documents\n",
        "ds = client.Dataset('dummy-mock_dataset')\n",
        "ds.upsert_documents(mock_documents(100))"
      ],
      "metadata": {
        "colab": {
          "base_uri": "https://localhost:8080/"
        },
        "id": "tWAYllKAfMV_",
        "outputId": "5e14feea-8161-4499-85cb-908932e342de"
      },
      "execution_count": 6,
      "outputs": [
        {
          "output_type": "stream",
          "name": "stdout",
          "text": [
            "✅ All documents inserted/edited successfully.\n"
          ]
        }
      ]
    }
  ]
}
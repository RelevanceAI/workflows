{
  "nbformat": 4,
  "nbformat_minor": 0,
  "metadata": {
    "colab": {
      "name": "Tag Comparison Export",
      "provenance": [],
      "collapsed_sections": []
    },
    "kernelspec": {
      "name": "python3",
      "display_name": "Python 3"
    },
    "language_info": {
      "name": "python"
    }
  },
  "cells": [
    {
      "cell_type": "markdown",
      "source": [
        "Step 1: Fill out the form below. \n",
        "Step 2: Click the Play button in the top right corner. \n",
        "Step 3: Download the export.csv on the left corner"
      ],
      "metadata": {
        "id": "Uk79eK9o2GRU"
      }
    },
    {
      "cell_type": "code",
      "execution_count": null,
      "metadata": {
        "cellView": "form",
        "id": "0tI2yT2w3a58"
      },
      "outputs": [],
      "source": [
        "#@markdown Export for tag comparisons (with examples below)\n",
        "\n",
        "# Which fields do you want to encode?\n",
        "# Tag fields -> Which fields do you want to encode\n",
        "# Text fields -> to compare with\n",
        "# https://cloud.relevance.ai/sdk/api\n",
        "authorizationToken=\"\" #@param {type: \"string\"}\n",
        "dataset_id=\"whereto-survey-poc\"  #@ param{ type: \"string\"}\n",
        "# @markdown Tag fields are split up and converted into 1s and 0s\n",
        "tag_fields=[\"B9_taxonomy\", \"B10_taxonomy\"] # @param\n",
        "number_of_top_tags=10 # @param {type: \"integer\"}\n",
        "# @markdown Text fields and cluster fields rae returned with aliases\n",
        "text_fields=[\"B9\", \"B10\", \"ID. ID\", \"Serial. Serial number\"] # @param\n",
        "# @markdown Cluster fields are re-mapped with the correct cluster labels\n",
        "cluster_fields = \"['_cluster_.B10_all-mpnet-base-v2_vector_.kmeans-30',  '_cluster_.B9_all-mpnet-base-v2_vector_.kmeans-30', ]\" # @param {type: \"string\"}\n",
        "\n",
        "cluster_fields = eval(cluster_fields)\n",
        "# config = dict(\n",
        "#   authorizationToken=\"379a70fa08457e03a036:eXBUNXU0QUJQMWlhSktfdy1ScVo6V2I3a0k4UmdTaXUxLURwRHREVVUtUQ:ap-southeast-2:UYqAeDnuUqUEOf1rYrFC5zyjLLL2\", #@param {type: \"string\"}\n",
        "#   dataset_id=\"whereto-survey-poc\",  #@ param{ type: \"string\"}\n",
        "#   tag_fields=[\"B9_taxonomy\", \"B4_taxonomy\", \"D1_taxonomy\", \"D10_taxonomy\", \"D4_taxonomy\"], # @param\n",
        "#   text_fields=[\"B9\", \"B4\", \"D1\", \"D10\", \"D4\"],\n",
        "#   cluster_fields=[\"_cluster_.B10_all-mpnet-base-v2_vector_.kmeans-30\"],\n",
        "#   number_of_top_tags=10\n",
        "# )\n",
        "!pip install -U -q RelevanceAI-dev\n",
        "from relevanceai import Client\n",
        "client = Client(authorizationToken)\n",
        "ds = client.Dataset(dataset_id)\n",
        "\n",
        "details = ds.datasets.details(\n",
        "    dataset_id,\n",
        "    include_settings=True,\n",
        "    include_stats=False\n",
        ")\n",
        "\n",
        "try:\n",
        "  field_aliases = details['settings']['fieldAliases']\n",
        "except:\n",
        "  field_aliases = {}\n",
        "\n",
        "import pandas as pd\n",
        "\n",
        "from sklearn.feature_extraction.text import CountVectorizer\n",
        "\n",
        "df = ds.to_dict(\n",
        "    select_fields=tag_fields+text_fields+cluster_fields\n",
        ")\n",
        "df = pd.json_normalize(df)\n",
        "# One hot encode the tag fields\n",
        "for c in tag_fields:\n",
        "  results = ds.aggregate(groupby=[{\"name\": c, \"field\": c, \"agg\": \"category\"}])\n",
        "  top_tags = [r[c] for r in results['results']]  \n",
        "  vect = CountVectorizer()\n",
        "  vect.fit(top_tags)\n",
        "  values = vect.transform([\" \".join(x) if isinstance(x, list) else \"\" for x in df[c].tolist()]).toarray()\n",
        "  for i, t in enumerate(top_tags):\n",
        "    df[field_aliases.get(c, c) + f\" ({t})\"] = values[:, i]\n",
        "  df = df.drop(c, axis=1)\n",
        "\n",
        "for c in cluster_fields:\n",
        "  cluster_labels = metadata['cluster_metadata']['labels'][c]['labels']\n",
        "  cluster_labels = {k: v['text'] for k, v in cluster_labels.items()}\n",
        "  df[c] = df[c].map(cluster_labels)\n",
        "  df[field_aliases.get(c, c)] = df[c]\n",
        "  df.drop(c, axis=1, inplace=True)\n",
        "\n",
        "df.to_csv(\"export.csv\")"
      ]
    }
  ]
}
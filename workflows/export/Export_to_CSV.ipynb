{
  "nbformat": 4,
  "nbformat_minor": 0,
  "metadata": {
    "colab": {
      "name": "Export to CSV",
      "provenance": [],
      "collapsed_sections": []
    },
    "kernelspec": {
      "name": "python3",
      "display_name": "Python 3"
    },
    "language_info": {
      "name": "python"
    }
  },
  "cells": [
    {
      "cell_type": "code",
      "execution_count": null,
      "metadata": {
        "cellView": "form",
        "id": "GUMCSafHkKsn"
      },
      "outputs": [],
      "source": [
        "from relevanceai import Client\n",
        "#@markdown You can get token from https://cloud.relevance.ai/sdk/api\n",
        "token = \"\" #@param {type: \"string\"}\n",
        "dataset_id = \"\" #@param {type: \"string\"}\n",
        "include_vectors = False #@param {type: \"boolean\"}\n",
        "client = Client(token=token)\n",
        "ds = client.Dataset(dataset_id)\n",
        "ds.to_csv(include_vectors=False)\n"
      ]
    }
  ]
}
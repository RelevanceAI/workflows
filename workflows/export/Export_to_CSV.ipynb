{
  "cells": [
    {
      "cell_type": "code",
      "execution_count": null,
      "metadata": {
        "cellView": "form",
        "id": "GUMCSafHkKsn"
      },
      "outputs": [],
      "source": [
        "from relevanceai import Client\n",
        "#@markdown You can get token from https://cloud.relevance.ai/sdk/api\n",
        "token = \"\" #@param {type: \"string\"}\n",
        "dataset_id = \"\" #@param {type: \"string\"}\n",
        "include_vectors = False #@param {type: \"boolean\"}\n",
        "!pip install -q RelevanceAI\n",
        "client = Client(token=token)\n",
        "ds = client.Dataset(dataset_id)\n",
        "ds.to_csv(include_vectors=False)\n"
      ]
    }
  ],
  "metadata": {
    "colab": {
      "collapsed_sections": [],
      "name": "Export to CSV",
      "provenance": []
    },
    "kernelspec": {
      "display_name": "Python 3",
      "name": "python3"
    },
    "language_info": {
      "name": "python"
    }
  },
  "nbformat": 4,
  "nbformat_minor": 0
}

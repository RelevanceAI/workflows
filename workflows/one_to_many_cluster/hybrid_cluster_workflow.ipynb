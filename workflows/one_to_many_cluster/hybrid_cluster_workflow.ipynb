{
 "cells": [
  {
   "cell_type": "code",
   "execution_count": null,
   "metadata": {
    "id": "Mb73nMnTIobL"
   },
   "outputs": [],
   "source": [
    "#@title Paste token below and press ▶️  button to the left of this title { display-mode: \"form\" }\n",
    "# %tb\n",
    "\n",
    "# config={\n",
    "#     'authorizationToken':'c825af6563b1c47322c9:RTFkazM0QUJlMXFteWdiWUlmM1I6ZFVlWGVkaktTX0NiTU1EaV9LYmdxQQ:ap-southeast-2:EbeVbWzxXnXmFLri0UOrsvQEwI53',\n",
    "#     'dataset_id': \"solucio-vgc-member-survey-working_sentences\",\n",
    "#     \"vector_field\": \"q06_sentences_mpnet_vector_\",\n",
    "#     \"text_field\" : 'Q06_sentences',\n",
    "#     \"output_field\": \"kmeans-new_cluster_\",\n",
    "#     \"min_n_clusters\": 50,\n",
    "#     \"max_n_clusters\": 60,\n",
    "#     \"method\": 'kmeans', # select from 'dbscan' or 'kmeans' or 'hybrid'\n",
    "# }\n"
   ]
  },
  {
   "cell_type": "code",
   "execution_count": null,
   "metadata": {
    "id": "iX-wvFvCIq33",
    "tags": [
     "parameters"
    ]
   },
   "outputs": [],
   "source": [
    "token = \"\" #@param {type:\"string\"}"
   ]
  },
  {
   "cell_type": "code",
   "execution_count": null,
   "metadata": {
    "colab": {
     "base_uri": "https://localhost:8080/"
    },
    "id": "0jcPdifuC8BT",
    "outputId": "f2d00390-a115-4bcf-b860-a20f55ce15d8"
   },
   "outputs": [],
   "source": [
    "print(\"Installing ...\")\n",
    "!pip install clusteval\n",
    "!pip install -q RelevanceAI\n",
    "!pip install -U sentence-transformers\n",
    "!pip install sentence-splitter\n",
    "!pip install clusteval\n",
    "!pip install bertopic"
   ]
  },
  {
   "cell_type": "code",
   "execution_count": null,
   "metadata": {
    "id": "-5eMp1ZSx8Mb"
   },
   "outputs": [],
   "source": [
    "from sentence_splitter import SentenceSplitter, split_text_into_sentences\n",
    "from sentence_transformers import SentenceTransformer\n",
    "from clusteval import clusteval\n",
    "import numpy as np\n",
    "from bertopic import BERTopic\n",
    "from relevanceai import Client"
   ]
  },
  {
   "cell_type": "code",
   "execution_count": null,
   "metadata": {
    "id": "velCT3Y1Ff67"
   },
   "outputs": [],
   "source": [
    "from relevanceai.utils import decode_workflow_token\n",
    "config = decode_workflow_token(token)\n",
    "\n",
    "authorizationToken = config['authorizationToken']\n",
    "dataset_id = config['dataset_id']\n",
    "vector_field = config['vector_field']\n",
    "text_field = config['text_field']\n",
    "alias = config['output_field']\n",
    "\n",
    "min_n_clusters = int(config['min_n_clusters'])\n",
    "max_n_clusters = int(config['max_n_clusters'])\n",
    "method = config['method']"
   ]
  },
  {
   "cell_type": "code",
   "execution_count": null,
   "metadata": {
    "colab": {
     "base_uri": "https://localhost:8080/",
     "height": 85,
     "referenced_widgets": [
      "28c83a90191f4f0f88b94557741d3dea",
      "9e245b89518c4e9a84fee5dcace9f0d9",
      "c62826a4b9af41f8924d1d6615abbb1d",
      "81a4a525daec4a249e597bd76acd97d1",
      "cdc585fed27a4af8a42cb52a90a1b222",
      "1f6898a5c7004de28c3ace3a3076420c",
      "f0868404029a49f3839d223726563e3d",
      "2118e9fba6b3475a803ca443397e9774",
      "1053b5a891b641119e5026544165ee28",
      "3ec43252d38a4070aa27b6a807887ae1",
      "6a6c272ef55149478afc8e57ccc72963"
     ]
    },
    "id": "WWq6-KPtDM8X",
    "outputId": "8339f105-4ec5-45c2-bafb-1c9ce70bbb56"
   },
   "outputs": [],
   "source": [
    "client = Client(token=authorizationToken)\n",
    "ds = client.Dataset(dataset_id)\n",
    "docs = ds.get_all_documents(select_fields=[text_field, vector_field])\n",
    "\n",
    "sents = []\n",
    "for doc in docs:\n",
    "  sents.append(doc[text_field])"
   ]
  },
  {
   "cell_type": "code",
   "execution_count": null,
   "metadata": {
    "id": "sAbldDEJ556-"
   },
   "outputs": [],
   "source": [
    "def cluster_topic(texts, ids, labels, n_gram_range, diversity, decay, thres):\n",
    "  topic_model = BERTopic(n_gram_range=n_gram_range,diversity=diversity*(1+decay), min_topic_size=9)\n",
    "  try:\n",
    "    topics, probs = topic_model.fit_transform(texts)\n",
    "  except ValueError:\n",
    "    return texts, ids, labels\n",
    "  print(topic_model.get_topic_info())\n",
    "  n_topics = len(set(topics))\n",
    "  if n_topics == 1:\n",
    "    return texts, ids, labels\n",
    "  clusters = {}\n",
    "  for topic_id in set(topics):\n",
    "    clusters[topic_id] = []\n",
    "  for idx, topic_id in enumerate(topics):\n",
    "    new_label = str(labels[idx]) + '_' + str(topic_id)\n",
    "    clusters[topic_id].append((texts[idx], ids[idx], new_label))\n",
    "  all_texts = []\n",
    "  all_ids = []\n",
    "  all_labels = []\n",
    "  for topic_id in set(topics):\n",
    "    cur_texts = [info[0] for info in clusters[topic_id]]\n",
    "    cur_ids = [info[1] for info in clusters[topic_id]]\n",
    "    cur_labels = [info[2] for info in clusters[topic_id]]\n",
    "    print(str(cur_labels[0]) + \": \" + str(len(clusters[topic_id])))\n",
    "    if len(clusters[topic_id]) < thres:\n",
    "      print(\"pass\")\n",
    "      new_texts = cur_texts\n",
    "      new_ids = cur_ids\n",
    "      new_labels = cur_labels\n",
    "    else:\n",
    "      print(\"split\")\n",
    "      new_texts, new_ids, new_labels = cluster_topic(cur_texts, cur_ids, cur_labels, n_gram_range, diversity, decay, thres)\n",
    "    all_texts = all_texts + new_texts\n",
    "    all_ids = all_ids + new_ids\n",
    "    all_labels = all_labels + new_labels\n",
    "  return all_texts, all_ids, all_labels"
   ]
  },
  {
   "cell_type": "code",
   "execution_count": null,
   "metadata": {
    "id": "qtVguROW2jVR"
   },
   "outputs": [],
   "source": [
    "class One_to_many_cluster:\n",
    "  def __init__(self, sents, config) -> None:\n",
    "    self.sents = sents\n",
    "    # self.ids = []\n",
    "    # for i, doc in enumerate(docs):\n",
    "    #   sents.append(doc[new_text_field])\n",
    "    #   ids.append(i)\n",
    "    self.method = config['method']\n",
    "    self.min_n_clusters = int(config[\"min_n_clusters\"])\n",
    "    self.max_n_clusters = int(config[\"max_n_clusters\"])\n",
    "  \n",
    "  def fit_predict(self, data):\n",
    "    if self.method == 'kmeans':\n",
    "      # model = SentenceTransformer('sentence-transformers/all-mpnet-base-v2')\n",
    "      # vectors = model.encode(self.sents)\n",
    "      ce = clusteval(cluster='kmeans', evaluate='silhouette', min_clust=self.min_n_clusters, max_clust=self.max_n_clusters,metric='cosine')\n",
    "      result = ce.fit(np.array(data))\n",
    "      # print('ha5')\n",
    "      labels = result['labx']\n",
    "      return labels\n",
    "    elif self.method == 'dbscan':\n",
    "      ids = []\n",
    "      labels = []\n",
    "      for i, t in enumerate(self.sents):\n",
    "        ids.append(i)\n",
    "        labels.append(\"\")\n",
    "\n",
    "      res_texts, res_ids, res_labels = cluster_topic(self.sents, ids, labels, n_gram_range=(1,3), diversity=0, decay=0, thres=10)\n",
    "      so = np.argsort(res_ids)\n",
    "      labels = np.array(res_labels)[so]\n",
    "      ids = np.array(res_ids)[so]\n",
    "      return labels\n",
    "    elif self.method == 'hybrid':\n",
    "      ce = clusteval(cluster='kmeans', evaluate='silhouette', min_clust=self.min_n_clusters, max_clust=self.max_n_clusters,metric='cosine')\n",
    "      result = ce.fit(np.array(data))\n",
    "      labels = result['labx']\n",
    "\n",
    "      res_texts = []\n",
    "      res_ids = []\n",
    "      res_labels = []\n",
    "      for label in set(labels):\n",
    "        cur_labels = []\n",
    "        cur_texts = []\n",
    "        cur_ids = []\n",
    "        for i, l in enumerate(labels):\n",
    "          if label == l:\n",
    "            cur_labels.append(l)\n",
    "            cur_ids.append(i)\n",
    "            cur_texts.append(self.sents[i])\n",
    "        new_texts, new_ids, new_labels = cluster_topic(cur_texts, cur_ids, cur_labels, n_gram_range=(1,3), diversity=0, decay=0, thres=10)\n",
    "        res_texts = res_texts + new_texts\n",
    "        res_ids = res_ids + new_ids\n",
    "        res_labels = res_labels + new_labels\n",
    "      so = np.argsort(res_ids)\n",
    "      labels = np.array(res_labels)[so]\n",
    "      ids = np.array(res_ids)[so]\n",
    "      return labels"
   ]
  },
  {
   "cell_type": "code",
   "execution_count": null,
   "metadata": {
    "colab": {
     "base_uri": "https://localhost:8080/"
    },
    "id": "NrMFPBfa784x",
    "outputId": "a02c8e90-af6f-48c2-a28e-99edf7b4906e"
   },
   "outputs": [],
   "source": [
    "model = One_to_many_cluster(sents, config)\n",
    "ds.cluster(vector_fields = [vector_field], model = model, alias = alias)\n",
    "\n"
   ]
  }
 ],
 "metadata": {
  "celltoolbar": "Tags",
  "colab": {
   "collapsed_sections": [],
   "name": "hybrid-cluster.ipynb",
   "provenance": []
  },
  "kernelspec": {
   "display_name": "Python 3 (ipykernel)",
   "language": "python",
   "name": "python3"
  },
  "language_info": {
   "codemirror_mode": {
    "name": "ipython",
    "version": 3
   },
   "file_extension": ".py",
   "mimetype": "text/x-python",
   "name": "python",
   "nbconvert_exporter": "python",
   "pygments_lexer": "ipython3",
   "version": "3.8.13"
  },
  "widgets": {
   "application/vnd.jupyter.widget-state+json": {
    "1053b5a891b641119e5026544165ee28": {
     "model_module": "@jupyter-widgets/controls",
     "model_module_version": "1.5.0",
     "model_name": "ProgressStyleModel",
     "state": {
      "_model_module": "@jupyter-widgets/controls",
      "_model_module_version": "1.5.0",
      "_model_name": "ProgressStyleModel",
      "_view_count": null,
      "_view_module": "@jupyter-widgets/base",
      "_view_module_version": "1.2.0",
      "_view_name": "StyleView",
      "bar_color": null,
      "description_width": ""
     }
    },
    "1f6898a5c7004de28c3ace3a3076420c": {
     "model_module": "@jupyter-widgets/base",
     "model_module_version": "1.2.0",
     "model_name": "LayoutModel",
     "state": {
      "_model_module": "@jupyter-widgets/base",
      "_model_module_version": "1.2.0",
      "_model_name": "LayoutModel",
      "_view_count": null,
      "_view_module": "@jupyter-widgets/base",
      "_view_module_version": "1.2.0",
      "_view_name": "LayoutView",
      "align_content": null,
      "align_items": null,
      "align_self": null,
      "border": null,
      "bottom": null,
      "display": null,
      "flex": null,
      "flex_flow": null,
      "grid_area": null,
      "grid_auto_columns": null,
      "grid_auto_flow": null,
      "grid_auto_rows": null,
      "grid_column": null,
      "grid_gap": null,
      "grid_row": null,
      "grid_template_areas": null,
      "grid_template_columns": null,
      "grid_template_rows": null,
      "height": null,
      "justify_content": null,
      "justify_items": null,
      "left": null,
      "margin": null,
      "max_height": null,
      "max_width": null,
      "min_height": null,
      "min_width": null,
      "object_fit": null,
      "object_position": null,
      "order": null,
      "overflow": null,
      "overflow_x": null,
      "overflow_y": null,
      "padding": null,
      "right": null,
      "top": null,
      "visibility": null,
      "width": null
     }
    },
    "2118e9fba6b3475a803ca443397e9774": {
     "model_module": "@jupyter-widgets/base",
     "model_module_version": "1.2.0",
     "model_name": "LayoutModel",
     "state": {
      "_model_module": "@jupyter-widgets/base",
      "_model_module_version": "1.2.0",
      "_model_name": "LayoutModel",
      "_view_count": null,
      "_view_module": "@jupyter-widgets/base",
      "_view_module_version": "1.2.0",
      "_view_name": "LayoutView",
      "align_content": null,
      "align_items": null,
      "align_self": null,
      "border": null,
      "bottom": null,
      "display": null,
      "flex": null,
      "flex_flow": null,
      "grid_area": null,
      "grid_auto_columns": null,
      "grid_auto_flow": null,
      "grid_auto_rows": null,
      "grid_column": null,
      "grid_gap": null,
      "grid_row": null,
      "grid_template_areas": null,
      "grid_template_columns": null,
      "grid_template_rows": null,
      "height": null,
      "justify_content": null,
      "justify_items": null,
      "left": null,
      "margin": null,
      "max_height": null,
      "max_width": null,
      "min_height": null,
      "min_width": null,
      "object_fit": null,
      "object_position": null,
      "order": null,
      "overflow": null,
      "overflow_x": null,
      "overflow_y": null,
      "padding": null,
      "right": null,
      "top": null,
      "visibility": null,
      "width": null
     }
    },
    "28c83a90191f4f0f88b94557741d3dea": {
     "model_module": "@jupyter-widgets/controls",
     "model_module_version": "1.5.0",
     "model_name": "HBoxModel",
     "state": {
      "_dom_classes": [],
      "_model_module": "@jupyter-widgets/controls",
      "_model_module_version": "1.5.0",
      "_model_name": "HBoxModel",
      "_view_count": null,
      "_view_module": "@jupyter-widgets/controls",
      "_view_module_version": "1.5.0",
      "_view_name": "HBoxView",
      "box_style": "",
      "children": [
       "IPY_MODEL_9e245b89518c4e9a84fee5dcace9f0d9",
       "IPY_MODEL_c62826a4b9af41f8924d1d6615abbb1d",
       "IPY_MODEL_81a4a525daec4a249e597bd76acd97d1"
      ],
      "layout": "IPY_MODEL_cdc585fed27a4af8a42cb52a90a1b222"
     }
    },
    "3ec43252d38a4070aa27b6a807887ae1": {
     "model_module": "@jupyter-widgets/base",
     "model_module_version": "1.2.0",
     "model_name": "LayoutModel",
     "state": {
      "_model_module": "@jupyter-widgets/base",
      "_model_module_version": "1.2.0",
      "_model_name": "LayoutModel",
      "_view_count": null,
      "_view_module": "@jupyter-widgets/base",
      "_view_module_version": "1.2.0",
      "_view_name": "LayoutView",
      "align_content": null,
      "align_items": null,
      "align_self": null,
      "border": null,
      "bottom": null,
      "display": null,
      "flex": null,
      "flex_flow": null,
      "grid_area": null,
      "grid_auto_columns": null,
      "grid_auto_flow": null,
      "grid_auto_rows": null,
      "grid_column": null,
      "grid_gap": null,
      "grid_row": null,
      "grid_template_areas": null,
      "grid_template_columns": null,
      "grid_template_rows": null,
      "height": null,
      "justify_content": null,
      "justify_items": null,
      "left": null,
      "margin": null,
      "max_height": null,
      "max_width": null,
      "min_height": null,
      "min_width": null,
      "object_fit": null,
      "object_position": null,
      "order": null,
      "overflow": null,
      "overflow_x": null,
      "overflow_y": null,
      "padding": null,
      "right": null,
      "top": null,
      "visibility": null,
      "width": null
     }
    },
    "6a6c272ef55149478afc8e57ccc72963": {
     "model_module": "@jupyter-widgets/controls",
     "model_module_version": "1.5.0",
     "model_name": "DescriptionStyleModel",
     "state": {
      "_model_module": "@jupyter-widgets/controls",
      "_model_module_version": "1.5.0",
      "_model_name": "DescriptionStyleModel",
      "_view_count": null,
      "_view_module": "@jupyter-widgets/base",
      "_view_module_version": "1.2.0",
      "_view_name": "StyleView",
      "description_width": ""
     }
    },
    "81a4a525daec4a249e597bd76acd97d1": {
     "model_module": "@jupyter-widgets/controls",
     "model_module_version": "1.5.0",
     "model_name": "HTMLModel",
     "state": {
      "_dom_classes": [],
      "_model_module": "@jupyter-widgets/controls",
      "_model_module_version": "1.5.0",
      "_model_name": "HTMLModel",
      "_view_count": null,
      "_view_module": "@jupyter-widgets/controls",
      "_view_module_version": "1.5.0",
      "_view_name": "HTMLView",
      "description": "",
      "description_tooltip": null,
      "layout": "IPY_MODEL_3ec43252d38a4070aa27b6a807887ae1",
      "placeholder": "​",
      "style": "IPY_MODEL_6a6c272ef55149478afc8e57ccc72963",
      "value": " 1/1 [00:03&lt;00:00,  3.27s/it]"
     }
    },
    "9e245b89518c4e9a84fee5dcace9f0d9": {
     "model_module": "@jupyter-widgets/controls",
     "model_module_version": "1.5.0",
     "model_name": "HTMLModel",
     "state": {
      "_dom_classes": [],
      "_model_module": "@jupyter-widgets/controls",
      "_model_module_version": "1.5.0",
      "_model_name": "HTMLModel",
      "_view_count": null,
      "_view_module": "@jupyter-widgets/controls",
      "_view_module_version": "1.5.0",
      "_view_name": "HTMLView",
      "description": "",
      "description_tooltip": null,
      "layout": "IPY_MODEL_1f6898a5c7004de28c3ace3a3076420c",
      "placeholder": "​",
      "style": "IPY_MODEL_f0868404029a49f3839d223726563e3d",
      "value": "100%"
     }
    },
    "c62826a4b9af41f8924d1d6615abbb1d": {
     "model_module": "@jupyter-widgets/controls",
     "model_module_version": "1.5.0",
     "model_name": "FloatProgressModel",
     "state": {
      "_dom_classes": [],
      "_model_module": "@jupyter-widgets/controls",
      "_model_module_version": "1.5.0",
      "_model_name": "FloatProgressModel",
      "_view_count": null,
      "_view_module": "@jupyter-widgets/controls",
      "_view_module_version": "1.5.0",
      "_view_name": "ProgressView",
      "bar_style": "success",
      "description": "",
      "description_tooltip": null,
      "layout": "IPY_MODEL_2118e9fba6b3475a803ca443397e9774",
      "max": 1,
      "min": 0,
      "orientation": "horizontal",
      "style": "IPY_MODEL_1053b5a891b641119e5026544165ee28",
      "value": 1
     }
    },
    "cdc585fed27a4af8a42cb52a90a1b222": {
     "model_module": "@jupyter-widgets/base",
     "model_module_version": "1.2.0",
     "model_name": "LayoutModel",
     "state": {
      "_model_module": "@jupyter-widgets/base",
      "_model_module_version": "1.2.0",
      "_model_name": "LayoutModel",
      "_view_count": null,
      "_view_module": "@jupyter-widgets/base",
      "_view_module_version": "1.2.0",
      "_view_name": "LayoutView",
      "align_content": null,
      "align_items": null,
      "align_self": null,
      "border": null,
      "bottom": null,
      "display": null,
      "flex": null,
      "flex_flow": null,
      "grid_area": null,
      "grid_auto_columns": null,
      "grid_auto_flow": null,
      "grid_auto_rows": null,
      "grid_column": null,
      "grid_gap": null,
      "grid_row": null,
      "grid_template_areas": null,
      "grid_template_columns": null,
      "grid_template_rows": null,
      "height": null,
      "justify_content": null,
      "justify_items": null,
      "left": null,
      "margin": null,
      "max_height": null,
      "max_width": null,
      "min_height": null,
      "min_width": null,
      "object_fit": null,
      "object_position": null,
      "order": null,
      "overflow": null,
      "overflow_x": null,
      "overflow_y": null,
      "padding": null,
      "right": null,
      "top": null,
      "visibility": null,
      "width": null
     }
    },
    "f0868404029a49f3839d223726563e3d": {
     "model_module": "@jupyter-widgets/controls",
     "model_module_version": "1.5.0",
     "model_name": "DescriptionStyleModel",
     "state": {
      "_model_module": "@jupyter-widgets/controls",
      "_model_module_version": "1.5.0",
      "_model_name": "DescriptionStyleModel",
      "_view_count": null,
      "_view_module": "@jupyter-widgets/base",
      "_view_module_version": "1.2.0",
      "_view_name": "StyleView",
      "description_width": ""
     }
    }
   }
  }
 },
 "nbformat": 4,
 "nbformat_minor": 1
}

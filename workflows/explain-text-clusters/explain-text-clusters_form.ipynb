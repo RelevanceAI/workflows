{
 "cells": [
  {
   "cell_type": "markdown",
   "metadata": {
    "id": "tkmc1XpZeQ2a"
   },
   "source": [
    "<img src=\"https://relevance.ai/wp-content/uploads/2021/11/logo.79f303e-1.svg\" width=\"150\" alt=\"Relevance AI\" />\n",
    "<h5> Developer-first vector platform for ML teams </h5>\n",
    "\n",
    "[![Open In Colab](https://colab.research.google.com/assets/colab-badge.svg)](https://colab.research.google.com/github/RelevanceAI/workflows/blob/main/workflows/explain-text-clusters/explain-text-clusters_form.ipynb)"
   ]
  },
  {
   "cell_type": "markdown",
   "metadata": {
    "id": "SMcjsLmtgN7n"
   },
   "source": [
    "# 😄 Explain Text Clusters\n",
    "\n",
    "The following prepares your text vectors for cluster analysis. \n",
    "\n",
    "## Clustering\n",
    "\n",
    "Please run the ['Cluster'](https://colab.research.google.com/github/RelevanceAI/workflows/blob/feature/sdk-418-convert-workflows-to-forms/workflows/cluster/Cluster_Your_Data_with_Relevance_AI_form.ipynb) workflow before running this 'Cluster Analysis' workflow.\n",
    "\n",
    "\n",
    "## Cluster Analysis\n",
    "\n",
    "This technique uses marginal similarity measure to explain clusters. \n",
    "\n",
    "### Algorithm Choice\n",
    "\n",
    "The `relational` will compare the first document against the rest and is best used to explain why a document has been placed into this cluster with the other documents.\n",
    "\n",
    "The `centroid` algorithm is best used to explain why a document has been placed into this cluster based on comparing to the center vector. This has down the downside of being noisy but is a more faithful representation of the cluster."
   ]
  },
  {
   "cell_type": "code",
   "execution_count": null,
   "metadata": {
    "cellView": "form",
    "id": "QWINwj0FQtJN"
   },
   "outputs": [],
   "source": [
    "#@title After filling this form, press the top left button.\n",
    "# You can grab your token here https://cloud.relevance.ai/sdk/api\n",
    "\n",
    "token = \"<copy paste from https://cloud.relevance.ai/sdk/api>\"  #@param  {type:\"string\"}\n",
    "dataset_id = \"<your dataset ID here>\"                           #@param {type:\"string\"}\n",
    "\n",
    "#@markdown Cluster Operations Parameters - Please specify which cluster to load (see `ds.schema`)\n",
    "\n",
    "#@markdown eg. `'_cluster_.product_title_clip_vector_.kmeans-20': 'text'`\n",
    "\n",
    "cluster_alias = \"<your cluster alias here>\"                        #@param {type:\"string\"}\n",
    "vector_field = \"<your vector field here>\"        #@param {type:\"string\"}\n",
    "\n",
    "#@markdown Cluster Text Explanation Parameters\n",
    "\n",
    "text_field =  \"<your text field here>\"                            #@param {type:\"string\"}\n",
    "\n",
    "encode_function_or_model_id = \"all-mpnet-base-v2\"   #@param  {type:\"string\"} \n",
    "cluster_explanation_algorithm = \"relational\"        #@param  {type:\"string\"} \n",
    "\n",
    "if cluster_explanation_algorithm not in ['relational', 'centroid']:\n",
    "    raise ValueError(f\"{cluster_explanation_algorithm} must be either 'relational' or 'centroid'.\")\n",
    "\n",
    "## Install deps\n",
    "!pip install -q RelevanceAI==2.3.2\n",
    "!pip install -q sentence-transformers==2.2.0\n",
    "\n",
    "\n",
    "from relevanceai import Client \n",
    "import json\n",
    "\n",
    "client = Client(token=token)\n",
    "\n",
    "ds = client.Dataset(dataset_id)\n",
    "\n",
    "try: \n",
    "  json.dumps(ds.schema, indent=2)\n",
    "  cluster_ops = ds.ClusterOps(\n",
    "      alias = cluster_alias, \n",
    "      vector_fields = [vector_field]\n",
    "  )\n",
    "  cluster_ops.create_centroids()\n",
    "\n",
    "  cluster_ops.explain_text_clusters(\n",
    "      text_field = text_field, \n",
    "      encode_fn_or_model = encode_function_or_model_id, \n",
    "      algorithm = cluster_explanation_algorithm\n",
    "  )\n",
    "except Exception as e:\n",
    "  raise ValueError(f'{e}')\n"
   ]
  },
  {
   "cell_type": "markdown",
   "metadata": {
    "id": "O4oRNawo1lBT"
   },
   "source": [
    "# 🌇 Next Steps\n",
    "\n",
    "This is just a quick tutorial on Relevance AI, there are many more applications that is possible such as zero-shot based labelling, recommendations, anomaly detection, projector and more:\n",
    "\n",
    "- Explore our platform and check out new workflows at https://cloud.relevance.ai\n",
    "- There are more indepth tutorials and guides at https://docs.relevance.ai\n",
    "- There are detailed library references at https://relevanceai.readthedocs.io/\n",
    "- Join our slack community at https://join.slack.com/t/relevance-ai/shared_invite/zt-11fo8oush-dHPd57wamhoQ7J5arNv1mg"
   ]
  }
 ],
 "metadata": {
  "colab": {
   "collapsed_sections": [],
   "name": "Explain Text Clusters",
   "provenance": []
  },
  "interpreter": {
   "hash": "33129f74f752ccabd3d30d5a3c12b8abaa2090964a9fe96b4e55e8471d1aefbe"
  },
  "kernelspec": {
   "display_name": "Python 3.8.13 ('.venv': venv)",
   "language": "python",
   "name": "python3"
  },
  "language_info": {
   "codemirror_mode": {
    "name": "ipython",
    "version": 3
   },
   "file_extension": ".py",
   "mimetype": "text/x-python",
   "name": "python",
   "nbconvert_exporter": "python",
   "pygments_lexer": "ipython3",
   "version": "3.8.13"
  }
 },
 "nbformat": 4,
 "nbformat_minor": 0
}

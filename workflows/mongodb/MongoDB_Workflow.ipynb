{
  "nbformat": 4,
  "nbformat_minor": 0,
  "metadata": {
    "colab": {
      "name": "MongoDB Workflow",
      "provenance": [],
      "collapsed_sections": []
    },
    "kernelspec": {
      "name": "python3",
      "display_name": "Python 3"
    },
    "language_info": {
      "name": "python"
    }
  },
  "cells": [
    {
      "cell_type": "markdown",
      "source": [
        "# MongoDB Workflow\n",
        "\n",
        "Import your MongoDB database directly into Relevance AI and start launching vector-based applications!"
      ],
      "metadata": {
        "id": "TCfz9kRISGdT"
      }
    },
    {
      "cell_type": "code",
      "source": [
        "!pip install -q pymongo==3.12\n",
        "!pip install -U relevanceai\n",
        "!pip install bson"
      ],
      "metadata": {
        "id": "MAPXTg9sS6-p"
      },
      "execution_count": null,
      "outputs": []
    },
    {
      "cell_type": "markdown",
      "source": [
        "Set up the connection string here with MongoDB."
      ],
      "metadata": {
        "id": "rJ76Pm2tVZUc"
      }
    },
    {
      "cell_type": "code",
      "source": [
        "connection_string= \"...\"\n",
        "dataset_id = \"...\"     # dataset id in the Relevance Ai platform\n",
        "\n",
        "chunk_size = 5000      # migrate batches of 5000 (default 2000)\n",
        "start_idx= 12000       # loads from mongo starting at index 12000 (default 0) - in case of crash"
      ],
      "metadata": {
        "id": "3k686UupSP1k"
      },
      "execution_count": null,
      "outputs": []
    },
    {
      "cell_type": "markdown",
      "source": [
        "Now running the part below, we are "
      ],
      "metadata": {
        "id": "OWj49cQLVcO_"
      }
    },
    {
      "cell_type": "code",
      "execution_count": null,
      "metadata": {
        "id": "WVFfJEttR6SP"
      },
      "outputs": [],
      "source": [
        "from relevanceai.api.batch import MongoImporter\n",
        "mongo_importer = MongoImporter(connection_string)\n",
        "\n",
        "# Get a summary of the mondo database using \"mongo_summary\"\n",
        "mongo_importer.mongo_summary()\n",
        "\n",
        "# Set the desired source mongo collection using \"set_mongo_collection\"\n",
        "db_name = '...'\n",
        "collection_name = '...'\n",
        "mongo_importer.set_mongo_collection(db_name, dataset_id)\n",
        "\n",
        "# Get total number of entries in the mongo collection using \"mongo_document_count\"\n",
        "document_count = mongo_importer.mongo_document_count()\n",
        "\n",
        "\n",
        "mongo_importer.migrate(\n",
        "    dataset_id, document_count, chunk_size=chunk_size,\n",
        "    start_idx=start_idx)"
      ]
    },
    {
      "cell_type": "markdown",
      "source": [
        "# 🌇 Next Steps\n",
        "\n",
        "This is just a quick tutorial on Relevance AI, there are many more applications that is possible such as zero-shot based labelling, recommendations, anomaly detection, projector and more:\n",
        "\n",
        "- Explore our platform and workflows at https://cloud.relevance.ai\n",
        "- There are more indepth tutorials and guides at https://docs.relevance.ai\n",
        "- There are detailed library references at https://relevanceai.readthedocs.io/\n",
        "- Join our slack community at https://join.slack.com/t/relevance-ai/shared_invite/zt-11fo8oush-dHPd57wamhoQ7J5arNv1mg"
      ],
      "metadata": {
        "id": "UbAAwnMuEUmA"
      }
    }
  ]
}
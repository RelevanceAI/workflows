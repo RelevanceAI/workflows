{
 "cells": [
  {
   "cell_type": "markdown",
   "metadata": {
    "id": "l5J3uYNnTiYT"
   },
   "source": [
    "In this notebook, we build a simple taxonomy based on the keywords of a specific field. "
   ]
  },
  {
   "cell_type": "code",
   "execution_count": null,
   "metadata": {
    "cellView": "form",
    "id": "XZOPrx2ASMuX"
   },
   "outputs": [],
   "source": [
    "#@title Fll out the form and hit the play button on the top left!\n",
    "token = \"\"  #@param {type: \"string\"}\n",
    "dataset_id = '' #@param {type: \"string\"}\n",
    "model_name = \"\" #@param {type: \"string\"}\n",
    "text_field = \"\" #@param {type: \"string\"}\n",
    "#@markdown Enter the vector field to label against\n",
    "vector_fields = [\"sample_vector_\"] #@param\n",
    "#@markdown Enter the taxonomy to label against\n",
    "output_field = \"_taxonomy_\" #@param {type: \"string\"}\n",
    "\n",
    "#@markdown Optional Configurations\n",
    "taxonomy_size = 30 #@param\n",
    "keyphrase_ngram_range = (1, 2) #@param\n",
    "stop_words = None #@param\n",
    "\n",
    "!pip install -q -U RelevanceAI-dev\n",
    "!pip install -q keybert\n",
    "\n",
    "from relevanceai import Client \n",
    "from keybert import KeyBERT\n",
    "client = Client(token=token)\n",
    "ds = client.Dataset(dataset_id)\n",
    "\n",
    "\n",
    "kw_model = KeyBERT(model=model_name)\n",
    "\n",
    "def extract_keywords(docs):\n",
    "    for d in docs:\n",
    "        keywords = kw_model.extract_keywords(\n",
    "            d[text_field], \n",
    "            keyphrase_ngram_range=keyphrase_ngram_range, \n",
    "            stop_words=stop_words\n",
    "        )\n",
    "        d['_keyword_'] = [{\"keyword\": k, \"score\": s} for k, s in keywords]\n",
    "    return docs\n",
    "ds.bulk_apply(extract_keywords)\n",
    "top_taxonomy = list(set([x['value'] for x in ds.facets(['_keyword_.keyword'], \n",
    "    page_size=taxonomy_size)['results']['_keyword_.keyword']]))\n",
    "\n",
    "print(\"Suggested Taxonomy: \")\n",
    "from pprint import pprint\n",
    "pprint(top_taxonomy)\n",
    "\n",
    "label_ds = client.Dataset(dataset_id + \"_labels\")\n",
    "label_ds.insert_list(top_taxonomy, create_id=True)\n",
    "label_ds.vectorize_text(\n",
    "    fields=['label'],\n",
    "    output_fields=[\"label_vector_\"]\n",
    ")\n",
    "\n",
    "ds.label_from_dataset(\n",
    "    vector_fields=vector_fields,\n",
    "    label_dataset=label_ds,\n",
    "    output_field=output_field\n",
    ")\n",
    "\n",
    "ds.facets([output_field])"
   ]
  }
 ],
 "metadata": {
  "colab": {
   "collapsed_sections": [],
   "name": "Automatic Taxonomy Builder (Keyword Extraction)",
   "provenance": []
  },
  "kernelspec": {
   "display_name": "Python 3",
   "name": "python3"
  },
  "language_info": {
   "name": "python"
  }
 },
 "nbformat": 4,
 "nbformat_minor": 0
}

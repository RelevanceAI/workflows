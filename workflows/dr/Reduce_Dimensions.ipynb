{
 "cells": [
  {
   "cell_type": "markdown",
   "metadata": {
    "id": "IP70-16zUPkP"
   },
   "source": [
    "<img src=\"https://relevance.ai/wp-content/uploads/2021/11/logo.79f303e-1.svg\" width=\"150\" alt=\"Relevance AI\" />\n",
    "<h5> Developer-first vector platform for ML teams </h5>\n",
    "\n",
    "[![Open In Colab](https://colab.research.google.com/assets/colab-badge.svg)](https://colab.research.google.com/github/RelevanceAI/workflows/blob/main/workflows/taxonomy/Taxonomy.ipynb)\n",
    "\n",
    "Inserting your own taxonomy or labels with Relevance AI allows users to better understand."
   ]
  },
  {
   "cell_type": "code",
   "execution_count": null,
   "metadata": {
    "id": "TjROUZqQbiGq"
   },
   "outputs": [],
   "source": [
    "#@title After filling this form, press the top left button.\n",
    "# You can grab your token here https://cloud.relevance.ai/sdk/api\n",
    "\n",
    "token = \"<copy paste from https://cloud.relevance.ai/sdk/api>\"#@param  {type:\"string\"}\n",
    "dataset_id = \"<your dataset ID here>\" #@param {type:\"string\"}\n",
    "vector_field = \"<vector_field\" #@param {type: \"string\"}\n",
    "model = \"pca\" #@param {type: \"string\"}\n",
    "\n",
    "!pip install -q RelevanceAI==2.3.2\n",
    "!pip install sklearn\n",
    "!pip install ivis\n",
    "!pip install umap\n",
    "\n",
    "from relevanceai import Client\n",
    "client = Client(token=token)\n",
    "ds = client.Dataset(dataset_id)\n",
    "\n",
    "ds.reduce_dims(\n",
    "    vector_fields=[vector_field],\n",
    "    model=model,\n",
    ")"
   ]
  }
 ],
 "metadata": {
  "accelerator": "GPU",
  "colab": {
   "collapsed_sections": [],
   "machine_shape": "hm",
   "name": "Reduce the Dimensions of Your Data with Relevance AI.ipynb",
   "provenance": []
  },
  "kernelspec": {
   "display_name": "Python 3",
   "name": "python3"
  },
  "language_info": {
   "name": "python"
  },
  "name": "Reduce_the_Dimensions_of_Your_Data_with_Relevance_AI"
 },
 "nbformat": 4,
 "nbformat_minor": 0
}

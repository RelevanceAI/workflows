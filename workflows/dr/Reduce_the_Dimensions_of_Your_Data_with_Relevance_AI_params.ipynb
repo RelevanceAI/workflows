{
 "cells": [
  {
   "cell_type": "code",
   "execution_count": null,
   "metadata": {
    "tags": [
     "parameters"
    ]
   },
   "outputs": [],
   "source": [
    "import os\n",
    "\n",
    "api_key = \"\"\n",
    "project = \"\"\n",
    "region = \"\"\n",
    "authorizationToken = f\"{os.environ['TEST_ACTIVATION_TOKEN']}\" if os.getenv('TEST_ACTIVATION_TOKEN') else \"\"\n",
    "\n",
    "\n",
    "dataset_id = \"dummy-ecommerce\"\n",
    "n_dims = 3\n",
    "vector_fields = \"product_image_clip_vector_\"\n"
   ]
  },
  {
   "cell_type": "code",
   "execution_count": null,
   "metadata": {},
   "outputs": [],
   "source": [
    "import os\n",
    "print(os.environ)"
   ]
  },
  {
   "cell_type": "code",
   "execution_count": null,
   "metadata": {},
   "outputs": [],
   "source": [
    "# because we don't know how to set env variables\n",
    "try:\n",
    "    import os\n",
    "    os.environ[\"WORKFLOW_ID\"] = job_id\n",
    "except Exception as e:\n",
    "    print(e)\n",
    "    pass"
   ]
  },
  {
   "cell_type": "code",
   "execution_count": null,
   "metadata": {
    "id": "TjROUZqQbiGq"
   },
   "outputs": [],
   "source": [
    "\n",
    "## Instantiate client ###\n",
    "from relevanceai import Client \n",
    "client = Client(token=authorizationToken)\n",
    "\n",
    "vector_field = vector_fields\n",
    "\n",
    "## Checking valid vector field ###\n",
    "if not '_vector_'in vector_field:\n",
    "  raise ValueError(f\"'{vector_field}' is not a valid vector field\")\n",
    "\n",
    "## Instantiate client ###\n",
    "try:\n",
    "  ds = client.Dataset(dataset_id)\n",
    "  \n",
    "  dr_method = 'umap'  \n",
    "  ds.reduce_dims(alias=f\"{dr_method}-{n_dims}\", model=dr_method, n_components=n_dims, vector_fields=[vector_field])\n",
    "\n",
    "except Exception as e:\n",
    "    print(e)\n",
    "    raise ValueError(f'{e}')\n",
    "\n",
    "\n",
    "print(f\"Finished reducing the selected vector dimension to {n_dims} using {dr_method}, you may close this window.\")\n"
   ]
  },
  {
   "cell_type": "code",
   "execution_count": null,
   "metadata": {},
   "outputs": [],
   "source": []
  }
 ],
 "metadata": {
  "accelerator": "GPU",
  "celltoolbar": "Tags",
  "colab": {
   "collapsed_sections": [],
   "machine_shape": "hm",
   "name": "Reduce the Dimensions of Your Data with Relevance AI.ipynb",
   "provenance": []
  },
  "kernelspec": {
   "display_name": "Python 3 (ipykernel)",
   "language": "python",
   "name": "python3"
  },
  "language_info": {
   "codemirror_mode": {
    "name": "ipython",
    "version": 3
   },
   "file_extension": ".py",
   "mimetype": "text/x-python",
   "name": "python",
   "nbconvert_exporter": "python",
   "pygments_lexer": "ipython3",
   "version": "3.9.12"
  },
  "name": "Reduce_the_Dimensions_of_Your_Data_with_Relevance_AI",
  "toc": {
   "base_numbering": 1,
   "nav_menu": {},
   "number_sections": true,
   "sideBar": true,
   "skip_h1_title": false,
   "title_cell": "Table of Contents",
   "title_sidebar": "Contents",
   "toc_cell": false,
   "toc_position": {},
   "toc_section_display": true,
   "toc_window_display": false
  }
 },
 "nbformat": 4,
 "nbformat_minor": 1
}

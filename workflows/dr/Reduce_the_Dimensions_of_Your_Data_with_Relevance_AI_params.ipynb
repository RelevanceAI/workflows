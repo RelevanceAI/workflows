{
 "cells": [
  {
   "cell_type": "code",
   "execution_count": null,
   "metadata": {
    "tags": [
     "parameters"
    ]
   },
   "outputs": [],
   "source": [
    "import os\n",
    "\n",
    "api_key = \"\"\n",
    "project = \"\"\n",
    "region = \"\"\n",
    "authorizationToken = f\"{os.environ['TEST_ACTIVATION_TOKEN']}\"\n",
    "\n",
    "\n",
    "dataset_id = \"dummy-ecommerce\"\n",
    "n_dims = 3\n",
    "vector_fields = [\"product_image_clip_vector_\"]\n"
   ]
  },
  {
   "cell_type": "code",
   "execution_count": null,
   "metadata": {
    "id": "TjROUZqQbiGq"
   },
   "outputs": [],
   "source": [
    "import json\n",
    "\n",
    "## Instantiate client ###\n",
    "from relevanceai import Client \n",
    "client = Client(token=authorizationToken)\n",
    "\n",
    "## Checking valid vector field ###\n",
    "for v in vector_fields:\n",
    "  if not '_vector_'in v:\n",
    "    raise ValueError(f\"'{v}' is not a valid vector field\")\n",
    "\n",
    "## Instantiate client ###\n",
    "try:\n",
    "  ds = client.Dataset(dataset_id)\n",
    "  \n",
    "  dr_method = 'umap'  \n",
    "  ds.reduce_dims(alias=f\"{dr_method}-{n_dims}\", model=dr_method, n_components=n_dims, vector_fields=vector_fields)\n",
    "\n",
    "except Exception as e:\n",
    "    print(e)\n",
    "    raise ValueError(f'{e}')\n",
    "\n",
    "\n",
    "print(f\"Finished reducing the selected vector dimension to {n_dims} using {dr_method}, you may close this window.\")\n"
   ]
  },
  {
   "cell_type": "code",
   "execution_count": null,
   "metadata": {},
   "outputs": [],
   "source": []
  }
 ],
 "metadata": {
  "accelerator": "GPU",
  "celltoolbar": "Tags",
  "colab": {
   "collapsed_sections": [],
   "machine_shape": "hm",
   "name": "Reduce the Dimensions of Your Data with Relevance AI.ipynb",
   "provenance": []
  },
  "kernelspec": {
   "display_name": "Python 3",
   "language": "python",
   "name": "python3"
  },
  "language_info": {
   "codemirror_mode": {
    "name": "ipython",
    "version": 3
   },
   "file_extension": ".py",
   "mimetype": "text/x-python",
   "name": "python",
   "nbconvert_exporter": "python",
   "pygments_lexer": "ipython3",
   "version": "3.8.0"
  },
  "name": "Reduce_the_Dimensions_of_Your_Data_with_Relevance_AI"
 },
 "nbformat": 4,
 "nbformat_minor": 1
}

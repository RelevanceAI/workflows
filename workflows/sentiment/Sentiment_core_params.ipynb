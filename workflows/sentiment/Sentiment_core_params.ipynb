{
 "cells": [
  {
   "cell_type": "markdown",
   "metadata": {
    "id": "fsjCz4c4zvT0"
   },
   "source": [
    "# Sentiment Workflow\n",
    "\n",
    "Add sentiment to your dataset!\n",
    "Sentiment will be stored as `positive` , `negative` or `neutral` sentiments."
   ]
  },
  {
   "cell_type": "markdown",
   "metadata": {
    "id": "MmAHe9qK3lrt"
   },
   "source": [
    "## Inputs \n",
    "\n",
    "Type in your inputs in the cell below and run the following cell"
   ]
  },
  {
   "cell_type": "code",
   "execution_count": null,
   "metadata": {
    "tags": [
     "parameters"
    ]
   },
   "outputs": [],
   "source": [
    "token=\"\" #@param {type:\"string\"}"
   ]
  },
  {
   "cell_type": "code",
   "execution_count": null,
   "metadata": {
    "cellView": "form",
    "id": "4TZqEV9Nz1Cx"
   },
   "outputs": [],
   "source": [
    "#@title Fill out the form and then press the play button to the left\n",
    "\n",
    "#@markdown Replace with your own dataset\n",
    "\n",
    "import base64\n",
    "import json\n",
    "config = json.loads(base64.b64decode(token + \"===\"))\n",
    "dataset_id: str =  config['dataset_id']\n",
    "text_fields: list =  config['text_fields']\n",
    "\n",
    "!pip install -q -U RelevanceAI-dev\n",
    "!pip install -q transformers==4.18.0\n",
    "\n",
    "from relevanceai import Client\n",
    "#@markdown Other configurations (we don't usually need to configure these)\n",
    "model_id: str=None\n",
    "if model_id is None:\n",
    "  model_id = \"siebert/sentiment-roberta-large-english\"\n",
    "client = Client(token=token)\n",
    "ds = client.Dataset(dataset_id)\n",
    "ds.extract_sentiment(text_fields=text_fields)"
   ]
  }
 ],
 "metadata": {
  "accelerator": "GPU",
  "celltoolbar": "Tags",
  "colab": {
   "collapsed_sections": [],
   "machine_shape": "hm",
   "name": "Sentiment",
   "provenance": []
  },
  "kernelspec": {
   "display_name": "Python 3 (ipykernel)",
   "language": "python",
   "name": "python3"
  },
  "language_info": {
   "codemirror_mode": {
    "name": "ipython",
    "version": 3
   },
   "file_extension": ".py",
   "mimetype": "text/x-python",
   "name": "python",
   "nbconvert_exporter": "python",
   "pygments_lexer": "ipython3",
   "version": "3.8.9"
  }
 },
 "nbformat": 4,
 "nbformat_minor": 1
}

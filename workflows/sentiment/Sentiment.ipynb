{
  "cells": [
    {
      "cell_type": "markdown",
      "metadata": {
        "id": "fsjCz4c4zvT0"
      },
      "source": [
        "# Sentiment Workflow\n",
        "\n",
        "Add sentiment to your dataset!\n",
        "Sentiment will be stored as `positive` , `negative` or `neutral` sentiments."
      ]
    },
    {
      "cell_type": "markdown",
      "metadata": {
        "id": "MmAHe9qK3lrt"
      },
      "source": [
        "## Inputs \n",
        "\n",
        "Type in your inputs in the cell below and run the following cell"
      ]
    },
    {
      "cell_type": "code",
      "execution_count": null,
      "metadata": {
        "cellView": "form",
        "id": "4TZqEV9Nz1Cx"
      },
      "outputs": [],
      "source": [
        "#@title Fill out the form and then press the play button to the left\n",
        "\n",
        "#@markdown Replace with your own dataset\n",
        "dataset_id: str =  \"\" #@param {type:\"string\"}\n",
        "#@markdown Comma-delieated text field to detect sentiment for (e.g. `text1,text2`)\n",
        "text_fields: list =  \"text1,text2\"#@param  {type: \"string\"}\n",
        "#@markdown Your token- you can find from https://cloud.relevance.ai/sdk/api\n",
        "token = \"\" #@param {type:\"string\"}\n",
        "text_fields = text_fields.split(\",\")\n",
        "!pip install -q -U RelevanceAI==2.3.5\n",
        "!pip install -q transformers==4.18.0\n",
        "\n",
        "from relevanceai import Client\n",
        "#@markdown Other configurations (we don't usually need to configure these)\n",
        "model_id: str=None #@param\n",
        "if model_id is None:\n",
        "  model_id = \"siebert/sentiment-roberta-large-english\"\n",
        "client = Client(token=token)\n",
        "ds = client.Dataset(dataset_id)\n",
        "ds.extract_sentiment(text_fields=text_fields)"
      ]
    }
  ],
  "metadata": {
    "accelerator": "GPU",
    "colab": {
      "collapsed_sections": [],
      "machine_shape": "hm",
      "name": "Sentiment",
      "provenance": []
    },
    "kernelspec": {
      "display_name": "Python 3",
      "name": "python3"
    },
    "language_info": {
      "name": "python"
    }
  },
  "nbformat": 4,
  "nbformat_minor": 0
}

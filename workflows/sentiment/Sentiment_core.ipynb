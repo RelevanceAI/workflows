{
  "cells": [
    {
      "cell_type": "markdown",
      "metadata": {
        "id": "fsjCz4c4zvT0"
      },
      "source": [
        "# Sentiment Workflow\n",
        "\n",
        "Add sentiment to your dataset!\n",
        "Sentiment will be stored as `positive` , `negative` or `neutral` sentiments."
      ]
    },
    {
      "cell_type": "markdown",
      "metadata": {
        "id": "MmAHe9qK3lrt"
      },
      "source": [
        "## Inputs \n",
        "\n",
        "Type in your inputs in the cell below and run the following cell"
      ]
    },
    {
      "cell_type": "code",
      "execution_count": null,
      "metadata": {
        "id": "4TZqEV9Nz1Cx",
        "cellView": "form"
      },
      "outputs": [],
      "source": [
        "#@title Fill out the form and then press the play button to the left\n",
        "\n",
        "#@markdown Replace with your own dataset\n",
        "token=\"\" #@param {type:\"string\"}\n",
        "\n",
        "import base64\n",
        "import json\n",
        "\n",
        "config = json.loads(base64.b64decode(token + \"===\"))\n",
        "dataset_id: str =  config['dataset_id']\n",
        "text_fields: list =  config['text_fields']\n",
        "output_fields: list = config.get(\"output_fields\", [])\n",
        "\n",
        "!pip install -q -U RelevanceAI==2.6.3\n",
        "!pip install -q transformers==4.18.0\n",
        "\n",
        "from relevanceai import Client\n",
        "#@markdown Other configurations (we don't usually need to configure these)\n",
        "model_id = config.get(\"model_id\", \"j-hartmann/sentiment-roberta-large-english-3-classes\")\n",
        "\n",
        "client = Client(token=config['authorizationToken'])\n",
        "ds = client.Dataset(dataset_id)\n",
        "if isinstance(text_fields, str):\n",
        "    text_fields = [text_fields]\n",
        "\n",
        "# Make the aliases better\n",
        "for i, f in enumerate(text_fields):  \n",
        "  from relevanceai.operations_new.sentiment.ops import SentimentOps\n",
        "  ds.update_alias(\n",
        "      SentimentOps(\n",
        "          model_name=model_id,\n",
        "          text_fields=text_fields)._get_output_field(f) + \".overall_sentiment_score\", \n",
        "      text_fields[i] + \" (Sentiment Score)\"\n",
        "  )\n",
        "  ds.update_alias(\n",
        "      SentimentOps(\n",
        "          model_name=model_id, \n",
        "          text_fields=text_fields)._get_output_field(f) + \".sentiment\",\n",
        "      text_fields[i] + \" (Sentiment Label)\"\n",
        "  )\n",
        "\n",
        "\n",
        "sentiment_ops = ds.extract_sentiment(\n",
        "    text_fields=text_fields,\n",
        "    model_name=model_id\n",
        ")\n",
        "\n"
      ]
    }
  ],
  "metadata": {
    "accelerator": "GPU",
    "colab": {
      "collapsed_sections": [],
      "name": "Sentiment",
      "provenance": []
    },
    "gpuClass": "standard",
    "kernelspec": {
      "display_name": "Python 3 (ipykernel)",
      "language": "python",
      "name": "python3"
    },
    "language_info": {
      "codemirror_mode": {
        "name": "ipython",
        "version": 3
      },
      "file_extension": ".py",
      "mimetype": "text/x-python",
      "name": "python",
      "nbconvert_exporter": "python",
      "pygments_lexer": "ipython3",
      "version": "3.9.12"
    },
    "toc": {
      "base_numbering": 1,
      "nav_menu": {},
      "number_sections": true,
      "sideBar": true,
      "skip_h1_title": false,
      "title_cell": "Table of Contents",
      "title_sidebar": "Contents",
      "toc_cell": false,
      "toc_position": {},
      "toc_section_display": true,
      "toc_window_display": false
    }
  },
  "nbformat": 4,
  "nbformat_minor": 0
}